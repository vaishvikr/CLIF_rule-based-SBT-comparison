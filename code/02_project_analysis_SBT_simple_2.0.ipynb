{
 "cells": [
  {
   "cell_type": "code",
   "execution_count": 1,
   "metadata": {},
   "outputs": [
    {
     "name": "stderr",
     "output_type": "stream",
     "text": [
      "C:\\Users\\vchaudha\\AppData\\Roaming\\Python\\Python311\\site-packages\\pandas\\core\\arrays\\masked.py:60: UserWarning: Pandas requires version '1.3.6' or newer of 'bottleneck' (version '1.3.5' currently installed).\n",
      "  from pandas.core import (\n"
     ]
    },
    {
     "name": "stdout",
     "output_type": "stream",
     "text": [
      "Loaded configuration from config.json\n",
      "{'site_name': 'RUSH', 'tables_path': 'C:/Users/vchaudha/Downloads/rush_parquet/', 'file_type': 'parquet'}\n",
      "Loaded configuration from config.json\n"
     ]
    }
   ],
   "source": [
    "import pandas as pd\n",
    "import numpy as np\n",
    "import pyCLIF as pc\n",
    "from tqdm import tqdm\n",
    "from datetime import datetime\n",
    "import matplotlib.pyplot as plt\n",
    "from scipy.stats import gaussian_kde\n",
    "import seaborn as sns\n",
    "import matplotlib.pyplot as plt\n",
    "import warnings\n",
    "warnings.filterwarnings(\"ignore\")\n",
    "\n",
    "#from tableone import TableOne, load_dataset\n",
    "con = pc.load_config()\n",
    "\n",
    "cohort = pd.read_csv('../output/intermediate/study_cohort_2224.csv')"
   ]
  },
  {
   "cell_type": "markdown",
   "metadata": {},
   "source": [
    "# Eligibility Flag making"
   ]
  },
  {
   "cell_type": "markdown",
   "metadata": {},
   "source": [
    "#### Device Fillforward After Waterfall"
   ]
  },
  {
   "cell_type": "code",
   "execution_count": 2,
   "metadata": {},
   "outputs": [],
   "source": [
    "# vasoactive-> if the meds are missing from site then fill NaN\n",
    "active_vasoactive_n_col = [\n",
    "    \"norepinephrine\", \"epinephrine\", \"phenylephrine\", \"angiotensin\",\"vasopressin\", \"dopamine\", \"dobutamine\", \"milrinone\", \"isoproterenol\"\n",
    "]\n",
    "for col in active_vasoactive_n_col:\n",
    "    if col not in cohort.columns:\n",
    "        cohort[col] = np.nan\n",
    "\n",
    "# Ensure all time columns are in datetime format\n",
    "cohort['event_time'] = pd.to_datetime(cohort['event_time'])\n",
    "cohort['admission_dttm'] = pc.getdttm(cohort['admission_dttm'])\n",
    "cohort['discharge_dttm'] = pc.getdttm(cohort['discharge_dttm'])\n",
    "\n",
    "# Ensure the data is sorted by 'hosp_id_day_key' and 'event_time'\n",
    "cohort = cohort.sort_values(by=['hospitalization_id', 'event_time']).reset_index(drop=True)\n",
    "\n",
    "#backup the waterfall columns\n",
    "cohort[['device_category_w', 'mode_category_w']] = cohort[['device_category', 'mode_category']]\n",
    "\n",
    "# #without water fall fill ward\n",
    "cohort['device_category'] = cohort['device_category_bkp'].str.lower()\n",
    "cohort['mode_category'] = cohort['mode_category_bkp'].str.lower()\n",
    "\n",
    "# Fill forward the meds by hospitalization columns by 'hosp_id'\n",
    "cohort[['device_category', 'mode_category', 'mode_name',\n",
    "        'location_category']] = cohort.groupby('hospitalization_id')[\n",
    "    ['device_category', 'mode_category','mode_name',\n",
    "     'location_category']\n",
    "].ffill()\n",
    "\n",
    "cohort[[\"norepinephrine\", \"epinephrine\", \"phenylephrine\", \"angiotensin\",\n",
    "    \"vasopressin\", \"dopamine\", \"dobutamine\", \"milrinone\", \"isoproterenol\"]] = cohort.groupby('hospitalization_id')[\n",
    "    [\"norepinephrine\", \"epinephrine\", \"phenylephrine\", \"angiotensin\",\n",
    "    \"vasopressin\", \"dopamine\", \"dobutamine\", \"milrinone\", \"isoproterenol\"]\n",
    "].ffill()\n",
    "\n",
    "cohort[[\"fio2_set\",\"peep_set\",\"spo2\",'pressure_support_set','height_cm',\t'weight_kg']] = cohort.groupby('hospitalization_id')[\n",
    "    [\"fio2_set\",\"peep_set\",\"spo2\",'pressure_support_set','height_cm',\t'weight_kg']\n",
    "].ffill()\n",
    "\n",
    "cohort[['norepinephrine', 'epinephrine', 'phenylephrine', 'dopamine', 'angiotensin', 'vasopressin']] = \\\n",
    "    cohort[['norepinephrine', 'epinephrine', 'phenylephrine', 'dopamine', 'angiotensin', 'vasopressin']].fillna(0)\n",
    "\n",
    "cohort['NEE'] = cohort['norepinephrine'] + cohort['epinephrine'] + (cohort['phenylephrine']/10) + (cohort['vasopressin']*2.5) + (cohort['dopamine']/100) + (cohort['angiotensin']*10)\n",
    "\n",
    "cohort[\"Hemodynamic_Stability_by_NEE\"] = (\n",
    "    ((cohort[\"NEE\"] <= 0.2))\n",
    ").astype(int)\n",
    "\n",
    "# Define Respiratory Stability Flag\n",
    "cohort[\"Respiratory_Stability\"] = (\n",
    "    (cohort[\"fio2_set\"] <= 0.5) &\n",
    "    (cohort[\"peep_set\"] <= 8) &\n",
    "    (cohort[\"spo2\"] >= 88)\n",
    ").astype(int)\n"
   ]
  },
  {
   "cell_type": "markdown",
   "metadata": {},
   "source": [
    "### SBT Eligibility Criteria"
   ]
  },
  {
   "cell_type": "code",
   "execution_count": 3,
   "metadata": {},
   "outputs": [
    {
     "name": "stderr",
     "output_type": "stream",
     "text": [
      "Processing each Hosp & Day: 100%|██████████| 62345/62345 [03:51<00:00, 269.88it/s]\n"
     ]
    },
    {
     "name": "stdout",
     "output_type": "stream",
     "text": [
      "Eligible days: 11984 / 62345 (19.22%)\n"
     ]
    }
   ],
   "source": [
    "def process_cohort_conditions(cohort):\n",
    "    # --- Preliminary processing ---\n",
    "    # Ensure event_time is datetime and sort the dataframe\n",
    "    cohort['event_time'] = pd.to_datetime(cohort['event_time'])\n",
    "    cohort = cohort.sort_values(['hospitalization_id', 'event_time']).reset_index(drop=False)\n",
    "    \n",
    "    # IMV flag\n",
    "    cohort['IMV_flag'] = (\n",
    "        (cohort['device_category'] == 'imv') &\n",
    "        (cohort['location_category'] == 'icu')\n",
    "    )\n",
    "    \n",
    "    # --- Prepare new flag columns ---\n",
    "    # For Condition 1, record the event_time when the threshold is reached.\n",
    "    cohort['IMV_Controlled_met_time'] = pd.NaT\n",
    "    # New flag for eligible day (1 if condition 1 is met that day, else 0)\n",
    "    cohort['eligible_day'] = 0\n",
    "    \n",
    "    # For grouping by day, use the normalized event_time (midnight)\n",
    "    cohort['current_day'] = cohort['event_time'].dt.normalize()\n",
    "    \n",
    "    # Build a dictionary of full hospitalization data to avoid repeated filtering.\n",
    "    hosp_groups = {\n",
    "        hosp_id: df.copy().sort_values('event_time')\n",
    "        for hosp_id, df in cohort.groupby('hospitalization_id')\n",
    "    }\n",
    "    \n",
    "    # --- Define thresholds and time windows ---\n",
    "    cond1_threshold = pd.Timedelta(hours=6)  # Condition 1: 6 cumulative hours\n",
    "   \n",
    "    # For Condition 1: window is 10 PM (previous day) to 6 AM (current day)\n",
    "    cond1_window_start_offset = pd.Timedelta(hours=22) - pd.Timedelta(days=1)  # previous day 10 PM\n",
    "    cond1_window_end_offset = pd.Timedelta(hours=6)  # current day 6 AM\n",
    "    \n",
    "    # --- Process each hospitalization and day ---\n",
    "    # Group by hospitalization and current day\n",
    "    groups = cohort.groupby(['hospitalization_id', 'current_day'])\n",
    "    \n",
    "    for (hosp_id, curr_day), day_group in tqdm(groups, desc=\"Processing each Hosp & Day\"):\n",
    "        # --- Condition 1: IMV in controlled mode ---\n",
    "        # Define window for condition 1 based on the current day\n",
    "        cond1_start = curr_day + cond1_window_start_offset\n",
    "        cond1_end = curr_day + cond1_window_end_offset\n",
    "        \n",
    "        # Use full hospitalization data so events before midnight can contribute.\n",
    "        hosp_df = hosp_groups[hosp_id]\n",
    "        cond1_df = hosp_df[(hosp_df['event_time'] >= cond1_start) & (hosp_df['event_time'] <= cond1_end)].copy()\n",
    "        if cond1_df.empty:\n",
    "            continue  # no events in this window\n",
    "        \n",
    "        if not cond1_df['IMV_flag'].any():\n",
    "            continue\n",
    "        \n",
    "        # Identify contiguous segments where IMV_flag is True.\n",
    "        cond1_df['seg'] = (cond1_df['IMV_flag'] != cond1_df['IMV_flag'].shift()).cumsum()\n",
    "        valid_segs = cond1_df[cond1_df['IMV_flag']].groupby('seg')\n",
    "        \n",
    "        cond1_met = False  # flag indicating if condition 1 was met\n",
    "        for seg_id, seg_df in valid_segs:\n",
    "            seg_df = seg_df.sort_values('event_time')\n",
    "            seg_df['duration'] = seg_df['event_time'].diff().fillna(pd.Timedelta(seconds=0))\n",
    "            seg_df['cum_duration'] = seg_df['duration'].cumsum()\n",
    "            if seg_df['cum_duration'].iloc[-1] >= cond1_threshold:\n",
    "                # Find the first row where the cumulative duration reaches the threshold.\n",
    "                flag_row = seg_df[seg_df['cum_duration'] >= cond1_threshold].iloc[0]\n",
    "                flag_idx = flag_row.name  # this is the original index in hosp_df (and cohort)\n",
    "                flag_time = flag_row['event_time']\n",
    "                cohort.loc[flag_idx, 'IMV_Controlled_met_time'] = flag_time\n",
    "                cond1_met = True\n",
    "                break  # Only the first qualifying segment for this day is flagged.\n",
    "        \n",
    "        # --- Eligible Day Flag ---\n",
    "        # If condition 1 is met for the day, mark all rows of this day as eligible_day = 1.\n",
    "        if cond1_met:\n",
    "            cohort.loc[day_group.index, 'eligible_day'] = 1\n",
    "    \n",
    "    return cohort\n",
    "\n",
    "# Example usage:\n",
    "final_df = process_cohort_conditions(cohort)\n",
    "\n",
    " # Print statistics\n",
    "total_days = final_df['hosp_id_day_key'].nunique()\n",
    "eligible_days = final_df[final_df['eligible_day'] == 1]['hosp_id_day_key'].nunique()\n",
    "percentage = (eligible_days / total_days) * 100 if total_days > 0 else 0\n",
    "print(f\"Eligible days: {eligible_days} / {total_days} ({percentage:.2f}%)\")\n"
   ]
  },
  {
   "cell_type": "code",
   "execution_count": 4,
   "metadata": {},
   "outputs": [
    {
     "data": {
      "text/plain": [
       "17366"
      ]
     },
     "execution_count": 4,
     "metadata": {},
     "output_type": "execute_result"
    }
   ],
   "source": [
    "final_df[(final_df['device_category'] == 'imv') &\n",
    "        (final_df['location_category'] == 'icu')]['hosp_id_day_key'].nunique()"
   ]
  },
  {
   "cell_type": "code",
   "execution_count": 5,
   "metadata": {},
   "outputs": [
    {
     "data": {
      "text/plain": [
       "18468"
      ]
     },
     "execution_count": 5,
     "metadata": {},
     "output_type": "execute_result"
    }
   ],
   "source": [
    "final_df[final_df['device_category'] == 'imv' ]['hosp_id_day_key'].nunique()"
   ]
  },
  {
   "cell_type": "code",
   "execution_count": 6,
   "metadata": {},
   "outputs": [
    {
     "name": "stderr",
     "output_type": "stream",
     "text": [
      "Processing each Hosp & Day: 100%|██████████| 11984/11984 [07:19<00:00, 27.26it/s]\n"
     ]
    }
   ],
   "source": [
    "def process_switch_conditions(cohort):\n",
    "    # Initialize columns in cohort\n",
    "    cohort['flip_check_flag'] = False  \n",
    "    cohort['first_flip_time'] = pd.NaT  \n",
    "    # Initialize EHR Delivery columns with NaT\n",
    "    ehr_minutes = [2, 30]\n",
    "    for mins in ehr_minutes:\n",
    "        cohort[f\"EHR_Delivery_{mins}mins\"] = pd.NaT\n",
    "\n",
    "    # Ensure event_time is datetime\n",
    "    cohort['event_time'] = pd.to_datetime(cohort['event_time'])\n",
    "    \n",
    "    # Filter rows where 'eligible_day' is 1 and group by hospitalization_id and current_day\n",
    "    eligible_groups = cohort[cohort['eligible_day'] == 1].groupby(['hospitalization_id', 'current_day'])\n",
    "\n",
    "    for (hosp_id, curr_day), group in tqdm(eligible_groups, desc=\"Processing each Hosp & Day\"):\n",
    "        group = group.copy()  # Ensure we modify a copy\n",
    "\n",
    "        # Define the condition for flip_check_flag\n",
    "        mask = (\n",
    "            (group['device_category'] == 'imv') &\n",
    "            (group['location_category'] == 'icu') &\n",
    "            (group['mode_category'].str.contains('pressure support/cpap', case=False, na=False)) &\n",
    "            ((group[\"pressure_support_set\"] <= 8) & (group[\"peep_set\"] <= 8) | \n",
    "            group[\"mode_name\"].str.lower().str.contains(r'^t[-]?piece$', regex=True))\n",
    "        )\n",
    "        # Apply the mask to update 'flip_check_flag' for this group\n",
    "        group['flip_check_flag'] = mask\n",
    "\n",
    "        # Identify all indices where flip_check_flag is True\n",
    "        flip_indices = group.loc[mask].index  # Get all rows where flip_check_flag is True\n",
    "\n",
    "        ehr_2min_success = False  # Track if EHR_Delivery_2mins is recorded\n",
    "\n",
    "        for flip_idx in flip_indices:  # Iterate over all valid flips\n",
    "            if ehr_2min_success:\n",
    "                break  # If EHR_Delivery_2mins is set, skip further flip checks\n",
    "\n",
    "            flip_time = group.loc[flip_idx, 'event_time']  # Get event_time of this flip\n",
    "            group.loc[flip_idx, 'first_flip_time'] = flip_time  # Set first_flip_time for that row\n",
    "\n",
    "            ehr_recorded = False  # Track if this row has a valid EHR recording\n",
    "\n",
    "            # Loop through each time window\n",
    "            for mins in ehr_minutes:\n",
    "                time_window_end = flip_time + pd.Timedelta(minutes=mins)\n",
    "\n",
    "                # Condition: Check if all flip_check_flag values are True in the given time window\n",
    "                flip_check_condition = group[\n",
    "                    (group['event_time'] >= flip_time) & \n",
    "                    (group['event_time'] <= time_window_end)\n",
    "                ]['flip_check_flag'].all()\n",
    "\n",
    "                if flip_check_condition:\n",
    "                    # Find the closest row where event_time >= calculated time\n",
    "                    ehr_idx = group[group['event_time'] >= time_window_end].index.min()\n",
    "\n",
    "                    if pd.notna(ehr_idx):\n",
    "                        group.loc[ehr_idx, f\"EHR_Delivery_{mins}mins\"] = time_window_end  # Store timestamp\n",
    "                        ehr_recorded = True  # Mark that an EHR delivery was recorded\n",
    "\n",
    "                        if mins == 2:\n",
    "                            ehr_2min_success = True  # If 2-min check is successful, stop checking further flips\n",
    "\n",
    "            if ehr_recorded:\n",
    "                break  # Stop processing future flips but ensure current flip's EHR is processed\n",
    "\n",
    "        # Update the cohort dataframe with the modified group\n",
    "        cohort.loc[group.index, ['flip_check_flag', 'first_flip_time'] + [f\"EHR_Delivery_{mins}mins\" for mins in ehr_minutes]] = \\\n",
    "            group[['flip_check_flag', 'first_flip_time'] + [f\"EHR_Delivery_{mins}mins\" for mins in ehr_minutes]]\n",
    "\n",
    "    return cohort\n",
    "\n",
    "final_df = process_switch_conditions(final_df)"
   ]
  },
  {
   "cell_type": "markdown",
   "metadata": {},
   "source": [
    "### change tracking"
   ]
  },
  {
   "cell_type": "code",
   "execution_count": 7,
   "metadata": {},
   "outputs": [
    {
     "data": {
      "text/plain": [
       "changed_to\n",
       "imv              60.623980\n",
       "nasal cannula    31.341762\n",
       "high flow nc      4.751223\n",
       "nippv             1.284666\n",
       "face mask         0.958401\n",
       "trach collar      0.632137\n",
       "other             0.305873\n",
       "cpap              0.101958\n",
       "Name: count, dtype: float64"
      ]
     },
     "execution_count": 7,
     "metadata": {},
     "output_type": "execute_result"
    }
   ],
   "source": [
    "def check_device_change(df, ehr_column='EHR_Delivery_2mins'):\n",
    "    # Filter for eligible_day == 1\n",
    "    df_filtered = df[df['eligible_day'] == 1].copy()\n",
    "\n",
    "    # Ensure datetime\n",
    "    df_filtered['event_time'] = pd.to_datetime(df_filtered['event_time'])\n",
    "    df_filtered[ehr_column] = pd.to_datetime(df_filtered[ehr_column])\n",
    "\n",
    "    results = []\n",
    "\n",
    "    # Group by hospitalization_id and current_day\n",
    "    grouped = df_filtered.groupby(['hosp_id_day_key'])\n",
    "\n",
    "    for hosp_id_day_key, group in grouped:\n",
    "        ehr_time = group[ehr_column].dropna().min()  # Get the earliest valid EHR timestamp\n",
    "\n",
    "        if pd.isna(ehr_time):\n",
    "            continue  # Skip if no valid EHR timestamp\n",
    "\n",
    "        # Rows after EHR timestamp\n",
    "        post_ehr = group[group['event_time'] > ehr_time]\n",
    "\n",
    "        # Find the first device change\n",
    "        device_change_row = post_ehr[post_ehr['device_category'] != 'imv'].sort_values('event_time').head(1)\n",
    "\n",
    "        if not device_change_row.empty:\n",
    "            event_time_of_change = device_change_row['event_time'].iloc[0]\n",
    "            changed_to = device_change_row['device_category'].iloc[0]\n",
    "        else:\n",
    "            event_time_of_change = ehr_time\n",
    "            changed_to = 'imv'  # No change happened\n",
    "\n",
    "        results.append({\n",
    "            'hosp_day_id': hosp_id_day_key[0],\n",
    "            'event_time_of_change': event_time_of_change,\n",
    "            'changed_to': changed_to,\n",
    "            'when_ehr_happened': ehr_time\n",
    "        })\n",
    "\n",
    "    return pd.DataFrame(results)\n",
    "\n",
    "\n",
    "# Example Usage:\n",
    "change_df = check_device_change(final_df, ehr_column='EHR_Delivery_2mins')\n",
    "change_df.changed_to.value_counts()*100/change_df.shape[0]"
   ]
  },
  {
   "cell_type": "markdown",
   "metadata": {},
   "source": [
    "#### for flips check if they are stable from start of day to flip"
   ]
  },
  {
   "cell_type": "code",
   "execution_count": 8,
   "metadata": {},
   "outputs": [],
   "source": [
    "def analyze_stability(df, timestamp_column='EHR_Delivery_2mins'):\n",
    "    # Filter for eligible_day == 1\n",
    "    df_filtered = df[df['eligible_day'] == 1].copy()\n",
    "    \n",
    "    # Ensure datetime\n",
    "    df_filtered['event_time'] = pd.to_datetime(df_filtered['event_time'])\n",
    "    df_filtered[timestamp_column] = pd.to_datetime(df_filtered[timestamp_column])\n",
    "    \n",
    "    results = []\n",
    "    \n",
    "    # Group by hosp_day\n",
    "    grouped = df_filtered.groupby(['hosp_id_day_key'])\n",
    "    \n",
    "    for hosp_id_day_key, group in grouped:\n",
    "        # Get reference timestamp\n",
    "        ref_time = group[timestamp_column].dropna().min()\n",
    "        \n",
    "        if pd.isna(ref_time):\n",
    "            continue  # Skip if no valid reference timestamp\n",
    "\n",
    "        valid_data = group[(group['event_time'] <= ref_time)]\n",
    "        \n",
    "        # Evaluate stability metrics\n",
    "        hemo_stable = \"Pass\" if valid_data['Hemodynamic_Stability_by_NEE'].eq(1).all() else \"Fail\"\n",
    "        resp_stable = \"Pass\" if valid_data['Respiratory_Stability'].eq(1).all() else \"Fail\"\n",
    "        combined_stable = \"Pass\" if hemo_stable == \"Pass\" and resp_stable == \"Pass\" else \"Fail\"\n",
    "        \n",
    "        # Calculate cumulative hours of stability\n",
    "        hemo_stability_mins = valid_data[valid_data['Hemodynamic_Stability_by_NEE'] == 1]['event_time'].diff().dt.total_seconds().sum() / 3600\n",
    "        resp_stability_mins = valid_data[valid_data['Respiratory_Stability'] == 1]['event_time'].diff().dt.total_seconds().sum() / 3600\n",
    "        combined_mins = valid_data[(valid_data['Hemodynamic_Stability_by_NEE'] == 1) & \n",
    "                                   (valid_data['Respiratory_Stability'] == 1)]['event_time'].diff().dt.total_seconds().sum() / 3600\n",
    "        \n",
    "        \n",
    "        results.append({\n",
    "            'hosp_day_id': hosp_id_day_key[0],\n",
    "            'hemo_stable': hemo_stable,\n",
    "            'resp_stable': resp_stable,\n",
    "            'combined_stable': combined_stable,\n",
    "            'hemo_stability_mins': hemo_stability_mins,\n",
    "            'resp_stability_mins': resp_stability_mins,\n",
    "            'combined_mins': combined_mins\n",
    "        })\n",
    "    \n",
    "    return pd.DataFrame(results)\n",
    "\n",
    "# Example Usage:\n",
    "stability_df = analyze_stability(final_df, timestamp_column='EHR_Delivery_2mins')"
   ]
  },
  {
   "cell_type": "code",
   "execution_count": 9,
   "metadata": {},
   "outputs": [],
   "source": [
    "final_df[[\n",
    "'patient_id', 'hospitalization_id', 'admission_dttm','age_at_admission','hosp_id_day_key','event_time',\n",
    "'location_category','device_category_bkp','device_category', 'mode_category_bkp',\n",
    "'mode_name','mode_category','resp_rate_set',\n",
    "'respiratory_rate', 'fio2_set', 'peep_set','spo2','pressure_support_set','NEE',\n",
    "\"norepinephrine\", \"epinephrine\", \"phenylephrine\", \"vasopressin\", \"dopamine\",\n",
    " \"dobutamine\", \"milrinone\", \"isoproterenol\",\n",
    "'sat_screen_pass_fail','sat_delivery_pass_fail','sbt_screen_pass_fail', \n",
    "'sbt_delivery_pass_fail', 'flip_check_flag', 'first_flip_time','EHR_Delivery_2mins',\n",
    "'EHR_Delivery_30mins','eligible_day',\n",
    "'Respiratory_Stability','IMV_Controlled_met_time'\n",
    "]].to_csv('eflag_simple_3.csv',index=False)\n"
   ]
  },
  {
   "cell_type": "code",
   "execution_count": 10,
   "metadata": {},
   "outputs": [],
   "source": [
    "# Ensure the specified columns are treated as datetime before calculating percentages\n",
    "datetime_columns = [\n",
    "    'EHR_Delivery_2mins', 'EHR_Delivery_30mins'\n",
    "]\n",
    "\n",
    "for col in datetime_columns:\n",
    "    if col in final_df.columns:\n",
    "        final_df[col] = final_df[col].notna().astype(int)\n",
    "\n",
    "# Group by hosp_id_day_key and aggregate using max\n",
    "grouped_df = final_df.groupby('hosp_id_day_key').agg({\n",
    "    'eligible_day':'max',\n",
    "    'EHR_Delivery_2mins': 'max',\n",
    "    # 'EHR_Delivery_5mins': 'max',\n",
    "    # 'EHR_Delivery_10mins': 'max',\n",
    "    # 'EHR_Delivery_15mins': 'max',\n",
    "    # 'EHR_Delivery_20mins': 'max',\n",
    "    'EHR_Delivery_30mins': 'max',\n",
    "    'sat_screen_pass_fail': 'max',\n",
    "    'sat_delivery_pass_fail': 'max',\n",
    "    'sbt_screen_pass_fail': 'max',\n",
    "    'sbt_delivery_pass_fail': 'max'\n",
    "    ,'height_cm': 'mean',\n",
    "    'weight_kg':'mean'\n",
    "}).reset_index().fillna(0)\n",
    "\n",
    "mat_df = grouped_df[grouped_df['eligible_day']==1]"
   ]
  },
  {
   "cell_type": "code",
   "execution_count": 11,
   "metadata": {},
   "outputs": [
    {
     "name": "stdout",
     "output_type": "stream",
     "text": [
      "Number of unique days passing SBT Screen: 6322\n",
      "Number of unique days passing SBT Delivery: 4865\n",
      "Number of unique days with EHR Delivery in 2 minutes: 4904\n",
      "Number of unique days with EHR Delivery in 30 minutes: 4296\n"
     ]
    }
   ],
   "source": [
    "sbt_S = grouped_df[(grouped_df['sbt_screen_pass_fail']==1) & (grouped_df['eligible_day']==1)].hosp_id_day_key.unique()\n",
    "sbt_D = grouped_df[(grouped_df['sbt_delivery_pass_fail']==1) & (grouped_df['eligible_day']==1)].hosp_id_day_key.unique()\n",
    "ehr_2min = grouped_df[(grouped_df['EHR_Delivery_2mins']==1) & (grouped_df['eligible_day']==1)].hosp_id_day_key.unique()\n",
    "ehr_30min = grouped_df[(grouped_df['EHR_Delivery_30mins']==1) & (grouped_df['eligible_day']==1)].hosp_id_day_key.unique()\n",
    "\n",
    "print(f\"Number of unique days passing SBT Screen: {len(sbt_S)}\")\n",
    "print(f\"Number of unique days passing SBT Delivery: {len(sbt_D)}\")\n",
    "print(f\"Number of unique days with EHR Delivery in 2 minutes: {len(ehr_2min)}\")\n",
    "print(f\"Number of unique days with EHR Delivery in 30 minutes: {len(ehr_30min)}\")"
   ]
  },
  {
   "cell_type": "code",
   "execution_count": 12,
   "metadata": {},
   "outputs": [
    {
     "data": {
      "image/png": "[encoded data removed]",
      "text/plain": [
       "<Figure size 600x400 with 2 Axes>"
      ]
     },
     "metadata": {},
     "output_type": "display_data"
    }
   ],
   "source": [
    "# Create confusion matrix\n",
    "conf_matrix = pd.crosstab(mat_df['EHR_Delivery_2mins'], mat_df['sbt_delivery_pass_fail'])\n",
    "\n",
    "# Plot the confusion matrix\n",
    "plt.figure(figsize=(6,4))\n",
    "sns.heatmap(conf_matrix, annot=True, fmt='d', cmap=\"Blues\", xticklabels=[\"0\", \"1\"], yticklabels=[\"0\", \"1\"])\n",
    "plt.xlabel(\"SBT Delivery in Flowsheet\")\n",
    "plt.ylabel(\"EHR Delivery in 2 minutes\")\n",
    "plt.title(\"Confusion Matrix\")\n",
    "plt.show()"
   ]
  },
  {
   "cell_type": "code",
   "execution_count": 25,
   "metadata": {},
   "outputs": [
    {
     "data": {
      "text/html": [
       "<div>\n",
       "<style scoped>\n",
       "    .dataframe tbody tr th:only-of-type {\n",
       "        vertical-align: middle;\n",
       "    }\n",
       "\n",
       "    .dataframe tbody tr th {\n",
       "        vertical-align: top;\n",
       "    }\n",
       "\n",
       "    .dataframe thead th {\n",
       "        text-align: right;\n",
       "    }\n",
       "</style>\n",
       "<table border=\"1\" class=\"dataframe\">\n",
       "  <thead>\n",
       "    <tr style=\"text-align: right;\">\n",
       "      <th></th>\n",
       "      <th>Condition</th>\n",
       "      <th>Percentage Excluded</th>\n",
       "    </tr>\n",
       "  </thead>\n",
       "  <tbody>\n",
       "    <tr>\n",
       "      <th>0</th>\n",
       "      <td>No IMV</td>\n",
       "      <td>0.667161</td>\n",
       "    </tr>\n",
       "    <tr>\n",
       "      <th>1</th>\n",
       "      <td>No ICU</td>\n",
       "      <td>0.000000</td>\n",
       "    </tr>\n",
       "    <tr>\n",
       "      <th>2</th>\n",
       "      <td>No Pressure Support/CPAP</td>\n",
       "      <td>77.538918</td>\n",
       "    </tr>\n",
       "    <tr>\n",
       "      <th>3</th>\n",
       "      <td>Pressure/PEEP &gt; 8</td>\n",
       "      <td>18.087472</td>\n",
       "    </tr>\n",
       "    <tr>\n",
       "      <th>4</th>\n",
       "      <td>Mode Name Not T-Piece</td>\n",
       "      <td>0.000000</td>\n",
       "    </tr>\n",
       "  </tbody>\n",
       "</table>\n",
       "</div>"
      ],
      "text/plain": [
       "                  Condition  Percentage Excluded\n",
       "0                    No IMV             0.667161\n",
       "1                    No ICU             0.000000\n",
       "2  No Pressure Support/CPAP            77.538918\n",
       "3         Pressure/PEEP > 8            18.087472\n",
       "4     Mode Name Not T-Piece             0.000000"
      ]
     },
     "execution_count": 25,
     "metadata": {},
     "output_type": "execute_result"
    }
   ],
   "source": [
    "# Step 1: Extract filtered keys from mat_df\n",
    "filtered_keys = mat_df.loc[\n",
    "    (mat_df['EHR_Delivery_2mins'] == 0) & (mat_df['sbt_delivery_pass_fail'] == 1),\n",
    "    'hosp_id_day_key'\n",
    "].unique()\n",
    "\n",
    "# Step 2: Filter final_df using these keys and select relevant columns\n",
    "final_filtered_df = final_df.loc[\n",
    "    (final_df['sbt_delivery_pass_fail'] == 1) & \n",
    "    (final_df['hosp_id_day_key'].isin(filtered_keys)),\n",
    "    ['hosp_id_day_key', 'event_time', 'sbt_delivery_pass_fail', 'EHR_Delivery_2mins', \n",
    "     'device_category', 'location_category', 'mode_category', 'pressure_support_set', \n",
    "     'peep_set', 'mode_name']\n",
    "]\n",
    "# Step 1: Get the total number of records before filtering\n",
    "total_before = final_filtered_df.shape[0]\n",
    "\n",
    "# Step 2: Apply filtering step by step and track the counts\n",
    "imv_filter = final_filtered_df['device_category'] == 'imv'\n",
    "icu_filter = final_filtered_df['location_category'] == 'icu'\n",
    "mode_filter = final_filtered_df['mode_category'].str.contains('pressure support/cpap', case=False, na=False)\n",
    "pressure_peep_filter = ((final_filtered_df[\"pressure_support_set\"] <= 8) & (final_filtered_df[\"peep_set\"] <= 8))\n",
    "mode_name_filter = final_filtered_df[\"mode_name\"].str.lower().str.contains(r'^t[-]?piece$', regex=True)\n",
    "\n",
    "# Compute step-by-step counts\n",
    "total_imv = final_filtered_df[imv_filter].shape[0]\n",
    "total_icu = final_filtered_df[imv_filter & icu_filter].shape[0]\n",
    "total_mode = final_filtered_df[imv_filter & icu_filter & mode_filter].shape[0]\n",
    "total_pressure_peep = final_filtered_df[imv_filter & icu_filter & mode_filter & pressure_peep_filter].shape[0]\n",
    "total_mode_name = final_filtered_df[imv_filter & icu_filter & mode_filter & (pressure_peep_filter | mode_name_filter)].shape[0]\n",
    "\n",
    "# Step 3: Calculate proportions\n",
    "proportions = {\n",
    "    \"No IMV\": (total_before - total_imv) / total_before * 100,\n",
    "    \"No ICU\": (total_imv - total_icu) / total_before * 100,\n",
    "    \"No Pressure Support/CPAP\": (total_icu - total_mode) / total_before * 100,\n",
    "    \"Pressure/PEEP > 8\": (total_mode - total_pressure_peep) / total_before * 100,\n",
    "    \"Mode Name Not T-Piece\": (total_pressure_peep - total_mode_name) / total_before * 100\n",
    "}\n",
    "\n",
    "\n",
    "proportion_df = pd.DataFrame(list(proportions.items()), columns=[\"Condition\", \"Percentage Excluded\"])\n",
    "proportion_df\n",
    "\n"
   ]
  },
  {
   "cell_type": "code",
   "execution_count": 29,
   "metadata": {},
   "outputs": [
    {
     "data": {
      "text/plain": [
       "Index(['index', 'patient_id', 'hospitalization_id', 'admission_dttm',\n",
       "       'discharge_dttm', 'age_at_admission', 'discharge_category',\n",
       "       'sex_category', 'race_category', 'ethnicity_category', 'event_time',\n",
       "       'location_category', 'hospital_id', 'device_category', 'mode_category',\n",
       "       'fio2_set', 'peep_set', 'resp_rate_set', 'pressure_support_set',\n",
       "       'mode_name', 'device_category_bkp', 'mode_category_bkp',\n",
       "       'cisatracurium', 'dobutamine', 'dopamine', 'epinephrine', 'fentanyl',\n",
       "       'hydromorphone', 'isoproterenol', 'lorazepam', 'midazolam', 'milrinone',\n",
       "       'morphine', 'norepinephrine', 'phenylephrine', 'propofol',\n",
       "       'vasopressin', 'sat_delivery_pass_fail', 'sat_screen_pass_fail',\n",
       "       'sbt_delivery_pass_fail', 'sbt_screen_pass_fail', 'dbp', 'heart_rate',\n",
       "       'height_cm', 'map', 'respiratory_rate', 'sbp', 'spo2', 'weight_kg',\n",
       "       'date', 'day_number', 'hosp_id_day_key', 'angiotensin',\n",
       "       'device_category_w', 'mode_category_w', 'NEE',\n",
       "       'Hemodynamic_Stability_by_NEE', 'Respiratory_Stability', 'IMV_flag',\n",
       "       'IMV_Controlled_met_time', 'eligible_day', 'current_day',\n",
       "       'flip_check_flag', 'first_flip_time', 'EHR_Delivery_2mins',\n",
       "       'EHR_Delivery_30mins'],\n",
       "      dtype='object')"
      ]
     },
     "execution_count": 29,
     "metadata": {},
     "output_type": "execute_result"
    }
   ],
   "source": [
    "final_df.columns"
   ]
  },
  {
   "cell_type": "code",
   "execution_count": 31,
   "metadata": {},
   "outputs": [],
   "source": [
    "final_df.loc[\n",
    "   \n",
    "    (final_df['hosp_id_day_key'].isin(filtered_keys))\n",
    "    \n",
    "][['patient_id', 'hospitalization_id', 'admission_dttm','age_at_admission','hosp_id_day_key','event_time',\n",
    "'location_category','device_category_bkp','device_category', 'mode_category_bkp',\n",
    "'mode_name','mode_category','resp_rate_set',\n",
    "'respiratory_rate', 'fio2_set', 'peep_set','spo2','pressure_support_set','NEE',\n",
    "\"norepinephrine\", \"epinephrine\", \"phenylephrine\", \"vasopressin\", \"dopamine\",\n",
    " \"dobutamine\", \"milrinone\", \"isoproterenol\",\n",
    "'sat_screen_pass_fail','sat_delivery_pass_fail','sbt_screen_pass_fail', \n",
    "'sbt_delivery_pass_fail', 'flip_check_flag', 'first_flip_time','EHR_Delivery_2mins',\n",
    "'EHR_Delivery_30mins','eligible_day',\n",
    "'Respiratory_Stability','IMV_Controlled_met_time'\n",
    "]].to_csv('eflag_simple_4.csv',index=False)\n"
   ]
  },
  {
   "cell_type": "code",
   "execution_count": 13,
   "metadata": {},
   "outputs": [
    {
     "data": {
      "text/plain": [
       "Index(['hosp_id_day_key', 'eligible_day', 'EHR_Delivery_2mins',\n",
       "       'EHR_Delivery_30mins', 'sat_screen_pass_fail', 'sat_delivery_pass_fail',\n",
       "       'sbt_screen_pass_fail', 'sbt_delivery_pass_fail', 'height_cm',\n",
       "       'weight_kg'],\n",
       "      dtype='object')"
      ]
     },
     "execution_count": 13,
     "metadata": {},
     "output_type": "execute_result"
    }
   ],
   "source": [
    "grouped_df.columns"
   ]
  },
  {
   "cell_type": "code",
   "execution_count": 14,
   "metadata": {},
   "outputs": [
    {
     "data": {
      "text/html": [
       "<div>\n",
       "<style scoped>\n",
       "    .dataframe tbody tr th:only-of-type {\n",
       "        vertical-align: middle;\n",
       "    }\n",
       "\n",
       "    .dataframe tbody tr th {\n",
       "        vertical-align: top;\n",
       "    }\n",
       "\n",
       "    .dataframe thead th {\n",
       "        text-align: right;\n",
       "    }\n",
       "</style>\n",
       "<table border=\"1\" class=\"dataframe\">\n",
       "  <thead>\n",
       "    <tr style=\"text-align: right;\">\n",
       "      <th></th>\n",
       "      <th>EHR_Delivery_2mins</th>\n",
       "      <th>SBT_Delivery_Pass_Fail</th>\n",
       "      <th>Mean_BMI</th>\n",
       "    </tr>\n",
       "  </thead>\n",
       "  <tbody>\n",
       "    <tr>\n",
       "      <th>0</th>\n",
       "      <td>0</td>\n",
       "      <td>0.0</td>\n",
       "      <td>31.787208</td>\n",
       "    </tr>\n",
       "    <tr>\n",
       "      <th>1</th>\n",
       "      <td>0</td>\n",
       "      <td>1.0</td>\n",
       "      <td>30.211381</td>\n",
       "    </tr>\n",
       "    <tr>\n",
       "      <th>2</th>\n",
       "      <td>1</td>\n",
       "      <td>0.0</td>\n",
       "      <td>28.829640</td>\n",
       "    </tr>\n",
       "    <tr>\n",
       "      <th>3</th>\n",
       "      <td>1</td>\n",
       "      <td>1.0</td>\n",
       "      <td>29.839304</td>\n",
       "    </tr>\n",
       "  </tbody>\n",
       "</table>\n",
       "</div>"
      ],
      "text/plain": [
       "   EHR_Delivery_2mins  SBT_Delivery_Pass_Fail   Mean_BMI\n",
       "0                   0                     0.0  31.787208\n",
       "1                   0                     1.0  30.211381\n",
       "2                   1                     0.0  28.829640\n",
       "3                   1                     1.0  29.839304"
      ]
     },
     "execution_count": 14,
     "metadata": {},
     "output_type": "execute_result"
    }
   ],
   "source": [
    "# Filter valid BMI data\n",
    "bmi_df = grouped_df[(grouped_df['height_cm'] > 0) & (grouped_df['weight_kg'] > 0)].copy()\n",
    "\n",
    "# Calculate BMI\n",
    "bmi_df['bmi'] = bmi_df['weight_kg'] / (bmi_df['height_cm'] / 100) ** 2\n",
    "\n",
    "# Group by 'EHR_Delivery_2mins' and 'sbt_delivery_pass_fail' and compute mean BMI\n",
    "mean_bmi_table = bmi_df.groupby(['EHR_Delivery_2mins', 'sbt_delivery_pass_fail'])['bmi'].mean().reset_index()\n",
    "\n",
    "# Rename columns for clarity\n",
    "mean_bmi_table.columns = ['EHR_Delivery_2mins', 'SBT_Delivery_Pass_Fail', 'Mean_BMI']\n",
    "mean_bmi_table"
   ]
  },
  {
   "cell_type": "code",
   "execution_count": 15,
   "metadata": {},
   "outputs": [
    {
     "data": {
      "image/png": "[encoded data removed]",
      "text/plain": [
       "<Figure size 1000x600 with 1 Axes>"
      ]
     },
     "metadata": {},
     "output_type": "display_data"
    }
   ],
   "source": [
    "sbt_d_time = final_df[(final_df['sbt_delivery_pass_fail']==1) & (final_df['eligible_day']==1)][['hosp_id_day_key','event_time']].drop_duplicates()\n",
    "ehr_d_time = final_df[(final_df['EHR_Delivery_2mins']==1) & (final_df['eligible_day']==1)][['hosp_id_day_key','event_time']].drop_duplicates()\n",
    "\n",
    "\n",
    "# Inner join on 'hosp_id_day_key'\n",
    "merged_df = sbt_d_time.merge(ehr_d_time, on='hosp_id_day_key', suffixes=('_sbt', '_ehr'))\n",
    "\n",
    "# Calculate delta time in minutes\n",
    "merged_df['delta_time'] = (merged_df['event_time_sbt'] - merged_df['event_time_ehr']).dt.total_seconds() / 60\n",
    "\n",
    "plt.figure(figsize=(10, 6))\n",
    "\n",
    "plt.hist(merged_df['event_time_sbt'].dt.hour, bins=24, alpha=0.5, label='SBT Delivery Time', edgecolor='black')\n",
    "plt.hist(merged_df['event_time_ehr'].dt.hour, bins=24, alpha=0.5, label='EHR Delivery Time', edgecolor='black')\n",
    "plt.xlabel('Hour of Day')\n",
    "plt.ylabel('Frequency')\n",
    "plt.title('Event Time Distribution (Hourly)')\n",
    "plt.legend()\n",
    "plt.grid(axis='y', linestyle='--', alpha=0.7)\n",
    "plt.show()"
   ]
  },
  {
   "cell_type": "code",
   "execution_count": 32,
   "metadata": {},
   "outputs": [],
   "source": [
    "grouped_df_2 = final_df.groupby('hosp_id_day_key').agg({\n",
    "    'eligible_day':'max',\n",
    "    'EHR_Delivery_2mins': 'max',\n",
    "    'sbt_delivery_pass_fail': 'max'\n",
    "    ,'NEE': 'mean'\n",
    "}).reset_index().fillna(0)\n",
    "\n",
    "mat_df_2 = grouped_df_2[grouped_df_2['eligible_day']==1]"
   ]
  },
  {
   "cell_type": "code",
   "execution_count": 35,
   "metadata": {},
   "outputs": [
    {
     "data": {
      "text/html": [
       "<div>\n",
       "<style scoped>\n",
       "    .dataframe tbody tr th:only-of-type {\n",
       "        vertical-align: middle;\n",
       "    }\n",
       "\n",
       "    .dataframe tbody tr th {\n",
       "        vertical-align: top;\n",
       "    }\n",
       "\n",
       "    .dataframe thead th {\n",
       "        text-align: right;\n",
       "    }\n",
       "</style>\n",
       "<table border=\"1\" class=\"dataframe\">\n",
       "  <thead>\n",
       "    <tr style=\"text-align: right;\">\n",
       "      <th></th>\n",
       "      <th>EHR_Delivery_2mins</th>\n",
       "      <th>sbt_delivery_pass_fail</th>\n",
       "      <th>NEE</th>\n",
       "    </tr>\n",
       "  </thead>\n",
       "  <tbody>\n",
       "    <tr>\n",
       "      <th>0</th>\n",
       "      <td>0</td>\n",
       "      <td>0.0</td>\n",
       "      <td>0.147214</td>\n",
       "    </tr>\n",
       "    <tr>\n",
       "      <th>1</th>\n",
       "      <td>0</td>\n",
       "      <td>1.0</td>\n",
       "      <td>0.040249</td>\n",
       "    </tr>\n",
       "    <tr>\n",
       "      <th>2</th>\n",
       "      <td>1</td>\n",
       "      <td>0.0</td>\n",
       "      <td>0.044320</td>\n",
       "    </tr>\n",
       "    <tr>\n",
       "      <th>3</th>\n",
       "      <td>1</td>\n",
       "      <td>1.0</td>\n",
       "      <td>0.026257</td>\n",
       "    </tr>\n",
       "  </tbody>\n",
       "</table>\n",
       "</div>"
      ],
      "text/plain": [
       "   EHR_Delivery_2mins  sbt_delivery_pass_fail       NEE\n",
       "0                   0                     0.0  0.147214\n",
       "1                   0                     1.0  0.040249\n",
       "2                   1                     0.0  0.044320\n",
       "3                   1                     1.0  0.026257"
      ]
     },
     "execution_count": 35,
     "metadata": {},
     "output_type": "execute_result"
    }
   ],
   "source": [
    "mat_df_2.groupby(['EHR_Delivery_2mins', 'sbt_delivery_pass_fail'])['NEE'].mean().reset_index()"
   ]
  },
  {
   "cell_type": "code",
   "execution_count": null,
   "metadata": {},
   "outputs": [],
   "source": []
  }
 ],
 "metadata": {
  "kernelspec": {
   "display_name": "base",
   "language": "python",
   "name": "python3"
  },
  "language_info": {
   "codemirror_mode": {
    "name": "ipython",
    "version": 3
   },
   "file_extension": ".py",
   "mimetype": "text/x-python",
   "name": "python",
   "nbconvert_exporter": "python",
   "pygments_lexer": "ipython3",
   "version": "3.11.5"
  }
 },
 "nbformat": 4,
 "nbformat_minor": 2
}
