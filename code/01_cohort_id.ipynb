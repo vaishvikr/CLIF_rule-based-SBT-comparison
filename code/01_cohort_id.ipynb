{
 "cells": [
  {
   "cell_type": "code",
   "execution_count": 1,
   "metadata": {},
   "outputs": [
    {
     "name": "stdout",
     "output_type": "stream",
     "text": [
      "Loaded configuration from config.json\n",
      "{'site_name': 'RUSH', 'tables_path': 'C:/Users/vchaudha/Downloads/rush_parquet/', 'file_type': 'parquet', 'data_timezone': 'US/Central', 'your_site_timezone': 'US/Central'}\n"
     ]
    }
   ],
   "source": [
    "import pandas as pd\n",
    "from tqdm import tqdm\n",
    "import numpy as np\n",
    "import duckdb\n",
    "import pyCLIF as pc\n",
    "import warnings\n",
    "warnings.filterwarnings(\"ignore\")"
   ]
  },
  {
   "cell_type": "markdown",
   "metadata": {},
   "source": [
    "## Base Population"
   ]
  },
  {
   "cell_type": "code",
   "execution_count": 2,
   "metadata": {},
   "outputs": [
    {
     "name": "stdout",
     "output_type": "stream",
     "text": [
      "Data loaded successfully from C:/Users/vchaudha/Downloads/rush_parquet/clif_adt.parquet\n",
      "Count with hours and minutes: 1135203\n",
      "Count without hours and minutes: 0\n"
     ]
    },
    {
     "data": {
      "application/vnd.microsoft.datawrangler.viewer.v0+json": {
       "columns": [
        {
         "name": "index",
         "rawType": "int64",
         "type": "integer"
        },
        {
         "name": "hospitalization_id",
         "rawType": "object",
         "type": "string"
        },
        {
         "name": "event_type",
         "rawType": "object",
         "type": "string"
        },
        {
         "name": "location_name",
         "rawType": "object",
         "type": "string"
        },
        {
         "name": "in_dttm",
         "rawType": "datetime64[ns]",
         "type": "datetime"
        },
        {
         "name": "out_dttm",
         "rawType": "object",
         "type": "string"
        },
        {
         "name": "location_category",
         "rawType": "object",
         "type": "string"
        },
        {
         "name": "hospital_id",
         "rawType": "object",
         "type": "string"
        }
       ],
       "conversionMethod": "pd.DataFrame",
       "ref": "d5fc46f8-8a6e-4c6a-a2b3-d7436b2e5c5e",
       "rows": [
        [
         "0",
         "100113836932",
         "Admission",
         "Rush Univeristy Antepartum Postpartum",
         "2018-05-03 22:34:00",
         "2018-05-04 18:37:00.0000000",
         "ward",
         "RUMC"
        ],
        [
         "1",
         "100113836932",
         "Transfer In",
         "Labor & Delivery",
         "2018-05-04 18:37:00",
         "2018-05-05 01:59:00.0000000",
         "l&d",
         "RUMC"
        ],
        [
         "2",
         "100113836932",
         "Transfer In",
         "Rush Univeristy Antepartum Postpartum",
         "2018-05-05 01:59:00",
         "2018-05-06 12:20:00.0000000",
         "ward",
         "RUMC"
        ],
        [
         "3",
         "100113836932",
         "Discharge",
         "Rush Univeristy Antepartum Postpartum",
         "2018-05-06 12:20:00",
         "1900-01-01 00:00:00.0000000",
         "ward",
         "RUMC"
        ],
        [
         "4",
         "100125123564",
         "Transfer In",
         "Labor & Delivery",
         "2018-04-26 23:01:00",
         "2018-04-26 23:25:00.0000000",
         "l&d",
         "RUMC"
        ]
       ],
       "shape": {
        "columns": 7,
        "rows": 5
       }
      },
      "text/html": [
       "<div>\n",
       "<style scoped>\n",
       "    .dataframe tbody tr th:only-of-type {\n",
       "        vertical-align: middle;\n",
       "    }\n",
       "\n",
       "    .dataframe tbody tr th {\n",
       "        vertical-align: top;\n",
       "    }\n",
       "\n",
       "    .dataframe thead th {\n",
       "        text-align: right;\n",
       "    }\n",
       "</style>\n",
       "<table border=\"1\" class=\"dataframe\">\n",
       "  <thead>\n",
       "    <tr style=\"text-align: right;\">\n",
       "      <th></th>\n",
       "      <th>hospitalization_id</th>\n",
       "      <th>event_type</th>\n",
       "      <th>location_name</th>\n",
       "      <th>in_dttm</th>\n",
       "      <th>out_dttm</th>\n",
       "      <th>location_category</th>\n",
       "      <th>hospital_id</th>\n",
       "    </tr>\n",
       "  </thead>\n",
       "  <tbody>\n",
       "    <tr>\n",
       "      <th>0</th>\n",
       "      <td>100113836932</td>\n",
       "      <td>Admission</td>\n",
       "      <td>Rush Univeristy Antepartum Postpartum</td>\n",
       "      <td>2018-05-03 22:34:00</td>\n",
       "      <td>2018-05-04 18:37:00.0000000</td>\n",
       "      <td>ward</td>\n",
       "      <td>RUMC</td>\n",
       "    </tr>\n",
       "    <tr>\n",
       "      <th>1</th>\n",
       "      <td>100113836932</td>\n",
       "      <td>Transfer In</td>\n",
       "      <td>Labor &amp; Delivery</td>\n",
       "      <td>2018-05-04 18:37:00</td>\n",
       "      <td>2018-05-05 01:59:00.0000000</td>\n",
       "      <td>l&amp;d</td>\n",
       "      <td>RUMC</td>\n",
       "    </tr>\n",
       "    <tr>\n",
       "      <th>2</th>\n",
       "      <td>100113836932</td>\n",
       "      <td>Transfer In</td>\n",
       "      <td>Rush Univeristy Antepartum Postpartum</td>\n",
       "      <td>2018-05-05 01:59:00</td>\n",
       "      <td>2018-05-06 12:20:00.0000000</td>\n",
       "      <td>ward</td>\n",
       "      <td>RUMC</td>\n",
       "    </tr>\n",
       "    <tr>\n",
       "      <th>3</th>\n",
       "      <td>100113836932</td>\n",
       "      <td>Discharge</td>\n",
       "      <td>Rush Univeristy Antepartum Postpartum</td>\n",
       "      <td>2018-05-06 12:20:00</td>\n",
       "      <td>1900-01-01 00:00:00.0000000</td>\n",
       "      <td>ward</td>\n",
       "      <td>RUMC</td>\n",
       "    </tr>\n",
       "    <tr>\n",
       "      <th>4</th>\n",
       "      <td>100125123564</td>\n",
       "      <td>Transfer In</td>\n",
       "      <td>Labor &amp; Delivery</td>\n",
       "      <td>2018-04-26 23:01:00</td>\n",
       "      <td>2018-04-26 23:25:00.0000000</td>\n",
       "      <td>l&amp;d</td>\n",
       "      <td>RUMC</td>\n",
       "    </tr>\n",
       "  </tbody>\n",
       "</table>\n",
       "</div>"
      ],
      "text/plain": [
       "  hospitalization_id   event_type                          location_name  \\\n",
       "0       100113836932    Admission  Rush Univeristy Antepartum Postpartum   \n",
       "1       100113836932  Transfer In                       Labor & Delivery   \n",
       "2       100113836932  Transfer In  Rush Univeristy Antepartum Postpartum   \n",
       "3       100113836932    Discharge  Rush Univeristy Antepartum Postpartum   \n",
       "4       100125123564  Transfer In                       Labor & Delivery   \n",
       "\n",
       "              in_dttm                     out_dttm location_category  \\\n",
       "0 2018-05-03 22:34:00  2018-05-04 18:37:00.0000000              ward   \n",
       "1 2018-05-04 18:37:00  2018-05-05 01:59:00.0000000               l&d   \n",
       "2 2018-05-05 01:59:00  2018-05-06 12:20:00.0000000              ward   \n",
       "3 2018-05-06 12:20:00  1900-01-01 00:00:00.0000000              ward   \n",
       "4 2018-04-26 23:01:00  2018-04-26 23:25:00.0000000               l&d   \n",
       "\n",
       "  hospital_id  \n",
       "0        RUMC  \n",
       "1        RUMC  \n",
       "2        RUMC  \n",
       "3        RUMC  \n",
       "4        RUMC  "
      ]
     },
     "execution_count": 2,
     "metadata": {},
     "output_type": "execute_result"
    }
   ],
   "source": [
    "adt = pc.load_data('clif_adt')\n",
    "adt['hospitalization_id'] = adt['hospitalization_id'].astype(str)\n",
    "adt['in_dttm'] = pc.getdttm(adt['in_dttm'])\n",
    "adt = pc.standardize_datetime_tz(adt,['in_dttm','out_dttm'],pc.helper['your_site_timezone'],pc.helper['data_timezone'])\n",
    "pc.deftime(adt['in_dttm'])\n",
    "adt.head()"
   ]
  },
  {
   "cell_type": "code",
   "execution_count": 3,
   "metadata": {},
   "outputs": [
    {
     "name": "stdout",
     "output_type": "stream",
     "text": [
      "Data loaded successfully from C:/Users/vchaudha/Downloads/rush_parquet/clif_hospitalization.parquet\n"
     ]
    },
    {
     "data": {
      "application/vnd.microsoft.datawrangler.viewer.v0+json": {
       "columns": [
        {
         "name": "index",
         "rawType": "int64",
         "type": "integer"
        },
        {
         "name": "patient_id",
         "rawType": "int64",
         "type": "integer"
        },
        {
         "name": "hospitalization_id",
         "rawType": "object",
         "type": "string"
        },
        {
         "name": "zipcode_five_digit",
         "rawType": "object",
         "type": "string"
        },
        {
         "name": "admission_dttm",
         "rawType": "datetime64[ns]",
         "type": "datetime"
        },
        {
         "name": "discharge_dttm",
         "rawType": "datetime64[ns]",
         "type": "datetime"
        },
        {
         "name": "discharge_name",
         "rawType": "object",
         "type": "string"
        },
        {
         "name": "age_at_admission",
         "rawType": "int64",
         "type": "integer"
        },
        {
         "name": "discharge_category",
         "rawType": "object",
         "type": "string"
        },
        {
         "name": "hospitalization_joined_id",
         "rawType": "object",
         "type": "string"
        }
       ],
       "conversionMethod": "pd.DataFrame",
       "ref": "76485b35-eb2e-4c5c-8cf1-c5bd1be07ba2",
       "rows": [
        [
         "0",
         "5282613",
         "100207673243",
         "60406",
         "2022-12-27 09:00:00",
         "2022-12-29 12:36:00",
         "Discharged to home or self care (routine discharge)",
         "48",
         "Home",
         "100207673243"
        ],
        [
         "1",
         "5100571",
         "100177118306",
         "60620",
         "2020-11-16 17:13:00",
         "2020-11-19 14:22:00",
         "Discharged to home or self care (routine discharge)",
         "72",
         "Home",
         "100177118306"
        ],
        [
         "2",
         "7355974",
         "100150644186",
         "46368",
         "2018-03-16 21:49:00",
         "2018-03-21 18:23:00",
         "Discharged/transd to home (care by home health service organization)",
         "65",
         "Home",
         "100150644186"
        ],
        [
         "3",
         "7623068",
         "100150682826",
         "60622",
         "2018-03-19 19:45:00",
         "2018-03-23 14:21:00",
         "Discharged to home or self care (routine discharge)",
         "25",
         "Home",
         "100150682826"
        ],
        [
         "4",
         "8203571",
         "100216198515",
         "60586",
         "2023-07-19 20:56:00",
         "2023-07-22 13:28:00",
         "Discharged to home or self care (routine discharge)",
         "38",
         "Home",
         "100216198515"
        ]
       ],
       "shape": {
        "columns": 9,
        "rows": 5
       }
      },
      "text/html": [
       "<div>\n",
       "<style scoped>\n",
       "    .dataframe tbody tr th:only-of-type {\n",
       "        vertical-align: middle;\n",
       "    }\n",
       "\n",
       "    .dataframe tbody tr th {\n",
       "        vertical-align: top;\n",
       "    }\n",
       "\n",
       "    .dataframe thead th {\n",
       "        text-align: right;\n",
       "    }\n",
       "</style>\n",
       "<table border=\"1\" class=\"dataframe\">\n",
       "  <thead>\n",
       "    <tr style=\"text-align: right;\">\n",
       "      <th></th>\n",
       "      <th>patient_id</th>\n",
       "      <th>hospitalization_id</th>\n",
       "      <th>zipcode_five_digit</th>\n",
       "      <th>admission_dttm</th>\n",
       "      <th>discharge_dttm</th>\n",
       "      <th>discharge_name</th>\n",
       "      <th>age_at_admission</th>\n",
       "      <th>discharge_category</th>\n",
       "      <th>hospitalization_joined_id</th>\n",
       "    </tr>\n",
       "  </thead>\n",
       "  <tbody>\n",
       "    <tr>\n",
       "      <th>0</th>\n",
       "      <td>5282613</td>\n",
       "      <td>100207673243</td>\n",
       "      <td>60406</td>\n",
       "      <td>2022-12-27 09:00:00</td>\n",
       "      <td>2022-12-29 12:36:00</td>\n",
       "      <td>Discharged to home or self care (routine disch...</td>\n",
       "      <td>48</td>\n",
       "      <td>Home</td>\n",
       "      <td>100207673243</td>\n",
       "    </tr>\n",
       "    <tr>\n",
       "      <th>1</th>\n",
       "      <td>5100571</td>\n",
       "      <td>100177118306</td>\n",
       "      <td>60620</td>\n",
       "      <td>2020-11-16 17:13:00</td>\n",
       "      <td>2020-11-19 14:22:00</td>\n",
       "      <td>Discharged to home or self care (routine disch...</td>\n",
       "      <td>72</td>\n",
       "      <td>Home</td>\n",
       "      <td>100177118306</td>\n",
       "    </tr>\n",
       "    <tr>\n",
       "      <th>2</th>\n",
       "      <td>7355974</td>\n",
       "      <td>100150644186</td>\n",
       "      <td>46368</td>\n",
       "      <td>2018-03-16 21:49:00</td>\n",
       "      <td>2018-03-21 18:23:00</td>\n",
       "      <td>Discharged/transd to home (care by home health...</td>\n",
       "      <td>65</td>\n",
       "      <td>Home</td>\n",
       "      <td>100150644186</td>\n",
       "    </tr>\n",
       "    <tr>\n",
       "      <th>3</th>\n",
       "      <td>7623068</td>\n",
       "      <td>100150682826</td>\n",
       "      <td>60622</td>\n",
       "      <td>2018-03-19 19:45:00</td>\n",
       "      <td>2018-03-23 14:21:00</td>\n",
       "      <td>Discharged to home or self care (routine disch...</td>\n",
       "      <td>25</td>\n",
       "      <td>Home</td>\n",
       "      <td>100150682826</td>\n",
       "    </tr>\n",
       "    <tr>\n",
       "      <th>4</th>\n",
       "      <td>8203571</td>\n",
       "      <td>100216198515</td>\n",
       "      <td>60586</td>\n",
       "      <td>2023-07-19 20:56:00</td>\n",
       "      <td>2023-07-22 13:28:00</td>\n",
       "      <td>Discharged to home or self care (routine disch...</td>\n",
       "      <td>38</td>\n",
       "      <td>Home</td>\n",
       "      <td>100216198515</td>\n",
       "    </tr>\n",
       "  </tbody>\n",
       "</table>\n",
       "</div>"
      ],
      "text/plain": [
       "   patient_id hospitalization_id zipcode_five_digit      admission_dttm  \\\n",
       "0     5282613       100207673243              60406 2022-12-27 09:00:00   \n",
       "1     5100571       100177118306              60620 2020-11-16 17:13:00   \n",
       "2     7355974       100150644186              46368 2018-03-16 21:49:00   \n",
       "3     7623068       100150682826              60622 2018-03-19 19:45:00   \n",
       "4     8203571       100216198515              60586 2023-07-19 20:56:00   \n",
       "\n",
       "       discharge_dttm                                     discharge_name  \\\n",
       "0 2022-12-29 12:36:00  Discharged to home or self care (routine disch...   \n",
       "1 2020-11-19 14:22:00  Discharged to home or self care (routine disch...   \n",
       "2 2018-03-21 18:23:00  Discharged/transd to home (care by home health...   \n",
       "3 2018-03-23 14:21:00  Discharged to home or self care (routine disch...   \n",
       "4 2023-07-22 13:28:00  Discharged to home or self care (routine disch...   \n",
       "\n",
       "   age_at_admission discharge_category hospitalization_joined_id  \n",
       "0                48               Home              100207673243  \n",
       "1                72               Home              100177118306  \n",
       "2                65               Home              100150644186  \n",
       "3                25               Home              100150682826  \n",
       "4                38               Home              100216198515  "
      ]
     },
     "execution_count": 3,
     "metadata": {},
     "output_type": "execute_result"
    }
   ],
   "source": [
    "hosp = pc.load_data('clif_hospitalization')\n",
    "hosp['hospitalization_id'] = hosp['hospitalization_id'].astype(str)\n",
    "if 'hospitalization_joined_id' not in hosp.columns:\n",
    "    hosp['hospitalization_joined_id'] = hosp['hospitalization_id']\n",
    "\n",
    "hosp['hospitalization_joined_id'] = hosp['hospitalization_joined_id'].astype(str)\n",
    "hosp['admission_dttm'] = pc.getdttm(hosp['admission_dttm'])\n",
    "hosp['discharge_dttm'] = pc.getdttm(hosp['discharge_dttm'])\n",
    "hosp = pc.standardize_datetime_tz(hosp,['admission_dttm','discharge_dttm'],pc.helper['your_site_timezone'],pc.helper['data_timezone'])\n",
    "hosp.head()"
   ]
  },
  {
   "cell_type": "code",
   "execution_count": null,
   "metadata": {},
   "outputs": [],
   "source": [
    "adt['Hosp_key_bkp'] = adt['hospitalization_id']\n",
    "hosp['Hosp_key_bkp'] = hosp['hospitalization_id']"
   ]
  },
  {
   "cell_type": "code",
   "execution_count": null,
   "metadata": {},
   "outputs": [],
   "source": [
    "eblock = pc.stitch_encounters(hosp,adt)\n",
    "\n",
    "# Create mapping dictionary\n",
    "hospitalization_to_block = {\n",
    "    hospital_id: block \n",
    "    for block, hospital_list in zip(eblock[\"encounter_block\"], eblock[\"list_hospitalization_id\"])\n",
    "    for hospital_id in hospital_list\n",
    "}"
   ]
  },
  {
   "cell_type": "code",
   "execution_count": null,
   "metadata": {},
   "outputs": [],
   "source": [
    "agg_rules_hosp = {\n",
    "    'patient_id': 'first',  # Assuming patient_id is consistent across duplicates\n",
    "    'zipcode_five_digit': 'first',  # Retain first occurrence\n",
    "    'admission_dttm': 'min',  # Earliest admission date\n",
    "    'discharge_dttm': 'max',  # Latest discharge date\n",
    "    'discharge_name': 'last',  # Prioritize first value (change as per logic)\n",
    "    'age_at_admission': 'mean',  # Take average if different\n",
    "    'discharge_category': 'last',  # Keep the first occurrence\n",
    "    'hospitalization_joined_id': lambda x: ', '.join(x.unique()),  # Retain first occurrence\n",
    "    'Hosp_key_bkp': lambda x: ', '.join(x.unique())  # Backup key, take first occurrence\n",
    "}\n",
    "\n",
    "hosp['hospitalization_id'] = hosp['hospitalization_id'].map(hospitalization_to_block)\n",
    "hosp['hospitalization_id'] = hosp['hospitalization_id'].astype(str)\n",
    "hosp = hosp.sort_values(by=['hospitalization_id', 'admission_dttm'])\n",
    "\n",
    "hosp = hosp.groupby('hospitalization_id').agg(agg_rules_hosp).reset_index()"
   ]
  },
  {
   "cell_type": "code",
   "execution_count": null,
   "metadata": {},
   "outputs": [],
   "source": [
    "adt = adt[['hospitalization_id', 'in_dttm', 'location_category', 'hospital_id']]\n",
    "adt['hospitalization_id'] = adt['hospitalization_id'].map(hospitalization_to_block).astype(str)\n",
    "adt = adt.sort_values(by=['hospitalization_id', 'in_dttm'])"
   ]
  },
  {
   "cell_type": "markdown",
   "metadata": {},
   "source": [
    "#### cohort filters"
   ]
  },
  {
   "cell_type": "code",
   "execution_count": null,
   "metadata": {},
   "outputs": [],
   "source": [
    "rst = pc.load_data('clif_respiratory_support')\n",
    "rst['hospitalization_id'] = rst['hospitalization_id'].astype(str)\n",
    "rst['hospitalization_id'] = rst['hospitalization_id'].map(hospitalization_to_block).fillna(-1).astype(int).astype(str)\n",
    "rst = rst[~rst['hospitalization_id'].isin(rst[rst['tracheostomy']==1].hospitalization_id.unique())] #exclude trach pats"
   ]
  },
  {
   "cell_type": "code",
   "execution_count": null,
   "metadata": {},
   "outputs": [],
   "source": [
    "rst = pc.standardize_datetime_tz(rst,['recorded_dttm'],pc.helper['your_site_timezone'],pc.helper['data_timezone'])"
   ]
  },
  {
   "cell_type": "code",
   "execution_count": null,
   "metadata": {},
   "outputs": [],
   "source": [
    "rst.head()"
   ]
  },
  {
   "cell_type": "code",
   "execution_count": null,
   "metadata": {},
   "outputs": [],
   "source": [
    "pat = pc.load_data('clif_patient')\n",
    "pat = pc.standardize_datetime_tz(pat,['birth_date','death_dttm'],pc.helper['your_site_timezone'],pc.helper['data_timezone'])"
   ]
  },
  {
   "cell_type": "code",
   "execution_count": null,
   "metadata": {},
   "outputs": [],
   "source": [
    "imv_hosp_ids = rst[rst['device_category'].str.lower()=='imv'].hospitalization_id.unique()\n",
    "icu_hosp_ids = adt[adt['location_category'].str.lower()=='icu'].hospitalization_id.unique()\n",
    "\n",
    "icu_hosp_ids = [x for x in icu_hosp_ids if x is not None]\n",
    "imv_hosp_ids = [x for x in imv_hosp_ids if x is not None]\n",
    "\n",
    "hosp = hosp[\n",
    "    (hosp['admission_dttm'].dt.year >= 2022) &\n",
    "    (hosp['admission_dttm'].dt.year <= 2024) &\n",
    "    (hosp['hospitalization_id'].isin(np.intersect1d(imv_hosp_ids, icu_hosp_ids))) &\n",
    "    (hosp['age_at_admission'] <=119)\n",
    "].reset_index(drop=True)\n",
    "\n",
    "required_id= hosp['hospitalization_id'].unique()\n",
    "print(len(required_id),' : potential cohort count')\n",
    "\n",
    "base = pd.merge(hosp,pat,on='patient_id',how='inner')\\\n",
    "[['patient_id', 'hospitalization_id','admission_dttm', 'discharge_dttm','age_at_admission', 'discharge_category','sex_category','race_category', 'ethnicity_category']]\n",
    "\n",
    "base['admission_dttm'] = pc.getdttm(base['admission_dttm'])\n",
    "\n",
    "base.columns\n",
    "\n",
    "adt = adt[adt['hospitalization_id'].isin(required_id)].reset_index(drop=True)\n",
    "rst = rst[rst['hospitalization_id'].isin(required_id)].reset_index(drop=True)"
   ]
  },
  {
   "cell_type": "code",
   "execution_count": null,
   "metadata": {},
   "outputs": [],
   "source": [
    "base.head()"
   ]
  },
  {
   "cell_type": "code",
   "execution_count": null,
   "metadata": {},
   "outputs": [],
   "source": [
    "if pc.helper['site_name']=='RUSH':\n",
    "    rst_col = [ 'hospitalization_id', 'recorded_dttm', 'device_category', 'mode_category','fio2_set','peep_set','resp_rate_set','pressure_support_set','mode_name','tube_comp_%','sbt_timepoint']\n",
    "else:\n",
    "    rst_col = [ 'hospitalization_id', 'recorded_dttm', 'device_category', 'mode_category','fio2_set','peep_set','resp_rate_set','pressure_support_set','mode_name']\n",
    "rst = rst[rst_col]\n",
    "rst['device_category'] = rst['device_category'].str.lower()\n",
    "rst['mode_category'] = rst['mode_category'].str.lower()\n",
    "rst['recorded_dttm'] = pc.getdttm(rst['recorded_dttm'])"
   ]
  },
  {
   "cell_type": "code",
   "execution_count": null,
   "metadata": {},
   "outputs": [],
   "source": [
    "pc.deftime(rst['recorded_dttm'])"
   ]
  },
  {
   "cell_type": "code",
   "execution_count": null,
   "metadata": {},
   "outputs": [],
   "source": [
    "rst.head()"
   ]
  },
  {
   "cell_type": "markdown",
   "metadata": {},
   "source": [
    "### MAC"
   ]
  },
  {
   "cell_type": "code",
   "execution_count": null,
   "metadata": {},
   "outputs": [],
   "source": [
    "mac = pc.load_data('clif_medication_admin_continuous')\n",
    "mac['hospitalization_id'] = mac['hospitalization_id'].astype(str)\n",
    "mac['hospitalization_id'] = mac['hospitalization_id'].map(hospitalization_to_block).astype(str)\n",
    "mac_col = ['hospitalization_id', 'admin_dttm','med_dose','med_category','med_dose_unit']\n",
    "mac = mac[(mac['hospitalization_id'].isin(required_id)) & (mac['med_category'].isin( [\n",
    "        \"norepinephrine\",\n",
    "        \"epinephrine\",\n",
    "        \"phenylephrine\",\n",
    "        \"angiotensin\",\n",
    "        \"vasopressin\",\n",
    "        \"dopamine\",\n",
    "        \"dobutamine\",\n",
    "        \"milrinone\",\n",
    "        \"isoproterenol\",\n",
    "        \"cisatracurium\",\n",
    "        \"vecuronium\",\n",
    "        \"rocuronium\",'fentanyl', 'propofol', 'lorazepam', 'midazolam','hydromorphone','morphine'\n",
    "    ]))][mac_col].reset_index(drop=True)\n",
    "\n",
    "mac['admin_dttm'] = pc.getdttm(mac['admin_dttm'])\n",
    "mac = pc.standardize_datetime_tz(mac,['admin_dttm'],pc.helper['your_site_timezone'],pc.helper['data_timezone'])\n",
    "\n",
    "mac['med_dose_unit']=mac['med_dose_unit'].str.lower()\n",
    "mac = mac[(mac['med_dose_unit'].str.contains(r'/', na=False)) & (mac['med_dose_unit']!='units/hr')].reset_index(drop=True)"
   ]
  },
  {
   "cell_type": "code",
   "execution_count": null,
   "metadata": {},
   "outputs": [],
   "source": [
    "mac.head()"
   ]
  },
  {
   "cell_type": "markdown",
   "metadata": {},
   "source": [
    "### Patient_assessment"
   ]
  },
  {
   "cell_type": "code",
   "execution_count": null,
   "metadata": {},
   "outputs": [],
   "source": [
    "cat_values_mapping_dict = {\n",
    "    'negative': 0,\n",
    "    'fail': 0,\n",
    "    'pass': 1,\n",
    "    'positive': 1,\n",
    "    None: np.nan ,\n",
    "    np.nan : np.nan,\n",
    "    'yes':1,\n",
    "    'no':0\n",
    "}\n",
    "\n",
    "pat_assess_cats_rquired = [ 'sbt_delivery_pass_fail',\n",
    "                            'sbt_screen_pass_fail','sat_delivery_pass_fail',\n",
    "                            'sat_screen_pass_fail']"
   ]
  },
  {
   "cell_type": "code",
   "execution_count": null,
   "metadata": {},
   "outputs": [],
   "source": [
    "pat_at = pc.load_data('clif_patient_assessments',-1)\n",
    "pat_at_col = ['hospitalization_id', 'recorded_dttm','numerical_value', 'categorical_value','assessment_category']\n",
    "pat_at['assessment_category'] = pat_at['assessment_category'].str.lower()\n",
    "pat_at = pat_at[(pat_at['assessment_category'].isin(pat_assess_cats_rquired)) ][pat_at_col].reset_index(drop=True)\n",
    "pat_at = pc.standardize_datetime_tz(pat_at,['recorded_dttm'],pc.helper['your_site_timezone'],pc.helper['data_timezone'])"
   ]
  },
  {
   "cell_type": "code",
   "execution_count": null,
   "metadata": {},
   "outputs": [],
   "source": [
    "pat_at['hospitalization_id'] = pat_at['hospitalization_id'].astype(str)"
   ]
  },
  {
   "cell_type": "code",
   "execution_count": null,
   "metadata": {},
   "outputs": [],
   "source": [
    "pat_at['hospitalization_id'] = pat_at['hospitalization_id'].map(hospitalization_to_block).fillna(-1).astype(int).astype(str)"
   ]
  },
  {
   "cell_type": "code",
   "execution_count": null,
   "metadata": {},
   "outputs": [],
   "source": [
    "pat_at = pat_at[(pat_at['hospitalization_id'].isin(required_id))][pat_at_col].reset_index(drop=True)\n",
    "pat_at['recorded_dttm'] = pc.getdttm(pat_at['recorded_dttm'])\n",
    "pat_at['categorical_value'] = pat_at['categorical_value'].str.lower().map(cat_values_mapping_dict)\n",
    "pat_at['assessment_value'] = pat_at['numerical_value'].combine_first(pat_at['categorical_value'])\n",
    "pat_at.drop(columns=['numerical_value','categorical_value'],inplace=True)"
   ]
  },
  {
   "cell_type": "code",
   "execution_count": null,
   "metadata": {},
   "outputs": [],
   "source": [
    "pat_at.assessment_category.unique()"
   ]
  },
  {
   "cell_type": "code",
   "execution_count": null,
   "metadata": {},
   "outputs": [],
   "source": [
    "pat_at['assessment_value'].value_counts()"
   ]
  },
  {
   "cell_type": "code",
   "execution_count": null,
   "metadata": {},
   "outputs": [],
   "source": [
    "pat_at.head()"
   ]
  },
  {
   "cell_type": "markdown",
   "metadata": {},
   "source": [
    "### vitals"
   ]
  },
  {
   "cell_type": "code",
   "execution_count": null,
   "metadata": {},
   "outputs": [],
   "source": [
    "vit = pc.load_data('clif_vitals',-1)\n",
    "vit['hospitalization_id'] = vit['hospitalization_id'].astype(str)\n",
    "vit['hospitalization_id'] = vit['hospitalization_id'].map(hospitalization_to_block).astype(str)\n",
    "vit_col = ['hospitalization_id','recorded_dttm','vital_category','vital_value' ]\n",
    "vit['vital_category'] = vit['vital_category'].str.lower()\n",
    "vit = pc.standardize_datetime_tz(vit,['recorded_dttm'],pc.helper['your_site_timezone'],pc.helper['data_timezone'])\n",
    "vit = vit[(vit['hospitalization_id'].isin(required_id)) & (vit['vital_category'].isin(['map','heart_rate','sbp','dbp','spo2','respiratory_rate','weight_kg','height_cm'])) ][vit_col].reset_index(drop=True)\n",
    "\n",
    "vit['recorded_dttm_min'] = pc.getdttm(vit['recorded_dttm'])\n",
    "\n",
    "# Sort by hospitalization_id and recorded_dttm\n",
    "vit = vit.sort_values(by=[\"hospitalization_id\", \"recorded_dttm\"])\n",
    "\n",
    "# Group by hospitalization_id, vital_category, and recorded_dttm_min, then take the first occurrence of vital_value\n",
    "vit = vit.groupby([\"hospitalization_id\", \"vital_category\", \"recorded_dttm_min\"], as_index=False).agg({\n",
    "    \"vital_value\": \"first\"\n",
    "})\n",
    "# make sure float\n",
    "vit['vital_value']=vit['vital_value'].astype(float)\n",
    "\n",
    "#for meds\n",
    "vit_weight = vit[vit['vital_category']=='weight_kg'].reset_index(drop=True)"
   ]
  },
  {
   "cell_type": "code",
   "execution_count": null,
   "metadata": {},
   "outputs": [],
   "source": [
    "vit.head()"
   ]
  },
  {
   "cell_type": "code",
   "execution_count": null,
   "metadata": {},
   "outputs": [],
   "source": [
    "# Count duplicates\n",
    "duplicates = vit.duplicated(subset=[\"hospitalization_id\", \"vital_category\", \"recorded_dttm_min\"], keep=False)\n",
    "\n",
    "# Show any duplicates (should be empty if grouping worked correctly)\n",
    "vit[duplicates]"
   ]
  },
  {
   "cell_type": "markdown",
   "metadata": {},
   "source": [
    "### new mac and weight df for med unit conversion"
   ]
  },
  {
   "cell_type": "code",
   "execution_count": null,
   "metadata": {},
   "outputs": [],
   "source": [
    "vit_weight.rename({'vital_category': 'med_category', 'recorded_dttm_min': 'admin_dttm'}, axis='columns', inplace=True)\n",
    "\n",
    "new_mac = pd.concat([mac, vit_weight], ignore_index=True)\n",
    "\n",
    "new_mac = new_mac.sort_values(by=['hospitalization_id', 'admin_dttm'])\n",
    "\n",
    "new_mac['vital_value'] = new_mac.groupby('hospitalization_id')['vital_value'].ffill().bfill()\n",
    "\n",
    "new_mac = new_mac[~(new_mac['med_category']=='weight_kg')].reset_index(drop=True)\n",
    "\n",
    "print('mac rows:',mac.shape,'New mac rows:', new_mac.shape)\n",
    "#del vit_weight"
   ]
  },
  {
   "cell_type": "code",
   "execution_count": null,
   "metadata": {},
   "outputs": [],
   "source": [
    "new_mac.head(5)"
   ]
  },
  {
   "cell_type": "code",
   "execution_count": null,
   "metadata": {},
   "outputs": [],
   "source": [
    "# The med_unit_info dictionary\n",
    "med_unit_info = {\n",
    "    'norepinephrine': {\n",
    "        'required_unit': 'mcg/kg/min',\n",
    "        'acceptable_units': ['mcg/kg/min', 'mcg/kg/hr', 'mg/kg/hr', 'mcg/min', 'mg/hr'],\n",
    "    },\n",
    "    'epinephrine': {\n",
    "        'required_unit': 'mcg/kg/min',\n",
    "        'acceptable_units': ['mcg/kg/min', 'mcg/kg/hr', 'mg/kg/hr', 'mcg/min', 'mg/hr'],\n",
    "    },\n",
    "    'phenylephrine': {\n",
    "        'required_unit': 'mcg/kg/min',\n",
    "        'acceptable_units': ['mcg/kg/min', 'mcg/kg/hr', 'mg/kg/hr', 'mcg/min', 'mg/hr'],\n",
    "    },\n",
    "    'angiotensin': {\n",
    "        'required_unit': 'ng/kg/min',\n",
    "        'acceptable_units': ['ng/kg/min', 'ng/kg/hr'],\n",
    "    },\n",
    "    'vasopressin': {\n",
    "        'required_unit': 'units/min',\n",
    "        'acceptable_units': ['units/min', 'units/hr', 'milliunits/min', 'milliunits/hr'],\n",
    "    },\n",
    "    'dopamine': {\n",
    "        'required_unit': 'mcg/kg/min',\n",
    "        'acceptable_units': ['mcg/kg/min', 'mcg/kg/hr', 'mg/kg/hr', 'mcg/min', 'mg/hr'],\n",
    "    },\n",
    "    'dobutamine': {\n",
    "        'required_unit': 'mcg/kg/min',\n",
    "        'acceptable_units': ['mcg/kg/min', 'mcg/kg/hr', 'mg/kg/hr', 'mcg/min', 'mg/hr'],\n",
    "    },\n",
    "    'milrinone': {\n",
    "        'required_unit': 'mcg/kg/min',\n",
    "        'acceptable_units': ['mcg/kg/min', 'mcg/kg/hr', 'mg/kg/hr', 'mcg/min', 'mg/hr'],\n",
    "    },\n",
    "    'isoproterenol': {\n",
    "        'required_unit': 'mcg/kg/min',\n",
    "        'acceptable_units': ['mcg/kg/min', 'mcg/kg/hr', 'mg/kg/hr', 'mcg/min', 'mg/hr'],\n",
    "    },\n",
    "}\n",
    "\n",
    "def convert_med_dose(row):\n",
    "    category = row['med_category']\n",
    "    # If the category is not in our dictionary, skip conversion.\n",
    "    if category not in med_unit_info:\n",
    "        return row\n",
    "    \n",
    "    info = med_unit_info[category]\n",
    "    required_unit = info['required_unit']\n",
    "    acceptable_units = info['acceptable_units']\n",
    "    \n",
    "    current_unit = row['med_dose_unit']\n",
    "    dose = row['med_dose']\n",
    "    weight = row['vital_value']  # patient's weight in kg\n",
    "\n",
    "    # If the current unit already matches the required unit, nothing to do.\n",
    "    if current_unit == required_unit:\n",
    "        return row\n",
    "\n",
    "    # If the current unit is not in the acceptable list, skip conversion.\n",
    "    if current_unit not in acceptable_units:\n",
    "        return row\n",
    "\n",
    "    # Start with a conversion factor of 1.\n",
    "    conversion_factor = 1.0\n",
    "\n",
    "    # --------------------------------------------------\n",
    "    # 1. Weight conversion: if the current unit is per kg but the required is not,\n",
    "    # then multiply by the patient’s weight.\n",
    "    if 'kg' in current_unit and 'kg' not in required_unit:\n",
    "        conversion_factor *= weight\n",
    "    elif 'kg' not in current_unit and 'kg' in required_unit:\n",
    "        conversion_factor /= weight\n",
    "\n",
    "    # --------------------------------------------------\n",
    "    # 2. Time conversion: convert from per hour to per minute or vice versa.\n",
    "    if 'hr' in current_unit and 'min' in required_unit:\n",
    "        conversion_factor /= 60.0\n",
    "    elif 'min' in current_unit and 'hr' in required_unit:\n",
    "        conversion_factor *= 60.0\n",
    "\n",
    "    # --------------------------------------------------\n",
    "    # 3. Medication unit conversion (e.g., mg to mcg, milliunits to units)\n",
    "    # We assume the first part (before the first '/') is the measurement unit.\n",
    "    current_med_unit = current_unit.split('/')[0]\n",
    "    required_med_unit = required_unit.split('/')[0]\n",
    "\n",
    "    med_conversion = {\n",
    "        ('mg', 'mcg'): 1000,\n",
    "        ('mcg', 'mg'): 0.001,\n",
    "        ('milliunits', 'units'): 0.001,\n",
    "        ('units', 'milliunits'): 1000,\n",
    "    }\n",
    "\n",
    "    if current_med_unit != required_med_unit:\n",
    "        factor = med_conversion.get((current_med_unit, required_med_unit))\n",
    "        if factor is not None:\n",
    "            conversion_factor *= factor\n",
    "        else:\n",
    "            # If no conversion factor is defined, skip conversion.\n",
    "            return row\n",
    "\n",
    "    # --------------------------------------------------\n",
    "    # Apply the conversion\n",
    "    new_dose = dose * conversion_factor\n",
    "\n",
    "    # Update the row with the converted dose and unit.\n",
    "    row['med_dose'] = new_dose\n",
    "    row['med_dose_unit'] = required_unit\n",
    "    return row\n",
    "\n",
    "# Apply the conversion function with tqdm for progress tracking\n",
    "tqdm.pandas(desc=\"Converting medication doses\")\n",
    "new_mac = new_mac.progress_apply(convert_med_dose, axis=1)"
   ]
  },
  {
   "cell_type": "code",
   "execution_count": null,
   "metadata": {},
   "outputs": [],
   "source": [
    "# Create a summary table for each med_category\n",
    "summary_table = new_mac.groupby(['med_category','med_dose_unit']).agg(\n",
    "    total_N=('med_category', 'size'),\n",
    "    min=('med_dose', 'min'),\n",
    "    max=('med_dose', 'max'),\n",
    "    first_quantile=('med_dose', lambda x: x.quantile(0.25)),\n",
    "    second_quantile=('med_dose', lambda x: x.quantile(0.5)),\n",
    "    third_quantile=('med_dose', lambda x: x.quantile(0.75)),\n",
    "    missing_values=('med_dose', lambda x: x.isna().sum())\n",
    ").reset_index()\n",
    "\n",
    "## check the distrbituon of required continuous meds\n",
    "summary_table"
   ]
  },
  {
   "cell_type": "markdown",
   "metadata": {},
   "source": [
    "## Wide Dataset"
   ]
  },
  {
   "cell_type": "code",
   "execution_count": null,
   "metadata": {},
   "outputs": [],
   "source": [
    "duckdb.register(\"base\", base)\n",
    "duckdb.register(\"pat_at\", pat_at)\n",
    "duckdb.register(\"rst\", rst)\n",
    "duckdb.register(\"mac\", new_mac)\n",
    "duckdb.register('adt',adt)\n",
    "duckdb.register('vit',vit)\n",
    "\n",
    "q=\"\"\"\n",
    "WITH\n",
    "    uni_event_dttm as (\n",
    "        select distinct\n",
    "            hospitalization_id,\n",
    "            event_time\n",
    "        from\n",
    "            (\n",
    "                SELECT\n",
    "                    hospitalization_id,\n",
    "                    in_dttm AS event_time\n",
    "                FROM\n",
    "                    adt\n",
    "                where\n",
    "                    in_dttm is not null\n",
    "                UNION\n",
    "                SELECT\n",
    "                    hospitalization_id,\n",
    "                    recorded_dttm AS event_time\n",
    "                FROM\n",
    "                    rst\n",
    "                where\n",
    "                    recorded_dttm is not null\n",
    "                UNION\n",
    "                SELECT\n",
    "                    hospitalization_id,\n",
    "                    recorded_dttm AS event_time\n",
    "                FROM\n",
    "                    pat_at\n",
    "                where\n",
    "                    recorded_dttm is not null\n",
    "                UNION\n",
    "                SELECT\n",
    "                    hospitalization_id,\n",
    "                    admin_dttm AS event_time\n",
    "                FROM\n",
    "                    mac\n",
    "                where\n",
    "                    admin_dttm is not null\n",
    "                UNION\n",
    "                SELECT\n",
    "                    hospitalization_id,\n",
    "                    recorded_dttm_min AS event_time\n",
    "                FROM\n",
    "                    vit\n",
    "                where\n",
    "                    recorded_dttm_min is not null\n",
    "            ) uni_time\n",
    "    )\n",
    "select distinct\n",
    "    patient_id,\n",
    "    a.hospitalization_id,\n",
    "    admission_dttm,\n",
    "    discharge_dttm,\n",
    "    age_at_admission,\n",
    "    discharge_category,\n",
    "    sex_category,\n",
    "    race_category,\n",
    "    ethnicity_category,\n",
    "    event_time\n",
    "from\n",
    "    base a\n",
    "    left join uni_event_dttm b on a.hospitalization_id = b.hospitalization_id\n",
    "\"\"\"\n",
    "wide_cohort_df = duckdb.sql(q).df()\n",
    "pc.deftime(wide_cohort_df['event_time'])"
   ]
  },
  {
   "cell_type": "markdown",
   "metadata": {},
   "source": [
    "#### pivots for assessment and mac table "
   ]
  },
  {
   "cell_type": "code",
   "execution_count": null,
   "metadata": {},
   "outputs": [],
   "source": [
    "query = \"\"\"\n",
    "WITH pas_data AS (\n",
    "    SELECT  distinct assessment_value ,\tassessment_category\t,\n",
    "    hospitalization_id || '_' || strftime(recorded_dttm, '%Y%m%d%H%M') AS combo_id\n",
    "    FROM pat_at where recorded_dttm is not null \n",
    ") \n",
    "PIVOT pas_data\n",
    "ON assessment_category\n",
    "USING first(assessment_value)\n",
    "GROUP BY combo_id\n",
    "\"\"\"\n",
    "p_pas = duckdb.sql(query).df()\n",
    "\n",
    "query = \"\"\"\n",
    "WITH mac_data AS (\n",
    "    SELECT  distinct med_dose ,\tmed_category\t,\n",
    "    hospitalization_id || '_' || strftime(admin_dttm, '%Y%m%d%H%M') AS combo_id\n",
    "    FROM mac where admin_dttm is not null \n",
    ") \n",
    "PIVOT mac_data\n",
    "ON med_category\n",
    "USING min(med_dose)\n",
    "GROUP BY combo_id\n",
    "\"\"\"\n",
    "p_mac = duckdb.sql(query).df()\n",
    "\n"
   ]
  },
  {
   "cell_type": "code",
   "execution_count": null,
   "metadata": {},
   "outputs": [],
   "source": [
    "\n",
    "query = \"\"\"\n",
    "WITH vital_data AS (\n",
    "    SELECT  distinct vital_category,\tvital_value\t,\n",
    "    hospitalization_id || '_' || strftime(recorded_dttm_min, '%Y%m%d%H%M') AS combo_id\n",
    "    FROM vit where recorded_dttm_min is not null \n",
    ")\n",
    "PIVOT vital_data\n",
    "ON vital_category\n",
    "USING first(vital_value)\n",
    "GROUP BY combo_id\n",
    "\"\"\"\n",
    "p_vitals = duckdb.sql(query).df()"
   ]
  },
  {
   "cell_type": "markdown",
   "metadata": {},
   "source": [
    "#### id-ing all unique timestamps"
   ]
  },
  {
   "cell_type": "code",
   "execution_count": null,
   "metadata": {},
   "outputs": [],
   "source": [
    "duckdb.register(\"expanded_df\", wide_cohort_df)\n",
    "duckdb.register(\"p_pas\", p_pas)\n",
    "duckdb.register(\"p_mac\", p_mac)\n",
    "\n",
    "q=\"\"\"\n",
    "  WITH\n",
    "    u_rst as (\n",
    "        select\n",
    "            *,\n",
    "            hospitalization_id || '_' || strftime (recorded_dttm, '%Y%m%d%H%M') AS combo_id\n",
    "        from\n",
    "            rst\n",
    "    ),\n",
    "    u_adt as (\n",
    "        select\n",
    "            *,\n",
    "            hospitalization_id || '_' || strftime (in_dttm, '%Y%m%d%H%M') AS combo_id\n",
    "        from\n",
    "            adt\n",
    "    ),\n",
    "    u_expanded_df as (\n",
    "        select\n",
    "            *,\n",
    "            hospitalization_id || '_' || strftime (event_time, '%Y%m%d%H%M') AS combo_id\n",
    "        from\n",
    "            expanded_df\n",
    "    )\n",
    "select\n",
    "    *\n",
    "from\n",
    "    u_expanded_df a\n",
    "    left join u_adt d on a.combo_id = d.combo_id\n",
    "    left join u_rst e on a.combo_id = e.combo_id\n",
    "    left join p_mac g on a.combo_id = g.combo_id\n",
    "    left join p_pas h on a.combo_id = h.combo_id\n",
    "    left join p_vitals i on a.combo_id=i.combo_id \n",
    "\n",
    "                    \n",
    "\"\"\"\n",
    "\n",
    "all_join_df = duckdb.sql(q).df().drop_duplicates()"
   ]
  },
  {
   "cell_type": "code",
   "execution_count": null,
   "metadata": {},
   "outputs": [],
   "source": [
    "if all_join_df.shape[0] != wide_cohort_df.shape[0]:\n",
    "    print('Data has duplicates or same timestamp issue, contact project owner')\n",
    "else:\n",
    "    del rst,mac,pat_at"
   ]
  },
  {
   "cell_type": "markdown",
   "metadata": {},
   "source": [
    "#### removing wide-supporting columns and adding forward fills"
   ]
  },
  {
   "cell_type": "code",
   "execution_count": null,
   "metadata": {},
   "outputs": [],
   "source": [
    "all_join_df.columns"
   ]
  },
  {
   "cell_type": "code",
   "execution_count": null,
   "metadata": {},
   "outputs": [],
   "source": [
    "# all_join_df.drop(columns= ['hospitalization_id_2','hospitalization_id_3','combo_id', 'combo_id_2' ,'combo_id_3','combo_id_4','combo_id_5','recorded_dttm','combo_id_6','in_dttm'], axis = 1,inplace=True)\n",
    "\n",
    "all_join_df['event_time'] = pd.to_datetime(all_join_df['event_time'])\n",
    "all_join_df['date'] = all_join_df['event_time'].dt.date\n",
    "\n",
    "all_join_df = all_join_df.sort_values(['hospitalization_id', 'event_time']).reset_index(drop=True)\n",
    "\n",
    "# Assign day numbers to each 'hospitalization_id'\n",
    "all_join_df['day_number'] = all_join_df.groupby('hospitalization_id')['date'].rank(method='dense').astype(int)\n",
    "\n",
    "# Create the combo_key by combining 'hospitalization_id' and 'day_number'\n",
    "all_join_df['hosp_id_day_key'] = all_join_df['hospitalization_id'].astype(str) + '_day_' + all_join_df['day_number'].astype(str)"
   ]
  },
  {
   "cell_type": "code",
   "execution_count": null,
   "metadata": {},
   "outputs": [],
   "source": [
    "columns_to_check = ['sbt_delivery_pass_fail','sbt_screen_pass_fail','sat_delivery_pass_fail','sat_screen_pass_fail']\n",
    "for col in columns_to_check:\n",
    "    if col not in all_join_df.columns:\n",
    "        all_join_df[col] = np.nan"
   ]
  },
  {
   "cell_type": "code",
   "execution_count": null,
   "metadata": {},
   "outputs": [],
   "source": [
    "if pc.helper['site_name']=='RUSH':\n",
    "    all_join_df[['patient_id',\n",
    " 'hospitalization_id',\n",
    " 'admission_dttm',\n",
    " 'discharge_dttm',\n",
    " 'age_at_admission',\n",
    " 'discharge_category',\n",
    " 'sex_category',\n",
    " 'race_category',\n",
    " 'ethnicity_category',\n",
    " 'event_time',\n",
    " 'location_category',\n",
    " 'hospital_id',\n",
    " 'recorded_dttm',\n",
    " 'device_category',\n",
    " 'mode_category',\n",
    " 'fio2_set',\n",
    " 'peep_set',\n",
    " 'resp_rate_set',\n",
    " 'pressure_support_set',\n",
    " 'mode_name',\n",
    " 'tube_comp_%',\n",
    " 'sbt_timepoint',\n",
    " 'cisatracurium',\n",
    " 'dobutamine',\n",
    " 'dopamine',\n",
    " 'epinephrine',\n",
    " 'fentanyl',\n",
    " 'hydromorphone',\n",
    " 'midazolam',\n",
    " 'milrinone',\n",
    " 'morphine',\n",
    " 'norepinephrine',\n",
    " 'phenylephrine',\n",
    " 'propofol',\n",
    " 'vasopressin',\n",
    " 'sat_delivery_pass_fail',\n",
    " 'sat_screen_pass_fail',\n",
    " 'sbt_delivery_pass_fail',\n",
    " 'sbt_screen_pass_fail',\n",
    " 'dbp',\n",
    " 'heart_rate',\n",
    " 'height_cm',\n",
    " 'map',\n",
    " 'respiratory_rate',\n",
    " 'sbp',\n",
    " 'spo2',\n",
    " 'weight_kg',\n",
    " 'date',\n",
    " 'day_number',\n",
    " 'hosp_id_day_key']].to_csv('../output/intermediate/study_cohort.csv', index=False)\n",
    "else:\n",
    "    all_join_df[['patient_id',\n",
    " 'hospitalization_id',\n",
    " 'admission_dttm',\n",
    " 'discharge_dttm',\n",
    " 'age_at_admission',\n",
    " 'discharge_category',\n",
    " 'sex_category',\n",
    " 'race_category',\n",
    " 'ethnicity_category',\n",
    " 'event_time',\n",
    " 'location_category',\n",
    " 'hospital_id',\n",
    " 'recorded_dttm',\n",
    " 'device_category',\n",
    " 'mode_category',\n",
    " 'fio2_set',\n",
    " 'peep_set',\n",
    " 'resp_rate_set',\n",
    " 'pressure_support_set',\n",
    " 'mode_name',\n",
    " 'cisatracurium',\n",
    " 'dobutamine',\n",
    " 'dopamine',\n",
    " 'epinephrine',\n",
    " 'fentanyl',\n",
    " 'hydromorphone',\n",
    " 'midazolam',\n",
    " 'milrinone',\n",
    " 'morphine',\n",
    " 'norepinephrine',\n",
    " 'phenylephrine',\n",
    " 'propofol',\n",
    " 'vasopressin',\n",
    " 'sat_delivery_pass_fail',\n",
    " 'sat_screen_pass_fail',\n",
    " 'sbt_delivery_pass_fail',\n",
    " 'sbt_screen_pass_fail',\n",
    " 'dbp',\n",
    " 'heart_rate',\n",
    " 'height_cm',\n",
    " 'map',\n",
    " 'respiratory_rate',\n",
    " 'sbp',\n",
    " 'spo2',\n",
    " 'weight_kg',\n",
    " 'date',\n",
    " 'day_number',\n",
    " 'hosp_id_day_key']].to_csv('../output/intermediate/study_cohort.csv', index=False)"
   ]
  }
 ],
 "metadata": {
  "kernelspec": {
   "display_name": ".SBT",
   "language": "python",
   "name": "python3"
  },
  "language_info": {
   "codemirror_mode": {
    "name": "ipython",
    "version": 3
   },
   "file_extension": ".py",
   "mimetype": "text/x-python",
   "name": "python",
   "nbconvert_exporter": "python",
   "pygments_lexer": "ipython3",
   "version": "3.11.5"
  }
 },
 "nbformat": 4,
 "nbformat_minor": 2
}
