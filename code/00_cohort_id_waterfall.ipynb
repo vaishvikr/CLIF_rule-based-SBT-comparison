{
 "cells": [
  {
   "cell_type": "code",
   "execution_count": 46,
   "metadata": {},
   "outputs": [],
   "source": [
    "import pandas as pd\n",
    "import os\n",
    "from tqdm import tqdm\n",
    "import numpy as np\n",
    "import pytz\n",
    "import duckdb\n",
    "import pyCLIF as pc\n",
    "import warnings\n",
    "warnings.filterwarnings(\"ignore\")"
   ]
  },
  {
   "cell_type": "markdown",
   "metadata": {},
   "source": [
    "## Base Population"
   ]
  },
  {
   "cell_type": "markdown",
   "metadata": {},
   "source": [
    "#### ADT"
   ]
  },
  {
   "cell_type": "code",
   "execution_count": 2,
   "metadata": {},
   "outputs": [
    {
     "name": "stdout",
     "output_type": "stream",
     "text": [
      "Data loaded successfully from C:/Users/vchaudha/Downloads/rush_parquet/clif_adt.parquet\n",
      "WARNING: in_dttm: Naive datetime, NOT converting. Assuming it's in your LOCAL ZONE. Please check ETL!\n",
      "in_dttm: null count = 0\n",
      "WARNING: out_dttm: Naive datetime, NOT converting. Assuming it's in your LOCAL ZONE. Please check ETL!\n",
      "out_dttm: null count = 0\n",
      "Count with hours and minutes: 1135203\n",
      "Count without hours and minutes: 0\n"
     ]
    },
    {
     "data": {
      "application/vnd.microsoft.datawrangler.viewer.v0+json": {
       "columns": [
        {
         "name": "index",
         "rawType": "int64",
         "type": "integer"
        },
        {
         "name": "hospitalization_id",
         "rawType": "object",
         "type": "string"
        },
        {
         "name": "event_type",
         "rawType": "object",
         "type": "string"
        },
        {
         "name": "location_name",
         "rawType": "object",
         "type": "string"
        },
        {
         "name": "in_dttm",
         "rawType": "datetime64[ns]",
         "type": "datetime"
        },
        {
         "name": "out_dttm",
         "rawType": "datetime64[ns, US/Central]",
         "type": "unknown"
        },
        {
         "name": "location_category",
         "rawType": "object",
         "type": "string"
        },
        {
         "name": "hospital_id",
         "rawType": "object",
         "type": "string"
        }
       ],
       "conversionMethod": "pd.DataFrame",
       "ref": "15a2eac9-81df-4fb6-9d52-59619d4e06e4",
       "rows": [
        [
         "0",
         "100113836932",
         "Admission",
         "Rush Univeristy Antepartum Postpartum",
         "2018-05-03 22:34:00",
         "2018-05-04 18:37:00-05:00",
         "ward",
         "RUMC"
        ],
        [
         "1",
         "100113836932",
         "Transfer In",
         "Labor & Delivery",
         "2018-05-04 18:37:00",
         "2018-05-05 01:59:00-05:00",
         "l&d",
         "RUMC"
        ],
        [
         "2",
         "100113836932",
         "Transfer In",
         "Rush Univeristy Antepartum Postpartum",
         "2018-05-05 01:59:00",
         "2018-05-06 12:20:00-05:00",
         "ward",
         "RUMC"
        ],
        [
         "3",
         "100113836932",
         "Discharge",
         "Rush Univeristy Antepartum Postpartum",
         "2018-05-06 12:20:00",
         "1900-01-01 00:00:00-05:51",
         "ward",
         "RUMC"
        ],
        [
         "4",
         "100125123564",
         "Transfer In",
         "Labor & Delivery",
         "2018-04-26 23:01:00",
         "2018-04-26 23:25:00-05:00",
         "l&d",
         "RUMC"
        ]
       ],
       "shape": {
        "columns": 7,
        "rows": 5
       }
      },
      "text/html": [
       "<div>\n",
       "<style scoped>\n",
       "    .dataframe tbody tr th:only-of-type {\n",
       "        vertical-align: middle;\n",
       "    }\n",
       "\n",
       "    .dataframe tbody tr th {\n",
       "        vertical-align: top;\n",
       "    }\n",
       "\n",
       "    .dataframe thead th {\n",
       "        text-align: right;\n",
       "    }\n",
       "</style>\n",
       "<table border=\"1\" class=\"dataframe\">\n",
       "  <thead>\n",
       "    <tr style=\"text-align: right;\">\n",
       "      <th></th>\n",
       "      <th>hospitalization_id</th>\n",
       "      <th>event_type</th>\n",
       "      <th>location_name</th>\n",
       "      <th>in_dttm</th>\n",
       "      <th>out_dttm</th>\n",
       "      <th>location_category</th>\n",
       "      <th>hospital_id</th>\n",
       "    </tr>\n",
       "  </thead>\n",
       "  <tbody>\n",
       "    <tr>\n",
       "      <th>0</th>\n",
       "      <td>100113836932</td>\n",
       "      <td>Admission</td>\n",
       "      <td>Rush Univeristy Antepartum Postpartum</td>\n",
       "      <td>2018-05-03 22:34:00</td>\n",
       "      <td>2018-05-04 18:37:00-05:00</td>\n",
       "      <td>ward</td>\n",
       "      <td>RUMC</td>\n",
       "    </tr>\n",
       "    <tr>\n",
       "      <th>1</th>\n",
       "      <td>100113836932</td>\n",
       "      <td>Transfer In</td>\n",
       "      <td>Labor &amp; Delivery</td>\n",
       "      <td>2018-05-04 18:37:00</td>\n",
       "      <td>2018-05-05 01:59:00-05:00</td>\n",
       "      <td>l&amp;d</td>\n",
       "      <td>RUMC</td>\n",
       "    </tr>\n",
       "    <tr>\n",
       "      <th>2</th>\n",
       "      <td>100113836932</td>\n",
       "      <td>Transfer In</td>\n",
       "      <td>Rush Univeristy Antepartum Postpartum</td>\n",
       "      <td>2018-05-05 01:59:00</td>\n",
       "      <td>2018-05-06 12:20:00-05:00</td>\n",
       "      <td>ward</td>\n",
       "      <td>RUMC</td>\n",
       "    </tr>\n",
       "    <tr>\n",
       "      <th>3</th>\n",
       "      <td>100113836932</td>\n",
       "      <td>Discharge</td>\n",
       "      <td>Rush Univeristy Antepartum Postpartum</td>\n",
       "      <td>2018-05-06 12:20:00</td>\n",
       "      <td>1900-01-01 00:00:00-05:51</td>\n",
       "      <td>ward</td>\n",
       "      <td>RUMC</td>\n",
       "    </tr>\n",
       "    <tr>\n",
       "      <th>4</th>\n",
       "      <td>100125123564</td>\n",
       "      <td>Transfer In</td>\n",
       "      <td>Labor &amp; Delivery</td>\n",
       "      <td>2018-04-26 23:01:00</td>\n",
       "      <td>2018-04-26 23:25:00-05:00</td>\n",
       "      <td>l&amp;d</td>\n",
       "      <td>RUMC</td>\n",
       "    </tr>\n",
       "  </tbody>\n",
       "</table>\n",
       "</div>"
      ],
      "text/plain": [
       "  hospitalization_id   event_type                          location_name  \\\n",
       "0       100113836932    Admission  Rush Univeristy Antepartum Postpartum   \n",
       "1       100113836932  Transfer In                       Labor & Delivery   \n",
       "2       100113836932  Transfer In  Rush Univeristy Antepartum Postpartum   \n",
       "3       100113836932    Discharge  Rush Univeristy Antepartum Postpartum   \n",
       "4       100125123564  Transfer In                       Labor & Delivery   \n",
       "\n",
       "              in_dttm                  out_dttm location_category hospital_id  \n",
       "0 2018-05-03 22:34:00 2018-05-04 18:37:00-05:00              ward        RUMC  \n",
       "1 2018-05-04 18:37:00 2018-05-05 01:59:00-05:00               l&d        RUMC  \n",
       "2 2018-05-05 01:59:00 2018-05-06 12:20:00-05:00              ward        RUMC  \n",
       "3 2018-05-06 12:20:00 1900-01-01 00:00:00-05:51              ward        RUMC  \n",
       "4 2018-04-26 23:01:00 2018-04-26 23:25:00-05:00               l&d        RUMC  "
      ]
     },
     "execution_count": 2,
     "metadata": {},
     "output_type": "execute_result"
    }
   ],
   "source": [
    "adt = pc.load_data(\"clif_adt\")\n",
    "adt[\"hospitalization_id\"] = adt[\"hospitalization_id\"].astype(str)\n",
    "adt = pc.convert_datetime_columns_to_site_tz(adt, pc.helper[\"your_site_timezone\"])\n",
    "adt[\"in_dttm\"] = pc.getdttm(adt[\"in_dttm\"])\n",
    "pc.deftime(adt[\"in_dttm\"])\n",
    "adt.head()"
   ]
  },
  {
   "cell_type": "markdown",
   "metadata": {},
   "source": [
    "#### Hospitalization"
   ]
  },
  {
   "cell_type": "code",
   "execution_count": 3,
   "metadata": {},
   "outputs": [
    {
     "name": "stdout",
     "output_type": "stream",
     "text": [
      "Data loaded successfully from C:/Users/vchaudha/Downloads/rush_parquet/clif_hospitalization.parquet\n",
      "WARNING: admission_dttm: Naive datetime, NOT converting. Assuming it's in your LOCAL ZONE. Please check ETL!\n",
      "admission_dttm: null count = 0\n",
      "WARNING: discharge_dttm: Naive datetime, NOT converting. Assuming it's in your LOCAL ZONE. Please check ETL!\n",
      "discharge_dttm: null count = 446\n"
     ]
    },
    {
     "data": {
      "application/vnd.microsoft.datawrangler.viewer.v0+json": {
       "columns": [
        {
         "name": "index",
         "rawType": "int64",
         "type": "integer"
        },
        {
         "name": "patient_id",
         "rawType": "int64",
         "type": "integer"
        },
        {
         "name": "hospitalization_id",
         "rawType": "object",
         "type": "string"
        },
        {
         "name": "zipcode_five_digit",
         "rawType": "object",
         "type": "string"
        },
        {
         "name": "admission_dttm",
         "rawType": "datetime64[ns]",
         "type": "datetime"
        },
        {
         "name": "discharge_dttm",
         "rawType": "datetime64[ns]",
         "type": "datetime"
        },
        {
         "name": "discharge_name",
         "rawType": "object",
         "type": "string"
        },
        {
         "name": "age_at_admission",
         "rawType": "int64",
         "type": "integer"
        },
        {
         "name": "discharge_category",
         "rawType": "object",
         "type": "string"
        },
        {
         "name": "hospitalization_joined_id",
         "rawType": "object",
         "type": "string"
        },
        {
         "name": "Hosp_key_bkp",
         "rawType": "object",
         "type": "string"
        }
       ],
       "conversionMethod": "pd.DataFrame",
       "ref": "22c3ff25-b251-4191-a4c2-0748ab16e5b1",
       "rows": [
        [
         "0",
         "5282613",
         "100207673243",
         "60406",
         "2022-12-27 09:00:00",
         "2022-12-29 12:36:00",
         "Discharged to home or self care (routine discharge)",
         "48",
         "Home",
         "100207673243",
         "100207673243"
        ],
        [
         "1",
         "5100571",
         "100177118306",
         "60620",
         "2020-11-16 17:13:00",
         "2020-11-19 14:22:00",
         "Discharged to home or self care (routine discharge)",
         "72",
         "Home",
         "100177118306",
         "100177118306"
        ],
        [
         "2",
         "7355974",
         "100150644186",
         "46368",
         "2018-03-16 21:49:00",
         "2018-03-21 18:23:00",
         "Discharged/transd to home (care by home health service organization)",
         "65",
         "Home",
         "100150644186",
         "100150644186"
        ],
        [
         "3",
         "7623068",
         "100150682826",
         "60622",
         "2018-03-19 19:45:00",
         "2018-03-23 14:21:00",
         "Discharged to home or self care (routine discharge)",
         "25",
         "Home",
         "100150682826",
         "100150682826"
        ],
        [
         "4",
         "8203571",
         "100216198515",
         "60586",
         "2023-07-19 20:56:00",
         "2023-07-22 13:28:00",
         "Discharged to home or self care (routine discharge)",
         "38",
         "Home",
         "100216198515",
         "100216198515"
        ]
       ],
       "shape": {
        "columns": 10,
        "rows": 5
       }
      },
      "text/html": [
       "<div>\n",
       "<style scoped>\n",
       "    .dataframe tbody tr th:only-of-type {\n",
       "        vertical-align: middle;\n",
       "    }\n",
       "\n",
       "    .dataframe tbody tr th {\n",
       "        vertical-align: top;\n",
       "    }\n",
       "\n",
       "    .dataframe thead th {\n",
       "        text-align: right;\n",
       "    }\n",
       "</style>\n",
       "<table border=\"1\" class=\"dataframe\">\n",
       "  <thead>\n",
       "    <tr style=\"text-align: right;\">\n",
       "      <th></th>\n",
       "      <th>patient_id</th>\n",
       "      <th>hospitalization_id</th>\n",
       "      <th>zipcode_five_digit</th>\n",
       "      <th>admission_dttm</th>\n",
       "      <th>discharge_dttm</th>\n",
       "      <th>discharge_name</th>\n",
       "      <th>age_at_admission</th>\n",
       "      <th>discharge_category</th>\n",
       "      <th>hospitalization_joined_id</th>\n",
       "      <th>Hosp_key_bkp</th>\n",
       "    </tr>\n",
       "  </thead>\n",
       "  <tbody>\n",
       "    <tr>\n",
       "      <th>0</th>\n",
       "      <td>5282613</td>\n",
       "      <td>100207673243</td>\n",
       "      <td>60406</td>\n",
       "      <td>2022-12-27 09:00:00</td>\n",
       "      <td>2022-12-29 12:36:00</td>\n",
       "      <td>Discharged to home or self care (routine disch...</td>\n",
       "      <td>48</td>\n",
       "      <td>Home</td>\n",
       "      <td>100207673243</td>\n",
       "      <td>100207673243</td>\n",
       "    </tr>\n",
       "    <tr>\n",
       "      <th>1</th>\n",
       "      <td>5100571</td>\n",
       "      <td>100177118306</td>\n",
       "      <td>60620</td>\n",
       "      <td>2020-11-16 17:13:00</td>\n",
       "      <td>2020-11-19 14:22:00</td>\n",
       "      <td>Discharged to home or self care (routine disch...</td>\n",
       "      <td>72</td>\n",
       "      <td>Home</td>\n",
       "      <td>100177118306</td>\n",
       "      <td>100177118306</td>\n",
       "    </tr>\n",
       "    <tr>\n",
       "      <th>2</th>\n",
       "      <td>7355974</td>\n",
       "      <td>100150644186</td>\n",
       "      <td>46368</td>\n",
       "      <td>2018-03-16 21:49:00</td>\n",
       "      <td>2018-03-21 18:23:00</td>\n",
       "      <td>Discharged/transd to home (care by home health...</td>\n",
       "      <td>65</td>\n",
       "      <td>Home</td>\n",
       "      <td>100150644186</td>\n",
       "      <td>100150644186</td>\n",
       "    </tr>\n",
       "    <tr>\n",
       "      <th>3</th>\n",
       "      <td>7623068</td>\n",
       "      <td>100150682826</td>\n",
       "      <td>60622</td>\n",
       "      <td>2018-03-19 19:45:00</td>\n",
       "      <td>2018-03-23 14:21:00</td>\n",
       "      <td>Discharged to home or self care (routine disch...</td>\n",
       "      <td>25</td>\n",
       "      <td>Home</td>\n",
       "      <td>100150682826</td>\n",
       "      <td>100150682826</td>\n",
       "    </tr>\n",
       "    <tr>\n",
       "      <th>4</th>\n",
       "      <td>8203571</td>\n",
       "      <td>100216198515</td>\n",
       "      <td>60586</td>\n",
       "      <td>2023-07-19 20:56:00</td>\n",
       "      <td>2023-07-22 13:28:00</td>\n",
       "      <td>Discharged to home or self care (routine disch...</td>\n",
       "      <td>38</td>\n",
       "      <td>Home</td>\n",
       "      <td>100216198515</td>\n",
       "      <td>100216198515</td>\n",
       "    </tr>\n",
       "  </tbody>\n",
       "</table>\n",
       "</div>"
      ],
      "text/plain": [
       "   patient_id hospitalization_id zipcode_five_digit      admission_dttm  \\\n",
       "0     5282613       100207673243              60406 2022-12-27 09:00:00   \n",
       "1     5100571       100177118306              60620 2020-11-16 17:13:00   \n",
       "2     7355974       100150644186              46368 2018-03-16 21:49:00   \n",
       "3     7623068       100150682826              60622 2018-03-19 19:45:00   \n",
       "4     8203571       100216198515              60586 2023-07-19 20:56:00   \n",
       "\n",
       "       discharge_dttm                                     discharge_name  \\\n",
       "0 2022-12-29 12:36:00  Discharged to home or self care (routine disch...   \n",
       "1 2020-11-19 14:22:00  Discharged to home or self care (routine disch...   \n",
       "2 2018-03-21 18:23:00  Discharged/transd to home (care by home health...   \n",
       "3 2018-03-23 14:21:00  Discharged to home or self care (routine disch...   \n",
       "4 2023-07-22 13:28:00  Discharged to home or self care (routine disch...   \n",
       "\n",
       "   age_at_admission discharge_category hospitalization_joined_id  Hosp_key_bkp  \n",
       "0                48               Home              100207673243  100207673243  \n",
       "1                72               Home              100177118306  100177118306  \n",
       "2                65               Home              100150644186  100150644186  \n",
       "3                25               Home              100150682826  100150682826  \n",
       "4                38               Home              100216198515  100216198515  "
      ]
     },
     "execution_count": 3,
     "metadata": {},
     "output_type": "execute_result"
    }
   ],
   "source": [
    "hosp = pc.load_data(\"clif_hospitalization\")\n",
    "hosp[\"hospitalization_id\"] = hosp[\"hospitalization_id\"].astype(str)\n",
    "if \"hospitalization_joined_id\" not in hosp.columns:\n",
    "    hosp[\"hospitalization_joined_id\"] = hosp[\"hospitalization_id\"]\n",
    "\n",
    "hosp[\"hospitalization_joined_id\"] = hosp[\"hospitalization_joined_id\"].astype(str)\n",
    "\n",
    "hosp = pc.convert_datetime_columns_to_site_tz(hosp, pc.helper[\"your_site_timezone\"])\n",
    "hosp[\"admission_dttm\"] = pc.getdttm(hosp[\"admission_dttm\"])\n",
    "hosp[\"discharge_dttm\"] = pc.getdttm(hosp[\"discharge_dttm\"])\n",
    "\n",
    "adt[\"Hosp_key_bkp\"] = adt[\"hospitalization_id\"]\n",
    "hosp[\"Hosp_key_bkp\"] = hosp[\"hospitalization_id\"]\n",
    "\n",
    "hosp.head()"
   ]
  },
  {
   "cell_type": "markdown",
   "metadata": {},
   "source": [
    "#### Hospitalization Stitching"
   ]
  },
  {
   "cell_type": "code",
   "execution_count": 4,
   "metadata": {},
   "outputs": [],
   "source": [
    "eblock = pc.stitch_encounters(hosp, adt)\n",
    "\n",
    "# Create mapping dictionary\n",
    "hospitalization_to_block = {\n",
    "    hospital_id: block\n",
    "    for block, hospital_list in zip(\n",
    "        eblock[\"encounter_block\"].astype(str), eblock[\"list_hospitalization_id\"]\n",
    "    )\n",
    "    for hospital_id in hospital_list\n",
    "}"
   ]
  },
  {
   "cell_type": "code",
   "execution_count": 5,
   "metadata": {},
   "outputs": [],
   "source": [
    "# Convert to DataFrame\n",
    "hospitalization_to_block_df = pd.DataFrame(\n",
    "    list(hospitalization_to_block.items()),\n",
    "    columns=[\"hospitalization_id\", \"encounter_block\"],\n",
    ")\n",
    "hospitalization_to_block_df.to_csv(\n",
    "    \"../output/intermediate/hospitalization_to_block_df.csv\", index=False\n",
    ")"
   ]
  },
  {
   "cell_type": "code",
   "execution_count": 6,
   "metadata": {},
   "outputs": [],
   "source": [
    "agg_rules_hosp = {\n",
    "    \"patient_id\": \"first\",  # Assuming patient_id is consistent across duplicates\n",
    "    \"zipcode_five_digit\": \"first\",  # Retain first occurrence\n",
    "    \"admission_dttm\": \"min\",  # Earliest admission date\n",
    "    \"discharge_dttm\": \"max\",  # Latest discharge date\n",
    "    \"discharge_name\": \"last\",  # Prioritize first value (change as per logic)\n",
    "    \"age_at_admission\": \"mean\",  # Take average if different\n",
    "    \"discharge_category\": \"last\",  # Keep the first occurrence\n",
    "    \"hospitalization_joined_id\": lambda x: \", \".join(\n",
    "        x.unique()\n",
    "    ),  # Retain first occurrence\n",
    "    \"Hosp_key_bkp\": lambda x: \", \".join(\n",
    "        x.unique()\n",
    "    ),  # Backup key, take first occurrence\n",
    "}\n",
    "\n",
    "hosp[\"hospitalization_id\"] = hosp[\"hospitalization_id\"].map(hospitalization_to_block)\n",
    "hosp[\"hospitalization_id\"] = hosp[\"hospitalization_id\"].astype(str)\n",
    "hosp = hosp.sort_values(by=[\"hospitalization_id\", \"admission_dttm\"])\n",
    "\n",
    "hosp = hosp.groupby(\"hospitalization_id\").agg(agg_rules_hosp).reset_index()"
   ]
  },
  {
   "cell_type": "code",
   "execution_count": 7,
   "metadata": {},
   "outputs": [],
   "source": [
    "adt = adt[[\"hospitalization_id\", \"in_dttm\", \"location_category\", \"hospital_id\"]]\n",
    "adt[\"hospitalization_id\"] = (\n",
    "    adt[\"hospitalization_id\"].map(hospitalization_to_block).astype(str)\n",
    ")\n",
    "adt = adt.sort_values(by=[\"hospitalization_id\", \"in_dttm\"])"
   ]
  },
  {
   "cell_type": "markdown",
   "metadata": {},
   "source": [
    "#### Respiratory Support"
   ]
  },
  {
   "cell_type": "code",
   "execution_count": 8,
   "metadata": {},
   "outputs": [
    {
     "data": {
      "application/vnd.jupyter.widget-view+json": {
       "model_id": "f436c5c0894549cd93053936706df192",
       "version_major": 2,
       "version_minor": 0
      },
      "text/plain": [
       "FloatProgress(value=0.0, layout=Layout(width='auto'), style=ProgressStyle(bar_color='black'))"
      ]
     },
     "metadata": {},
     "output_type": "display_data"
    },
    {
     "name": "stdout",
     "output_type": "stream",
     "text": [
      "Data loaded successfully from C:/Users/vchaudha/Downloads/rush_parquet/clif_respiratory_support.parquet\n"
     ]
    }
   ],
   "source": [
    "rst = pc.load_data(\"clif_respiratory_support\")\n",
    "rst[\"hospitalization_id\"] = rst[\"hospitalization_id\"].astype(str)\n",
    "rst[\"hospitalization_id\"] = (\n",
    "    rst[\"hospitalization_id\"]\n",
    "    .map(hospitalization_to_block)\n",
    "    .fillna(-1)\n",
    "    .astype(int)\n",
    "    .astype(str)\n",
    ")\n",
    "rst = rst[\n",
    "    ~rst[\"hospitalization_id\"].isin(\n",
    "        rst[rst[\"tracheostomy\"] == 1].hospitalization_id.unique()\n",
    "    )\n",
    "]  # exclude trach pats"
   ]
  },
  {
   "cell_type": "code",
   "execution_count": 9,
   "metadata": {},
   "outputs": [
    {
     "name": "stdout",
     "output_type": "stream",
     "text": [
      "WARNING: recorded_dttm: Naive datetime, NOT converting. Assuming it's in your LOCAL ZONE. Please check ETL!\n",
      "recorded_dttm: null count = 0\n"
     ]
    }
   ],
   "source": [
    "rst = pc.convert_datetime_columns_to_site_tz(rst, pc.helper[\"your_site_timezone\"])"
   ]
  },
  {
   "cell_type": "markdown",
   "metadata": {},
   "source": [
    "#### Patient"
   ]
  },
  {
   "cell_type": "code",
   "execution_count": 10,
   "metadata": {},
   "outputs": [
    {
     "name": "stdout",
     "output_type": "stream",
     "text": [
      "Data loaded successfully from C:/Users/vchaudha/Downloads/rush_parquet/clif_patient.parquet\n",
      "WARNING: death_dttm: Naive datetime, NOT converting. Assuming it's in your LOCAL ZONE. Please check ETL!\n",
      "death_dttm: null count = 109965\n"
     ]
    }
   ],
   "source": [
    "pat = pc.load_data(\"clif_patient\")\n",
    "pat = pc.convert_datetime_columns_to_site_tz(pat, pc.helper[\"your_site_timezone\"])"
   ]
  },
  {
   "cell_type": "markdown",
   "metadata": {},
   "source": [
    "#### Cohort Filtering"
   ]
  },
  {
   "cell_type": "code",
   "execution_count": 11,
   "metadata": {},
   "outputs": [
    {
     "name": "stdout",
     "output_type": "stream",
     "text": [
      "4176  : potential cohort count\n"
     ]
    }
   ],
   "source": [
    "imv_hosp_ids = rst[\n",
    "    rst[\"device_category\"].str.lower() == \"imv\"\n",
    "].hospitalization_id.unique()\n",
    "icu_hosp_ids = adt[\n",
    "    adt[\"location_category\"].str.lower() == \"icu\"\n",
    "].hospitalization_id.unique()\n",
    "\n",
    "icu_hosp_ids = [x for x in icu_hosp_ids if x is not None]\n",
    "imv_hosp_ids = [x for x in imv_hosp_ids if x is not None]\n",
    "\n",
    "hosp = hosp[\n",
    "    (hosp[\"admission_dttm\"].dt.year >= 2022)\n",
    "    & (hosp[\"admission_dttm\"].dt.year <= 2024)\n",
    "    & (hosp[\"discharge_dttm\"].dt.year <= 2024)\n",
    "    & (hosp[\"hospitalization_id\"].isin(np.intersect1d(imv_hosp_ids, icu_hosp_ids)))\n",
    "    & (hosp[\"age_at_admission\"] >= 18)\n",
    "    & (hosp[\"age_at_admission\"] <= 119)\n",
    "].reset_index(drop=True)\n",
    "\n",
    "required_id = hosp[\"hospitalization_id\"].unique()\n",
    "print(len(required_id), \" : potential cohort count\")\n",
    "\n",
    "base = pd.merge(hosp, pat, on=\"patient_id\", how=\"inner\")[\n",
    "    [\n",
    "        \"patient_id\",\n",
    "        \"hospitalization_id\",\n",
    "        \"admission_dttm\",\n",
    "        \"discharge_dttm\",\n",
    "        \"age_at_admission\",\n",
    "        \"discharge_category\",\n",
    "        \"sex_category\",\n",
    "        \"race_category\",\n",
    "        \"ethnicity_category\",\n",
    "        \"language_name\",\n",
    "    ]\n",
    "]\n",
    "\n",
    "base[\"admission_dttm\"] = pc.getdttm(base[\"admission_dttm\"])\n",
    "\n",
    "base.columns\n",
    "\n",
    "adt = adt[adt[\"hospitalization_id\"].isin(required_id)].reset_index(drop=True)\n",
    "rst = rst[rst[\"hospitalization_id\"].isin(required_id)].reset_index(drop=True)"
   ]
  },
  {
   "cell_type": "code",
   "execution_count": 12,
   "metadata": {},
   "outputs": [
    {
     "data": {
      "application/vnd.microsoft.datawrangler.viewer.v0+json": {
       "columns": [
        {
         "name": "index",
         "rawType": "int64",
         "type": "integer"
        },
        {
         "name": "patient_id",
         "rawType": "int64",
         "type": "integer"
        },
        {
         "name": "hospitalization_id",
         "rawType": "object",
         "type": "string"
        },
        {
         "name": "admission_dttm",
         "rawType": "datetime64[ns]",
         "type": "datetime"
        },
        {
         "name": "discharge_dttm",
         "rawType": "datetime64[ns]",
         "type": "datetime"
        },
        {
         "name": "age_at_admission",
         "rawType": "float64",
         "type": "float"
        },
        {
         "name": "discharge_category",
         "rawType": "object",
         "type": "string"
        },
        {
         "name": "sex_category",
         "rawType": "object",
         "type": "string"
        },
        {
         "name": "race_category",
         "rawType": "object",
         "type": "string"
        },
        {
         "name": "ethnicity_category",
         "rawType": "object",
         "type": "string"
        },
        {
         "name": "language_name",
         "rawType": "object",
         "type": "string"
        }
       ],
       "conversionMethod": "pd.DataFrame",
       "ref": "4b5f2e56-834a-4a0a-885a-c20cfe7e633d",
       "rows": [
        [
         "0",
         "322999",
         "10015",
         "2022-04-03 13:21:00",
         "2022-05-18 13:16:00",
         "42.0",
         "Acute Inpatient Rehab Facility",
         "Male",
         "Black or African American",
         "Non-Hispanic",
         "English"
        ],
        [
         "1",
         "6640001",
         "100201",
         "2022-12-06 07:57:00",
         "2022-12-07 10:05:00",
         "40.0",
         "Against Medical Advice (AMA)",
         "Male",
         "White",
         "Non-Hispanic",
         "English"
        ],
        [
         "2",
         "6640001",
         "100202",
         "2022-12-17 14:22:00",
         "2023-01-05 14:53:00",
         "40.0",
         "Home",
         "Male",
         "White",
         "Non-Hispanic",
         "English"
        ],
        [
         "3",
         "6640564",
         "100260",
         "2024-12-17 05:26:00",
         "2024-12-22 11:46:00",
         "50.0",
         "Home",
         "Male",
         "White",
         "Non-Hispanic",
         "English"
        ],
        [
         "4",
         "6641404",
         "100298",
         "2024-06-29 17:26:00",
         "2024-06-30 02:25:00",
         "67.0",
         "Expired",
         "Male",
         "White",
         "Hispanic",
         "English"
        ]
       ],
       "shape": {
        "columns": 10,
        "rows": 5
       }
      },
      "text/html": [
       "<div>\n",
       "<style scoped>\n",
       "    .dataframe tbody tr th:only-of-type {\n",
       "        vertical-align: middle;\n",
       "    }\n",
       "\n",
       "    .dataframe tbody tr th {\n",
       "        vertical-align: top;\n",
       "    }\n",
       "\n",
       "    .dataframe thead th {\n",
       "        text-align: right;\n",
       "    }\n",
       "</style>\n",
       "<table border=\"1\" class=\"dataframe\">\n",
       "  <thead>\n",
       "    <tr style=\"text-align: right;\">\n",
       "      <th></th>\n",
       "      <th>patient_id</th>\n",
       "      <th>hospitalization_id</th>\n",
       "      <th>admission_dttm</th>\n",
       "      <th>discharge_dttm</th>\n",
       "      <th>age_at_admission</th>\n",
       "      <th>discharge_category</th>\n",
       "      <th>sex_category</th>\n",
       "      <th>race_category</th>\n",
       "      <th>ethnicity_category</th>\n",
       "      <th>language_name</th>\n",
       "    </tr>\n",
       "  </thead>\n",
       "  <tbody>\n",
       "    <tr>\n",
       "      <th>0</th>\n",
       "      <td>322999</td>\n",
       "      <td>10015</td>\n",
       "      <td>2022-04-03 13:21:00</td>\n",
       "      <td>2022-05-18 13:16:00</td>\n",
       "      <td>42.0</td>\n",
       "      <td>Acute Inpatient Rehab Facility</td>\n",
       "      <td>Male</td>\n",
       "      <td>Black or African American</td>\n",
       "      <td>Non-Hispanic</td>\n",
       "      <td>English</td>\n",
       "    </tr>\n",
       "    <tr>\n",
       "      <th>1</th>\n",
       "      <td>6640001</td>\n",
       "      <td>100201</td>\n",
       "      <td>2022-12-06 07:57:00</td>\n",
       "      <td>2022-12-07 10:05:00</td>\n",
       "      <td>40.0</td>\n",
       "      <td>Against Medical Advice (AMA)</td>\n",
       "      <td>Male</td>\n",
       "      <td>White</td>\n",
       "      <td>Non-Hispanic</td>\n",
       "      <td>English</td>\n",
       "    </tr>\n",
       "    <tr>\n",
       "      <th>2</th>\n",
       "      <td>6640001</td>\n",
       "      <td>100202</td>\n",
       "      <td>2022-12-17 14:22:00</td>\n",
       "      <td>2023-01-05 14:53:00</td>\n",
       "      <td>40.0</td>\n",
       "      <td>Home</td>\n",
       "      <td>Male</td>\n",
       "      <td>White</td>\n",
       "      <td>Non-Hispanic</td>\n",
       "      <td>English</td>\n",
       "    </tr>\n",
       "    <tr>\n",
       "      <th>3</th>\n",
       "      <td>6640564</td>\n",
       "      <td>100260</td>\n",
       "      <td>2024-12-17 05:26:00</td>\n",
       "      <td>2024-12-22 11:46:00</td>\n",
       "      <td>50.0</td>\n",
       "      <td>Home</td>\n",
       "      <td>Male</td>\n",
       "      <td>White</td>\n",
       "      <td>Non-Hispanic</td>\n",
       "      <td>English</td>\n",
       "    </tr>\n",
       "    <tr>\n",
       "      <th>4</th>\n",
       "      <td>6641404</td>\n",
       "      <td>100298</td>\n",
       "      <td>2024-06-29 17:26:00</td>\n",
       "      <td>2024-06-30 02:25:00</td>\n",
       "      <td>67.0</td>\n",
       "      <td>Expired</td>\n",
       "      <td>Male</td>\n",
       "      <td>White</td>\n",
       "      <td>Hispanic</td>\n",
       "      <td>English</td>\n",
       "    </tr>\n",
       "  </tbody>\n",
       "</table>\n",
       "</div>"
      ],
      "text/plain": [
       "   patient_id hospitalization_id      admission_dttm      discharge_dttm  \\\n",
       "0      322999              10015 2022-04-03 13:21:00 2022-05-18 13:16:00   \n",
       "1     6640001             100201 2022-12-06 07:57:00 2022-12-07 10:05:00   \n",
       "2     6640001             100202 2022-12-17 14:22:00 2023-01-05 14:53:00   \n",
       "3     6640564             100260 2024-12-17 05:26:00 2024-12-22 11:46:00   \n",
       "4     6641404             100298 2024-06-29 17:26:00 2024-06-30 02:25:00   \n",
       "\n",
       "   age_at_admission              discharge_category sex_category  \\\n",
       "0              42.0  Acute Inpatient Rehab Facility         Male   \n",
       "1              40.0    Against Medical Advice (AMA)         Male   \n",
       "2              40.0                            Home         Male   \n",
       "3              50.0                            Home         Male   \n",
       "4              67.0                         Expired         Male   \n",
       "\n",
       "               race_category ethnicity_category language_name  \n",
       "0  Black or African American       Non-Hispanic       English  \n",
       "1                      White       Non-Hispanic       English  \n",
       "2                      White       Non-Hispanic       English  \n",
       "3                      White       Non-Hispanic       English  \n",
       "4                      White           Hispanic       English  "
      ]
     },
     "execution_count": 12,
     "metadata": {},
     "output_type": "execute_result"
    }
   ],
   "source": [
    "base.head()"
   ]
  },
  {
   "cell_type": "code",
   "execution_count": 13,
   "metadata": {},
   "outputs": [
    {
     "data": {
      "application/vnd.microsoft.datawrangler.viewer.v0+json": {
       "columns": [
        {
         "name": "index",
         "rawType": "int64",
         "type": "integer"
        },
        {
         "name": "hospitalization_id",
         "rawType": "object",
         "type": "string"
        },
        {
         "name": "recorded_dttm",
         "rawType": "datetime64[us, US/Central]",
         "type": "unknown"
        },
        {
         "name": "P/F",
         "rawType": "object",
         "type": "unknown"
        },
        {
         "name": "device_name",
         "rawType": "object",
         "type": "string"
        },
        {
         "name": "fio2_set",
         "rawType": "float64",
         "type": "float"
        },
        {
         "name": "flow_rate_set",
         "rawType": "float64",
         "type": "float"
        },
        {
         "name": "inspiratory_time_set",
         "rawType": "float64",
         "type": "float"
        },
        {
         "name": "interface",
         "rawType": "object",
         "type": "unknown"
        },
        {
         "name": "invasive_vent_off",
         "rawType": "object",
         "type": "unknown"
        },
        {
         "name": "invasive_vent_on",
         "rawType": "object",
         "type": "unknown"
        },
        {
         "name": "lpm_set",
         "rawType": "float64",
         "type": "float"
        },
        {
         "name": "mean_airway_pressure_obs",
         "rawType": "float64",
         "type": "float"
        },
        {
         "name": "minute_vent_obs",
         "rawType": "float64",
         "type": "float"
        },
        {
         "name": "mode_name",
         "rawType": "object",
         "type": "string"
        },
        {
         "name": "peak_inspiratory_pressure_obs",
         "rawType": "float64",
         "type": "float"
        },
        {
         "name": "peak_inspiratory_pressure_set",
         "rawType": "float64",
         "type": "float"
        },
        {
         "name": "peep_obs",
         "rawType": "float64",
         "type": "float"
        },
        {
         "name": "peep_set",
         "rawType": "float64",
         "type": "float"
        },
        {
         "name": "plateau_pressure_obs",
         "rawType": "float64",
         "type": "float"
        },
        {
         "name": "pressure_support_set",
         "rawType": "float64",
         "type": "float"
        },
        {
         "name": "resp_rate_obs",
         "rawType": "float64",
         "type": "float"
        },
        {
         "name": "resp_rate_set",
         "rawType": "float64",
         "type": "float"
        },
        {
         "name": "sbt_timepoint",
         "rawType": "object",
         "type": "unknown"
        },
        {
         "name": "tidal_volume_obs",
         "rawType": "float64",
         "type": "float"
        },
        {
         "name": "tidal_volume_set",
         "rawType": "float64",
         "type": "float"
        },
        {
         "name": "tube_comp_%",
         "rawType": "float64",
         "type": "float"
        },
        {
         "name": "vent_brand_name",
         "rawType": "object",
         "type": "unknown"
        },
        {
         "name": "device_category",
         "rawType": "object",
         "type": "unknown"
        },
        {
         "name": "mode_category",
         "rawType": "object",
         "type": "unknown"
        },
        {
         "name": "tracheostomy",
         "rawType": "int64",
         "type": "integer"
        },
        {
         "name": "pressure_control_set",
         "rawType": "float64",
         "type": "float"
        }
       ],
       "conversionMethod": "pd.DataFrame",
       "ref": "aefaf95e-94a8-4a50-ac06-3eaf6add77d1",
       "rows": [
        [
         "0",
         "15858",
         "2022-05-18 07:28:00-05:00",
         null,
         "nan",
         null,
         null,
         null,
         null,
         null,
         null,
         null,
         null,
         null,
         "nan",
         null,
         null,
         null,
         null,
         null,
         null,
         "16.0",
         null,
         null,
         null,
         null,
         null,
         null,
         null,
         null,
         "0",
         null
        ],
        [
         "1",
         "15858",
         "2022-05-18 17:19:00-05:00",
         null,
         "Ventilator",
         null,
         null,
         null,
         null,
         null,
         null,
         null,
         null,
         null,
         "nan",
         null,
         null,
         null,
         null,
         null,
         null,
         "16.0",
         null,
         null,
         null,
         null,
         null,
         null,
         "IMV",
         null,
         "0",
         null
        ],
        [
         "2",
         "15858",
         "2022-05-18 17:23:00-05:00",
         null,
         "nan",
         "1.0",
         null,
         "0.9",
         "Invasive",
         null,
         "Vent On",
         null,
         "12.0",
         "5.61",
         "AC/PRVC",
         "24.0",
         null,
         null,
         "8.0",
         "21.0",
         null,
         "16.0",
         "16.0",
         null,
         "345.0",
         "385.0",
         null,
         "PB 980",
         null,
         "Pressure-Regulated Volume Control",
         "0",
         null
        ],
        [
         "3",
         "15858",
         "2022-05-18 17:24:00-05:00",
         null,
         "nan",
         "0.8",
         null,
         null,
         null,
         null,
         null,
         null,
         null,
         null,
         "nan",
         null,
         null,
         null,
         null,
         null,
         null,
         null,
         null,
         null,
         null,
         null,
         null,
         null,
         null,
         null,
         "0",
         null
        ],
        [
         "4",
         "15858",
         "2022-05-18 17:25:00-05:00",
         null,
         "nan",
         "0.6",
         null,
         null,
         null,
         null,
         null,
         null,
         null,
         null,
         "nan",
         null,
         null,
         null,
         null,
         null,
         null,
         null,
         null,
         null,
         null,
         null,
         null,
         null,
         null,
         null,
         "0",
         null
        ]
       ],
       "shape": {
        "columns": 31,
        "rows": 5
       }
      },
      "text/html": [
       "<div>\n",
       "<style scoped>\n",
       "    .dataframe tbody tr th:only-of-type {\n",
       "        vertical-align: middle;\n",
       "    }\n",
       "\n",
       "    .dataframe tbody tr th {\n",
       "        vertical-align: top;\n",
       "    }\n",
       "\n",
       "    .dataframe thead th {\n",
       "        text-align: right;\n",
       "    }\n",
       "</style>\n",
       "<table border=\"1\" class=\"dataframe\">\n",
       "  <thead>\n",
       "    <tr style=\"text-align: right;\">\n",
       "      <th></th>\n",
       "      <th>hospitalization_id</th>\n",
       "      <th>recorded_dttm</th>\n",
       "      <th>P/F</th>\n",
       "      <th>device_name</th>\n",
       "      <th>fio2_set</th>\n",
       "      <th>flow_rate_set</th>\n",
       "      <th>inspiratory_time_set</th>\n",
       "      <th>interface</th>\n",
       "      <th>invasive_vent_off</th>\n",
       "      <th>invasive_vent_on</th>\n",
       "      <th>...</th>\n",
       "      <th>resp_rate_set</th>\n",
       "      <th>sbt_timepoint</th>\n",
       "      <th>tidal_volume_obs</th>\n",
       "      <th>tidal_volume_set</th>\n",
       "      <th>tube_comp_%</th>\n",
       "      <th>vent_brand_name</th>\n",
       "      <th>device_category</th>\n",
       "      <th>mode_category</th>\n",
       "      <th>tracheostomy</th>\n",
       "      <th>pressure_control_set</th>\n",
       "    </tr>\n",
       "  </thead>\n",
       "  <tbody>\n",
       "    <tr>\n",
       "      <th>0</th>\n",
       "      <td>15858</td>\n",
       "      <td>2022-05-18 07:28:00-05:00</td>\n",
       "      <td>None</td>\n",
       "      <td>nan</td>\n",
       "      <td>NaN</td>\n",
       "      <td>NaN</td>\n",
       "      <td>NaN</td>\n",
       "      <td>None</td>\n",
       "      <td>None</td>\n",
       "      <td>None</td>\n",
       "      <td>...</td>\n",
       "      <td>NaN</td>\n",
       "      <td>None</td>\n",
       "      <td>NaN</td>\n",
       "      <td>NaN</td>\n",
       "      <td>NaN</td>\n",
       "      <td>None</td>\n",
       "      <td>None</td>\n",
       "      <td>None</td>\n",
       "      <td>0</td>\n",
       "      <td>NaN</td>\n",
       "    </tr>\n",
       "    <tr>\n",
       "      <th>1</th>\n",
       "      <td>15858</td>\n",
       "      <td>2022-05-18 17:19:00-05:00</td>\n",
       "      <td>None</td>\n",
       "      <td>Ventilator</td>\n",
       "      <td>NaN</td>\n",
       "      <td>NaN</td>\n",
       "      <td>NaN</td>\n",
       "      <td>None</td>\n",
       "      <td>None</td>\n",
       "      <td>None</td>\n",
       "      <td>...</td>\n",
       "      <td>NaN</td>\n",
       "      <td>None</td>\n",
       "      <td>NaN</td>\n",
       "      <td>NaN</td>\n",
       "      <td>NaN</td>\n",
       "      <td>None</td>\n",
       "      <td>IMV</td>\n",
       "      <td>None</td>\n",
       "      <td>0</td>\n",
       "      <td>NaN</td>\n",
       "    </tr>\n",
       "    <tr>\n",
       "      <th>2</th>\n",
       "      <td>15858</td>\n",
       "      <td>2022-05-18 17:23:00-05:00</td>\n",
       "      <td>None</td>\n",
       "      <td>nan</td>\n",
       "      <td>1.0</td>\n",
       "      <td>NaN</td>\n",
       "      <td>0.9</td>\n",
       "      <td>Invasive</td>\n",
       "      <td>None</td>\n",
       "      <td>Vent On</td>\n",
       "      <td>...</td>\n",
       "      <td>16.0</td>\n",
       "      <td>None</td>\n",
       "      <td>345.0</td>\n",
       "      <td>385.0</td>\n",
       "      <td>NaN</td>\n",
       "      <td>PB 980</td>\n",
       "      <td>None</td>\n",
       "      <td>Pressure-Regulated Volume Control</td>\n",
       "      <td>0</td>\n",
       "      <td>NaN</td>\n",
       "    </tr>\n",
       "    <tr>\n",
       "      <th>3</th>\n",
       "      <td>15858</td>\n",
       "      <td>2022-05-18 17:24:00-05:00</td>\n",
       "      <td>None</td>\n",
       "      <td>nan</td>\n",
       "      <td>0.8</td>\n",
       "      <td>NaN</td>\n",
       "      <td>NaN</td>\n",
       "      <td>None</td>\n",
       "      <td>None</td>\n",
       "      <td>None</td>\n",
       "      <td>...</td>\n",
       "      <td>NaN</td>\n",
       "      <td>None</td>\n",
       "      <td>NaN</td>\n",
       "      <td>NaN</td>\n",
       "      <td>NaN</td>\n",
       "      <td>None</td>\n",
       "      <td>None</td>\n",
       "      <td>None</td>\n",
       "      <td>0</td>\n",
       "      <td>NaN</td>\n",
       "    </tr>\n",
       "    <tr>\n",
       "      <th>4</th>\n",
       "      <td>15858</td>\n",
       "      <td>2022-05-18 17:25:00-05:00</td>\n",
       "      <td>None</td>\n",
       "      <td>nan</td>\n",
       "      <td>0.6</td>\n",
       "      <td>NaN</td>\n",
       "      <td>NaN</td>\n",
       "      <td>None</td>\n",
       "      <td>None</td>\n",
       "      <td>None</td>\n",
       "      <td>...</td>\n",
       "      <td>NaN</td>\n",
       "      <td>None</td>\n",
       "      <td>NaN</td>\n",
       "      <td>NaN</td>\n",
       "      <td>NaN</td>\n",
       "      <td>None</td>\n",
       "      <td>None</td>\n",
       "      <td>None</td>\n",
       "      <td>0</td>\n",
       "      <td>NaN</td>\n",
       "    </tr>\n",
       "  </tbody>\n",
       "</table>\n",
       "<p>5 rows × 31 columns</p>\n",
       "</div>"
      ],
      "text/plain": [
       "  hospitalization_id             recorded_dttm   P/F device_name  fio2_set  \\\n",
       "0              15858 2022-05-18 07:28:00-05:00  None         nan       NaN   \n",
       "1              15858 2022-05-18 17:19:00-05:00  None  Ventilator       NaN   \n",
       "2              15858 2022-05-18 17:23:00-05:00  None         nan       1.0   \n",
       "3              15858 2022-05-18 17:24:00-05:00  None         nan       0.8   \n",
       "4              15858 2022-05-18 17:25:00-05:00  None         nan       0.6   \n",
       "\n",
       "   flow_rate_set  inspiratory_time_set interface invasive_vent_off  \\\n",
       "0            NaN                   NaN      None              None   \n",
       "1            NaN                   NaN      None              None   \n",
       "2            NaN                   0.9  Invasive              None   \n",
       "3            NaN                   NaN      None              None   \n",
       "4            NaN                   NaN      None              None   \n",
       "\n",
       "  invasive_vent_on  ...  resp_rate_set  sbt_timepoint  tidal_volume_obs  \\\n",
       "0             None  ...            NaN           None               NaN   \n",
       "1             None  ...            NaN           None               NaN   \n",
       "2          Vent On  ...           16.0           None             345.0   \n",
       "3             None  ...            NaN           None               NaN   \n",
       "4             None  ...            NaN           None               NaN   \n",
       "\n",
       "  tidal_volume_set  tube_comp_%  vent_brand_name  device_category  \\\n",
       "0              NaN          NaN             None             None   \n",
       "1              NaN          NaN             None              IMV   \n",
       "2            385.0          NaN           PB 980             None   \n",
       "3              NaN          NaN             None             None   \n",
       "4              NaN          NaN             None             None   \n",
       "\n",
       "                       mode_category  tracheostomy  pressure_control_set  \n",
       "0                               None             0                   NaN  \n",
       "1                               None             0                   NaN  \n",
       "2  Pressure-Regulated Volume Control             0                   NaN  \n",
       "3                               None             0                   NaN  \n",
       "4                               None             0                   NaN  \n",
       "\n",
       "[5 rows x 31 columns]"
      ]
     },
     "execution_count": 13,
     "metadata": {},
     "output_type": "execute_result"
    }
   ],
   "source": [
    "rst.head()"
   ]
  },
  {
   "cell_type": "markdown",
   "metadata": {},
   "source": [
    "#### Water Fall Start"
   ]
  },
  {
   "cell_type": "code",
   "execution_count": 14,
   "metadata": {},
   "outputs": [
    {
     "name": "stdout",
     "output_type": "stream",
     "text": [
      "✦ Phase 0 – initialise & create hourly scaffold\n",
      "✦ Phase 1 – heuristic inference of device / mode\n",
      "✦ Phase 2 – build device / mode hierarchical IDs\n",
      "✦ Phase 3 – numeric down/up-fill inside mode_name_id blocks\n",
      "✦ Phase 4 – final deduplication & ordering\n",
      "✅ Respiratory-support waterfall complete.\n"
     ]
    },
    {
     "data": {
      "application/vnd.microsoft.datawrangler.viewer.v0+json": {
       "columns": [
        {
         "name": "index",
         "rawType": "int64",
         "type": "integer"
        },
        {
         "name": "hospitalization_id",
         "rawType": "object",
         "type": "string"
        },
        {
         "name": "recorded_dttm",
         "rawType": "datetime64[ns, UTC]",
         "type": "unknown"
        },
        {
         "name": "P/F",
         "rawType": "object",
         "type": "unknown"
        },
        {
         "name": "device_name",
         "rawType": "object",
         "type": "string"
        },
        {
         "name": "fio2_set",
         "rawType": "float64",
         "type": "float"
        },
        {
         "name": "flow_rate_set",
         "rawType": "float64",
         "type": "float"
        },
        {
         "name": "inspiratory_time_set",
         "rawType": "float64",
         "type": "float"
        },
        {
         "name": "interface",
         "rawType": "object",
         "type": "unknown"
        },
        {
         "name": "invasive_vent_off",
         "rawType": "object",
         "type": "unknown"
        },
        {
         "name": "invasive_vent_on",
         "rawType": "object",
         "type": "unknown"
        },
        {
         "name": "lpm_set",
         "rawType": "float64",
         "type": "float"
        },
        {
         "name": "mean_airway_pressure_obs",
         "rawType": "float64",
         "type": "float"
        },
        {
         "name": "minute_vent_obs",
         "rawType": "float64",
         "type": "float"
        },
        {
         "name": "mode_name",
         "rawType": "object",
         "type": "string"
        },
        {
         "name": "peak_inspiratory_pressure_obs",
         "rawType": "float64",
         "type": "float"
        },
        {
         "name": "peak_inspiratory_pressure_set",
         "rawType": "float64",
         "type": "float"
        },
        {
         "name": "peep_obs",
         "rawType": "float64",
         "type": "float"
        },
        {
         "name": "peep_set",
         "rawType": "float64",
         "type": "float"
        },
        {
         "name": "plateau_pressure_obs",
         "rawType": "float64",
         "type": "float"
        },
        {
         "name": "pressure_support_set",
         "rawType": "float64",
         "type": "float"
        },
        {
         "name": "resp_rate_obs",
         "rawType": "float64",
         "type": "float"
        },
        {
         "name": "resp_rate_set",
         "rawType": "float64",
         "type": "float"
        },
        {
         "name": "sbt_timepoint",
         "rawType": "object",
         "type": "unknown"
        },
        {
         "name": "tidal_volume_obs",
         "rawType": "float64",
         "type": "float"
        },
        {
         "name": "tidal_volume_set",
         "rawType": "float64",
         "type": "float"
        },
        {
         "name": "tube_comp_%",
         "rawType": "float64",
         "type": "float"
        },
        {
         "name": "vent_brand_name",
         "rawType": "object",
         "type": "unknown"
        },
        {
         "name": "device_category",
         "rawType": "object",
         "type": "unknown"
        },
        {
         "name": "mode_category",
         "rawType": "object",
         "type": "unknown"
        },
        {
         "name": "tracheostomy",
         "rawType": "float64",
         "type": "float"
        },
        {
         "name": "pressure_control_set",
         "rawType": "float64",
         "type": "float"
        },
        {
         "name": "recorded_date",
         "rawType": "object",
         "type": "unknown"
        },
        {
         "name": "recorded_hour",
         "rawType": "int32",
         "type": "integer"
        },
        {
         "name": "device_cat_id",
         "rawType": "int32",
         "type": "integer"
        },
        {
         "name": "device_id",
         "rawType": "int32",
         "type": "integer"
        },
        {
         "name": "mode_cat_id",
         "rawType": "int32",
         "type": "integer"
        },
        {
         "name": "mode_name_id",
         "rawType": "int32",
         "type": "integer"
        }
       ],
       "conversionMethod": "pd.DataFrame",
       "ref": "b0c4171d-2587-4e2a-bd46-d8256f4e3ad1",
       "rows": [
        [
         "0",
         "10015",
         "2022-04-04 12:45:00+00:00",
         null,
         "nan",
         null,
         null,
         null,
         null,
         null,
         null,
         "3.0",
         null,
         null,
         "nan",
         null,
         null,
         null,
         null,
         null,
         null,
         "19.0",
         null,
         null,
         null,
         null,
         null,
         null,
         null,
         null,
         "0.0",
         null,
         "2022-04-04",
         "12",
         "1",
         "1",
         "1",
         "1"
        ],
        [
         "1",
         "10015",
         "2022-04-04 14:00:00+00:00",
         null,
         "nan",
         null,
         null,
         null,
         null,
         null,
         null,
         "3.0",
         null,
         null,
         "nan",
         null,
         null,
         null,
         null,
         null,
         null,
         "18.0",
         null,
         null,
         null,
         null,
         null,
         null,
         null,
         null,
         "0.0",
         null,
         "2022-04-04",
         "14",
         "1",
         "1",
         "1",
         "1"
        ],
        [
         "2",
         "10015",
         "2022-04-04 16:15:00+00:00",
         null,
         "nan",
         null,
         null,
         null,
         null,
         null,
         null,
         "3.0",
         null,
         null,
         "nan",
         null,
         null,
         null,
         null,
         null,
         null,
         "17.0",
         null,
         null,
         null,
         null,
         null,
         null,
         null,
         null,
         "0.0",
         null,
         "2022-04-04",
         "16",
         "1",
         "1",
         "1",
         "1"
        ],
        [
         "3",
         "10015",
         "2022-04-04 21:00:00+00:00",
         null,
         "nan",
         null,
         null,
         null,
         null,
         null,
         null,
         "3.0",
         null,
         null,
         "nan",
         null,
         null,
         null,
         null,
         null,
         null,
         "17.0",
         null,
         null,
         null,
         null,
         null,
         null,
         null,
         null,
         "0.0",
         null,
         "2022-04-04",
         "21",
         "1",
         "1",
         "1",
         "1"
        ],
        [
         "4",
         "10015",
         "2022-04-05 00:45:00+00:00",
         null,
         "nan",
         null,
         null,
         null,
         null,
         null,
         null,
         "3.0",
         null,
         null,
         "nan",
         null,
         null,
         null,
         null,
         null,
         null,
         "18.0",
         null,
         null,
         null,
         null,
         null,
         null,
         null,
         null,
         "0.0",
         null,
         "2022-04-05",
         "0",
         "1",
         "1",
         "1",
         "1"
        ]
       ],
       "shape": {
        "columns": 37,
        "rows": 5
       }
      },
      "text/html": [
       "<div>\n",
       "<style scoped>\n",
       "    .dataframe tbody tr th:only-of-type {\n",
       "        vertical-align: middle;\n",
       "    }\n",
       "\n",
       "    .dataframe tbody tr th {\n",
       "        vertical-align: top;\n",
       "    }\n",
       "\n",
       "    .dataframe thead th {\n",
       "        text-align: right;\n",
       "    }\n",
       "</style>\n",
       "<table border=\"1\" class=\"dataframe\">\n",
       "  <thead>\n",
       "    <tr style=\"text-align: right;\">\n",
       "      <th></th>\n",
       "      <th>hospitalization_id</th>\n",
       "      <th>recorded_dttm</th>\n",
       "      <th>P/F</th>\n",
       "      <th>device_name</th>\n",
       "      <th>fio2_set</th>\n",
       "      <th>flow_rate_set</th>\n",
       "      <th>inspiratory_time_set</th>\n",
       "      <th>interface</th>\n",
       "      <th>invasive_vent_off</th>\n",
       "      <th>invasive_vent_on</th>\n",
       "      <th>...</th>\n",
       "      <th>device_category</th>\n",
       "      <th>mode_category</th>\n",
       "      <th>tracheostomy</th>\n",
       "      <th>pressure_control_set</th>\n",
       "      <th>recorded_date</th>\n",
       "      <th>recorded_hour</th>\n",
       "      <th>device_cat_id</th>\n",
       "      <th>device_id</th>\n",
       "      <th>mode_cat_id</th>\n",
       "      <th>mode_name_id</th>\n",
       "    </tr>\n",
       "  </thead>\n",
       "  <tbody>\n",
       "    <tr>\n",
       "      <th>0</th>\n",
       "      <td>10015</td>\n",
       "      <td>2022-04-04 12:45:00+00:00</td>\n",
       "      <td>None</td>\n",
       "      <td>nan</td>\n",
       "      <td>NaN</td>\n",
       "      <td>NaN</td>\n",
       "      <td>NaN</td>\n",
       "      <td>None</td>\n",
       "      <td>None</td>\n",
       "      <td>None</td>\n",
       "      <td>...</td>\n",
       "      <td>NaN</td>\n",
       "      <td>None</td>\n",
       "      <td>0.0</td>\n",
       "      <td>NaN</td>\n",
       "      <td>2022-04-04</td>\n",
       "      <td>12</td>\n",
       "      <td>1</td>\n",
       "      <td>1</td>\n",
       "      <td>1</td>\n",
       "      <td>1</td>\n",
       "    </tr>\n",
       "    <tr>\n",
       "      <th>1</th>\n",
       "      <td>10015</td>\n",
       "      <td>2022-04-04 14:00:00+00:00</td>\n",
       "      <td>None</td>\n",
       "      <td>nan</td>\n",
       "      <td>NaN</td>\n",
       "      <td>NaN</td>\n",
       "      <td>NaN</td>\n",
       "      <td>None</td>\n",
       "      <td>None</td>\n",
       "      <td>None</td>\n",
       "      <td>...</td>\n",
       "      <td>NaN</td>\n",
       "      <td>None</td>\n",
       "      <td>0.0</td>\n",
       "      <td>NaN</td>\n",
       "      <td>2022-04-04</td>\n",
       "      <td>14</td>\n",
       "      <td>1</td>\n",
       "      <td>1</td>\n",
       "      <td>1</td>\n",
       "      <td>1</td>\n",
       "    </tr>\n",
       "    <tr>\n",
       "      <th>2</th>\n",
       "      <td>10015</td>\n",
       "      <td>2022-04-04 16:15:00+00:00</td>\n",
       "      <td>None</td>\n",
       "      <td>nan</td>\n",
       "      <td>NaN</td>\n",
       "      <td>NaN</td>\n",
       "      <td>NaN</td>\n",
       "      <td>None</td>\n",
       "      <td>None</td>\n",
       "      <td>None</td>\n",
       "      <td>...</td>\n",
       "      <td>NaN</td>\n",
       "      <td>None</td>\n",
       "      <td>0.0</td>\n",
       "      <td>NaN</td>\n",
       "      <td>2022-04-04</td>\n",
       "      <td>16</td>\n",
       "      <td>1</td>\n",
       "      <td>1</td>\n",
       "      <td>1</td>\n",
       "      <td>1</td>\n",
       "    </tr>\n",
       "    <tr>\n",
       "      <th>3</th>\n",
       "      <td>10015</td>\n",
       "      <td>2022-04-04 21:00:00+00:00</td>\n",
       "      <td>None</td>\n",
       "      <td>nan</td>\n",
       "      <td>NaN</td>\n",
       "      <td>NaN</td>\n",
       "      <td>NaN</td>\n",
       "      <td>None</td>\n",
       "      <td>None</td>\n",
       "      <td>None</td>\n",
       "      <td>...</td>\n",
       "      <td>NaN</td>\n",
       "      <td>None</td>\n",
       "      <td>0.0</td>\n",
       "      <td>NaN</td>\n",
       "      <td>2022-04-04</td>\n",
       "      <td>21</td>\n",
       "      <td>1</td>\n",
       "      <td>1</td>\n",
       "      <td>1</td>\n",
       "      <td>1</td>\n",
       "    </tr>\n",
       "    <tr>\n",
       "      <th>4</th>\n",
       "      <td>10015</td>\n",
       "      <td>2022-04-05 00:45:00+00:00</td>\n",
       "      <td>None</td>\n",
       "      <td>nan</td>\n",
       "      <td>NaN</td>\n",
       "      <td>NaN</td>\n",
       "      <td>NaN</td>\n",
       "      <td>None</td>\n",
       "      <td>None</td>\n",
       "      <td>None</td>\n",
       "      <td>...</td>\n",
       "      <td>NaN</td>\n",
       "      <td>None</td>\n",
       "      <td>0.0</td>\n",
       "      <td>NaN</td>\n",
       "      <td>2022-04-05</td>\n",
       "      <td>0</td>\n",
       "      <td>1</td>\n",
       "      <td>1</td>\n",
       "      <td>1</td>\n",
       "      <td>1</td>\n",
       "    </tr>\n",
       "  </tbody>\n",
       "</table>\n",
       "<p>5 rows × 37 columns</p>\n",
       "</div>"
      ],
      "text/plain": [
       "  hospitalization_id             recorded_dttm   P/F device_name  fio2_set  \\\n",
       "0              10015 2022-04-04 12:45:00+00:00  None         nan       NaN   \n",
       "1              10015 2022-04-04 14:00:00+00:00  None         nan       NaN   \n",
       "2              10015 2022-04-04 16:15:00+00:00  None         nan       NaN   \n",
       "3              10015 2022-04-04 21:00:00+00:00  None         nan       NaN   \n",
       "4              10015 2022-04-05 00:45:00+00:00  None         nan       NaN   \n",
       "\n",
       "   flow_rate_set  inspiratory_time_set interface invasive_vent_off  \\\n",
       "0            NaN                   NaN      None              None   \n",
       "1            NaN                   NaN      None              None   \n",
       "2            NaN                   NaN      None              None   \n",
       "3            NaN                   NaN      None              None   \n",
       "4            NaN                   NaN      None              None   \n",
       "\n",
       "  invasive_vent_on  ...  device_category  mode_category  tracheostomy  \\\n",
       "0             None  ...              NaN           None           0.0   \n",
       "1             None  ...              NaN           None           0.0   \n",
       "2             None  ...              NaN           None           0.0   \n",
       "3             None  ...              NaN           None           0.0   \n",
       "4             None  ...              NaN           None           0.0   \n",
       "\n",
       "  pressure_control_set  recorded_date  recorded_hour  device_cat_id  \\\n",
       "0                  NaN     2022-04-04             12              1   \n",
       "1                  NaN     2022-04-04             14              1   \n",
       "2                  NaN     2022-04-04             16              1   \n",
       "3                  NaN     2022-04-04             21              1   \n",
       "4                  NaN     2022-04-05              0              1   \n",
       "\n",
       "   device_id  mode_cat_id  mode_name_id  \n",
       "0          1            1             1  \n",
       "1          1            1             1  \n",
       "2          1            1             1  \n",
       "3          1            1             1  \n",
       "4          1            1             1  \n",
       "\n",
       "[5 rows x 37 columns]"
      ]
     },
     "execution_count": 14,
     "metadata": {},
     "output_type": "execute_result"
    }
   ],
   "source": [
    "### aswaterfallneedinutc\n",
    "rst['recorded_dttm'] = rst['recorded_dttm'].dt.tz_convert('UTC')\n",
    "\n",
    "new_rst = pc.process_resp_support_waterfall(rst)\n",
    "new_rst.head()"
   ]
  },
  {
   "cell_type": "code",
   "execution_count": 15,
   "metadata": {},
   "outputs": [
    {
     "name": "stdout",
     "output_type": "stream",
     "text": [
      "Count with hours and minutes: 1435191\n",
      "Count without hours and minutes: 0\n"
     ]
    }
   ],
   "source": [
    "new_rst['recorded_dttm'] = new_rst['recorded_dttm'].dt.tz_convert(pc.helper['your_site_timezone'])\n",
    "rst = new_rst.copy()\n",
    "\n",
    "rst[\"recorded_dttm\"] = pc.getdttm(rst[\"recorded_dttm\"])\n",
    "pc.deftime(rst[\"recorded_dttm\"])"
   ]
  },
  {
   "cell_type": "markdown",
   "metadata": {},
   "source": [
    "water fall end"
   ]
  },
  {
   "cell_type": "code",
   "execution_count": 16,
   "metadata": {},
   "outputs": [],
   "source": [
    "if pc.helper[\"site_name\"] == \"RUSH\":\n",
    "    rst_col = [\n",
    "        \"hospitalization_id\",\n",
    "        \"recorded_dttm\",\n",
    "        \"device_category\",\n",
    "        \"mode_category\",\n",
    "        \"fio2_set\",\n",
    "        \"peep_set\",\n",
    "        \"resp_rate_set\",\n",
    "        \"pressure_support_set\",\n",
    "        \"mode_name\",\n",
    "        \"tube_comp_%\",\n",
    "        \"sbt_timepoint\",\n",
    "        \"vent_brand_name\",\n",
    "    ]\n",
    "    rst[\"device_category\"] = rst[\"device_category\"].replace(\"nan\", np.nan)\n",
    "else:\n",
    "    rst_col = [\n",
    "        \"hospitalization_id\",\n",
    "        \"recorded_dttm\",\n",
    "        \"device_category\",\n",
    "        \"mode_category\",\n",
    "        \"fio2_set\",\n",
    "        \"peep_set\",\n",
    "        \"resp_rate_set\",\n",
    "        \"pressure_support_set\",\n",
    "        \"mode_name\",\n",
    "        \"vent_brand_name\",\n",
    "    ]\n",
    "rst = rst[rst_col]\n",
    "rst[\"device_category\"] = rst[\"device_category\"].str.lower()\n",
    "rst[\"mode_category\"] = rst[\"mode_category\"].str.lower()"
   ]
  },
  {
   "cell_type": "markdown",
   "metadata": {},
   "source": [
    "#### Extubated Flag"
   ]
  },
  {
   "cell_type": "code",
   "execution_count": 17,
   "metadata": {},
   "outputs": [
    {
     "name": "stderr",
     "output_type": "stream",
     "text": [
      "100%|██████████| 4176/4176 [03:03<00:00, 22.77it/s]\n"
     ]
    }
   ],
   "source": [
    "# Step 1: Sort and forward-fill device_category by hospitalization_id\n",
    "rst = rst.sort_values([\"hospitalization_id\", \"recorded_dttm\"])\n",
    "rst[\"device_category\"] = rst.groupby(\"hospitalization_id\")[\"device_category\"].ffill()\n",
    "\n",
    "# Step 2: Create a device_segment_id for each change in device_category within a hospitalization\n",
    "rst[\"device_change\"] = (\n",
    "    rst[\"device_category\"]\n",
    "    != rst.groupby(\"hospitalization_id\")[\"device_category\"].shift()\n",
    ").astype(int)\n",
    "rst[\"device_segment_id\"] = rst.groupby(\"hospitalization_id\")[\"device_change\"].cumsum()\n",
    "\n",
    "# Step 3: Forward-fill mode_category within each device_segment_id and hospitalization_id\n",
    "rst[\"mode_category\"] = rst.groupby([\"hospitalization_id\", \"device_segment_id\"])[\n",
    "    \"mode_category\"\n",
    "].ffill()\n",
    "\n",
    "# Step 4: Create Device_IMV column\n",
    "rst[\"Device_IMV\"] = (rst[\"device_category\"] == \"imv\").astype(int)\n",
    "\n",
    "# Step 5: Flag extubation when there's a switch from IMV to two consecutive non-IMV entries\n",
    "rst[\"extubated\"] = 0\n",
    "for hosp_id, group in tqdm(rst.groupby(\"hospitalization_id\")):\n",
    "    group = group.sort_values(\"recorded_dttm\")\n",
    "    idx = group.index\n",
    "    for i in range(len(group) - 2):\n",
    "        if (\n",
    "            group.iloc[i][\"Device_IMV\"] == 1\n",
    "            and group.iloc[i + 1][\"Device_IMV\"] == 0\n",
    "            and group.iloc[i + 2][\"Device_IMV\"] == 0\n",
    "        ):\n",
    "            rst.at[idx[i], \"extubated\"] = 1"
   ]
  },
  {
   "cell_type": "code",
   "execution_count": 18,
   "metadata": {},
   "outputs": [
    {
     "data": {
      "application/vnd.microsoft.datawrangler.viewer.v0+json": {
       "columns": [
        {
         "name": "index",
         "rawType": "int64",
         "type": "integer"
        },
        {
         "name": "hospitalization_id",
         "rawType": "object",
         "type": "string"
        },
        {
         "name": "recorded_dttm",
         "rawType": "datetime64[ns]",
         "type": "datetime"
        },
        {
         "name": "device_category",
         "rawType": "object",
         "type": "unknown"
        },
        {
         "name": "mode_category",
         "rawType": "object",
         "type": "unknown"
        },
        {
         "name": "fio2_set",
         "rawType": "float64",
         "type": "float"
        },
        {
         "name": "peep_set",
         "rawType": "float64",
         "type": "float"
        },
        {
         "name": "resp_rate_set",
         "rawType": "float64",
         "type": "float"
        },
        {
         "name": "pressure_support_set",
         "rawType": "float64",
         "type": "float"
        },
        {
         "name": "mode_name",
         "rawType": "object",
         "type": "string"
        },
        {
         "name": "tube_comp_%",
         "rawType": "float64",
         "type": "float"
        },
        {
         "name": "sbt_timepoint",
         "rawType": "object",
         "type": "unknown"
        },
        {
         "name": "vent_brand_name",
         "rawType": "object",
         "type": "unknown"
        },
        {
         "name": "device_change",
         "rawType": "int64",
         "type": "integer"
        },
        {
         "name": "device_segment_id",
         "rawType": "int64",
         "type": "integer"
        },
        {
         "name": "Device_IMV",
         "rawType": "int64",
         "type": "integer"
        },
        {
         "name": "extubated",
         "rawType": "int64",
         "type": "integer"
        }
       ],
       "conversionMethod": "pd.DataFrame",
       "ref": "9a94647a-9af2-4fb4-8321-b48ff85d17ca",
       "rows": [
        [
         "0",
         "10015",
         "2022-04-04 07:45:00",
         null,
         null,
         null,
         null,
         null,
         null,
         "nan",
         null,
         null,
         null,
         "1",
         "1",
         "0",
         "0"
        ],
        [
         "1",
         "10015",
         "2022-04-04 09:00:00",
         null,
         null,
         null,
         null,
         null,
         null,
         "nan",
         null,
         null,
         null,
         "1",
         "2",
         "0",
         "0"
        ],
        [
         "2",
         "10015",
         "2022-04-04 11:15:00",
         null,
         null,
         null,
         null,
         null,
         null,
         "nan",
         null,
         null,
         null,
         "1",
         "3",
         "0",
         "0"
        ],
        [
         "3",
         "10015",
         "2022-04-04 16:00:00",
         null,
         null,
         null,
         null,
         null,
         null,
         "nan",
         null,
         null,
         null,
         "1",
         "4",
         "0",
         "0"
        ],
        [
         "4",
         "10015",
         "2022-04-04 19:45:00",
         null,
         null,
         null,
         null,
         null,
         null,
         "nan",
         null,
         null,
         null,
         "1",
         "5",
         "0",
         "0"
        ]
       ],
       "shape": {
        "columns": 16,
        "rows": 5
       }
      },
      "text/html": [
       "<div>\n",
       "<style scoped>\n",
       "    .dataframe tbody tr th:only-of-type {\n",
       "        vertical-align: middle;\n",
       "    }\n",
       "\n",
       "    .dataframe tbody tr th {\n",
       "        vertical-align: top;\n",
       "    }\n",
       "\n",
       "    .dataframe thead th {\n",
       "        text-align: right;\n",
       "    }\n",
       "</style>\n",
       "<table border=\"1\" class=\"dataframe\">\n",
       "  <thead>\n",
       "    <tr style=\"text-align: right;\">\n",
       "      <th></th>\n",
       "      <th>hospitalization_id</th>\n",
       "      <th>recorded_dttm</th>\n",
       "      <th>device_category</th>\n",
       "      <th>mode_category</th>\n",
       "      <th>fio2_set</th>\n",
       "      <th>peep_set</th>\n",
       "      <th>resp_rate_set</th>\n",
       "      <th>pressure_support_set</th>\n",
       "      <th>mode_name</th>\n",
       "      <th>tube_comp_%</th>\n",
       "      <th>sbt_timepoint</th>\n",
       "      <th>vent_brand_name</th>\n",
       "      <th>device_change</th>\n",
       "      <th>device_segment_id</th>\n",
       "      <th>Device_IMV</th>\n",
       "      <th>extubated</th>\n",
       "    </tr>\n",
       "  </thead>\n",
       "  <tbody>\n",
       "    <tr>\n",
       "      <th>0</th>\n",
       "      <td>10015</td>\n",
       "      <td>2022-04-04 07:45:00</td>\n",
       "      <td>NaN</td>\n",
       "      <td>NaN</td>\n",
       "      <td>NaN</td>\n",
       "      <td>NaN</td>\n",
       "      <td>NaN</td>\n",
       "      <td>NaN</td>\n",
       "      <td>nan</td>\n",
       "      <td>NaN</td>\n",
       "      <td>None</td>\n",
       "      <td>None</td>\n",
       "      <td>1</td>\n",
       "      <td>1</td>\n",
       "      <td>0</td>\n",
       "      <td>0</td>\n",
       "    </tr>\n",
       "    <tr>\n",
       "      <th>1</th>\n",
       "      <td>10015</td>\n",
       "      <td>2022-04-04 09:00:00</td>\n",
       "      <td>NaN</td>\n",
       "      <td>NaN</td>\n",
       "      <td>NaN</td>\n",
       "      <td>NaN</td>\n",
       "      <td>NaN</td>\n",
       "      <td>NaN</td>\n",
       "      <td>nan</td>\n",
       "      <td>NaN</td>\n",
       "      <td>None</td>\n",
       "      <td>None</td>\n",
       "      <td>1</td>\n",
       "      <td>2</td>\n",
       "      <td>0</td>\n",
       "      <td>0</td>\n",
       "    </tr>\n",
       "    <tr>\n",
       "      <th>2</th>\n",
       "      <td>10015</td>\n",
       "      <td>2022-04-04 11:15:00</td>\n",
       "      <td>NaN</td>\n",
       "      <td>NaN</td>\n",
       "      <td>NaN</td>\n",
       "      <td>NaN</td>\n",
       "      <td>NaN</td>\n",
       "      <td>NaN</td>\n",
       "      <td>nan</td>\n",
       "      <td>NaN</td>\n",
       "      <td>None</td>\n",
       "      <td>None</td>\n",
       "      <td>1</td>\n",
       "      <td>3</td>\n",
       "      <td>0</td>\n",
       "      <td>0</td>\n",
       "    </tr>\n",
       "    <tr>\n",
       "      <th>3</th>\n",
       "      <td>10015</td>\n",
       "      <td>2022-04-04 16:00:00</td>\n",
       "      <td>NaN</td>\n",
       "      <td>NaN</td>\n",
       "      <td>NaN</td>\n",
       "      <td>NaN</td>\n",
       "      <td>NaN</td>\n",
       "      <td>NaN</td>\n",
       "      <td>nan</td>\n",
       "      <td>NaN</td>\n",
       "      <td>None</td>\n",
       "      <td>None</td>\n",
       "      <td>1</td>\n",
       "      <td>4</td>\n",
       "      <td>0</td>\n",
       "      <td>0</td>\n",
       "    </tr>\n",
       "    <tr>\n",
       "      <th>4</th>\n",
       "      <td>10015</td>\n",
       "      <td>2022-04-04 19:45:00</td>\n",
       "      <td>NaN</td>\n",
       "      <td>NaN</td>\n",
       "      <td>NaN</td>\n",
       "      <td>NaN</td>\n",
       "      <td>NaN</td>\n",
       "      <td>NaN</td>\n",
       "      <td>nan</td>\n",
       "      <td>NaN</td>\n",
       "      <td>None</td>\n",
       "      <td>None</td>\n",
       "      <td>1</td>\n",
       "      <td>5</td>\n",
       "      <td>0</td>\n",
       "      <td>0</td>\n",
       "    </tr>\n",
       "  </tbody>\n",
       "</table>\n",
       "</div>"
      ],
      "text/plain": [
       "  hospitalization_id       recorded_dttm device_category mode_category  \\\n",
       "0              10015 2022-04-04 07:45:00             NaN           NaN   \n",
       "1              10015 2022-04-04 09:00:00             NaN           NaN   \n",
       "2              10015 2022-04-04 11:15:00             NaN           NaN   \n",
       "3              10015 2022-04-04 16:00:00             NaN           NaN   \n",
       "4              10015 2022-04-04 19:45:00             NaN           NaN   \n",
       "\n",
       "   fio2_set  peep_set  resp_rate_set  pressure_support_set mode_name  \\\n",
       "0       NaN       NaN            NaN                   NaN       nan   \n",
       "1       NaN       NaN            NaN                   NaN       nan   \n",
       "2       NaN       NaN            NaN                   NaN       nan   \n",
       "3       NaN       NaN            NaN                   NaN       nan   \n",
       "4       NaN       NaN            NaN                   NaN       nan   \n",
       "\n",
       "   tube_comp_% sbt_timepoint vent_brand_name  device_change  \\\n",
       "0          NaN          None            None              1   \n",
       "1          NaN          None            None              1   \n",
       "2          NaN          None            None              1   \n",
       "3          NaN          None            None              1   \n",
       "4          NaN          None            None              1   \n",
       "\n",
       "   device_segment_id  Device_IMV  extubated  \n",
       "0                  1           0          0  \n",
       "1                  2           0          0  \n",
       "2                  3           0          0  \n",
       "3                  4           0          0  \n",
       "4                  5           0          0  "
      ]
     },
     "execution_count": 18,
     "metadata": {},
     "output_type": "execute_result"
    }
   ],
   "source": [
    "rst.head()"
   ]
  },
  {
   "cell_type": "markdown",
   "metadata": {},
   "source": [
    "### MAC"
   ]
  },
  {
   "cell_type": "code",
   "execution_count": 19,
   "metadata": {},
   "outputs": [
    {
     "name": "stdout",
     "output_type": "stream",
     "text": [
      "Data loaded successfully from C:/Users/vchaudha/Downloads/rush_parquet/clif_medication_admin_continuous.parquet\n",
      "WARNING: admin_dttm: Naive datetime, NOT converting. Assuming it's in your LOCAL ZONE. Please check ETL!\n",
      "admin_dttm: null count = 0\n"
     ]
    }
   ],
   "source": [
    "mac = pc.load_data(\"clif_medication_admin_continuous\")\n",
    "mac[\"hospitalization_id\"] = mac[\"hospitalization_id\"].astype(str)\n",
    "mac[\"hospitalization_id\"] = (\n",
    "    mac[\"hospitalization_id\"].map(hospitalization_to_block).astype(str)\n",
    ")\n",
    "mac_col = [\n",
    "    \"hospitalization_id\",\n",
    "    \"admin_dttm\",\n",
    "    \"med_dose\",\n",
    "    \"med_category\",\n",
    "    \"med_dose_unit\",\n",
    "]\n",
    "mac = mac[\n",
    "    (mac[\"hospitalization_id\"].isin(required_id))\n",
    "    & (\n",
    "        mac[\"med_category\"].isin(\n",
    "            [\n",
    "                \"norepinephrine\",\n",
    "                \"epinephrine\",\n",
    "                \"phenylephrine\",\n",
    "                \"angiotensin\",\n",
    "                \"vasopressin\",\n",
    "                \"dopamine\",\n",
    "                \"dobutamine\",\n",
    "                \"milrinone\",\n",
    "                \"isoproterenol\",\n",
    "                \"cisatracurium\",\n",
    "                \"vecuronium\",\n",
    "                \"rocuronium\",\n",
    "                \"fentanyl\",\n",
    "                \"propofol\",\n",
    "                \"lorazepam\",\n",
    "                \"midazolam\",\n",
    "                \"hydromorphone\",\n",
    "                \"morphine\",\n",
    "            ]\n",
    "        )\n",
    "    )\n",
    "][mac_col].reset_index(drop=True)\n",
    "\n",
    "\n",
    "mac = pc.convert_datetime_columns_to_site_tz(mac, pc.helper[\"your_site_timezone\"])\n",
    "mac[\"admin_dttm\"] = pc.getdttm(mac[\"admin_dttm\"])\n",
    "\n",
    "mac[\"med_dose_unit\"] = mac[\"med_dose_unit\"].str.lower()\n",
    "mac = mac[\n",
    "    (mac[\"med_dose_unit\"].str.contains(r\"/\", na=False))\n",
    "    & (mac[\"med_dose_unit\"] != \"units/hr\")\n",
    "].reset_index(drop=True)"
   ]
  },
  {
   "cell_type": "code",
   "execution_count": 20,
   "metadata": {},
   "outputs": [
    {
     "name": "stdout",
     "output_type": "stream",
     "text": [
      "Count with hours and minutes: 488363\n",
      "Count without hours and minutes: 0\n"
     ]
    }
   ],
   "source": [
    "pc.deftime(mac['admin_dttm'])"
   ]
  },
  {
   "cell_type": "code",
   "execution_count": 21,
   "metadata": {},
   "outputs": [
    {
     "data": {
      "application/vnd.microsoft.datawrangler.viewer.v0+json": {
       "columns": [
        {
         "name": "index",
         "rawType": "int64",
         "type": "integer"
        },
        {
         "name": "hospitalization_id",
         "rawType": "object",
         "type": "string"
        },
        {
         "name": "admin_dttm",
         "rawType": "datetime64[ns]",
         "type": "datetime"
        },
        {
         "name": "med_dose",
         "rawType": "float64",
         "type": "float"
        },
        {
         "name": "med_category",
         "rawType": "object",
         "type": "string"
        },
        {
         "name": "med_dose_unit",
         "rawType": "object",
         "type": "string"
        }
       ],
       "conversionMethod": "pd.DataFrame",
       "ref": "b0d01383-55b7-4440-b3f1-178f02c49be8",
       "rows": [
        [
         "0",
         "78960",
         "2022-10-29 04:28:00",
         "25.0",
         "phenylephrine",
         "mcg/min"
        ],
        [
         "1",
         "209671",
         "2023-07-31 09:30:00",
         "125.0",
         "phenylephrine",
         "mcg/min"
        ],
        [
         "2",
         "191359",
         "2022-04-19 13:30:00",
         "75.0",
         "phenylephrine",
         "mcg/min"
        ],
        [
         "3",
         "200973",
         "2023-06-18 09:05:00",
         "287.5",
         "phenylephrine",
         "mcg/min"
        ],
        [
         "4",
         "218710",
         "2024-11-15 16:35:00",
         "37.5",
         "phenylephrine",
         "mcg/min"
        ]
       ],
       "shape": {
        "columns": 5,
        "rows": 5
       }
      },
      "text/html": [
       "<div>\n",
       "<style scoped>\n",
       "    .dataframe tbody tr th:only-of-type {\n",
       "        vertical-align: middle;\n",
       "    }\n",
       "\n",
       "    .dataframe tbody tr th {\n",
       "        vertical-align: top;\n",
       "    }\n",
       "\n",
       "    .dataframe thead th {\n",
       "        text-align: right;\n",
       "    }\n",
       "</style>\n",
       "<table border=\"1\" class=\"dataframe\">\n",
       "  <thead>\n",
       "    <tr style=\"text-align: right;\">\n",
       "      <th></th>\n",
       "      <th>hospitalization_id</th>\n",
       "      <th>admin_dttm</th>\n",
       "      <th>med_dose</th>\n",
       "      <th>med_category</th>\n",
       "      <th>med_dose_unit</th>\n",
       "    </tr>\n",
       "  </thead>\n",
       "  <tbody>\n",
       "    <tr>\n",
       "      <th>0</th>\n",
       "      <td>78960</td>\n",
       "      <td>2022-10-29 04:28:00</td>\n",
       "      <td>25.0</td>\n",
       "      <td>phenylephrine</td>\n",
       "      <td>mcg/min</td>\n",
       "    </tr>\n",
       "    <tr>\n",
       "      <th>1</th>\n",
       "      <td>209671</td>\n",
       "      <td>2023-07-31 09:30:00</td>\n",
       "      <td>125.0</td>\n",
       "      <td>phenylephrine</td>\n",
       "      <td>mcg/min</td>\n",
       "    </tr>\n",
       "    <tr>\n",
       "      <th>2</th>\n",
       "      <td>191359</td>\n",
       "      <td>2022-04-19 13:30:00</td>\n",
       "      <td>75.0</td>\n",
       "      <td>phenylephrine</td>\n",
       "      <td>mcg/min</td>\n",
       "    </tr>\n",
       "    <tr>\n",
       "      <th>3</th>\n",
       "      <td>200973</td>\n",
       "      <td>2023-06-18 09:05:00</td>\n",
       "      <td>287.5</td>\n",
       "      <td>phenylephrine</td>\n",
       "      <td>mcg/min</td>\n",
       "    </tr>\n",
       "    <tr>\n",
       "      <th>4</th>\n",
       "      <td>218710</td>\n",
       "      <td>2024-11-15 16:35:00</td>\n",
       "      <td>37.5</td>\n",
       "      <td>phenylephrine</td>\n",
       "      <td>mcg/min</td>\n",
       "    </tr>\n",
       "  </tbody>\n",
       "</table>\n",
       "</div>"
      ],
      "text/plain": [
       "  hospitalization_id          admin_dttm  med_dose   med_category  \\\n",
       "0              78960 2022-10-29 04:28:00      25.0  phenylephrine   \n",
       "1             209671 2023-07-31 09:30:00     125.0  phenylephrine   \n",
       "2             191359 2022-04-19 13:30:00      75.0  phenylephrine   \n",
       "3             200973 2023-06-18 09:05:00     287.5  phenylephrine   \n",
       "4             218710 2024-11-15 16:35:00      37.5  phenylephrine   \n",
       "\n",
       "  med_dose_unit  \n",
       "0       mcg/min  \n",
       "1       mcg/min  \n",
       "2       mcg/min  \n",
       "3       mcg/min  \n",
       "4       mcg/min  "
      ]
     },
     "execution_count": 21,
     "metadata": {},
     "output_type": "execute_result"
    }
   ],
   "source": [
    "mac.head()"
   ]
  },
  {
   "cell_type": "markdown",
   "metadata": {},
   "source": [
    "### Patient Assessment"
   ]
  },
  {
   "cell_type": "code",
   "execution_count": 22,
   "metadata": {},
   "outputs": [],
   "source": [
    "cat_values_mapping_dict = {\n",
    "    \"negative\": 0,\n",
    "    \"fail\": 0,\n",
    "    \"pass\": 1,\n",
    "    \"positive\": 1,\n",
    "    None: np.nan,\n",
    "    np.nan: np.nan,\n",
    "    \"yes\": 1,\n",
    "    \"no\": 0,\n",
    "}\n",
    "\n",
    "pat_assess_cats_rquired = [\n",
    "    \"sbt_delivery_pass_fail\",\n",
    "    \"sbt_screen_pass_fail\",\n",
    "    \"sat_delivery_pass_fail\",\n",
    "    \"sat_screen_pass_fail\",\n",
    "    \"gcs_total\",\n",
    "    \"rass\",\n",
    "]"
   ]
  },
  {
   "cell_type": "code",
   "execution_count": 23,
   "metadata": {},
   "outputs": [
    {
     "data": {
      "application/vnd.jupyter.widget-view+json": {
       "model_id": "b222d93f15e54c0b92a5c7a10e09dd03",
       "version_major": 2,
       "version_minor": 0
      },
      "text/plain": [
       "FloatProgress(value=0.0, layout=Layout(width='auto'), style=ProgressStyle(bar_color='black'))"
      ]
     },
     "metadata": {},
     "output_type": "display_data"
    },
    {
     "name": "stdout",
     "output_type": "stream",
     "text": [
      "Data loaded successfully from C:/Users/vchaudha/Downloads/rush_parquet/clif_patient_assessments.parquet\n",
      "WARNING: recorded_dttm: Naive datetime, NOT converting. Assuming it's in your LOCAL ZONE. Please check ETL!\n",
      "recorded_dttm: null count = 0\n",
      "Count with hours and minutes: 4386377\n",
      "Count without hours and minutes: 0\n"
     ]
    }
   ],
   "source": [
    "pat_at = pc.load_data(\"clif_patient_assessments\", -1)\n",
    "pat_at_col = [\n",
    "    \"hospitalization_id\",\n",
    "    \"recorded_dttm\",\n",
    "    \"numerical_value\",\n",
    "    \"categorical_value\",\n",
    "    \"assessment_category\",\n",
    "]\n",
    "pat_at[\"assessment_category\"] = pat_at[\"assessment_category\"].str.lower()\n",
    "pat_at = pat_at[(pat_at[\"assessment_category\"].isin(pat_assess_cats_rquired))][\n",
    "    pat_at_col\n",
    "].reset_index(drop=True)\n",
    "\n",
    "pat_at = pc.convert_datetime_columns_to_site_tz(pat_at, pc.helper[\"your_site_timezone\"])\n",
    "pat_at[\"recorded_dttm\"] = pc.getdttm(pat_at[\"recorded_dttm\"])\n",
    "pc.deftime(pat_at[\"recorded_dttm\"])"
   ]
  },
  {
   "cell_type": "code",
   "execution_count": 24,
   "metadata": {},
   "outputs": [],
   "source": [
    "pat_at[\"hospitalization_id\"] = pat_at[\"hospitalization_id\"].astype(str)\n",
    "pat_at[\"hospitalization_id\"] = (\n",
    "    pat_at[\"hospitalization_id\"]\n",
    "    .map(hospitalization_to_block)\n",
    "    .fillna(-1)\n",
    "    .astype(int)\n",
    "    .astype(str)\n",
    ")\n",
    "\n",
    "pat_at = pat_at[(pat_at[\"hospitalization_id\"].isin(required_id))][\n",
    "    pat_at_col\n",
    "].reset_index(drop=True)\n",
    "pat_at[\"categorical_value\"] = (\n",
    "    pat_at[\"categorical_value\"].str.lower().map(cat_values_mapping_dict)\n",
    ")\n",
    "pat_at[\"assessment_value\"] = pat_at[\"numerical_value\"].combine_first(\n",
    "    pat_at[\"categorical_value\"]\n",
    ")\n",
    "pat_at.drop(columns=[\"numerical_value\", \"categorical_value\"], inplace=True)"
   ]
  },
  {
   "cell_type": "code",
   "execution_count": 25,
   "metadata": {},
   "outputs": [
    {
     "data": {
      "text/plain": [
       "array(['sbt_delivery_pass_fail', 'gcs_total', 'sat_delivery_pass_fail',\n",
       "       'sat_screen_pass_fail', 'sbt_screen_pass_fail', 'rass'],\n",
       "      dtype=object)"
      ]
     },
     "execution_count": 25,
     "metadata": {},
     "output_type": "execute_result"
    }
   ],
   "source": [
    "pat_at.assessment_category.unique()"
   ]
  },
  {
   "cell_type": "code",
   "execution_count": 26,
   "metadata": {},
   "outputs": [
    {
     "data": {
      "text/plain": [
       "assessment_value\n",
       "0      169487\n",
       "15      78659\n",
       "-1      52798\n",
       "+1      35935\n",
       "-2      29335\n",
       "-4      23873\n",
       "+2      22965\n",
       "-3      22537\n",
       "14      22063\n",
       "1.0     19972\n",
       "10      16139\n",
       "-5      14997\n",
       "11      13690\n",
       "3       11071\n",
       "8       10074\n",
       "9        9619\n",
       "7        9183\n",
       "0.0      8751\n",
       "13       7898\n",
       "6        7086\n",
       "5        6068\n",
       "+3       4758\n",
       "12       4628\n",
       "4        4450\n",
       "+4        720\n",
       "Name: count, dtype: int64"
      ]
     },
     "execution_count": 26,
     "metadata": {},
     "output_type": "execute_result"
    }
   ],
   "source": [
    "pat_at['assessment_value'].value_counts()"
   ]
  },
  {
   "cell_type": "code",
   "execution_count": 27,
   "metadata": {},
   "outputs": [
    {
     "data": {
      "application/vnd.microsoft.datawrangler.viewer.v0+json": {
       "columns": [
        {
         "name": "index",
         "rawType": "int64",
         "type": "integer"
        },
        {
         "name": "hospitalization_id",
         "rawType": "object",
         "type": "string"
        },
        {
         "name": "recorded_dttm",
         "rawType": "datetime64[us]",
         "type": "unknown"
        },
        {
         "name": "assessment_category",
         "rawType": "object",
         "type": "string"
        },
        {
         "name": "assessment_value",
         "rawType": "object",
         "type": "unknown"
        }
       ],
       "conversionMethod": "pd.DataFrame",
       "ref": "f756b20e-873a-451c-a818-6ebb9081b16c",
       "rows": [
        [
         "0",
         "159939",
         "2024-02-24 12:25:00",
         "sbt_delivery_pass_fail",
         "0.0"
        ],
        [
         "1",
         "12786",
         "2024-10-29 04:40:00",
         "sbt_delivery_pass_fail",
         "0.0"
        ],
        [
         "2",
         "36280",
         "2024-10-09 08:53:00",
         "sbt_delivery_pass_fail",
         "0.0"
        ],
        [
         "3",
         "59468",
         "2024-01-03 01:39:00",
         "sbt_delivery_pass_fail",
         "0.0"
        ],
        [
         "4",
         "156310",
         "2023-11-15 04:36:00",
         "sbt_delivery_pass_fail",
         "0.0"
        ]
       ],
       "shape": {
        "columns": 4,
        "rows": 5
       }
      },
      "text/html": [
       "<div>\n",
       "<style scoped>\n",
       "    .dataframe tbody tr th:only-of-type {\n",
       "        vertical-align: middle;\n",
       "    }\n",
       "\n",
       "    .dataframe tbody tr th {\n",
       "        vertical-align: top;\n",
       "    }\n",
       "\n",
       "    .dataframe thead th {\n",
       "        text-align: right;\n",
       "    }\n",
       "</style>\n",
       "<table border=\"1\" class=\"dataframe\">\n",
       "  <thead>\n",
       "    <tr style=\"text-align: right;\">\n",
       "      <th></th>\n",
       "      <th>hospitalization_id</th>\n",
       "      <th>recorded_dttm</th>\n",
       "      <th>assessment_category</th>\n",
       "      <th>assessment_value</th>\n",
       "    </tr>\n",
       "  </thead>\n",
       "  <tbody>\n",
       "    <tr>\n",
       "      <th>0</th>\n",
       "      <td>159939</td>\n",
       "      <td>2024-02-24 12:25:00</td>\n",
       "      <td>sbt_delivery_pass_fail</td>\n",
       "      <td>0.0</td>\n",
       "    </tr>\n",
       "    <tr>\n",
       "      <th>1</th>\n",
       "      <td>12786</td>\n",
       "      <td>2024-10-29 04:40:00</td>\n",
       "      <td>sbt_delivery_pass_fail</td>\n",
       "      <td>0.0</td>\n",
       "    </tr>\n",
       "    <tr>\n",
       "      <th>2</th>\n",
       "      <td>36280</td>\n",
       "      <td>2024-10-09 08:53:00</td>\n",
       "      <td>sbt_delivery_pass_fail</td>\n",
       "      <td>0.0</td>\n",
       "    </tr>\n",
       "    <tr>\n",
       "      <th>3</th>\n",
       "      <td>59468</td>\n",
       "      <td>2024-01-03 01:39:00</td>\n",
       "      <td>sbt_delivery_pass_fail</td>\n",
       "      <td>0.0</td>\n",
       "    </tr>\n",
       "    <tr>\n",
       "      <th>4</th>\n",
       "      <td>156310</td>\n",
       "      <td>2023-11-15 04:36:00</td>\n",
       "      <td>sbt_delivery_pass_fail</td>\n",
       "      <td>0.0</td>\n",
       "    </tr>\n",
       "  </tbody>\n",
       "</table>\n",
       "</div>"
      ],
      "text/plain": [
       "  hospitalization_id       recorded_dttm     assessment_category  \\\n",
       "0             159939 2024-02-24 12:25:00  sbt_delivery_pass_fail   \n",
       "1              12786 2024-10-29 04:40:00  sbt_delivery_pass_fail   \n",
       "2              36280 2024-10-09 08:53:00  sbt_delivery_pass_fail   \n",
       "3              59468 2024-01-03 01:39:00  sbt_delivery_pass_fail   \n",
       "4             156310 2023-11-15 04:36:00  sbt_delivery_pass_fail   \n",
       "\n",
       "  assessment_value  \n",
       "0              0.0  \n",
       "1              0.0  \n",
       "2              0.0  \n",
       "3              0.0  \n",
       "4              0.0  "
      ]
     },
     "execution_count": 27,
     "metadata": {},
     "output_type": "execute_result"
    }
   ],
   "source": [
    "pat_at.head()"
   ]
  },
  {
   "cell_type": "markdown",
   "metadata": {},
   "source": [
    "### Vitals"
   ]
  },
  {
   "cell_type": "code",
   "execution_count": 28,
   "metadata": {},
   "outputs": [
    {
     "data": {
      "application/vnd.jupyter.widget-view+json": {
       "model_id": "16456b33a18f4a369c663ee6c249c9a3",
       "version_major": 2,
       "version_minor": 0
      },
      "text/plain": [
       "FloatProgress(value=0.0, layout=Layout(width='auto'), style=ProgressStyle(bar_color='black'))"
      ]
     },
     "metadata": {},
     "output_type": "display_data"
    },
    {
     "name": "stdout",
     "output_type": "stream",
     "text": [
      "Data loaded successfully from C:/Users/vchaudha/Downloads/rush_parquet/clif_vitals.parquet\n",
      "WARNING: recorded_dttm: Naive datetime, NOT converting. Assuming it's in your LOCAL ZONE. Please check ETL!\n",
      "recorded_dttm: null count = 7\n"
     ]
    }
   ],
   "source": [
    "vit = pc.load_data(\"clif_vitals\", -1)\n",
    "vit[\"hospitalization_id\"] = vit[\"hospitalization_id\"].astype(str)\n",
    "vit[\"hospitalization_id\"] = (\n",
    "    vit[\"hospitalization_id\"].map(hospitalization_to_block).astype(str)\n",
    ")\n",
    "vit_col = [\"hospitalization_id\", \"recorded_dttm_min\", \"vital_category\", \"vital_value\"]\n",
    "vit[\"vital_category\"] = vit[\"vital_category\"].str.lower()\n",
    "\n",
    "\n",
    "vit = pc.convert_datetime_columns_to_site_tz(vit, pc.helper[\"your_site_timezone\"])"
   ]
  },
  {
   "cell_type": "code",
   "execution_count": 29,
   "metadata": {},
   "outputs": [
    {
     "name": "stdout",
     "output_type": "stream",
     "text": [
      "Count with hours and minutes: 85346323\n",
      "Count without hours and minutes: 7\n"
     ]
    }
   ],
   "source": [
    "vit[\"recorded_dttm_min\"] = pc.getdttm(vit[\"recorded_dttm\"])\n",
    "pc.deftime(vit[\"recorded_dttm_min\"])\n",
    "vit = vit[\n",
    "    (vit[\"hospitalization_id\"].isin(required_id))\n",
    "    & (\n",
    "        vit[\"vital_category\"].isin(\n",
    "            [\n",
    "                \"map\",\n",
    "                \"heart_rate\",\n",
    "                \"sbp\",\n",
    "                \"dbp\",\n",
    "                \"spo2\",\n",
    "                \"respiratory_rate\",\n",
    "                \"weight_kg\",\n",
    "                \"height_cm\",\n",
    "            ]\n",
    "        )\n",
    "    )\n",
    "][vit_col].reset_index(drop=True)\n",
    "\n",
    "# Sort by hospitalization_id and recorded_dttm\n",
    "vit = vit.sort_values(by=[\"hospitalization_id\", \"recorded_dttm_min\"])\n",
    "\n",
    "# Group by hospitalization_id, vital_category, and recorded_dttm_min, then take the first occurrence of vital_value\n",
    "vit = vit.groupby(\n",
    "    [\"hospitalization_id\", \"vital_category\", \"recorded_dttm_min\"], as_index=False\n",
    ").agg({\"vital_value\": \"first\"})\n",
    "# make sure float\n",
    "vit[\"vital_value\"] = vit[\"vital_value\"].astype(float)\n",
    "\n",
    "# for meds\n",
    "vit_weight = vit[vit[\"vital_category\"] == \"weight_kg\"].reset_index(drop=True)"
   ]
  },
  {
   "cell_type": "code",
   "execution_count": 30,
   "metadata": {},
   "outputs": [
    {
     "data": {
      "application/vnd.microsoft.datawrangler.viewer.v0+json": {
       "columns": [
        {
         "name": "index",
         "rawType": "int64",
         "type": "integer"
        },
        {
         "name": "hospitalization_id",
         "rawType": "object",
         "type": "string"
        },
        {
         "name": "vital_category",
         "rawType": "object",
         "type": "string"
        },
        {
         "name": "recorded_dttm_min",
         "rawType": "datetime64[ns]",
         "type": "datetime"
        },
        {
         "name": "vital_value",
         "rawType": "float64",
         "type": "float"
        }
       ],
       "conversionMethod": "pd.DataFrame",
       "ref": "223ad8af-b1e6-4941-bde4-d285885c8c46",
       "rows": [
        [
         "0",
         "10015",
         "dbp",
         "2022-04-03 15:15:00",
         "63.0"
        ],
        [
         "1",
         "10015",
         "dbp",
         "2022-04-03 19:45:00",
         "67.0"
        ],
        [
         "2",
         "10015",
         "dbp",
         "2022-04-03 23:15:00",
         "58.0"
        ],
        [
         "3",
         "10015",
         "dbp",
         "2022-04-04 03:15:00",
         "55.0"
        ],
        [
         "4",
         "10015",
         "dbp",
         "2022-04-04 07:45:00",
         "58.0"
        ]
       ],
       "shape": {
        "columns": 4,
        "rows": 5
       }
      },
      "text/html": [
       "<div>\n",
       "<style scoped>\n",
       "    .dataframe tbody tr th:only-of-type {\n",
       "        vertical-align: middle;\n",
       "    }\n",
       "\n",
       "    .dataframe tbody tr th {\n",
       "        vertical-align: top;\n",
       "    }\n",
       "\n",
       "    .dataframe thead th {\n",
       "        text-align: right;\n",
       "    }\n",
       "</style>\n",
       "<table border=\"1\" class=\"dataframe\">\n",
       "  <thead>\n",
       "    <tr style=\"text-align: right;\">\n",
       "      <th></th>\n",
       "      <th>hospitalization_id</th>\n",
       "      <th>vital_category</th>\n",
       "      <th>recorded_dttm_min</th>\n",
       "      <th>vital_value</th>\n",
       "    </tr>\n",
       "  </thead>\n",
       "  <tbody>\n",
       "    <tr>\n",
       "      <th>0</th>\n",
       "      <td>10015</td>\n",
       "      <td>dbp</td>\n",
       "      <td>2022-04-03 15:15:00</td>\n",
       "      <td>63.0</td>\n",
       "    </tr>\n",
       "    <tr>\n",
       "      <th>1</th>\n",
       "      <td>10015</td>\n",
       "      <td>dbp</td>\n",
       "      <td>2022-04-03 19:45:00</td>\n",
       "      <td>67.0</td>\n",
       "    </tr>\n",
       "    <tr>\n",
       "      <th>2</th>\n",
       "      <td>10015</td>\n",
       "      <td>dbp</td>\n",
       "      <td>2022-04-03 23:15:00</td>\n",
       "      <td>58.0</td>\n",
       "    </tr>\n",
       "    <tr>\n",
       "      <th>3</th>\n",
       "      <td>10015</td>\n",
       "      <td>dbp</td>\n",
       "      <td>2022-04-04 03:15:00</td>\n",
       "      <td>55.0</td>\n",
       "    </tr>\n",
       "    <tr>\n",
       "      <th>4</th>\n",
       "      <td>10015</td>\n",
       "      <td>dbp</td>\n",
       "      <td>2022-04-04 07:45:00</td>\n",
       "      <td>58.0</td>\n",
       "    </tr>\n",
       "  </tbody>\n",
       "</table>\n",
       "</div>"
      ],
      "text/plain": [
       "  hospitalization_id vital_category   recorded_dttm_min  vital_value\n",
       "0              10015            dbp 2022-04-03 15:15:00         63.0\n",
       "1              10015            dbp 2022-04-03 19:45:00         67.0\n",
       "2              10015            dbp 2022-04-03 23:15:00         58.0\n",
       "3              10015            dbp 2022-04-04 03:15:00         55.0\n",
       "4              10015            dbp 2022-04-04 07:45:00         58.0"
      ]
     },
     "execution_count": 30,
     "metadata": {},
     "output_type": "execute_result"
    }
   ],
   "source": [
    "vit.head()"
   ]
  },
  {
   "cell_type": "code",
   "execution_count": 31,
   "metadata": {},
   "outputs": [
    {
     "data": {
      "application/vnd.microsoft.datawrangler.viewer.v0+json": {
       "columns": [
        {
         "name": "index",
         "rawType": "int64",
         "type": "integer"
        },
        {
         "name": "hospitalization_id",
         "rawType": "object",
         "type": "string"
        },
        {
         "name": "vital_category",
         "rawType": "object",
         "type": "string"
        },
        {
         "name": "recorded_dttm_min",
         "rawType": "datetime64[ns]",
         "type": "datetime"
        },
        {
         "name": "vital_value",
         "rawType": "float64",
         "type": "float"
        }
       ],
       "conversionMethod": "pd.DataFrame",
       "ref": "ea246e1c-76c2-4dbb-955a-c8f2fc6c627c",
       "rows": [],
       "shape": {
        "columns": 4,
        "rows": 0
       }
      },
      "text/html": [
       "<div>\n",
       "<style scoped>\n",
       "    .dataframe tbody tr th:only-of-type {\n",
       "        vertical-align: middle;\n",
       "    }\n",
       "\n",
       "    .dataframe tbody tr th {\n",
       "        vertical-align: top;\n",
       "    }\n",
       "\n",
       "    .dataframe thead th {\n",
       "        text-align: right;\n",
       "    }\n",
       "</style>\n",
       "<table border=\"1\" class=\"dataframe\">\n",
       "  <thead>\n",
       "    <tr style=\"text-align: right;\">\n",
       "      <th></th>\n",
       "      <th>hospitalization_id</th>\n",
       "      <th>vital_category</th>\n",
       "      <th>recorded_dttm_min</th>\n",
       "      <th>vital_value</th>\n",
       "    </tr>\n",
       "  </thead>\n",
       "  <tbody>\n",
       "  </tbody>\n",
       "</table>\n",
       "</div>"
      ],
      "text/plain": [
       "Empty DataFrame\n",
       "Columns: [hospitalization_id, vital_category, recorded_dttm_min, vital_value]\n",
       "Index: []"
      ]
     },
     "execution_count": 31,
     "metadata": {},
     "output_type": "execute_result"
    }
   ],
   "source": [
    "# Count duplicates\n",
    "duplicates = vit.duplicated(\n",
    "    subset=[\"hospitalization_id\", \"vital_category\", \"recorded_dttm_min\"], keep=False\n",
    ")\n",
    "\n",
    "# Show any duplicates (should be empty if grouping worked correctly)\n",
    "vit[duplicates]"
   ]
  },
  {
   "cell_type": "markdown",
   "metadata": {},
   "source": [
    "### Med Unit Conversion"
   ]
  },
  {
   "cell_type": "code",
   "execution_count": 32,
   "metadata": {},
   "outputs": [
    {
     "name": "stdout",
     "output_type": "stream",
     "text": [
      "mac rows: (488363, 5) New mac rows: (488363, 6)\n"
     ]
    }
   ],
   "source": [
    "vit_weight.rename(\n",
    "    {\"vital_category\": \"med_category\", \"recorded_dttm_min\": \"admin_dttm\"},\n",
    "    axis=\"columns\",\n",
    "    inplace=True,\n",
    ")\n",
    "\n",
    "new_mac = pd.concat([mac, vit_weight], ignore_index=True)\n",
    "\n",
    "new_mac = new_mac.sort_values(by=[\"hospitalization_id\", \"admin_dttm\"])\n",
    "\n",
    "new_mac[\"vital_value\"] = (\n",
    "    new_mac.groupby(\"hospitalization_id\")[\"vital_value\"].ffill().bfill()\n",
    ")\n",
    "\n",
    "new_mac = new_mac[~(new_mac[\"med_category\"] == \"weight_kg\")].reset_index(drop=True)\n",
    "\n",
    "print(\"mac rows:\", mac.shape, \"New mac rows:\", new_mac.shape)\n",
    "# del vit_weight"
   ]
  },
  {
   "cell_type": "code",
   "execution_count": 33,
   "metadata": {},
   "outputs": [
    {
     "data": {
      "application/vnd.microsoft.datawrangler.viewer.v0+json": {
       "columns": [
        {
         "name": "index",
         "rawType": "int64",
         "type": "integer"
        },
        {
         "name": "hospitalization_id",
         "rawType": "object",
         "type": "string"
        },
        {
         "name": "admin_dttm",
         "rawType": "datetime64[ns]",
         "type": "datetime"
        },
        {
         "name": "med_dose",
         "rawType": "float64",
         "type": "float"
        },
        {
         "name": "med_category",
         "rawType": "object",
         "type": "string"
        },
        {
         "name": "med_dose_unit",
         "rawType": "object",
         "type": "string"
        },
        {
         "name": "vital_value",
         "rawType": "float64",
         "type": "float"
        }
       ],
       "conversionMethod": "pd.DataFrame",
       "ref": "ac522554-fa21-40d3-94cf-df314be11933",
       "rows": [
        [
         "0",
         "10015",
         "2022-04-06 10:00:00",
         "10.0",
         "dobutamine",
         "mcg/kg/min",
         "78.5622"
        ],
        [
         "1",
         "10015",
         "2022-04-06 11:00:00",
         "0.0",
         "dobutamine",
         "mcg/kg/min",
         "78.5622"
        ],
        [
         "2",
         "10015",
         "2022-04-17 20:30:00",
         "0.03",
         "vasopressin",
         "units/min",
         "78.1086"
        ],
        [
         "3",
         "10015",
         "2022-04-18 03:08:00",
         "30.0",
         "propofol",
         "mcg/kg/min",
         "78.1086"
        ],
        [
         "4",
         "10015",
         "2022-04-18 03:08:00",
         "30.0",
         "propofol",
         "mcg/kg/min",
         "78.1086"
        ]
       ],
       "shape": {
        "columns": 6,
        "rows": 5
       }
      },
      "text/html": [
       "<div>\n",
       "<style scoped>\n",
       "    .dataframe tbody tr th:only-of-type {\n",
       "        vertical-align: middle;\n",
       "    }\n",
       "\n",
       "    .dataframe tbody tr th {\n",
       "        vertical-align: top;\n",
       "    }\n",
       "\n",
       "    .dataframe thead th {\n",
       "        text-align: right;\n",
       "    }\n",
       "</style>\n",
       "<table border=\"1\" class=\"dataframe\">\n",
       "  <thead>\n",
       "    <tr style=\"text-align: right;\">\n",
       "      <th></th>\n",
       "      <th>hospitalization_id</th>\n",
       "      <th>admin_dttm</th>\n",
       "      <th>med_dose</th>\n",
       "      <th>med_category</th>\n",
       "      <th>med_dose_unit</th>\n",
       "      <th>vital_value</th>\n",
       "    </tr>\n",
       "  </thead>\n",
       "  <tbody>\n",
       "    <tr>\n",
       "      <th>0</th>\n",
       "      <td>10015</td>\n",
       "      <td>2022-04-06 10:00:00</td>\n",
       "      <td>10.00</td>\n",
       "      <td>dobutamine</td>\n",
       "      <td>mcg/kg/min</td>\n",
       "      <td>78.5622</td>\n",
       "    </tr>\n",
       "    <tr>\n",
       "      <th>1</th>\n",
       "      <td>10015</td>\n",
       "      <td>2022-04-06 11:00:00</td>\n",
       "      <td>0.00</td>\n",
       "      <td>dobutamine</td>\n",
       "      <td>mcg/kg/min</td>\n",
       "      <td>78.5622</td>\n",
       "    </tr>\n",
       "    <tr>\n",
       "      <th>2</th>\n",
       "      <td>10015</td>\n",
       "      <td>2022-04-17 20:30:00</td>\n",
       "      <td>0.03</td>\n",
       "      <td>vasopressin</td>\n",
       "      <td>units/min</td>\n",
       "      <td>78.1086</td>\n",
       "    </tr>\n",
       "    <tr>\n",
       "      <th>3</th>\n",
       "      <td>10015</td>\n",
       "      <td>2022-04-18 03:08:00</td>\n",
       "      <td>30.00</td>\n",
       "      <td>propofol</td>\n",
       "      <td>mcg/kg/min</td>\n",
       "      <td>78.1086</td>\n",
       "    </tr>\n",
       "    <tr>\n",
       "      <th>4</th>\n",
       "      <td>10015</td>\n",
       "      <td>2022-04-18 03:08:00</td>\n",
       "      <td>30.00</td>\n",
       "      <td>propofol</td>\n",
       "      <td>mcg/kg/min</td>\n",
       "      <td>78.1086</td>\n",
       "    </tr>\n",
       "  </tbody>\n",
       "</table>\n",
       "</div>"
      ],
      "text/plain": [
       "  hospitalization_id          admin_dttm  med_dose med_category med_dose_unit  \\\n",
       "0              10015 2022-04-06 10:00:00     10.00   dobutamine    mcg/kg/min   \n",
       "1              10015 2022-04-06 11:00:00      0.00   dobutamine    mcg/kg/min   \n",
       "2              10015 2022-04-17 20:30:00      0.03  vasopressin     units/min   \n",
       "3              10015 2022-04-18 03:08:00     30.00     propofol    mcg/kg/min   \n",
       "4              10015 2022-04-18 03:08:00     30.00     propofol    mcg/kg/min   \n",
       "\n",
       "   vital_value  \n",
       "0      78.5622  \n",
       "1      78.5622  \n",
       "2      78.1086  \n",
       "3      78.1086  \n",
       "4      78.1086  "
      ]
     },
     "execution_count": 33,
     "metadata": {},
     "output_type": "execute_result"
    }
   ],
   "source": [
    "new_mac.head(5)"
   ]
  },
  {
   "cell_type": "code",
   "execution_count": 34,
   "metadata": {},
   "outputs": [
    {
     "name": "stderr",
     "output_type": "stream",
     "text": [
      "Converting medication doses: 100%|██████████| 488363/488363 [00:43<00:00, 11116.29it/s]\n"
     ]
    }
   ],
   "source": [
    "# The med_unit_info dictionary\n",
    "med_unit_info = {\n",
    "    'norepinephrine': {\n",
    "        'required_unit': 'mcg/kg/min',\n",
    "        'acceptable_units': ['mcg/kg/min', 'mcg/kg/hr', 'mg/kg/hr', 'mcg/min', 'mg/hr'],\n",
    "    },\n",
    "    'epinephrine': {\n",
    "        'required_unit': 'mcg/kg/min',\n",
    "        'acceptable_units': ['mcg/kg/min', 'mcg/kg/hr', 'mg/kg/hr', 'mcg/min', 'mg/hr'],\n",
    "    },\n",
    "    'phenylephrine': {\n",
    "        'required_unit': 'mcg/kg/min',\n",
    "        'acceptable_units': ['mcg/kg/min', 'mcg/kg/hr', 'mg/kg/hr', 'mcg/min', 'mg/hr'],\n",
    "    },\n",
    "    'angiotensin': {\n",
    "        'required_unit': 'ng/kg/min',\n",
    "        'acceptable_units': ['ng/kg/min', 'ng/kg/hr'],\n",
    "    },\n",
    "    'vasopressin': {\n",
    "        'required_unit': 'units/min',\n",
    "        'acceptable_units': ['units/min', 'units/hr', 'milliunits/min', 'milliunits/hr'],\n",
    "    },\n",
    "    'dopamine': {\n",
    "        'required_unit': 'mcg/kg/min',\n",
    "        'acceptable_units': ['mcg/kg/min', 'mcg/kg/hr', 'mg/kg/hr', 'mcg/min', 'mg/hr'],\n",
    "    },\n",
    "    'dobutamine': {\n",
    "        'required_unit': 'mcg/kg/min',\n",
    "        'acceptable_units': ['mcg/kg/min', 'mcg/kg/hr', 'mg/kg/hr', 'mcg/min', 'mg/hr'],\n",
    "    },\n",
    "    'milrinone': {\n",
    "        'required_unit': 'mcg/kg/min',\n",
    "        'acceptable_units': ['mcg/kg/min', 'mcg/kg/hr', 'mg/kg/hr', 'mcg/min', 'mg/hr'],\n",
    "    },\n",
    "    'isoproterenol': {\n",
    "        'required_unit': 'mcg/kg/min',\n",
    "        'acceptable_units': ['mcg/kg/min', 'mcg/kg/hr', 'mg/kg/hr', 'mcg/min', 'mg/hr'],\n",
    "    },\n",
    "}\n",
    "\n",
    "def convert_med_dose(row):\n",
    "    category = row['med_category']\n",
    "    # If the category is not in our dictionary, skip conversion.\n",
    "    if category not in med_unit_info:\n",
    "        return row\n",
    "    \n",
    "    info = med_unit_info[category]\n",
    "    required_unit = info['required_unit']\n",
    "    acceptable_units = info['acceptable_units']\n",
    "    \n",
    "    current_unit = row['med_dose_unit']\n",
    "    dose = row['med_dose']\n",
    "    weight = row['vital_value']  # patient's weight in kg\n",
    "\n",
    "    # If the current unit already matches the required unit, nothing to do.\n",
    "    if current_unit == required_unit:\n",
    "        return row\n",
    "\n",
    "    # If the current unit is not in the acceptable list, skip conversion.\n",
    "    if current_unit not in acceptable_units:\n",
    "        return row\n",
    "\n",
    "    # Start with a conversion factor of 1.\n",
    "    conversion_factor = 1.0\n",
    "\n",
    "    # --------------------------------------------------\n",
    "    # 1. Weight conversion: if the current unit is per kg but the required is not,\n",
    "    # then multiply by the patient’s weight.\n",
    "    if 'kg' in current_unit and 'kg' not in required_unit:\n",
    "        conversion_factor *= weight\n",
    "    elif 'kg' not in current_unit and 'kg' in required_unit:\n",
    "        conversion_factor /= weight\n",
    "\n",
    "    # --------------------------------------------------\n",
    "    # 2. Time conversion: convert from per hour to per minute or vice versa.\n",
    "    if 'hr' in current_unit and 'min' in required_unit:\n",
    "        conversion_factor /= 60.0\n",
    "    elif 'min' in current_unit and 'hr' in required_unit:\n",
    "        conversion_factor *= 60.0\n",
    "\n",
    "    # --------------------------------------------------\n",
    "    # 3. Medication unit conversion (e.g., mg to mcg, milliunits to units)\n",
    "    # We assume the first part (before the first '/') is the measurement unit.\n",
    "    current_med_unit = current_unit.split('/')[0]\n",
    "    required_med_unit = required_unit.split('/')[0]\n",
    "\n",
    "    med_conversion = {\n",
    "        ('mg', 'mcg'): 1000,\n",
    "        ('mcg', 'mg'): 0.001,\n",
    "        ('milliunits', 'units'): 0.001,\n",
    "        ('units', 'milliunits'): 1000,\n",
    "    }\n",
    "\n",
    "    if current_med_unit != required_med_unit:\n",
    "        factor = med_conversion.get((current_med_unit, required_med_unit))\n",
    "        if factor is not None:\n",
    "            conversion_factor *= factor\n",
    "        else:\n",
    "            # If no conversion factor is defined, skip conversion.\n",
    "            return row\n",
    "\n",
    "    # --------------------------------------------------\n",
    "    # Apply the conversion\n",
    "    new_dose = dose * conversion_factor\n",
    "\n",
    "    # Update the row with the converted dose and unit.\n",
    "    row['med_dose'] = new_dose\n",
    "    row['med_dose_unit'] = required_unit\n",
    "    return row\n",
    "\n",
    "# Apply the conversion function with tqdm for progress tracking\n",
    "tqdm.pandas(desc=\"Converting medication doses\")\n",
    "new_mac = new_mac.progress_apply(convert_med_dose, axis=1)"
   ]
  },
  {
   "cell_type": "code",
   "execution_count": 35,
   "metadata": {},
   "outputs": [
    {
     "data": {
      "application/vnd.microsoft.datawrangler.viewer.v0+json": {
       "columns": [
        {
         "name": "index",
         "rawType": "int64",
         "type": "integer"
        },
        {
         "name": "med_category",
         "rawType": "object",
         "type": "string"
        },
        {
         "name": "med_dose_unit",
         "rawType": "object",
         "type": "string"
        },
        {
         "name": "total_N",
         "rawType": "int64",
         "type": "integer"
        },
        {
         "name": "min",
         "rawType": "float64",
         "type": "float"
        },
        {
         "name": "max",
         "rawType": "float64",
         "type": "float"
        },
        {
         "name": "first_quantile",
         "rawType": "float64",
         "type": "float"
        },
        {
         "name": "second_quantile",
         "rawType": "float64",
         "type": "float"
        },
        {
         "name": "third_quantile",
         "rawType": "float64",
         "type": "float"
        },
        {
         "name": "missing_values",
         "rawType": "int64",
         "type": "integer"
        }
       ],
       "conversionMethod": "pd.DataFrame",
       "ref": "76598070-17bb-47cb-a031-79ab3157014f",
       "rows": [
        [
         "0",
         "cisatracurium",
         "mcg/kg/min",
         "988",
         "0.0",
         "9.0",
         "3.0",
         "3.0",
         "3.0",
         "0"
        ],
        [
         "1",
         "dobutamine",
         "mcg/kg/min",
         "8281",
         "0.0",
         "30.0",
         "2.0",
         "2.5",
         "4.0",
         "0"
        ],
        [
         "2",
         "dopamine",
         "mcg/kg/min",
         "360",
         "0.0",
         "40.0",
         "2.5",
         "5.0",
         "7.5",
         "0"
        ],
        [
         "3",
         "epinephrine",
         "mcg/kg/min",
         "13408",
         "0.0",
         "2.77062034189455",
         "0.03925455598190365",
         "0.13245155915352858",
         "0.30063042199492335",
         "0"
        ],
        [
         "4",
         "fentanyl",
         "mcg/hr",
         "54642",
         "0.0",
         "13750.0",
         "25.0",
         "100.0",
         "175.0",
         "0"
        ],
        [
         "5",
         "fentanyl",
         "mcg/kg/hr",
         "1",
         "5.0",
         "5.0",
         "5.0",
         "5.0",
         "5.0",
         "0"
        ],
        [
         "6",
         "hydromorphone",
         "mg/hr",
         "2495",
         "0.0",
         "40.0",
         "1.0",
         "3.0",
         "4.5",
         "0"
        ],
        [
         "7",
         "isoproterenol",
         "mcg/kg/min",
         "3",
         "0.0",
         "0.045802016204753326",
         "0.015267338734917776",
         "0.030534677469835552",
         "0.03816834683729444",
         "0"
        ],
        [
         "8",
         "lorazepam",
         "mg/hr",
         "12",
         "0.0",
         "4.0",
         "0.0",
         "2.0",
         "4.0",
         "0"
        ],
        [
         "9",
         "midazolam",
         "mg/hr",
         "2218",
         "0.0",
         "50.0",
         "2.0",
         "4.5",
         "9.0",
         "0"
        ],
        [
         "10",
         "midazolam",
         "mg/kg/hr",
         "1124",
         "0.0",
         "37.5",
         "0.1",
         "0.2",
         "0.6",
         "0"
        ],
        [
         "11",
         "milrinone",
         "mcg/kg/min",
         "8332",
         "0.0",
         "13.51",
         "0.125",
         "0.25",
         "0.375",
         "0"
        ],
        [
         "12",
         "morphine",
         "mg/hr",
         "1173",
         "0.0",
         "50.0",
         "1.5",
         "3.5",
         "7.0",
         "0"
        ],
        [
         "13",
         "norepinephrine",
         "mcg/kg/min",
         "265446",
         "0.0",
         "17.11046133606087",
         "0.04179776361065801",
         "0.09263118892130981",
         "0.20042008048870433",
         "0"
        ],
        [
         "14",
         "phenylephrine",
         "mcg/kg/min",
         "12584",
         "0.0",
         "21.94465779528412",
         "0.36390419712544797",
         "0.9823259907739943",
         "2.260916977656304",
         "0"
        ],
        [
         "15",
         "propofol",
         "mcg/kg/min",
         "103870",
         "0.0",
         "500.0",
         "10.0",
         "25.0",
         "40.0",
         "0"
        ],
        [
         "16",
         "vasopressin",
         "units/min",
         "13426",
         "0.0",
         "39.85",
         "0.03",
         "0.03",
         "0.03",
         "0"
        ]
       ],
       "shape": {
        "columns": 9,
        "rows": 17
       }
      },
      "text/html": [
       "<div>\n",
       "<style scoped>\n",
       "    .dataframe tbody tr th:only-of-type {\n",
       "        vertical-align: middle;\n",
       "    }\n",
       "\n",
       "    .dataframe tbody tr th {\n",
       "        vertical-align: top;\n",
       "    }\n",
       "\n",
       "    .dataframe thead th {\n",
       "        text-align: right;\n",
       "    }\n",
       "</style>\n",
       "<table border=\"1\" class=\"dataframe\">\n",
       "  <thead>\n",
       "    <tr style=\"text-align: right;\">\n",
       "      <th></th>\n",
       "      <th>med_category</th>\n",
       "      <th>med_dose_unit</th>\n",
       "      <th>total_N</th>\n",
       "      <th>min</th>\n",
       "      <th>max</th>\n",
       "      <th>first_quantile</th>\n",
       "      <th>second_quantile</th>\n",
       "      <th>third_quantile</th>\n",
       "      <th>missing_values</th>\n",
       "    </tr>\n",
       "  </thead>\n",
       "  <tbody>\n",
       "    <tr>\n",
       "      <th>0</th>\n",
       "      <td>cisatracurium</td>\n",
       "      <td>mcg/kg/min</td>\n",
       "      <td>988</td>\n",
       "      <td>0.0</td>\n",
       "      <td>9.000000</td>\n",
       "      <td>3.000000</td>\n",
       "      <td>3.000000</td>\n",
       "      <td>3.000000</td>\n",
       "      <td>0</td>\n",
       "    </tr>\n",
       "    <tr>\n",
       "      <th>1</th>\n",
       "      <td>dobutamine</td>\n",
       "      <td>mcg/kg/min</td>\n",
       "      <td>8281</td>\n",
       "      <td>0.0</td>\n",
       "      <td>30.000000</td>\n",
       "      <td>2.000000</td>\n",
       "      <td>2.500000</td>\n",
       "      <td>4.000000</td>\n",
       "      <td>0</td>\n",
       "    </tr>\n",
       "    <tr>\n",
       "      <th>2</th>\n",
       "      <td>dopamine</td>\n",
       "      <td>mcg/kg/min</td>\n",
       "      <td>360</td>\n",
       "      <td>0.0</td>\n",
       "      <td>40.000000</td>\n",
       "      <td>2.500000</td>\n",
       "      <td>5.000000</td>\n",
       "      <td>7.500000</td>\n",
       "      <td>0</td>\n",
       "    </tr>\n",
       "    <tr>\n",
       "      <th>3</th>\n",
       "      <td>epinephrine</td>\n",
       "      <td>mcg/kg/min</td>\n",
       "      <td>13408</td>\n",
       "      <td>0.0</td>\n",
       "      <td>2.770620</td>\n",
       "      <td>0.039255</td>\n",
       "      <td>0.132452</td>\n",
       "      <td>0.300630</td>\n",
       "      <td>0</td>\n",
       "    </tr>\n",
       "    <tr>\n",
       "      <th>4</th>\n",
       "      <td>fentanyl</td>\n",
       "      <td>mcg/hr</td>\n",
       "      <td>54642</td>\n",
       "      <td>0.0</td>\n",
       "      <td>13750.000000</td>\n",
       "      <td>25.000000</td>\n",
       "      <td>100.000000</td>\n",
       "      <td>175.000000</td>\n",
       "      <td>0</td>\n",
       "    </tr>\n",
       "    <tr>\n",
       "      <th>5</th>\n",
       "      <td>fentanyl</td>\n",
       "      <td>mcg/kg/hr</td>\n",
       "      <td>1</td>\n",
       "      <td>5.0</td>\n",
       "      <td>5.000000</td>\n",
       "      <td>5.000000</td>\n",
       "      <td>5.000000</td>\n",
       "      <td>5.000000</td>\n",
       "      <td>0</td>\n",
       "    </tr>\n",
       "    <tr>\n",
       "      <th>6</th>\n",
       "      <td>hydromorphone</td>\n",
       "      <td>mg/hr</td>\n",
       "      <td>2495</td>\n",
       "      <td>0.0</td>\n",
       "      <td>40.000000</td>\n",
       "      <td>1.000000</td>\n",
       "      <td>3.000000</td>\n",
       "      <td>4.500000</td>\n",
       "      <td>0</td>\n",
       "    </tr>\n",
       "    <tr>\n",
       "      <th>7</th>\n",
       "      <td>isoproterenol</td>\n",
       "      <td>mcg/kg/min</td>\n",
       "      <td>3</td>\n",
       "      <td>0.0</td>\n",
       "      <td>0.045802</td>\n",
       "      <td>0.015267</td>\n",
       "      <td>0.030535</td>\n",
       "      <td>0.038168</td>\n",
       "      <td>0</td>\n",
       "    </tr>\n",
       "    <tr>\n",
       "      <th>8</th>\n",
       "      <td>lorazepam</td>\n",
       "      <td>mg/hr</td>\n",
       "      <td>12</td>\n",
       "      <td>0.0</td>\n",
       "      <td>4.000000</td>\n",
       "      <td>0.000000</td>\n",
       "      <td>2.000000</td>\n",
       "      <td>4.000000</td>\n",
       "      <td>0</td>\n",
       "    </tr>\n",
       "    <tr>\n",
       "      <th>9</th>\n",
       "      <td>midazolam</td>\n",
       "      <td>mg/hr</td>\n",
       "      <td>2218</td>\n",
       "      <td>0.0</td>\n",
       "      <td>50.000000</td>\n",
       "      <td>2.000000</td>\n",
       "      <td>4.500000</td>\n",
       "      <td>9.000000</td>\n",
       "      <td>0</td>\n",
       "    </tr>\n",
       "    <tr>\n",
       "      <th>10</th>\n",
       "      <td>midazolam</td>\n",
       "      <td>mg/kg/hr</td>\n",
       "      <td>1124</td>\n",
       "      <td>0.0</td>\n",
       "      <td>37.500000</td>\n",
       "      <td>0.100000</td>\n",
       "      <td>0.200000</td>\n",
       "      <td>0.600000</td>\n",
       "      <td>0</td>\n",
       "    </tr>\n",
       "    <tr>\n",
       "      <th>11</th>\n",
       "      <td>milrinone</td>\n",
       "      <td>mcg/kg/min</td>\n",
       "      <td>8332</td>\n",
       "      <td>0.0</td>\n",
       "      <td>13.510000</td>\n",
       "      <td>0.125000</td>\n",
       "      <td>0.250000</td>\n",
       "      <td>0.375000</td>\n",
       "      <td>0</td>\n",
       "    </tr>\n",
       "    <tr>\n",
       "      <th>12</th>\n",
       "      <td>morphine</td>\n",
       "      <td>mg/hr</td>\n",
       "      <td>1173</td>\n",
       "      <td>0.0</td>\n",
       "      <td>50.000000</td>\n",
       "      <td>1.500000</td>\n",
       "      <td>3.500000</td>\n",
       "      <td>7.000000</td>\n",
       "      <td>0</td>\n",
       "    </tr>\n",
       "    <tr>\n",
       "      <th>13</th>\n",
       "      <td>norepinephrine</td>\n",
       "      <td>mcg/kg/min</td>\n",
       "      <td>265446</td>\n",
       "      <td>0.0</td>\n",
       "      <td>17.110461</td>\n",
       "      <td>0.041798</td>\n",
       "      <td>0.092631</td>\n",
       "      <td>0.200420</td>\n",
       "      <td>0</td>\n",
       "    </tr>\n",
       "    <tr>\n",
       "      <th>14</th>\n",
       "      <td>phenylephrine</td>\n",
       "      <td>mcg/kg/min</td>\n",
       "      <td>12584</td>\n",
       "      <td>0.0</td>\n",
       "      <td>21.944658</td>\n",
       "      <td>0.363904</td>\n",
       "      <td>0.982326</td>\n",
       "      <td>2.260917</td>\n",
       "      <td>0</td>\n",
       "    </tr>\n",
       "    <tr>\n",
       "      <th>15</th>\n",
       "      <td>propofol</td>\n",
       "      <td>mcg/kg/min</td>\n",
       "      <td>103870</td>\n",
       "      <td>0.0</td>\n",
       "      <td>500.000000</td>\n",
       "      <td>10.000000</td>\n",
       "      <td>25.000000</td>\n",
       "      <td>40.000000</td>\n",
       "      <td>0</td>\n",
       "    </tr>\n",
       "    <tr>\n",
       "      <th>16</th>\n",
       "      <td>vasopressin</td>\n",
       "      <td>units/min</td>\n",
       "      <td>13426</td>\n",
       "      <td>0.0</td>\n",
       "      <td>39.850000</td>\n",
       "      <td>0.030000</td>\n",
       "      <td>0.030000</td>\n",
       "      <td>0.030000</td>\n",
       "      <td>0</td>\n",
       "    </tr>\n",
       "  </tbody>\n",
       "</table>\n",
       "</div>"
      ],
      "text/plain": [
       "      med_category med_dose_unit  total_N  min           max  first_quantile  \\\n",
       "0    cisatracurium    mcg/kg/min      988  0.0      9.000000        3.000000   \n",
       "1       dobutamine    mcg/kg/min     8281  0.0     30.000000        2.000000   \n",
       "2         dopamine    mcg/kg/min      360  0.0     40.000000        2.500000   \n",
       "3      epinephrine    mcg/kg/min    13408  0.0      2.770620        0.039255   \n",
       "4         fentanyl        mcg/hr    54642  0.0  13750.000000       25.000000   \n",
       "5         fentanyl     mcg/kg/hr        1  5.0      5.000000        5.000000   \n",
       "6    hydromorphone         mg/hr     2495  0.0     40.000000        1.000000   \n",
       "7    isoproterenol    mcg/kg/min        3  0.0      0.045802        0.015267   \n",
       "8        lorazepam         mg/hr       12  0.0      4.000000        0.000000   \n",
       "9        midazolam         mg/hr     2218  0.0     50.000000        2.000000   \n",
       "10       midazolam      mg/kg/hr     1124  0.0     37.500000        0.100000   \n",
       "11       milrinone    mcg/kg/min     8332  0.0     13.510000        0.125000   \n",
       "12        morphine         mg/hr     1173  0.0     50.000000        1.500000   \n",
       "13  norepinephrine    mcg/kg/min   265446  0.0     17.110461        0.041798   \n",
       "14   phenylephrine    mcg/kg/min    12584  0.0     21.944658        0.363904   \n",
       "15        propofol    mcg/kg/min   103870  0.0    500.000000       10.000000   \n",
       "16     vasopressin     units/min    13426  0.0     39.850000        0.030000   \n",
       "\n",
       "    second_quantile  third_quantile  missing_values  \n",
       "0          3.000000        3.000000               0  \n",
       "1          2.500000        4.000000               0  \n",
       "2          5.000000        7.500000               0  \n",
       "3          0.132452        0.300630               0  \n",
       "4        100.000000      175.000000               0  \n",
       "5          5.000000        5.000000               0  \n",
       "6          3.000000        4.500000               0  \n",
       "7          0.030535        0.038168               0  \n",
       "8          2.000000        4.000000               0  \n",
       "9          4.500000        9.000000               0  \n",
       "10         0.200000        0.600000               0  \n",
       "11         0.250000        0.375000               0  \n",
       "12         3.500000        7.000000               0  \n",
       "13         0.092631        0.200420               0  \n",
       "14         0.982326        2.260917               0  \n",
       "15        25.000000       40.000000               0  \n",
       "16         0.030000        0.030000               0  "
      ]
     },
     "execution_count": 35,
     "metadata": {},
     "output_type": "execute_result"
    }
   ],
   "source": [
    "# Create a summary table for each med_category\n",
    "summary_table = (\n",
    "    new_mac.groupby([\"med_category\", \"med_dose_unit\"])\n",
    "    .agg(\n",
    "        total_N=(\"med_category\", \"size\"),\n",
    "        min=(\"med_dose\", \"min\"),\n",
    "        max=(\"med_dose\", \"max\"),\n",
    "        first_quantile=(\"med_dose\", lambda x: x.quantile(0.25)),\n",
    "        second_quantile=(\"med_dose\", lambda x: x.quantile(0.5)),\n",
    "        third_quantile=(\"med_dose\", lambda x: x.quantile(0.75)),\n",
    "        missing_values=(\"med_dose\", lambda x: x.isna().sum()),\n",
    "    )\n",
    "    .reset_index()\n",
    ")\n",
    "\n",
    "## check the distrbituon of required continuous meds\n",
    "summary_table"
   ]
  },
  {
   "cell_type": "markdown",
   "metadata": {},
   "source": [
    "## Wide Dataset"
   ]
  },
  {
   "cell_type": "code",
   "execution_count": 36,
   "metadata": {},
   "outputs": [
    {
     "name": "stdout",
     "output_type": "stream",
     "text": [
      "Count with hours and minutes: 1824960\n",
      "Count without hours and minutes: 0\n"
     ]
    }
   ],
   "source": [
    "duckdb.register(\"base\", base)\n",
    "duckdb.register(\"pat_at\", pat_at)\n",
    "duckdb.register(\"rst\", rst)\n",
    "duckdb.register(\"mac\", new_mac)\n",
    "duckdb.register('adt',adt)\n",
    "duckdb.register('vit',vit)\n",
    "\n",
    "q=\"\"\"\n",
    "WITH\n",
    "    uni_event_dttm as (\n",
    "        select distinct\n",
    "            hospitalization_id,\n",
    "            event_time\n",
    "        from\n",
    "            (\n",
    "                SELECT\n",
    "                    hospitalization_id,\n",
    "                    in_dttm AS event_time\n",
    "                FROM\n",
    "                    adt\n",
    "                where\n",
    "                    in_dttm is not null\n",
    "                UNION\n",
    "                SELECT\n",
    "                    hospitalization_id,\n",
    "                    recorded_dttm AS event_time\n",
    "                FROM\n",
    "                    rst\n",
    "                where\n",
    "                    recorded_dttm is not null\n",
    "                UNION\n",
    "                SELECT\n",
    "                    hospitalization_id,\n",
    "                    recorded_dttm AS event_time\n",
    "                FROM\n",
    "                    pat_at\n",
    "                where\n",
    "                    recorded_dttm is not null\n",
    "                UNION\n",
    "                SELECT\n",
    "                    hospitalization_id,\n",
    "                    admin_dttm AS event_time\n",
    "                FROM\n",
    "                    mac\n",
    "                where\n",
    "                    admin_dttm is not null\n",
    "                UNION\n",
    "                SELECT\n",
    "                    hospitalization_id,\n",
    "                    recorded_dttm_min AS event_time\n",
    "                FROM\n",
    "                    vit\n",
    "                where\n",
    "                    recorded_dttm_min is not null\n",
    "            ) uni_time\n",
    "    )\n",
    "select distinct\n",
    "    patient_id,\n",
    "    a.hospitalization_id,\n",
    "    admission_dttm,\n",
    "    discharge_dttm,\n",
    "    age_at_admission,\n",
    "    discharge_category,\n",
    "    sex_category,\n",
    "    race_category,\n",
    "    ethnicity_category,\n",
    "    language_name,\n",
    "    event_time\n",
    "from\n",
    "    base a\n",
    "    left join uni_event_dttm b on a.hospitalization_id = b.hospitalization_id\n",
    "\"\"\"\n",
    "wide_cohort_df = duckdb.sql(q).df()\n",
    "pc.deftime(wide_cohort_df['event_time'])"
   ]
  },
  {
   "cell_type": "markdown",
   "metadata": {},
   "source": [
    "#### pivots for assessment and mac table "
   ]
  },
  {
   "cell_type": "code",
   "execution_count": 37,
   "metadata": {},
   "outputs": [],
   "source": [
    "query = \"\"\"\n",
    "WITH pas_data AS (\n",
    "    SELECT  distinct assessment_value ,\tassessment_category\t,\n",
    "    hospitalization_id || '_' || strftime(recorded_dttm, '%Y%m%d%H%M') AS combo_id\n",
    "    FROM pat_at where recorded_dttm is not null \n",
    ") \n",
    "PIVOT pas_data\n",
    "ON assessment_category\n",
    "USING first(assessment_value)\n",
    "GROUP BY combo_id\n",
    "\"\"\"\n",
    "p_pas = duckdb.sql(query).df()\n",
    "\n",
    "query = \"\"\"\n",
    "WITH mac_data AS (\n",
    "    SELECT  distinct med_dose ,\tmed_category\t,\n",
    "    hospitalization_id || '_' || strftime(admin_dttm, '%Y%m%d%H%M') AS combo_id\n",
    "    FROM mac where admin_dttm is not null \n",
    ") \n",
    "PIVOT mac_data\n",
    "ON med_category\n",
    "USING min(med_dose)\n",
    "GROUP BY combo_id\n",
    "\"\"\"\n",
    "p_mac = duckdb.sql(query).df()\n",
    "\n"
   ]
  },
  {
   "cell_type": "code",
   "execution_count": 38,
   "metadata": {},
   "outputs": [],
   "source": [
    "\n",
    "query = \"\"\"\n",
    "WITH vital_data AS (\n",
    "    SELECT  distinct vital_category,\tvital_value\t,\n",
    "    hospitalization_id || '_' || strftime(recorded_dttm_min, '%Y%m%d%H%M') AS combo_id\n",
    "    FROM vit where recorded_dttm_min is not null \n",
    ")\n",
    "PIVOT vital_data\n",
    "ON vital_category\n",
    "USING first(vital_value)\n",
    "GROUP BY combo_id\n",
    "\"\"\"\n",
    "p_vitals = duckdb.sql(query).df()"
   ]
  },
  {
   "cell_type": "markdown",
   "metadata": {},
   "source": [
    "#### id-ing all unique timestamps"
   ]
  },
  {
   "cell_type": "code",
   "execution_count": 39,
   "metadata": {},
   "outputs": [],
   "source": [
    "duckdb.register(\"expanded_df\", wide_cohort_df)\n",
    "duckdb.register(\"p_pas\", p_pas)\n",
    "duckdb.register(\"p_mac\", p_mac)\n",
    "\n",
    "q=\"\"\"\n",
    "  WITH\n",
    "    u_rst as (\n",
    "        select\n",
    "            *,\n",
    "            hospitalization_id || '_' || strftime (recorded_dttm, '%Y%m%d%H%M') AS combo_id\n",
    "        from\n",
    "            rst\n",
    "    ),\n",
    "    u_adt as (\n",
    "        select\n",
    "            *,\n",
    "            hospitalization_id || '_' || strftime (in_dttm, '%Y%m%d%H%M') AS combo_id\n",
    "        from\n",
    "            adt\n",
    "    ),\n",
    "    u_expanded_df as (\n",
    "        select\n",
    "            *,\n",
    "            hospitalization_id || '_' || strftime (event_time, '%Y%m%d%H%M') AS combo_id\n",
    "        from\n",
    "            expanded_df\n",
    "    )\n",
    "select\n",
    "    *\n",
    "from\n",
    "    u_expanded_df a\n",
    "    left join u_adt d on a.combo_id = d.combo_id\n",
    "    left join u_rst e on a.combo_id = e.combo_id\n",
    "    left join p_mac g on a.combo_id = g.combo_id\n",
    "    left join p_pas h on a.combo_id = h.combo_id\n",
    "    left join p_vitals i on a.combo_id=i.combo_id \n",
    "\n",
    "                    \n",
    "\"\"\"\n",
    "\n",
    "all_join_df = duckdb.sql(q).df().drop_duplicates()"
   ]
  },
  {
   "cell_type": "code",
   "execution_count": 40,
   "metadata": {},
   "outputs": [
    {
     "data": {
      "text/plain": [
       "(1824966, 66)"
      ]
     },
     "execution_count": 40,
     "metadata": {},
     "output_type": "execute_result"
    }
   ],
   "source": [
    "all_join_df.shape"
   ]
  },
  {
   "cell_type": "code",
   "execution_count": 41,
   "metadata": {},
   "outputs": [
    {
     "data": {
      "text/plain": [
       "(1824960, 11)"
      ]
     },
     "execution_count": 41,
     "metadata": {},
     "output_type": "execute_result"
    }
   ],
   "source": [
    "wide_cohort_df.shape"
   ]
  },
  {
   "cell_type": "code",
   "execution_count": 42,
   "metadata": {},
   "outputs": [],
   "source": [
    "# all_join_df.drop(columns= ['hospitalization_id_2','hospitalization_id_3','combo_id', 'combo_id_2' ,'combo_id_3','combo_id_4','combo_id_5','recorded_dttm','combo_id_6','in_dttm'], axis = 1,inplace=True)\n",
    "\n",
    "all_join_df[\"event_time\"] = pd.to_datetime(all_join_df[\"event_time\"])\n",
    "all_join_df[\"date\"] = all_join_df[\"event_time\"].dt.date\n",
    "\n",
    "all_join_df = all_join_df.sort_values([\"hospitalization_id\", \"event_time\"]).reset_index(\n",
    "    drop=True\n",
    ")\n",
    "\n",
    "# Assign day numbers to each 'hospitalization_id'\n",
    "all_join_df[\"day_number\"] = (\n",
    "    all_join_df.groupby(\"hospitalization_id\")[\"date\"].rank(method=\"dense\").astype(int)\n",
    ")\n",
    "\n",
    "# Create the combo_key by combining 'hospitalization_id' and 'day_number'\n",
    "all_join_df[\"hosp_id_day_key\"] = (\n",
    "    all_join_df[\"hospitalization_id\"].astype(str)\n",
    "    + \"_day_\"\n",
    "    + all_join_df[\"day_number\"].astype(str)\n",
    ")"
   ]
  },
  {
   "cell_type": "code",
   "execution_count": 43,
   "metadata": {},
   "outputs": [
    {
     "name": "stdout",
     "output_type": "stream",
     "text": [
      "mCide: 'angiotensin' is missing. Please check your CLIF Meds table, it's can be missing if your site doesn't use it.\n",
      "mCide: 'vecuronium' is missing. Please check your CLIF Meds table, it's can be missing if your site doesn't use it.\n",
      "mCide: 'rocuronium' is missing. Please check your CLIF Meds table, it's can be missing if your site doesn't use it.\n"
     ]
    }
   ],
   "source": [
    "##SAT SBT columns check\n",
    "\n",
    "columns_to_check = [\n",
    "    \"sbt_delivery_pass_fail\",\n",
    "    \"sbt_screen_pass_fail\",\n",
    "    \"sat_delivery_pass_fail\",\n",
    "    \"sat_screen_pass_fail\",\n",
    "    \"rass\",\n",
    "    \"gcs_total\",\n",
    "]\n",
    "\n",
    "for col in columns_to_check:\n",
    "    if col not in all_join_df.columns:\n",
    "        all_join_df[col] = np.nan\n",
    "        print(\n",
    "            f\"Column '{col}' is missing for your site. Filling with NaN for now. If this is unintended, please verify your data element.\"\n",
    "        )\n",
    "\n",
    "## meds check\n",
    "\n",
    "meds_check = [\n",
    "    \"norepinephrine\",\n",
    "    \"epinephrine\",\n",
    "    \"phenylephrine\",\n",
    "    \"angiotensin\",\n",
    "    \"vasopressin\",\n",
    "    \"dopamine\",\n",
    "    \"dobutamine\",\n",
    "    \"milrinone\",\n",
    "    \"isoproterenol\",\n",
    "    \"cisatracurium\",\n",
    "    \"vecuronium\",\n",
    "    \"rocuronium\",\n",
    "    \"fentanyl\",\n",
    "    \"propofol\",\n",
    "    \"lorazepam\",\n",
    "    \"midazolam\",\n",
    "    \"hydromorphone\",\n",
    "    \"morphine\",\n",
    "]\n",
    "\n",
    "for col in meds_check:\n",
    "    if col not in all_join_df.columns:\n",
    "        all_join_df[col] = np.nan\n",
    "        print(\n",
    "            f\"mCide: '{col}' is missing. Please check your CLIF Meds table, it's can be missing if your site doesn't use it.\"\n",
    "        )"
   ]
  },
  {
   "cell_type": "code",
   "execution_count": 44,
   "metadata": {},
   "outputs": [],
   "source": [
    "all_join_df.to_csv('../output/intermediate/study_cohort.csv', index=False)"
   ]
  },
  {
   "cell_type": "code",
   "execution_count": null,
   "metadata": {},
   "outputs": [
    {
     "name": "stdout",
     "output_type": "stream",
     "text": [
      "Directory '../output/final/RUSH' already exists.\n"
     ]
    }
   ],
   "source": [
    "directory_path = os.path.join(\"../output/final/\", pc.helper[\"site_name\"])\n",
    "# Create the directory if it doesn't exist\n",
    "if not os.path.exists(directory_path):\n",
    "    os.makedirs(directory_path)\n",
    "    print(f\"Directory '{directory_path}' created.\")\n",
    "else:\n",
    "    print(f\"Directory '{directory_path}' already exists.\")"
   ]
  },
  {
   "cell_type": "code",
   "execution_count": 45,
   "metadata": {},
   "outputs": [
    {
     "name": "stdout",
     "output_type": "stream",
     "text": [
      "cohort creation completed!\n"
     ]
    }
   ],
   "source": [
    "print('cohort creation completed!')"
   ]
  }
 ],
 "metadata": {
  "kernelspec": {
   "display_name": ".SBT",
   "language": "python",
   "name": "python3"
  },
  "language_info": {
   "codemirror_mode": {
    "name": "ipython",
    "version": 3
   },
   "file_extension": ".py",
   "mimetype": "text/x-python",
   "name": "python",
   "nbconvert_exporter": "python",
   "pygments_lexer": "ipython3",
   "version": "3.11.5"
  }
 },
 "nbformat": 4,
 "nbformat_minor": 2
}
