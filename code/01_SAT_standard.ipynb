{
 "cells": [
  {
   "cell_type": "code",
   "execution_count": 1,
   "metadata": {},
   "outputs": [
    {
     "name": "stdout",
     "output_type": "stream",
     "text": [
      "Loaded configuration from config.json\n",
      "{'site_name': 'RUSH', 'tables_path': 'C:/Users/vchaudha/Downloads/rush_parquet/', 'file_type': 'parquet', 'your_site_timezone': 'US/Central'}\n",
      "Imported SBT Helper!\n",
      "Loaded configuration from config.json\n"
     ]
    }
   ],
   "source": [
    "import pandas as pd\n",
    "import numpy as np\n",
    "import re\n",
    "import os\n",
    "import matplotlib.pyplot as plt\n",
    "import duckdb\n",
    "import pyCLIF as pc\n",
    "import pySBT as t1code\n",
    "from tqdm import tqdm\n",
    "from datetime import datetime\n",
    "from tableone import TableOne, load_dataset\n",
    "from sklearn.metrics import confusion_matrix, ConfusionMatrixDisplay\n",
    "con = pc.load_config()\n"
   ]
  },
  {
   "cell_type": "code",
   "execution_count": 2,
   "metadata": {},
   "outputs": [],
   "source": [
    "cohort = pd.read_csv('../output/intermediate/study_cohort.csv')\n",
    "t1_cohort = cohort.copy()"
   ]
  },
  {
   "cell_type": "code",
   "execution_count": 3,
   "metadata": {},
   "outputs": [
    {
     "name": "stdout",
     "output_type": "stream",
     "text": [
      "Directory '../output/final/RUSH\\SAT_standard' created.\n"
     ]
    }
   ],
   "source": [
    "# Construct the full directory path\n",
    "directory_path = os.path.join(\"../output/final/\", pc.helper[\"site_name\"], \"SAT_standard\")\n",
    "\n",
    "# Create the directory if it doesn't exist\n",
    "if not os.path.exists(directory_path):\n",
    "    os.makedirs(directory_path)\n",
    "    print(f\"Directory '{directory_path}' created.\")\n",
    "else:\n",
    "    print(f\"Directory '{directory_path}' already exists.\")"
   ]
  },
  {
   "cell_type": "code",
   "execution_count": 4,
   "metadata": {},
   "outputs": [],
   "source": [
    "cohort['sat_delivery_pass_fail'] = cohort['sat_delivery_pass_fail'].map({0:1,1:1})\n",
    "cohort['sat_screen_pass_fail'] = cohort['sat_screen_pass_fail'].map({0:1,1:1})"
   ]
  },
  {
   "cell_type": "code",
   "execution_count": 5,
   "metadata": {},
   "outputs": [],
   "source": [
    "# Ensure 'event_time' is in datetime format\n",
    "cohort[\"event_time\"] = pd.to_datetime(cohort[\"event_time\"])\n",
    "cohort[\"admission_dttm\"] = pd.to_datetime(cohort[\"admission_dttm\"], utc=True)\n",
    "cohort[\"discharge_dttm\"] = pd.to_datetime(cohort[\"discharge_dttm\"], utc=True)\n",
    "\n",
    "# Ensure the data is sorted by 'hosp_id_day_key' and 'event_time'\n",
    "cohort = cohort.sort_values(by=[\"hospitalization_id\", \"event_time\"]).reset_index(\n",
    "    drop=True\n",
    ")\n",
    "\n",
    "cohort[\"device_category_ffill\"] = cohort.groupby(\"hospitalization_id\")[\n",
    "    \"device_category\"\n",
    "].ffill()\n",
    "cohort[\"location_category_ffill\"] = cohort.groupby(\"hospitalization_id\")[\n",
    "    \"location_category\"\n",
    "].ffill()\n",
    "\n",
    "active_sedation_n_col = [\n",
    "    \"fentanyl\",\n",
    "    \"propofol\",\n",
    "    \"lorazepam\",\n",
    "    \"midazolam\",\n",
    "    \"hydromorphone\",\n",
    "    \"morphine\",\n",
    "]\n",
    "\n",
    "for col in active_sedation_n_col:\n",
    "    if col not in cohort.columns:\n",
    "        cohort[col] = np.nan\n",
    "        print(\n",
    "            f\"Column '{col}' is missing. Please check your CLIF Meds table — it might be missing, or it's okay if your site doesn't use it.\"\n",
    "        )\n",
    "\n",
    "\n",
    "# Fill forward the meds by hospitalization columns by 'hosp_id'\n",
    "cohort[\n",
    "    [\"fentanyl\", \"propofol\", \"lorazepam\", \"midazolam\", \"hydromorphone\", \"morphine\"]\n",
    "] = cohort.groupby(\"hospitalization_id\")[\n",
    "    [\"fentanyl\", \"propofol\", \"lorazepam\", \"midazolam\", \"hydromorphone\", \"morphine\"]\n",
    "].ffill()\n",
    "\n",
    "# Ensure the min value is greater than 0\n",
    "cohort[\"min_sedation_dose\"] = cohort[\n",
    "    [\"fentanyl\", \"propofol\", \"lorazepam\", \"midazolam\", \"hydromorphone\", \"morphine\"]\n",
    "].min(axis=1, skipna=True)\n",
    "cohort[\"min_sedation_dose_2\"] = (\n",
    "    cohort[\n",
    "        [\"fentanyl\", \"propofol\", \"lorazepam\", \"midazolam\", \"hydromorphone\", \"morphine\"]\n",
    "    ]\n",
    "    .where(\n",
    "        cohort[\n",
    "            [\n",
    "                \"fentanyl\",\n",
    "                \"propofol\",\n",
    "                \"lorazepam\",\n",
    "                \"midazolam\",\n",
    "                \"hydromorphone\",\n",
    "                \"morphine\",\n",
    "            ]\n",
    "        ]\n",
    "        > 0\n",
    "    )\n",
    "    .min(axis=1, skipna=True)\n",
    ")\n",
    "cohort[\"min_sedation_dose_non_ops\"] = cohort[\n",
    "    [\"propofol\", \"lorazepam\", \"midazolam\"]\n",
    "].min(axis=1, skipna=True)\n",
    "cohort[\"min_sedation_dose_non_ops\"] = cohort[\"min_sedation_dose_non_ops\"].fillna(0)\n",
    "\n",
    "# Fill forward the paralytic by hospitalization columns by 'hosp_id'\n",
    "cohort[[\"cisatracurium\", \"vecuronium\", \"rocuronium\"]] = cohort.groupby(\n",
    "    \"hospitalization_id\"\n",
    ")[[\"cisatracurium\", \"vecuronium\", \"rocuronium\"]].ffill()\n",
    "# paralytic max to remove from consideration\n",
    "cohort[\"max_paralytics\"] = (\n",
    "    cohort[[\"cisatracurium\", \"vecuronium\", \"rocuronium\"]]\n",
    "    .max(axis=1, skipna=True)\n",
    "    .fillna(0)\n",
    ")\n",
    "\n",
    "\n",
    "# Fill Rass\n",
    "cohort[[\"rass\"]] = cohort.groupby(\"hospitalization_id\")[[\"rass\"]].ffill()\n",
    "\n",
    "# Ensure the data is sorted again by 'hosp_id_day_key' and 'event_time'\n",
    "cohort = cohort.sort_values(by=[\"hospitalization_id\", \"event_time\"]).reset_index(\n",
    "    drop=True\n",
    ")"
   ]
  },
  {
   "cell_type": "markdown",
   "metadata": {},
   "source": [
    "#### Identify eligible days"
   ]
  },
  {
   "cell_type": "code",
   "execution_count": 6,
   "metadata": {},
   "outputs": [
    {
     "name": "stderr",
     "output_type": "stream",
     "text": [
      "Processing Hospitalizations by Date: 100%|██████████| 18387/18387 [02:53<00:00, 105.78it/s]"
     ]
    },
    {
     "name": "stdout",
     "output_type": "stream",
     "text": [
      "Encounter days with at least 4 hours of conditions met from 10 PM to 6 AM: 7955\n"
     ]
    },
    {
     "name": "stderr",
     "output_type": "stream",
     "text": [
      "\n"
     ]
    }
   ],
   "source": [
    "def process_cohort(df):\n",
    "    df = df.sort_values(by=['hospitalization_id', 'event_time']).reset_index(drop=True)\n",
    "    df['device_category_ffill'] = df.groupby('hospitalization_id')['device_category'].ffill()\n",
    "    df['location_category_ffill'] = df.groupby('hospitalization_id')['location_category'].ffill()\n",
    "    # Ensure 'event_time' is datetime\n",
    "    df['event_time'] = pd.to_datetime(df['event_time'])\n",
    "   \n",
    "    df['all_conditions_check'] = (\n",
    "            (df['device_category_ffill'].str.lower() == 'imv') &\n",
    "            (df['min_sedation_dose_2'] > 0) &\n",
    "            (df['location_category_ffill'].str.lower() == 'icu') &\n",
    "            (df['max_paralytics'] <= 0)\n",
    "        ).astype(int)\n",
    "\n",
    "    # Initialize result list\n",
    "    result = []\n",
    "\n",
    "    vented_day = df[(df['device_category'] == 'imv')]['hosp_id_day_key'].unique()\n",
    "    # Group by 'hospitalization_id' and 'date'\n",
    "    grouped_hosp = df[df['hosp_id_day_key'].isin(vented_day)].groupby(['hospitalization_id', df['event_time'].dt.normalize()])\n",
    "    \n",
    "    # Use tqdm for the outer loop to show progress\n",
    "    for (hosp_id, date), group in tqdm(grouped_hosp, desc='Processing Hospitalizations by Date'):\n",
    "        group = group.sort_values('event_time')\n",
    "\n",
    "        # Get the entire hospitalization data for the current hospitalization_id\n",
    "        temp_df = df[df['hospitalization_id'] == hosp_id].sort_values(by=['hospitalization_id', 'event_time']).reset_index(drop=True)\n",
    "\n",
    "        # Define start and end times for the current day\n",
    "        # Start time is 10 PM of the previous day\n",
    "        start_time = date - pd.Timedelta(days=1) + pd.Timedelta(hours=22)\n",
    "        # End time is 6 AM of the current day\n",
    "        end_time = date + pd.Timedelta(hours=6)\n",
    "\n",
    "        # Filter data in this time window for the entire hospitalization\n",
    "        mask_time = (temp_df['event_time'] >= start_time) & (temp_df['event_time'] <= end_time)\n",
    "        df_time_window = temp_df[mask_time].copy()\n",
    "\n",
    "        if df_time_window.empty:\n",
    "            continue\n",
    "\n",
    "        # Use the existing 'device_category_ffill' and 'location_category_ffill' columns\n",
    "        df_time_window['all_conditions_met'] = (df_time_window['all_conditions_check']>0\n",
    "        )\n",
    "\n",
    "        # If no times where all conditions are met, skip\n",
    "        if not df_time_window['all_conditions_met'].any():\n",
    "            continue\n",
    "\n",
    "        # Ensure data is sorted by 'event_time'\n",
    "        df_time_window = df_time_window.sort_values('event_time').reset_index(drop=True)\n",
    "\n",
    "        # Create a group identifier for continuous periods where conditions are met\n",
    "        df_time_window['condition_met_group'] = (df_time_window['all_conditions_met'] != df_time_window['all_conditions_met'].shift()).cumsum()\n",
    "\n",
    "        # Filter rows where all conditions are met\n",
    "        df_conditions = df_time_window[df_time_window['all_conditions_met']].copy()\n",
    "        if df_conditions.empty:\n",
    "            continue\n",
    "\n",
    "        # Group by 'condition_met_group' to identify continuous periods\n",
    "        grouped_conditions = df_conditions.groupby('condition_met_group')\n",
    "\n",
    "        found_four_hours = False\n",
    "        for group_id, group_df in grouped_conditions:\n",
    "            group_df = group_df.reset_index(drop=True)\n",
    "\n",
    "            # Calculate the duration of each continuous period where all conditions are met\n",
    "            group_df['duration'] = group_df['event_time'].diff().fillna(pd.Timedelta(seconds=0))\n",
    "            group_df['cumulative_duration'] = group_df['duration'].cumsum()\n",
    "            total_duration = group_df['cumulative_duration'].iloc[-1]\n",
    "\n",
    "            if total_duration >= pd.Timedelta(hours=4):\n",
    "                # Calculate the exact event_time when cumulative duration reaches four hours\n",
    "                cumulative_duration = pd.Timedelta(seconds=0)\n",
    "                for idx in range(len(group_df)):\n",
    "                    cumulative_duration += group_df['duration'].iloc[idx]\n",
    "                    if cumulative_duration >= pd.Timedelta(hours=4):\n",
    "                        event_time_at_4_hours = group_df['event_time'].iloc[idx]\n",
    "                        break\n",
    "\n",
    "                # Append to result\n",
    "                result.append({\n",
    "                    'hospitalization_id': hosp_id,\n",
    "                    'current_day_key': date,\n",
    "                    'event_time_at_4_hours': event_time_at_4_hours\n",
    "                })\n",
    "                found_four_hours = True\n",
    "                # Since we found a period of at least 4 hours continuous conditions met, we can proceed to the next day\n",
    "                break  # Exit the loop over condition_met_group\n",
    "        if found_four_hours:\n",
    "            continue  # Proceed to the next day\n",
    "\n",
    "    # Convert result to DataFrame for better representation\n",
    "    result_df = pd.DataFrame(result)\n",
    "    return result_df\n",
    "\n",
    "result_df = process_cohort(cohort)\n",
    "print('Encounter days with at least 4 hours of conditions met from 10 PM to 6 AM:', len(result_df))"
   ]
  },
  {
   "cell_type": "code",
   "execution_count": 7,
   "metadata": {},
   "outputs": [],
   "source": [
    "# Merge the result back into the cohort DataFrame\n",
    "cohort = cohort.merge(result_df[['hospitalization_id', 'current_day_key', 'event_time_at_4_hours']], \n",
    "                      how='left', \n",
    "                      left_on=['hospitalization_id', cohort['event_time'].dt.normalize()], \n",
    "                      right_on=['hospitalization_id', 'current_day_key'])\n",
    "\n",
    "# Initialize 'eligible_event' column with NaN and used for validation of exact time the event of 4 hr completed\n",
    "cohort['eligible_event'] = np.nan\n",
    "has_event_time = cohort['event_time_at_4_hours'].notna()\n",
    "for (hosp_id, date), group in cohort[has_event_time].groupby(['hospitalization_id', cohort['event_time'].dt.normalize()]):\n",
    "    event_time_at_4_hours = group['event_time_at_4_hours'].iloc[0]\n",
    "    subset = cohort[(cohort['hospitalization_id'] == hosp_id) & (cohort['event_time'] >= event_time_at_4_hours)]\n",
    "    if not subset.empty:\n",
    "        idx = subset['event_time'].idxmin()\n",
    "        cohort.loc[idx, 'eligible_event'] = 1\n",
    "    else:\n",
    "        subset = cohort[cohort['hospitalization_id'] == hosp_id]\n",
    "        idx = subset['event_time'].idxmax()\n",
    "        cohort.loc[idx, 'eligible_event'] = 1\n",
    "\n",
    "# fix where last row should not be eligible\n",
    "cohort = cohort.sort_values(['hospitalization_id', 'event_time']).reset_index(drop=True)\n",
    "for hosp_id, group in cohort.groupby('hospitalization_id'):\n",
    "    last_idx = group.index[-1]\n",
    "    if cohort.loc[last_idx, 'eligible_event'] == 1:\n",
    "        cohort.loc[last_idx, 'eligible_event'] = np.nan\n",
    "\n",
    "\n",
    "# Flag all that date rows where eligible_event = 1\n",
    "filtered_cohort = cohort[cohort['eligible_event'] == 1][['hosp_id_day_key', 'eligible_event']]\n",
    "merged_cohort = cohort.merge(filtered_cohort, on='hosp_id_day_key', how='left', suffixes=('', '_filtered'))\n",
    "merged_cohort['on_vent_and_sedation'] = merged_cohort['eligible_event_filtered'].fillna(0).astype(int)\n",
    "merged_cohort = merged_cohort.drop(columns=['eligible_event_filtered'])\n",
    "\n",
    "del filtered_cohort,result_df"
   ]
  },
  {
   "cell_type": "code",
   "execution_count": 8,
   "metadata": {},
   "outputs": [
    {
     "data": {
      "text/plain": [
       "eligible_event\n",
       "1.0    7943\n",
       "Name: count, dtype: int64"
      ]
     },
     "execution_count": 8,
     "metadata": {},
     "output_type": "execute_result"
    }
   ],
   "source": [
    "merged_cohort['eligible_event'].value_counts()"
   ]
  },
  {
   "cell_type": "code",
   "execution_count": 9,
   "metadata": {},
   "outputs": [
    {
     "data": {
      "text/plain": [
       "7943"
      ]
     },
     "execution_count": 9,
     "metadata": {},
     "output_type": "execute_result"
    }
   ],
   "source": [
    "merged_cohort[merged_cohort['on_vent_and_sedation']==1]['hosp_id_day_key'].nunique()"
   ]
  },
  {
   "cell_type": "code",
   "execution_count": 10,
   "metadata": {},
   "outputs": [
    {
     "name": "stderr",
     "output_type": "stream",
     "text": [
      "Processing hosp_id_day_keys: 100%|██████████| 7943/7943 [00:08<00:00, 950.03it/s] \n",
      "Processing hosp_id_day_keys: 100%|██████████| 7943/7943 [00:08<00:00, 924.83it/s] \n"
     ]
    }
   ],
   "source": [
    "df = merged_cohort[merged_cohort['on_vent_and_sedation']==1].sort_values(by=['hospitalization_id', 'event_time']).reset_index(drop=True)  \n",
    "\n",
    "df['rank_sedation'] = np.nan\n",
    "for hosp_id_day_key, hosp_data in tqdm(df[df['on_vent_and_sedation'] == 1].groupby('hosp_id_day_key'), desc='Processing hosp_id_day_keys'):\n",
    "    zero_mask = hosp_data['min_sedation_dose'] == 0\n",
    "    ranks = zero_mask.cumsum() * zero_mask\n",
    "    df.loc[hosp_data.index, 'rank_sedation'] = ranks.replace(0, np.nan)\n",
    "\n",
    "\n",
    "df['rank_sedation_non_ops'] = np.nan\n",
    "for hosp_id_day_key, hosp_data in tqdm(df[df['on_vent_and_sedation'] == 1].groupby('hosp_id_day_key'), desc='Processing hosp_id_day_keys'):\n",
    "    zero_mask = hosp_data['min_sedation_dose_non_ops'] == 0\n",
    "    ranks = zero_mask.cumsum() * zero_mask\n",
    "    df.loc[hosp_data.index, 'rank_sedation_non_ops'] = ranks.replace(0, np.nan)"
   ]
  },
  {
   "cell_type": "code",
   "execution_count": 11,
   "metadata": {},
   "outputs": [
    {
     "data": {
      "text/plain": [
       "rass\n",
       "-1.0    75564\n",
       "-2.0    74212\n",
       " 0.0    67780\n",
       "-4.0    61040\n",
       "-3.0    57339\n",
       " 1.0    45040\n",
       "-5.0    37693\n",
       " 2.0    32480\n",
       " 3.0     5834\n",
       " 4.0      710\n",
       "Name: count, dtype: int64"
      ]
     },
     "execution_count": 11,
     "metadata": {},
     "output_type": "execute_result"
    }
   ],
   "source": [
    "#quick rass check\n",
    "df['rass'] = df['rass'].astype(float)\n",
    "df['rass'].value_counts()"
   ]
  },
  {
   "cell_type": "markdown",
   "metadata": {},
   "source": [
    "#### SAT EHR Flags"
   ]
  },
  {
   "cell_type": "code",
   "execution_count": 12,
   "metadata": {},
   "outputs": [
    {
     "name": "stderr",
     "output_type": "stream",
     "text": [
      "Processing hosp_id_day_key: 100%|██████████| 7943/7943 [20:15<00:00,  6.53it/s]  \n"
     ]
    }
   ],
   "source": [
    "# Setup\n",
    "med_columns      = ['fentanyl', 'propofol', 'lorazepam', 'midazolam', 'hydromorphone', 'morphine']\n",
    "med_columns2     = ['propofol', 'lorazepam', 'midazolam']\n",
    "flags = [\n",
    "    'SAT_EHR_delivery',\n",
    "    'SAT_modified_delivery',\n",
    "    'SAT_rass_nonneg_30',\n",
    "    'SAT_med_halved_rass_pos',\n",
    "    'SAT_no_meds_rass_pos_45',  # new: no meds & rass >=0 in 45 min\n",
    "    'SAT_rass_first_neg_30_last45_nonneg'\n",
    "]\n",
    "for f in flags:\n",
    "    df[f] = np.nan\n",
    "\n",
    "vent_df = df[df['on_vent_and_sedation'] == 1]\n",
    "delta30 = pd.Timedelta(minutes=30)\n",
    "delta45 = pd.Timedelta(minutes=45)\n",
    "\n",
    "# Main loop\n",
    "for key, group in tqdm(vent_df.groupby('hosp_id_day_key'), desc='Processing hosp_id_day_key'):\n",
    "    grp = group.sort_values('event_time')\n",
    "    times = grp['event_time'].values\n",
    "    ranks = grp['rank_sedation'].values\n",
    "    idxs  = grp.index\n",
    "\n",
    "    for idx, current_time, rank in zip(idxs, times, ranks):\n",
    "        if pd.isna(rank):\n",
    "            continue\n",
    "\n",
    "        # Define windows\n",
    "        fw30 = grp[(grp['event_time'] >= current_time) & (grp['event_time'] <= current_time + delta30)]\n",
    "        fw45 = grp[(grp['event_time'] >= current_time) & (grp['event_time'] <= current_time + delta45)]\n",
    "        pr30 = grp[(grp['event_time'] >= current_time - delta30) & (grp['event_time'] <  current_time)]\n",
    "\n",
    "        # ICU+IMV check\n",
    "        imv_ok = (fw30['device_category_ffill'] == 'imv').all()\n",
    "        icu_ok = (fw30['location_category_ffill'] == 'icu').all()\n",
    "\n",
    "        if imv_ok and icu_ok:\n",
    "            # No meds at all in next 30 min\n",
    "            meds_ok  = (fw30[med_columns].isna() | (fw30[med_columns] == 0)).all().all()\n",
    "            if meds_ok:\n",
    "                df.at[idx, 'SAT_EHR_delivery'] = 1\n",
    "\n",
    "            # No subset meds\n",
    "            meds2_ok = (fw30[med_columns2].isna() | (fw30[med_columns2] == 0)).all().all()\n",
    "            if meds2_ok:\n",
    "                df.at[idx, 'SAT_modified_delivery'] = 1\n",
    "\n",
    "            # RASS >= 0 in next 30 min\n",
    "            rass30 = fw30['rass'].dropna()\n",
    "            if not rass30.empty and (rass30 >= 0).all():\n",
    "                df.at[idx, 'SAT_rass_nonneg_30'] = 1\n",
    "\n",
    "            # New: meds halved & last RASS45 >= 0\n",
    "            if not pr30.empty and not fw30.empty:\n",
    "                # Compute 50% thresholds\n",
    "                half_max = pr30[med_columns].max() * 0.5\n",
    "\n",
    "                # Only check non-NaN, non-zero meds in forward window\n",
    "                halved_ok = True\n",
    "                for med in med_columns:\n",
    "                    vals = fw30[med].dropna()\n",
    "                    vals = vals[vals != 0]  # ignore zero doses\n",
    "                    if not vals.empty and not (vals <= half_max[med]).all():\n",
    "                        halved_ok = False\n",
    "                        break\n",
    "\n",
    "                # Last non-null RASS in 45 window\n",
    "                rass45 = fw45['rass'].dropna()\n",
    "                rass45_ok = not rass45.empty and rass45.iloc[-1] >= 0\n",
    "\n",
    "                if halved_ok and rass45_ok:\n",
    "                    df.at[idx, 'SAT_med_halved_rass_pos'] = 1\n",
    "\n",
    "            # New: no meds & last RASS45 >= 0\n",
    "            if meds_ok:\n",
    "                rass45 = fw45['rass'].dropna()\n",
    "                rass45_ok = not rass45.empty and rass45.iloc[-1] >= 0\n",
    "                if rass45_ok:\n",
    "                    df.at[idx, 'SAT_no_meds_rass_pos_45'] = 1\n",
    "            \n",
    "                # --- new flag: first RASS <0 in next 30 & last RASS ≥0 in next 45 ---\n",
    "            rass45 = fw45['rass'].dropna()\n",
    "            if not rass30.empty and not rass45.empty:\n",
    "                first_rass30 = rass30.iloc[0]\n",
    "                last_rass45  = rass45.iloc[-1]\n",
    "                if first_rass30 < 0 and last_rass45 >= 0:\n",
    "                    df.at[idx, 'SAT_rass_first_neg_30_last45_nonneg'] = 1\n"
   ]
  },
  {
   "cell_type": "markdown",
   "metadata": {},
   "source": [
    "### Delta plot"
   ]
  },
  {
   "cell_type": "code",
   "execution_count": 13,
   "metadata": {},
   "outputs": [
    {
     "data": {
      "image/png": "[encoded data removed]",
      "text/plain": [
       "<Figure size 1200x600 with 1 Axes>"
      ]
     },
     "metadata": {},
     "output_type": "display_data"
    }
   ],
   "source": [
    "\n",
    "# 1. Identify initial sat failure events and delivery events\n",
    "mask_initial = (df['sat_delivery_pass_fail'] == 1) | (df['sat_screen_pass_fail'] == 1)\n",
    "mask_ehr = df['SAT_EHR_delivery'] == 1\n",
    "mask_mod = df['SAT_modified_delivery'] == 1\n",
    "\n",
    "initial_times = df[mask_initial].groupby('hosp_id_day_key')['event_time'].min().rename('initial_time')\n",
    "ehr_times = df[mask_ehr].groupby('hosp_id_day_key')['event_time'].min().rename('ehr_time')\n",
    "mod_times = df[mask_mod].groupby('hosp_id_day_key')['event_time'].min().rename('mod_time')\n",
    "\n",
    "# 2. Merge into a single DataFrame and drop incomplete cases\n",
    "times_df = pd.concat([initial_times, ehr_times, mod_times], axis=1).dropna()\n",
    "\n",
    "# 3. Convert event_time columns to datetime\n",
    "for col in ['initial_time', 'ehr_time', 'mod_time']:\n",
    "    times_df[col] = pd.to_datetime(times_df[col])\n",
    "\n",
    "# 4. Compute deltas in minutes\n",
    "times_df['delta_to_ehr'] = (times_df['ehr_time'] - times_df['initial_time']).dt.total_seconds() / 60\n",
    "times_df['delta_to_mod'] = (times_df['mod_time'] - times_df['initial_time']).dt.total_seconds() / 60\n",
    "\n",
    "# 5. Filter deltas to positive values within 24 hours (0–1440 minutes)\n",
    "times_df = times_df[\n",
    "    (times_df['delta_to_ehr'] >= 0) & (times_df['delta_to_ehr'] <= 1440) &\n",
    "    (times_df['delta_to_mod'] >= 0) & (times_df['delta_to_mod'] <= 1440)\n",
    "]\n",
    "\n",
    "# 6. Bin into hourly intervals\n",
    "bins = list(range(0, 24*60 + 1, 60))  # [0, 60, 120, ..., 1440]\n",
    "labels = [f'{i}-{i+1}hr' for i in range(24)]\n",
    "\n",
    "ehr_binned = pd.cut(times_df['delta_to_ehr'], bins=bins, labels=labels, right=False)\n",
    "mod_binned = pd.cut(times_df['delta_to_mod'], bins=bins, labels=labels, right=False)\n",
    "\n",
    "ehr_counts = ehr_binned.value_counts().sort_index()\n",
    "mod_counts = mod_binned.value_counts().sort_index()\n",
    "\n",
    "# 7. Plot both lines hour-wise\n",
    "plt.figure(figsize=(12, 6))\n",
    "plt.plot(labels, ehr_counts.values, marker='o', label='To SAT_EHR_delivery')\n",
    "plt.plot(labels, mod_counts.values, marker='s', label='To SAT_modified_delivery')\n",
    "plt.xlabel('Hours since initial failure event')\n",
    "plt.ylabel('Count of Hospital-Day Keys')\n",
    "plt.title('Hourly Distribution of Time to EHR and Modified Deliveries')\n",
    "plt.xticks(rotation=45)\n",
    "plt.legend()\n",
    "plt.grid(True)\n",
    "plt.tight_layout()\n",
    "plt.show()\n",
    "\n",
    "binned_df = pd.DataFrame({\n",
    "    'hour_bin': labels,\n",
    "    'count_to_SAT_EHR_delivery': ehr_counts.values,\n",
    "    'count_to_SAT_modified_delivery': mod_counts.values\n",
    "})\n",
    "binned_df.to_csv(f'{directory_path}/binned_delta_counts.csv', index=False)"
   ]
  },
  {
   "cell_type": "markdown",
   "metadata": {},
   "source": [
    "#### Icu los calculation"
   ]
  },
  {
   "cell_type": "code",
   "execution_count": 14,
   "metadata": {},
   "outputs": [
    {
     "data": {
      "text/plain": [
       "(4176, 2)"
      ]
     },
     "execution_count": 14,
     "metadata": {},
     "output_type": "execute_result"
    }
   ],
   "source": [
    "icu_los = cohort[['hospitalization_id', 'event_time', 'location_category_ffill']]\n",
    "icu_los = icu_los.sort_values(by=['hospitalization_id', 'event_time']).reset_index(drop=True)\n",
    "\n",
    "icu_los['segment'] = (icu_los['location_category_ffill'] != icu_los['location_category_ffill'].shift()).cumsum()\n",
    "\n",
    "icu_segments = icu_los[icu_los['location_category_ffill'].str.lower() == 'icu'].groupby(\n",
    "    ['hospitalization_id', 'segment']\n",
    ").agg(\n",
    "    location_start=('event_time', 'first'),\n",
    "    location_end=('event_time', 'last')\n",
    ").reset_index()\n",
    "\n",
    "icu_segments['los_days'] = (icu_segments['location_end'] - icu_segments['location_start']).dt.total_seconds() / (24 * 3600)\n",
    "icu_los_per_encounter = icu_segments[['hospitalization_id', 'los_days']]\n",
    "\n",
    "total_icu_los_per_hosp = icu_los_per_encounter.groupby('hospitalization_id', as_index=False).agg(\n",
    "    ICU_LOS=('los_days', 'sum')\n",
    ")\n",
    "total_icu_los_per_hosp.shape"
   ]
  },
  {
   "cell_type": "markdown",
   "metadata": {},
   "source": [
    "#### last dishcharge hosptial_id"
   ]
  },
  {
   "cell_type": "code",
   "execution_count": 15,
   "metadata": {},
   "outputs": [
    {
     "data": {
      "text/plain": [
       "(4176, 2)"
      ]
     },
     "execution_count": 15,
     "metadata": {},
     "output_type": "execute_result"
    }
   ],
   "source": [
    "last_hosp = cohort[['hospitalization_id', 'event_time', 'hospital_id']]\n",
    "\n",
    "last_hosp = last_hosp.sort_values(by=['hospitalization_id','event_time'], ascending=False).groupby(\n",
    "    ['hospitalization_id'], as_index=False\n",
    ").agg(({'hospital_id': 'first'})).reset_index(drop=True)\n",
    "last_hosp.shape"
   ]
  },
  {
   "cell_type": "markdown",
   "metadata": {},
   "source": [
    "#### Table one df "
   ]
  },
  {
   "cell_type": "code",
   "execution_count": 16,
   "metadata": {},
   "outputs": [
    {
     "data": {
      "text/plain": [
       "(7943, 10)"
      ]
     },
     "execution_count": 16,
     "metadata": {},
     "output_type": "execute_result"
    }
   ],
   "source": [
    "main = df[['patient_id', 'hospitalization_id', 'admission_dttm', 'discharge_dttm',\n",
    "       'age_at_admission', 'discharge_category', 'sex_category',\n",
    "       'race_category', 'ethnicity_category','hosp_id_day_key']].drop_duplicates()\n",
    "main.shape"
   ]
  },
  {
   "cell_type": "code",
   "execution_count": 17,
   "metadata": {},
   "outputs": [
    {
     "data": {
      "text/plain": [
       "(7943, 12)"
      ]
     },
     "execution_count": 17,
     "metadata": {},
     "output_type": "execute_result"
    }
   ],
   "source": [
    "main = pd.merge(main, total_icu_los_per_hosp, on='hospitalization_id', how='left')\n",
    "main = pd.merge(main, last_hosp, on='hospitalization_id', how='left')\n",
    "main.shape"
   ]
  },
  {
   "cell_type": "code",
   "execution_count": 18,
   "metadata": {},
   "outputs": [
    {
     "data": {
      "text/plain": [
       "(7943, 22)"
      ]
     },
     "execution_count": 18,
     "metadata": {},
     "output_type": "execute_result"
    }
   ],
   "source": [
    "# Columns to group by\n",
    "group_cols = [\n",
    " 'hosp_id_day_key'\n",
    "]\n",
    "\n",
    "max_cols = ['sat_screen_pass_fail','sat_delivery_pass_fail','SAT_EHR_delivery', 'SAT_modified_delivery', 'eligible_event','SAT_EHR_delivery',\n",
    "    'SAT_modified_delivery',\n",
    "    'SAT_rass_nonneg_30',\n",
    "    'SAT_med_halved_rass_pos',\n",
    "    'SAT_no_meds_rass_pos_45','SAT_rass_first_neg_30_last45_nonneg']\n",
    "agg_dict = {col: 'max' for col in max_cols}\n",
    "\n",
    "df_grouped = df.groupby(group_cols).agg(agg_dict).reset_index()\n",
    "\n",
    "df_grouped = df_grouped.sort_values('hosp_id_day_key').reset_index(drop=True)\n",
    "\n",
    "df_grouped['sat_flowsheet_delivery_flag'] = np.where(\n",
    "    (\n",
    "        (df_grouped['sat_screen_pass_fail'] == 1) |\n",
    "        (df_grouped['sat_delivery_pass_fail'] == 1)\n",
    "    ) &\n",
    "    (df_grouped['eligible_event'] == 1),\n",
    "    1,  # Flag is set to 1 (True) if conditions are met\n",
    "    np.nan   # Flag nan\n",
    ")\n",
    "\n",
    "final_df = main.merge(df_grouped, on='hosp_id_day_key', how='inner')\n",
    "final_df.shape"
   ]
  },
  {
   "cell_type": "code",
   "execution_count": 19,
   "metadata": {},
   "outputs": [
    {
     "name": "stdout",
     "output_type": "stream",
     "text": [
      "sat_delivery_pass_fail\n",
      "1.0    2386\n",
      "Name: count, dtype: int64\n",
      "\n",
      "sat_screen_pass_fail\n",
      "1.0    4234\n",
      "Name: count, dtype: int64\n",
      "\n",
      "SAT_EHR_delivery\n",
      "1.0    2907\n",
      "Name: count, dtype: int64\n",
      "\n",
      "SAT_modified_delivery\n",
      "1.0    4815\n",
      "Name: count, dtype: int64\n",
      "\n",
      "eligible_event\n",
      "1.0    7943\n",
      "Name: count, dtype: int64\n",
      "\n",
      "sat_flowsheet_delivery_flag\n",
      "1.0    4248\n",
      "Name: count, dtype: int64\n",
      "\n",
      "SAT_rass_first_neg_30_last45_nonneg\n",
      "1.0    3074\n",
      "Name: count, dtype: int64\n",
      "\n",
      "SAT_rass_nonneg_30\n",
      "1.0    3808\n",
      "Name: count, dtype: int64\n",
      "\n",
      "SAT_med_halved_rass_pos\n",
      "1.0    1656\n",
      "Name: count, dtype: int64\n",
      "\n",
      "SAT_no_meds_rass_pos_45\n",
      "1.0    1652\n",
      "Name: count, dtype: int64\n",
      "\n"
     ]
    }
   ],
   "source": [
    "for x in [\n",
    "    \"sat_delivery_pass_fail\",\n",
    "    \"sat_screen_pass_fail\",\n",
    "    \"SAT_EHR_delivery\",\n",
    "\n",
    "    \"SAT_modified_delivery\",\n",
    "    \"eligible_event\",\n",
    "\n",
    "    \"sat_flowsheet_delivery_flag\",\n",
    "    \"SAT_rass_first_neg_30_last45_nonneg\",\n",
    "    \"SAT_rass_nonneg_30\",\n",
    "    \"SAT_med_halved_rass_pos\",\n",
    "    \"SAT_no_meds_rass_pos_45\",\n",
    "]:\n",
    "\n",
    "    print(final_df[x].value_counts())\n",
    "\n",
    "    print()"
   ]
  },
  {
   "cell_type": "markdown",
   "metadata": {},
   "source": [
    "#### concordance"
   ]
  },
  {
   "cell_type": "code",
   "execution_count": 20,
   "metadata": {},
   "outputs": [
    {
     "name": "stdout",
     "output_type": "stream",
     "text": [
      "--- Concordance for SAT_EHR_delivery ---\n",
      "Accuracy    : 0.652\n",
      "Precision   : 0.755\n",
      "Recall      : 0.517\n",
      "F1 Score    : 0.614\n",
      "Specificity : 0.807\n",
      "\n",
      "--- Concordance for SAT_modified_delivery ---\n",
      "Accuracy    : 0.613\n",
      "Precision   : 0.622\n",
      "Recall      : 0.705\n",
      "F1 Score    : 0.660\n",
      "Specificity : 0.507\n",
      "\n",
      "--- Concordance for SAT_rass_nonneg_30 ---\n",
      "Accuracy    : 0.582\n",
      "Precision   : 0.622\n",
      "Recall      : 0.557\n",
      "F1 Score    : 0.588\n",
      "Specificity : 0.610\n",
      "\n",
      "--- Concordance for SAT_med_halved_rass_pos ---\n",
      "Accuracy    : 0.588\n",
      "Precision   : 0.794\n",
      "Recall      : 0.310\n",
      "F1 Score    : 0.445\n",
      "Specificity : 0.908\n",
      "\n",
      "--- Concordance for SAT_no_meds_rass_pos_45 ---\n",
      "Accuracy    : 0.589\n",
      "Precision   : 0.798\n",
      "Recall      : 0.310\n",
      "F1 Score    : 0.447\n",
      "Specificity : 0.910\n",
      "\n",
      "--- Concordance for SAT_rass_first_neg_30_last45_nonneg ---\n",
      "Accuracy    : 0.596\n",
      "Precision   : 0.669\n",
      "Recall      : 0.484\n",
      "F1 Score    : 0.562\n",
      "Specificity : 0.725\n",
      "\n"
     ]
    }
   ],
   "source": [
    "con_df = final_df.copy()\n",
    "for col in ['SAT_EHR_delivery', 'SAT_modified_delivery', 'sat_flowsheet_delivery_flag' , \"SAT_rass_nonneg_30\",\n",
    "    \"SAT_med_halved_rass_pos\",\n",
    "    \"SAT_no_meds_rass_pos_45\",'SAT_rass_first_neg_30_last45_nonneg']:\n",
    "    con_df[col].fillna(0, inplace=True)\n",
    "\n",
    "metrics_list = []\n",
    "\n",
    "for col in ['SAT_EHR_delivery', 'SAT_modified_delivery' ,\"SAT_rass_nonneg_30\",\n",
    "    \"SAT_med_halved_rass_pos\",\n",
    "    \"SAT_no_meds_rass_pos_45\",'SAT_rass_first_neg_30_last45_nonneg']:\n",
    "    y_true = con_df['sat_flowsheet_delivery_flag']\n",
    "    y_pred = con_df[col]\n",
    "\n",
    "    # raw confusion matrix\n",
    "    cm = confusion_matrix(y_true, y_pred)\n",
    "    tn, fp, fn, tp = cm.ravel()\n",
    "    total = cm.sum()\n",
    "\n",
    "    # derived metrics\n",
    "    accuracy    = (tp + tn) / total\n",
    "    precision   = tp / (tp + fp) if (tp + fp) else 0\n",
    "    recall      = tp / (tp + fn) if (tp + fn) else 0\n",
    "    f1          = 2 * precision * recall / (precision + recall) if (precision + recall) else 0\n",
    "    specificity = tn / (tn + fp) if (tn + fp) else 0\n",
    "\n",
    "    # normalized matrix for percentages\n",
    "    cm_pct = cm / total * 100  # percent\n",
    "\n",
    "    # plot\n",
    "    labels = [\"No Delivery\", \"Delivery\"]\n",
    "    fig, ax = plt.subplots()\n",
    "    im = ax.imshow(cm, cmap=plt.cm.Blues)\n",
    "\n",
    "    # ticks and labels\n",
    "    ax.set_xticks([0, 1])\n",
    "    ax.set_yticks([0, 1])\n",
    "    ax.set_xticklabels(labels)\n",
    "    ax.set_yticklabels(labels)\n",
    "    ax.set_xlabel(f\"{col} Flag\")\n",
    "    ax.set_ylabel(\"Flowsheet Delivery Flag\")\n",
    "    ax.set_title(f\"Concordance: flowsheet vs {col}\")\n",
    "\n",
    "    # annotate each cell with count + percent\n",
    "    for i in range(cm.shape[0]):\n",
    "        for j in range(cm.shape[1]):\n",
    "            count = cm[i, j]\n",
    "            pct   = cm_pct[i, j]\n",
    "            ax.text(\n",
    "                j, i,\n",
    "                f\"{count}\\n({pct:.1f}%)\",\n",
    "                ha=\"center\", va=\"center\",\n",
    "                color=\"white\" if cm[i, j] > cm.max()/2 else \"black\"\n",
    "            )\n",
    "\n",
    "    # colorbar\n",
    "    fig.colorbar(im, ax=ax, fraction=0.046, pad=0.04)\n",
    "\n",
    "    # save and close\n",
    "    plot_path = os.path.join(directory_path, f\"confusion_matrix_{col}.png\")\n",
    "    fig.savefig(plot_path, bbox_inches='tight')\n",
    "    plt.close(fig)\n",
    "\n",
    "    # print metrics\n",
    "    print(f\"--- Concordance for {col} ---\")\n",
    "    print(f\"Accuracy    : {accuracy:.3f}\")\n",
    "    print(f\"Precision   : {precision:.3f}\")\n",
    "    print(f\"Recall      : {recall:.3f}\")\n",
    "    print(f\"F1 Score    : {f1:.3f}\")\n",
    "    print(f\"Specificity : {specificity:.3f}\\n\")\n",
    "\n",
    "    metrics_list.append({\n",
    "        \"Column\": col,\n",
    "        \"TP\": tp, \"FP\": fp, \"FN\": fn, \"TN\": tn,\n",
    "        \"Accuracy\": accuracy,\n",
    "        \"Precision\": precision,\n",
    "        \"Recall\": recall,\n",
    "        \"F1 Score\": f1,\n",
    "        \"Specificity\": specificity\n",
    "    })\n",
    "\n",
    "# save summary\n",
    "metrics_df = pd.DataFrame(metrics_list)\n",
    "metrics_df.to_csv(os.path.join(directory_path, \"delivery_concordance_summary.csv\"), index=False)"
   ]
  },
  {
   "cell_type": "markdown",
   "metadata": {},
   "source": []
  },
  {
   "cell_type": "code",
   "execution_count": 21,
   "metadata": {},
   "outputs": [],
   "source": [
    "final_df.to_csv('../output/intermediate/final_df_SAT.csv', index=False)"
   ]
  },
  {
   "cell_type": "markdown",
   "metadata": {},
   "source": [
    "#### table one print"
   ]
  },
  {
   "cell_type": "code",
   "execution_count": 22,
   "metadata": {},
   "outputs": [],
   "source": [
    "categorical_columns = ['sex_category', 'race_category', 'ethnicity_category','discharge_category']\n",
    "non_categorical_columns = ['age_at_admission',  'ICU_LOS', 'Inpatient_LOS']\n",
    "\n",
    "final_df['admission_dttm'] = pd.to_datetime(final_df['admission_dttm'],utc=True)\n",
    "final_df['discharge_dttm'] = pd.to_datetime(final_df['discharge_dttm'],utc=True)"
   ]
  },
  {
   "cell_type": "code",
   "execution_count": 23,
   "metadata": {},
   "outputs": [
    {
     "name": "stdout",
     "output_type": "stream",
     "text": [
      "                                                                           Missing           Overall\n",
      "n                                                                                               1922\n",
      "sex_category, n (%)              Female                                                   844 (43.9)\n",
      "                                 Male                                                    1078 (56.1)\n",
      "race_category, n (%)             American Indian or Alaska Native                            3 (0.2)\n",
      "                                 Asian                                                      82 (4.3)\n",
      "                                 Black or African American                                673 (35.0)\n",
      "                                 Native Hawaiian or Other Pacific Islander                   3 (0.2)\n",
      "                                 Other                                                    359 (18.7)\n",
      "                                 Unknown                                                    43 (2.2)\n",
      "                                 White                                                    759 (39.5)\n",
      "ethnicity_category, n (%)        Hispanic                                                 387 (20.1)\n",
      "                                 Non-Hispanic                                            1501 (78.1)\n",
      "                                 Unknown                                                    34 (1.8)\n",
      "discharge_category, n (%)        Acute Care Hospital                                        17 (0.9)\n",
      "                                 Acute Inpatient Rehab Facility                           289 (15.0)\n",
      "                                 Against Medical Advice (AMA)                               16 (0.8)\n",
      "                                 Assisted Living                                             1 (0.1)\n",
      "                                 Chemical Dependency                                         1 (0.1)\n",
      "                                 Expired                                                  515 (26.8)\n",
      "                                 Home                                                     737 (38.3)\n",
      "                                 Hospice                                                    45 (2.3)\n",
      "                                 Long Term Care Hospital (LTACH)                            52 (2.7)\n",
      "                                 Missing                                                   102 (5.3)\n",
      "                                 Other                                                       1 (0.1)\n",
      "                                 Psychiatric Hospital                                        7 (0.4)\n",
      "                                 Skilled Nursing Facility (SNF)                            139 (7.2)\n",
      "age_at_admission, median [Q1,Q3]                                                 0  62.0 [50.0,71.0]\n",
      "ICU_LOS, median [Q1,Q3]                                                          0    7.0 [3.8,13.2]\n",
      "Inpatient_LOS, median [Q1,Q3]                                                    0   12.8 [7.4,21.9]\n",
      "\n"
     ]
    }
   ],
   "source": [
    "### SAT FLAG Table 1\n",
    "\n",
    "\n",
    "sat_flow_t1 = final_df[final_df['sat_flowsheet_delivery_flag'] == 1][[ 'hospitalization_id', 'admission_dttm', 'discharge_dttm', 'age_at_admission', 'discharge_category', 'sex_category','race_category', 'ethnicity_category','ICU_LOS']].drop_duplicates()\n",
    "sat_flow_t1['Inpatient_LOS'] = (sat_flow_t1['discharge_dttm'] - sat_flow_t1['admission_dttm']).dt.total_seconds() / (24 * 3600)\n",
    "\n",
    "if len(sat_flow_t1)>1:\n",
    "    table1 = TableOne(sat_flow_t1, categorical=categorical_columns, nonnormal=non_categorical_columns, columns=categorical_columns+non_categorical_columns )\n",
    "\n",
    "    table1.to_csv(f'{directory_path}/table1_sat_flowhseet_{pc.helper[\"site_name\"]}.csv')\n",
    "    print(table1)"
   ]
  },
  {
   "cell_type": "code",
   "execution_count": 24,
   "metadata": {},
   "outputs": [
    {
     "name": "stdout",
     "output_type": "stream",
     "text": [
      "                                                                           Missing           Overall\n",
      "n                                                                                               2199\n",
      "sex_category, n (%)              Female                                                   978 (44.5)\n",
      "                                 Male                                                    1221 (55.5)\n",
      "race_category, n (%)             American Indian or Alaska Native                            4 (0.2)\n",
      "                                 Asian                                                      88 (4.0)\n",
      "                                 Black or African American                                775 (35.2)\n",
      "                                 Native Hawaiian or Other Pacific Islander                   3 (0.1)\n",
      "                                 Other                                                    417 (19.0)\n",
      "                                 Unknown                                                    54 (2.5)\n",
      "                                 White                                                    858 (39.0)\n",
      "ethnicity_category, n (%)        Hispanic                                                 432 (19.6)\n",
      "                                 Non-Hispanic                                            1727 (78.5)\n",
      "                                 Unknown                                                    40 (1.8)\n",
      "discharge_category, n (%)        Acute Care Hospital                                        17 (0.8)\n",
      "                                 Acute Inpatient Rehab Facility                           336 (15.3)\n",
      "                                 Against Medical Advice (AMA)                               19 (0.9)\n",
      "                                 Assisted Living                                             1 (0.0)\n",
      "                                 Chemical Dependency                                         1 (0.0)\n",
      "                                 Expired                                                  649 (29.5)\n",
      "                                 Home                                                     795 (36.2)\n",
      "                                 Hospice                                                    48 (2.2)\n",
      "                                 Long Term Care Hospital (LTACH)                            54 (2.5)\n",
      "                                 Missing                                                   113 (5.1)\n",
      "                                 Psychiatric Hospital                                        8 (0.4)\n",
      "                                 Skilled Nursing Facility (SNF)                            158 (7.2)\n",
      "age_at_admission, median [Q1,Q3]                                                 0  62.0 [50.0,71.0]\n",
      "ICU_LOS, median [Q1,Q3]                                                          0    6.7 [3.6,12.8]\n",
      "Inpatient_LOS, median [Q1,Q3]                                                    0   12.3 [7.1,21.3]\n",
      "\n"
     ]
    }
   ],
   "source": [
    "### SAT EHR FLAG Table 1\n",
    "\n",
    "sat_ehr_t1 = final_df[(final_df['SAT_EHR_delivery'] == 1) | (final_df['SAT_modified_delivery'] == 1)][[ 'hospitalization_id', 'admission_dttm', 'discharge_dttm', 'age_at_admission', 'discharge_category', 'sex_category','race_category', 'ethnicity_category','ICU_LOS']].drop_duplicates()\n",
    "sat_ehr_t1['Inpatient_LOS'] = (sat_ehr_t1['discharge_dttm'] - sat_ehr_t1['admission_dttm']).dt.total_seconds() / (24 * 3600)\n",
    "\n",
    "if len(sat_ehr_t1)>1:\n",
    "    table2 = TableOne(sat_ehr_t1, categorical=categorical_columns, nonnormal=non_categorical_columns, columns=categorical_columns+non_categorical_columns )\n",
    "\n",
    "    table2.to_csv(f'{directory_path}/table1_sat_ehr_{pc.helper[\"site_name\"]}.csv')\n",
    "    print(table2)"
   ]
  },
  {
   "cell_type": "code",
   "execution_count": 25,
   "metadata": {},
   "outputs": [
    {
     "name": "stdout",
     "output_type": "stream",
     "text": [
      "                                                                           Missing           Overall\n",
      "n                                                                                               2525\n",
      "sex_category, n (%)              Female                                                  1129 (44.7)\n",
      "                                 Male                                                    1396 (55.3)\n",
      "race_category, n (%)             American Indian or Alaska Native                            4 (0.2)\n",
      "                                 Asian                                                      98 (3.9)\n",
      "                                 Black or African American                                896 (35.5)\n",
      "                                 Native Hawaiian or Other Pacific Islander                   3 (0.1)\n",
      "                                 Other                                                    465 (18.4)\n",
      "                                 Unknown                                                    68 (2.7)\n",
      "                                 White                                                    991 (39.2)\n",
      "ethnicity_category, n (%)        Hispanic                                                 493 (19.5)\n",
      "                                 Non-Hispanic                                            1983 (78.5)\n",
      "                                 Unknown                                                    49 (1.9)\n",
      "discharge_category, n (%)        Acute Care Hospital                                        18 (0.7)\n",
      "                                 Acute Inpatient Rehab Facility                           380 (15.0)\n",
      "                                 Against Medical Advice (AMA)                               23 (0.9)\n",
      "                                 Assisted Living                                             1 (0.0)\n",
      "                                 Chemical Dependency                                         1 (0.0)\n",
      "                                 Expired                                                  757 (30.0)\n",
      "                                 Home                                                     911 (36.1)\n",
      "                                 Hospice                                                    58 (2.3)\n",
      "                                 Long Term Care Hospital (LTACH)                            64 (2.5)\n",
      "                                 Missing                                                   127 (5.0)\n",
      "                                 Other                                                       1 (0.0)\n",
      "                                 Psychiatric Hospital                                        9 (0.4)\n",
      "                                 Skilled Nursing Facility (SNF)                            175 (6.9)\n",
      "age_at_admission, median [Q1,Q3]                                                 0  62.0 [50.0,71.0]\n",
      "ICU_LOS, median [Q1,Q3]                                                          0    6.6 [3.5,12.4]\n",
      "Inpatient_LOS, median [Q1,Q3]                                                    0   11.9 [6.8,20.6]\n",
      "\n"
     ]
    }
   ],
   "source": [
    "### all Table 1\n",
    "\n",
    "all_t1 = final_df[[ 'hospitalization_id', 'admission_dttm', 'discharge_dttm', 'age_at_admission', 'discharge_category', 'sex_category','race_category', 'ethnicity_category','ICU_LOS']].drop_duplicates()\n",
    "all_t1['Inpatient_LOS'] = (all_t1['discharge_dttm'] - all_t1['admission_dttm']).dt.total_seconds() / (24 * 3600)\n",
    "\n",
    "if len(all_t1)>1:\n",
    "    table3 = TableOne(all_t1, categorical=categorical_columns, nonnormal=non_categorical_columns, columns=categorical_columns+non_categorical_columns )\n",
    "\n",
    "    table3.to_csv(f'{directory_path}/table1_all_t1_{pc.helper[\"site_name\"]}.csv')\n",
    "    print(table3)"
   ]
  },
  {
   "cell_type": "markdown",
   "metadata": {},
   "source": [
    "#### Per hospital stats"
   ]
  },
  {
   "cell_type": "code",
   "execution_count": 26,
   "metadata": {},
   "outputs": [
    {
     "data": {
      "application/vnd.microsoft.datawrangler.viewer.v0+json": {
       "columns": [
        {
         "name": "index",
         "rawType": "object",
         "type": "string"
        },
        {
         "name": "0",
         "rawType": "object",
         "type": "unknown"
        }
       ],
       "conversionMethod": "pd.DataFrame",
       "ref": "7f0c8951-3f0a-41ca-9a63-9470d2373c0e",
       "rows": [
        [
         "Site_Name_Hosp",
         "RUSH_RUMC"
        ],
        [
         "%_of_SAT_flowsheet_delivery_flag",
         "53.48105249905577"
        ],
        [
         "%_of_SAT_modified_delivery",
         "60.61941331990431"
        ],
        [
         "%_of_SAT_EHR_delivery",
         "36.59826262117588"
        ],
        [
         "%_of_SAT_rass_nonneg_30",
         "47.94158378446431"
        ],
        [
         "%_of_SAT_med_halved_rass_pos",
         "20.848545889462418"
        ],
        [
         "%_of_SAT_no_meds_rass_pos_45",
         "20.798187082966134"
        ],
        [
         "%_of_SAT_rass_first_neg_30_last45_nonneg",
         "38.70074279239582"
        ],
        [
         "eligible_event_count",
         "7943"
        ],
        [
         "sat_flowsheet_delivery_flag_count",
         "4248"
        ],
        [
         "SAT_modified_delivery_count",
         "4815"
        ],
        [
         "SAT_EHR_delivery_count",
         "2907"
        ],
        [
         "SAT_rass_nonneg_30_count",
         "3808"
        ],
        [
         "SAT_med_halved_rass_pos_count",
         "1656"
        ],
        [
         "SAT_no_meds_rass_pos_45_count",
         "1652"
        ],
        [
         "SAT_rass_first_neg_30_last45_nonneg_count",
         "3074"
        ],
        [
         "SAT_EHR_unique_patients",
         "1851"
        ],
        [
         "SAT_EHR_unique_hospitalizations",
         "1908"
        ],
        [
         "SAT_modified_unique_patients",
         "2121"
        ],
        [
         "SAT_modified_unique_hospitalizations",
         "2199"
        ],
        [
         "SAT_rass_nonneg_30_unique_patients",
         "1597"
        ],
        [
         "SAT_rass_nonneg_30_unique_hospitalizations",
         "1653"
        ],
        [
         "SAT_med_halved_rass_pos_unique_patients",
         "1201"
        ],
        [
         "SAT_med_halved_rass_pos_unique_hospitalizations",
         "1236"
        ],
        [
         "SAT_no_meds_rass_pos_45_unique_patients",
         "1216"
        ],
        [
         "SAT_no_meds_rass_pos_45_unique_hospitalizations",
         "1247"
        ],
        [
         "SAT_rass_first_neg_30_last45_nonneg_unique_patients",
         "1400"
        ],
        [
         "SAT_rass_first_neg_30_last45_nonneg_unique_hospitalizations",
         "1443"
        ]
       ],
       "shape": {
        "columns": 1,
        "rows": 28
       }
      },
      "text/html": [
       "<div>\n",
       "<style scoped>\n",
       "    .dataframe tbody tr th:only-of-type {\n",
       "        vertical-align: middle;\n",
       "    }\n",
       "\n",
       "    .dataframe tbody tr th {\n",
       "        vertical-align: top;\n",
       "    }\n",
       "\n",
       "    .dataframe thead th {\n",
       "        text-align: right;\n",
       "    }\n",
       "</style>\n",
       "<table border=\"1\" class=\"dataframe\">\n",
       "  <thead>\n",
       "    <tr style=\"text-align: right;\">\n",
       "      <th></th>\n",
       "      <th>0</th>\n",
       "    </tr>\n",
       "  </thead>\n",
       "  <tbody>\n",
       "    <tr>\n",
       "      <th>Site_Name_Hosp</th>\n",
       "      <td>RUSH_RUMC</td>\n",
       "    </tr>\n",
       "    <tr>\n",
       "      <th>%_of_SAT_flowsheet_delivery_flag</th>\n",
       "      <td>53.481052</td>\n",
       "    </tr>\n",
       "    <tr>\n",
       "      <th>%_of_SAT_modified_delivery</th>\n",
       "      <td>60.619413</td>\n",
       "    </tr>\n",
       "    <tr>\n",
       "      <th>%_of_SAT_EHR_delivery</th>\n",
       "      <td>36.598263</td>\n",
       "    </tr>\n",
       "    <tr>\n",
       "      <th>%_of_SAT_rass_nonneg_30</th>\n",
       "      <td>47.941584</td>\n",
       "    </tr>\n",
       "    <tr>\n",
       "      <th>%_of_SAT_med_halved_rass_pos</th>\n",
       "      <td>20.848546</td>\n",
       "    </tr>\n",
       "    <tr>\n",
       "      <th>%_of_SAT_no_meds_rass_pos_45</th>\n",
       "      <td>20.798187</td>\n",
       "    </tr>\n",
       "    <tr>\n",
       "      <th>%_of_SAT_rass_first_neg_30_last45_nonneg</th>\n",
       "      <td>38.700743</td>\n",
       "    </tr>\n",
       "    <tr>\n",
       "      <th>eligible_event_count</th>\n",
       "      <td>7943</td>\n",
       "    </tr>\n",
       "    <tr>\n",
       "      <th>sat_flowsheet_delivery_flag_count</th>\n",
       "      <td>4248</td>\n",
       "    </tr>\n",
       "    <tr>\n",
       "      <th>SAT_modified_delivery_count</th>\n",
       "      <td>4815</td>\n",
       "    </tr>\n",
       "    <tr>\n",
       "      <th>SAT_EHR_delivery_count</th>\n",
       "      <td>2907</td>\n",
       "    </tr>\n",
       "    <tr>\n",
       "      <th>SAT_rass_nonneg_30_count</th>\n",
       "      <td>3808</td>\n",
       "    </tr>\n",
       "    <tr>\n",
       "      <th>SAT_med_halved_rass_pos_count</th>\n",
       "      <td>1656</td>\n",
       "    </tr>\n",
       "    <tr>\n",
       "      <th>SAT_no_meds_rass_pos_45_count</th>\n",
       "      <td>1652</td>\n",
       "    </tr>\n",
       "    <tr>\n",
       "      <th>SAT_rass_first_neg_30_last45_nonneg_count</th>\n",
       "      <td>3074</td>\n",
       "    </tr>\n",
       "    <tr>\n",
       "      <th>SAT_EHR_unique_patients</th>\n",
       "      <td>1851</td>\n",
       "    </tr>\n",
       "    <tr>\n",
       "      <th>SAT_EHR_unique_hospitalizations</th>\n",
       "      <td>1908</td>\n",
       "    </tr>\n",
       "    <tr>\n",
       "      <th>SAT_modified_unique_patients</th>\n",
       "      <td>2121</td>\n",
       "    </tr>\n",
       "    <tr>\n",
       "      <th>SAT_modified_unique_hospitalizations</th>\n",
       "      <td>2199</td>\n",
       "    </tr>\n",
       "    <tr>\n",
       "      <th>SAT_rass_nonneg_30_unique_patients</th>\n",
       "      <td>1597</td>\n",
       "    </tr>\n",
       "    <tr>\n",
       "      <th>SAT_rass_nonneg_30_unique_hospitalizations</th>\n",
       "      <td>1653</td>\n",
       "    </tr>\n",
       "    <tr>\n",
       "      <th>SAT_med_halved_rass_pos_unique_patients</th>\n",
       "      <td>1201</td>\n",
       "    </tr>\n",
       "    <tr>\n",
       "      <th>SAT_med_halved_rass_pos_unique_hospitalizations</th>\n",
       "      <td>1236</td>\n",
       "    </tr>\n",
       "    <tr>\n",
       "      <th>SAT_no_meds_rass_pos_45_unique_patients</th>\n",
       "      <td>1216</td>\n",
       "    </tr>\n",
       "    <tr>\n",
       "      <th>SAT_no_meds_rass_pos_45_unique_hospitalizations</th>\n",
       "      <td>1247</td>\n",
       "    </tr>\n",
       "    <tr>\n",
       "      <th>SAT_rass_first_neg_30_last45_nonneg_unique_patients</th>\n",
       "      <td>1400</td>\n",
       "    </tr>\n",
       "    <tr>\n",
       "      <th>SAT_rass_first_neg_30_last45_nonneg_unique_hospitalizations</th>\n",
       "      <td>1443</td>\n",
       "    </tr>\n",
       "  </tbody>\n",
       "</table>\n",
       "</div>"
      ],
      "text/plain": [
       "                                                            0\n",
       "Site_Name_Hosp                                      RUSH_RUMC\n",
       "%_of_SAT_flowsheet_delivery_flag                    53.481052\n",
       "%_of_SAT_modified_delivery                          60.619413\n",
       "%_of_SAT_EHR_delivery                               36.598263\n",
       "%_of_SAT_rass_nonneg_30                             47.941584\n",
       "%_of_SAT_med_halved_rass_pos                        20.848546\n",
       "%_of_SAT_no_meds_rass_pos_45                        20.798187\n",
       "%_of_SAT_rass_first_neg_30_last45_nonneg            38.700743\n",
       "eligible_event_count                                     7943\n",
       "sat_flowsheet_delivery_flag_count                        4248\n",
       "SAT_modified_delivery_count                              4815\n",
       "SAT_EHR_delivery_count                                   2907\n",
       "SAT_rass_nonneg_30_count                                 3808\n",
       "SAT_med_halved_rass_pos_count                            1656\n",
       "SAT_no_meds_rass_pos_45_count                            1652\n",
       "SAT_rass_first_neg_30_last45_nonneg_count                3074\n",
       "SAT_EHR_unique_patients                                  1851\n",
       "SAT_EHR_unique_hospitalizations                          1908\n",
       "SAT_modified_unique_patients                             2121\n",
       "SAT_modified_unique_hospitalizations                     2199\n",
       "SAT_rass_nonneg_30_unique_patients                       1597\n",
       "SAT_rass_nonneg_30_unique_hospitalizations               1653\n",
       "SAT_med_halved_rass_pos_unique_patients                  1201\n",
       "SAT_med_halved_rass_pos_unique_hospitalizations          1236\n",
       "SAT_no_meds_rass_pos_45_unique_patients                  1216\n",
       "SAT_no_meds_rass_pos_45_unique_hospitalizations          1247\n",
       "SAT_rass_first_neg_30_last45_nonneg_unique_pati...       1400\n",
       "SAT_rass_first_neg_30_last45_nonneg_unique_hosp...       1443"
      ]
     },
     "execution_count": 26,
     "metadata": {},
     "output_type": "execute_result"
    }
   ],
   "source": [
    "# Initialize an empty list to store each hospital's data\n",
    "data_list = []\n",
    "\n",
    "# Iterate over unique hospital IDs as strings\n",
    "for x in final_df['hospital_id'].astype(str).unique():\n",
    "    # Count of eligible events for this site\n",
    "    eligible_event_count = final_df[\n",
    "        (final_df['eligible_event'] == 1) &\n",
    "        (final_df['hospital_id'].astype(str) == x)\n",
    "    ].shape[0]\n",
    "\n",
    "    # Existing SAT flags counts\n",
    "    sat_flowsheet_delivery_flag_count = final_df[\n",
    "        (final_df['sat_flowsheet_delivery_flag'] == 1) &\n",
    "        (final_df['hospital_id'].astype(str) == x)\n",
    "    ].shape[0]\n",
    "    SAT_modified_delivery_count = final_df[\n",
    "        (final_df['SAT_modified_delivery'] == 1) &\n",
    "        (final_df['hospital_id'].astype(str) == x)\n",
    "    ].shape[0]\n",
    "    SAT_EHR_delivery_count = final_df[\n",
    "        (final_df['SAT_EHR_delivery'] == 1) &\n",
    "        (final_df['hospital_id'].astype(str) == x)\n",
    "    ].shape[0]\n",
    "\n",
    "    # New SAT flags counts\n",
    "    SAT_rass_nonneg_30_count = final_df[\n",
    "        (final_df['SAT_rass_nonneg_30'] == 1) &\n",
    "        (final_df['hospital_id'].astype(str) == x)\n",
    "    ].shape[0]\n",
    "    SAT_med_halved_rass_pos_count = final_df[\n",
    "        (final_df['SAT_med_halved_rass_pos'] == 1) &\n",
    "        (final_df['hospital_id'].astype(str) == x)\n",
    "    ].shape[0]\n",
    "    SAT_no_meds_rass_pos_45_count = final_df[\n",
    "        (final_df['SAT_no_meds_rass_pos_45'] == 1) &\n",
    "        (final_df['hospital_id'].astype(str) == x)\n",
    "    ].shape[0]\n",
    "    # New flag: first negative RASS within 30 min, last 45 min non-negative\n",
    "    SAT_rass_first_neg_30_last45_nonneg_count = final_df[\n",
    "        (final_df['SAT_rass_first_neg_30_last45_nonneg'] == 1) &\n",
    "        (final_df['hospital_id'].astype(str) == x)\n",
    "    ].shape[0]\n",
    "\n",
    "    # Unique patients and hospitalizations for each flag\n",
    "    SAT_EHR_uni_pats = final_df[\n",
    "        (final_df['SAT_EHR_delivery'] == 1) &\n",
    "        (final_df['hospital_id'].astype(str) == x)\n",
    "    ]['patient_id'].nunique()\n",
    "    SAT_EHR_hosp = final_df[\n",
    "        (final_df['SAT_EHR_delivery'] == 1) &\n",
    "        (final_df['hospital_id'].astype(str) == x)\n",
    "    ]['hospitalization_id'].nunique()\n",
    "\n",
    "    SAT_modified_uni_pats = final_df[\n",
    "        (final_df['SAT_modified_delivery'] == 1) &\n",
    "        (final_df['hospital_id'].astype(str) == x)\n",
    "    ]['patient_id'].nunique()\n",
    "    SAT_modified_hosp = final_df[\n",
    "        (final_df['SAT_modified_delivery'] == 1) &\n",
    "        (final_df['hospital_id'].astype(str) == x)\n",
    "    ]['hospitalization_id'].nunique()\n",
    "\n",
    "    SAT_rass_nonneg_30_uni_pats = final_df[\n",
    "        (final_df['SAT_rass_nonneg_30'] == 1) &\n",
    "        (final_df['hospital_id'].astype(str) == x)\n",
    "    ]['patient_id'].nunique()\n",
    "    SAT_rass_nonneg_30_hosp = final_df[\n",
    "        (final_df['SAT_rass_nonneg_30'] == 1) &\n",
    "        (final_df['hospital_id'].astype(str) == x)\n",
    "    ]['hospitalization_id'].nunique()\n",
    "\n",
    "    SAT_med_halved_rass_pos_uni_pats = final_df[\n",
    "        (final_df['SAT_med_halved_rass_pos'] == 1) &\n",
    "        (final_df['hospital_id'].astype(str) == x)\n",
    "    ]['patient_id'].nunique()\n",
    "    SAT_med_halved_rass_pos_hosp = final_df[\n",
    "        (final_df['SAT_med_halved_rass_pos'] == 1) &\n",
    "        (final_df['hospital_id'].astype(str) == x)\n",
    "    ]['hospitalization_id'].nunique()\n",
    "\n",
    "    SAT_no_meds_rass_pos_45_uni_pats = final_df[\n",
    "        (final_df['SAT_no_meds_rass_pos_45'] == 1) &\n",
    "        (final_df['hospital_id'].astype(str) == x)\n",
    "    ]['patient_id'].nunique()\n",
    "    SAT_no_meds_rass_pos_45_hosp = final_df[\n",
    "        (final_df['SAT_no_meds_rass_pos_45'] == 1) &\n",
    "        (final_df['hospital_id'].astype(str) == x)\n",
    "    ]['hospitalization_id'].nunique()\n",
    "\n",
    "    # Unique for the new flag\n",
    "    SAT_rass_first_neg_30_last45_nonneg_uni_pats = final_df[\n",
    "        (final_df['SAT_rass_first_neg_30_last45_nonneg'] == 1) &\n",
    "        (final_df['hospital_id'].astype(str) == x)\n",
    "    ]['patient_id'].nunique()\n",
    "    SAT_rass_first_neg_30_last45_nonneg_hosp = final_df[\n",
    "        (final_df['SAT_rass_first_neg_30_last45_nonneg'] == 1) &\n",
    "        (final_df['hospital_id'].astype(str) == x)\n",
    "    ]['hospitalization_id'].nunique()\n",
    "\n",
    "    # Calculate percentages safely\n",
    "    if eligible_event_count > 0:\n",
    "        percent_sat_flowsheet_delivery_flag = sat_flowsheet_delivery_flag_count / eligible_event_count * 100\n",
    "        percent_SAT_modified_delivery = SAT_modified_delivery_count / eligible_event_count * 100\n",
    "        percent_SAT_EHR_delivery = SAT_EHR_delivery_count / eligible_event_count * 100\n",
    "        percent_SAT_rass_nonneg_30 = SAT_rass_nonneg_30_count / eligible_event_count * 100\n",
    "        percent_SAT_med_halved_rass_pos = SAT_med_halved_rass_pos_count / eligible_event_count * 100\n",
    "        percent_SAT_no_meds_rass_pos_45 = SAT_no_meds_rass_pos_45_count / eligible_event_count * 100\n",
    "        percent_SAT_rass_first_neg_30_last45_nonneg = SAT_rass_first_neg_30_last45_nonneg_count / eligible_event_count * 100\n",
    "    else:\n",
    "        percent_sat_flowsheet_delivery_flag = percent_SAT_modified_delivery = 0\n",
    "        percent_SAT_EHR_delivery = percent_SAT_rass_nonneg_30 = 0\n",
    "        percent_SAT_med_halved_rass_pos = percent_SAT_no_meds_rass_pos_45 = 0\n",
    "        percent_SAT_rass_first_neg_30_last45_nonneg = 0\n",
    "\n",
    "    # Append the metrics for this hospital\n",
    "    data_list.append({\n",
    "        'Site_Name_Hosp': pc.helper[\"site_name\"] + '_' + x,\n",
    "        '%_of_SAT_flowsheet_delivery_flag': percent_sat_flowsheet_delivery_flag,\n",
    "        '%_of_SAT_modified_delivery': percent_SAT_modified_delivery,\n",
    "        '%_of_SAT_EHR_delivery': percent_SAT_EHR_delivery,\n",
    "        '%_of_SAT_rass_nonneg_30': percent_SAT_rass_nonneg_30,\n",
    "        '%_of_SAT_med_halved_rass_pos': percent_SAT_med_halved_rass_pos,\n",
    "        '%_of_SAT_no_meds_rass_pos_45': percent_SAT_no_meds_rass_pos_45,\n",
    "        '%_of_SAT_rass_first_neg_30_last45_nonneg': percent_SAT_rass_first_neg_30_last45_nonneg,\n",
    "        'eligible_event_count': eligible_event_count,\n",
    "        'sat_flowsheet_delivery_flag_count': sat_flowsheet_delivery_flag_count,\n",
    "        'SAT_modified_delivery_count': SAT_modified_delivery_count,\n",
    "        'SAT_EHR_delivery_count': SAT_EHR_delivery_count,\n",
    "        'SAT_rass_nonneg_30_count': SAT_rass_nonneg_30_count,\n",
    "        'SAT_med_halved_rass_pos_count': SAT_med_halved_rass_pos_count,\n",
    "        'SAT_no_meds_rass_pos_45_count': SAT_no_meds_rass_pos_45_count,\n",
    "        'SAT_rass_first_neg_30_last45_nonneg_count': SAT_rass_first_neg_30_last45_nonneg_count,\n",
    "        'SAT_EHR_unique_patients': SAT_EHR_uni_pats,\n",
    "        'SAT_EHR_unique_hospitalizations': SAT_EHR_hosp,\n",
    "        'SAT_modified_unique_patients': SAT_modified_uni_pats,\n",
    "        'SAT_modified_unique_hospitalizations': SAT_modified_hosp,\n",
    "        'SAT_rass_nonneg_30_unique_patients': SAT_rass_nonneg_30_uni_pats,\n",
    "        'SAT_rass_nonneg_30_unique_hospitalizations': SAT_rass_nonneg_30_hosp,\n",
    "        'SAT_med_halved_rass_pos_unique_patients': SAT_med_halved_rass_pos_uni_pats,\n",
    "        'SAT_med_halved_rass_pos_unique_hospitalizations': SAT_med_halved_rass_pos_hosp,\n",
    "        'SAT_no_meds_rass_pos_45_unique_patients': SAT_no_meds_rass_pos_45_uni_pats,\n",
    "        'SAT_no_meds_rass_pos_45_unique_hospitalizations': SAT_no_meds_rass_pos_45_hosp,\n",
    "        'SAT_rass_first_neg_30_last45_nonneg_unique_patients': SAT_rass_first_neg_30_last45_nonneg_uni_pats,\n",
    "        'SAT_rass_first_neg_30_last45_nonneg_unique_hospitalizations': SAT_rass_first_neg_30_last45_nonneg_hosp,\n",
    "    })\n",
    "\n",
    "# Create a DataFrame from the list and export\n",
    "final_data_df = pd.DataFrame(data_list)\n",
    "final_data_df.to_csv(f'{directory_path}/sat_stats_{pc.helper[\"site_name\"]}.csv', index=False)\n",
    "# Display the final DataFrame\n",
    "final_data_df.T\n"
   ]
  },
  {
   "cell_type": "markdown",
   "metadata": {},
   "source": [
    "# New Table 1 Code"
   ]
  },
  {
   "cell_type": "code",
   "execution_count": 27,
   "metadata": {},
   "outputs": [],
   "source": [
    "# Aggregate functions\n",
    "def documented(series):\n",
    "    return \"Documented\" if series.notna().any() else \"Not Documented\"\n",
    "\n",
    "def age_bucket(mean_age):\n",
    "    if pd.isna(mean_age):\n",
    "        return None\n",
    "    elif mean_age < 40:\n",
    "        return \"18-39\"\n",
    "    elif mean_age < 60:\n",
    "        return \"40-59\"\n",
    "    elif mean_age < 80:\n",
    "        return \"60-79\"\n",
    "    else:\n",
    "        return \"80+\"\n",
    "\n",
    "# Clean 'language_name' to only \"English\", \"Spanish\", or \"Other\"\n",
    "def categorize_language(lang):\n",
    "    if re.search(r'english', str(lang), re.IGNORECASE):\n",
    "        return 'English'\n",
    "    elif re.search(r'spanish', str(lang), re.IGNORECASE):\n",
    "        return 'Spanish'\n",
    "    else:\n",
    "        return 'Other'\n",
    "\n",
    "t1_col = [\n",
    "    \"patient_id\",\n",
    "    \"hospitalization_id\",\n",
    "    \"hosp_id_day_key\",\n",
    "    \"age_at_admission\",    \"sex_category\",    \"race_category\",    \"ethnicity_category\",    \"language_name\",    \"weight_kg\",\n",
    "    \"height_cm\", \"cisatracurium\",    \"vecuronium\",    \"rocuronium\",    \"dobutamine\",    \"dopamine\",    \"epinephrine\",\n",
    "    \"fentanyl\",    \"hydromorphone\",    \"isoproterenol\",    \"lorazepam\",    \"midazolam\",    \"milrinone\",    \"morphine\",\n",
    "    \"norepinephrine\",    \"phenylephrine\",    \"propofol\",    \"vasopressin\",    \"angiotensin\",     \"rass\", \"gcs_total\"\n",
    "]\n",
    "\n",
    "medication_columns = [\n",
    "    \"rass\", \"gcs_total\", \"cisatracurium\", \"vecuronium\", \"rocuronium\",\n",
    "    \"dobutamine\", \"dopamine\", \"epinephrine\", \"fentanyl\", \"hydromorphone\",\n",
    "    \"isoproterenol\", \"lorazepam\", \"midazolam\", \"milrinone\", \"morphine\",\n",
    "    \"norepinephrine\", \"phenylephrine\", \"propofol\", \"vasopressin\", \"angiotensin\"\n",
    "]\n",
    "\n",
    "demographic_columns = [\"sex_category\", \"race_category\", \"ethnicity_category\", \"language_name\"]\n",
    "\n",
    "continuous_cols = [\n",
    "    \"rass\", \"gcs_total\", \"cisatracurium\", \"vecuronium\", \"rocuronium\",\n",
    "    \"dobutamine\", \"dopamine\", \"epinephrine\", \"fentanyl\", \"hydromorphone\",\n",
    "    \"isoproterenol\", \"lorazepam\", \"midazolam\", \"milrinone\", \"morphine\",\n",
    "    \"norepinephrine\", \"phenylephrine\", \"propofol\", \"vasopressin\",\n",
    "    \"angiotensin\", \"bmi\"\n",
    "]\n",
    "\n",
    "drugs = [\n",
    "    \"cisatracurium\", \"vecuronium\", \"rocuronium\",\n",
    "    \"dobutamine\", \"dopamine\", \"epinephrine\", \"fentanyl\", \"hydromorphone\",\n",
    "    \"isoproterenol\", \"lorazepam\", \"midazolam\", \"milrinone\", \"morphine\",\n",
    "    \"norepinephrine\", \"phenylephrine\", \"propofol\", \"vasopressin\", \"angiotensin\"\n",
    "]\n",
    "\n",
    "# Apply the transformation\n",
    "t1_cohort[drugs] = t1_cohort[drugs].applymap(lambda x: x if x > 0 else np.nan)\n",
    "\n",
    "t1_cohort['bmi'] = t1_cohort['weight_kg'] / ((t1_cohort['height_cm'] / 100) ** 2)\n",
    "\n",
    "# Apply the function to 'language_name'\n",
    "t1_cohort['language_name'] = t1_cohort['language_name'].apply(categorize_language)\n",
    "t1_cohort['rass'] = t1_cohort['rass'].astype(float)"
   ]
  },
  {
   "cell_type": "markdown",
   "metadata": {},
   "source": [
    "#### Table 1 By ID for Categorical"
   ]
  },
  {
   "cell_type": "code",
   "execution_count": 28,
   "metadata": {},
   "outputs": [],
   "source": [
    "for x in ['hospitalization_id', 'patient_id']:\n",
    "    t1_summary = t1_cohort.groupby(x).agg(\n",
    "        {\n",
    "            \"age_at_admission\": \"mean\",\n",
    "            **{col: documented for col in medication_columns},\n",
    "            **{col: \"first\" for col in demographic_columns}\n",
    "        }\n",
    "    )\n",
    "\n",
    "    t1_summary[\"age_bucket\"] = t1_summary[\"age_at_admission\"].apply(age_bucket)\n",
    "    t1_summary = t1_summary.drop(columns=[\"age_at_admission\"])\n",
    "    t1_summary = t1_summary.reset_index()\n",
    "\n",
    "    summary_df = t1code.manual_categorical_tableone(\n",
    "        t1_summary, \n",
    "        medication_columns + demographic_columns + [\"age_bucket\"]\n",
    "    )\n",
    "\n",
    "    if x == 'hospitalization_id':\n",
    "        summary_df.to_csv(f\"{directory_path}/table1_hospitalization_id_categorical.csv\", index=False)\n",
    "    else:\n",
    "        summary_df.to_csv(f\"{directory_path}/table1_patient_id_categorical.csv\", index=False)"
   ]
  },
  {
   "cell_type": "markdown",
   "metadata": {},
   "source": [
    "#### Table 1 By ID for Continuous"
   ]
  },
  {
   "cell_type": "code",
   "execution_count": 29,
   "metadata": {},
   "outputs": [],
   "source": [
    "hospitalization_summary = None\n",
    "patient_summary = None\n",
    "\n",
    "hosp = (\n",
    "    t1_cohort\n",
    "      .groupby(\"hospitalization_id\")\n",
    "      .agg(\n",
    "        {\n",
    "          **{c: \"median\" for c in continuous_cols}\n",
    "        }\n",
    "      )\n",
    "      .reset_index()\n",
    ")\n",
    "\n",
    "patient = (\n",
    "    t1_cohort\n",
    "      .groupby(\"patient_id\")\n",
    "      .agg(\n",
    "        {\n",
    "          **{c: \"median\" for c in continuous_cols}\n",
    "        }\n",
    "      )\n",
    "      .reset_index()\n",
    ")\n",
    "\n",
    "# Build for hospitalization level and patient level\n",
    "hospitalization_summary = t1code.manual_tableone(hosp, continuous_cols)\n",
    "patient_summary = t1code.manual_tableone(patient, continuous_cols)\n",
    "\n",
    "hospitalization_summary.to_csv(f\"{directory_path}/table1_hospitalization_id_continuous.csv\", index=False)\n",
    "patient_summary.to_csv(f\"{directory_path}/table1_patient_id_continuous.csv\", index=False)"
   ]
  },
  {
   "cell_type": "markdown",
   "metadata": {},
   "source": [
    "#### Table 1 By Days for Categorical"
   ]
  },
  {
   "cell_type": "code",
   "execution_count": 30,
   "metadata": {},
   "outputs": [
    {
     "name": "stderr",
     "output_type": "stream",
     "text": [
      "100%|██████████| 3/3 [00:28<00:00,  9.55s/it]\n"
     ]
    }
   ],
   "source": [
    "for x in tqdm(\n",
    "    [\n",
    "        \"eligible_event\",\n",
    "        \"SAT_EHR_delivery\",\n",
    "        \"SAT_modified_delivery\"\n",
    "    ]\n",
    "):\n",
    "    ids_to_use = final_df[final_df[x]==1].hosp_id_day_key.unique()\n",
    "    # Groupby aggregation by hospitalization_id\n",
    "    t1_summary = t1_cohort[t1_cohort['hosp_id_day_key'].isin(ids_to_use)].groupby(\"hosp_id_day_key\").agg(\n",
    "        {\n",
    "            \"age_at_admission\": \"mean\",\n",
    "            **{col: documented for col in medication_columns},\n",
    "            **{col: \"first\" for col in demographic_columns},\n",
    "        }\n",
    "    )\n",
    "\n",
    "    # Apply age bucketing\n",
    "    t1_summary[\"age_bucket\"] = t1_summary[\"age_at_admission\"].apply(age_bucket)\n",
    "\n",
    "    # Drop raw age if you don't need it\n",
    "    t1_summary = t1_summary.drop(columns=[\"age_at_admission\"])\n",
    "\n",
    "    # Reset index if needed\n",
    "    t1_summary = t1_summary.reset_index()\n",
    "\n",
    "    summary_df = t1code.manual_categorical_tableone(\n",
    "        t1_summary, \n",
    "        medication_columns + demographic_columns + [\"age_bucket\"]\n",
    "    )\n",
    "    summary_df.to_csv(f\"{directory_path}/table1_{x}_categorical.csv\", index=False)\n"
   ]
  },
  {
   "cell_type": "code",
   "execution_count": 31,
   "metadata": {},
   "outputs": [
    {
     "name": "stderr",
     "output_type": "stream",
     "text": [
      "100%|██████████| 7/7 [00:02<00:00,  2.61it/s]\n"
     ]
    }
   ],
   "source": [
    "for x in tqdm(\n",
    "    [\n",
    "        \"eligible_event\",\n",
    "        \"SAT_EHR_delivery\",\n",
    "        \"SAT_modified_delivery\",\n",
    "         \"SAT_rass_nonneg_30\",\n",
    "    \"SAT_med_halved_rass_pos\",\n",
    "    \"SAT_no_meds_rass_pos_45\",\n",
    "    'SAT_rass_first_neg_30_last45_nonneg'\n",
    "    ]\n",
    "):\n",
    "    # --- filter to only the days in this subcohort\n",
    "    ids = final_df.loc[final_df[x] == 1, \"hosp_id_day_key\"].unique()\n",
    "    sub = t1_cohort[t1_cohort[\"hosp_id_day_key\"].isin(ids)]\n",
    "\n",
    "    # --- 1) Day-level medians + flags + demographics\n",
    "    day_summary = (\n",
    "        sub.groupby(\"hosp_id_day_key\")\n",
    "        .agg({**{c: \"median\" for c in continuous_cols}})\n",
    "        .reset_index()\n",
    "    )\n",
    "    summary_df = t1code.manual_tableone(day_summary, continuous_cols)\n",
    "    summary_df.to_csv(f\"{directory_path}/table1_{x}_continuous.csv\", index=False)"
   ]
  },
  {
   "cell_type": "markdown",
   "metadata": {},
   "source": [
    "### Sofa T1's"
   ]
  },
  {
   "cell_type": "code",
   "execution_count": 32,
   "metadata": {},
   "outputs": [
    {
     "name": "stdout",
     "output_type": "stream",
     "text": [
      "Loaded configuration from config.json\n"
     ]
    }
   ],
   "source": [
    "import pySofa as sofa\n",
    "sofa.pyCLIF2.helper\n",
    "\n",
    "continuous_cols_sofa = [ 'sofa_cv_97', 'sofa_coag',\n",
    "       'sofa_liver', 'sofa_resp_pf', 'sofa_resp_pf_imp', 'sofa_resp',\n",
    "       'sofa_cns', 'sofa_renal', 'sofa_total']"
   ]
  },
  {
   "cell_type": "code",
   "execution_count": 33,
   "metadata": {},
   "outputs": [
    {
     "data": {
      "application/vnd.microsoft.datawrangler.viewer.v0+json": {
       "columns": [
        {
         "name": "index",
         "rawType": "int64",
         "type": "integer"
        },
        {
         "name": "hospitalization_id",
         "rawType": "int64",
         "type": "integer"
        },
        {
         "name": "encounter_block",
         "rawType": "int64",
         "type": "integer"
        }
       ],
       "conversionMethod": "pd.DataFrame",
       "ref": "98521109-4415-46d4-bb71-c7fd3752f8a9",
       "rows": [
        [
         "0",
         "100169127277",
         "1"
        ],
        [
         "1",
         "100190011993",
         "2"
        ],
        [
         "2",
         "100203388036",
         "3"
        ],
        [
         "3",
         "100235169364",
         "4"
        ],
        [
         "4",
         "100189173875",
         "5"
        ]
       ],
       "shape": {
        "columns": 2,
        "rows": 5
       }
      },
      "text/html": [
       "<div>\n",
       "<style scoped>\n",
       "    .dataframe tbody tr th:only-of-type {\n",
       "        vertical-align: middle;\n",
       "    }\n",
       "\n",
       "    .dataframe tbody tr th {\n",
       "        vertical-align: top;\n",
       "    }\n",
       "\n",
       "    .dataframe thead th {\n",
       "        text-align: right;\n",
       "    }\n",
       "</style>\n",
       "<table border=\"1\" class=\"dataframe\">\n",
       "  <thead>\n",
       "    <tr style=\"text-align: right;\">\n",
       "      <th></th>\n",
       "      <th>hospitalization_id</th>\n",
       "      <th>encounter_block</th>\n",
       "    </tr>\n",
       "  </thead>\n",
       "  <tbody>\n",
       "    <tr>\n",
       "      <th>0</th>\n",
       "      <td>100169127277</td>\n",
       "      <td>1</td>\n",
       "    </tr>\n",
       "    <tr>\n",
       "      <th>1</th>\n",
       "      <td>100190011993</td>\n",
       "      <td>2</td>\n",
       "    </tr>\n",
       "    <tr>\n",
       "      <th>2</th>\n",
       "      <td>100203388036</td>\n",
       "      <td>3</td>\n",
       "    </tr>\n",
       "    <tr>\n",
       "      <th>3</th>\n",
       "      <td>100235169364</td>\n",
       "      <td>4</td>\n",
       "    </tr>\n",
       "    <tr>\n",
       "      <th>4</th>\n",
       "      <td>100189173875</td>\n",
       "      <td>5</td>\n",
       "    </tr>\n",
       "  </tbody>\n",
       "</table>\n",
       "</div>"
      ],
      "text/plain": [
       "   hospitalization_id  encounter_block\n",
       "0        100169127277                1\n",
       "1        100190011993                2\n",
       "2        100203388036                3\n",
       "3        100235169364                4\n",
       "4        100189173875                5"
      ]
     },
     "execution_count": 33,
     "metadata": {},
     "output_type": "execute_result"
    }
   ],
   "source": [
    "mapping_ids = pd.read_csv('../output/intermediate/hospitalization_to_block_df.csv')\n",
    "encounter_dict = dict(zip(mapping_ids['hospitalization_id'].astype(str), mapping_ids['encounter_block'].astype(str)))\n",
    "mapping_ids.head()"
   ]
  },
  {
   "cell_type": "code",
   "execution_count": 34,
   "metadata": {},
   "outputs": [
    {
     "name": "stdout",
     "output_type": "stream",
     "text": [
      "start_dttm: Your timezone is UTC, Converting to your site timezone (US/Central).\n",
      "start_dttm: null count = 0\n",
      "stop_dttm: Your timezone is UTC, Converting to your site timezone (US/Central).\n",
      "stop_dttm: null count = 0\n"
     ]
    },
    {
     "data": {
      "application/vnd.microsoft.datawrangler.viewer.v0+json": {
       "columns": [
        {
         "name": "index",
         "rawType": "int64",
         "type": "integer"
        },
        {
         "name": "hospitalization_id",
         "rawType": "int64",
         "type": "integer"
        },
        {
         "name": "start_dttm",
         "rawType": "datetime64[ns, US/Central]",
         "type": "unknown"
        },
        {
         "name": "stop_dttm",
         "rawType": "datetime64[ns, US/Central]",
         "type": "unknown"
        }
       ],
       "conversionMethod": "pd.DataFrame",
       "ref": "7fcc0b8d-26e0-408c-8f37-106eade1936f",
       "rows": [
        [
         "0",
         "33",
         "2024-12-03 11:38:00-06:00",
         "2024-12-11 07:53:00-06:00"
        ],
        [
         "216",
         "773",
         "2024-05-14 11:38:00-05:00",
         "2024-06-04 12:44:00-05:00"
        ],
        [
         "537",
         "933",
         "2022-09-10 23:53:00-05:00",
         "2022-09-20 18:24:00-05:00"
        ],
        [
         "967",
         "993",
         "2024-06-26 18:06:00-05:00",
         "2024-07-22 12:07:00-05:00"
        ],
        [
         "1608",
         "1077",
         "2023-12-25 02:28:00-06:00",
         "2024-01-29 14:17:00-06:00"
        ]
       ],
       "shape": {
        "columns": 3,
        "rows": 5
       }
      },
      "text/html": [
       "<div>\n",
       "<style scoped>\n",
       "    .dataframe tbody tr th:only-of-type {\n",
       "        vertical-align: middle;\n",
       "    }\n",
       "\n",
       "    .dataframe tbody tr th {\n",
       "        vertical-align: top;\n",
       "    }\n",
       "\n",
       "    .dataframe thead th {\n",
       "        text-align: right;\n",
       "    }\n",
       "</style>\n",
       "<table border=\"1\" class=\"dataframe\">\n",
       "  <thead>\n",
       "    <tr style=\"text-align: right;\">\n",
       "      <th></th>\n",
       "      <th>hospitalization_id</th>\n",
       "      <th>start_dttm</th>\n",
       "      <th>stop_dttm</th>\n",
       "    </tr>\n",
       "  </thead>\n",
       "  <tbody>\n",
       "    <tr>\n",
       "      <th>0</th>\n",
       "      <td>33</td>\n",
       "      <td>2024-12-03 11:38:00-06:00</td>\n",
       "      <td>2024-12-11 07:53:00-06:00</td>\n",
       "    </tr>\n",
       "    <tr>\n",
       "      <th>216</th>\n",
       "      <td>773</td>\n",
       "      <td>2024-05-14 11:38:00-05:00</td>\n",
       "      <td>2024-06-04 12:44:00-05:00</td>\n",
       "    </tr>\n",
       "    <tr>\n",
       "      <th>537</th>\n",
       "      <td>933</td>\n",
       "      <td>2022-09-10 23:53:00-05:00</td>\n",
       "      <td>2022-09-20 18:24:00-05:00</td>\n",
       "    </tr>\n",
       "    <tr>\n",
       "      <th>967</th>\n",
       "      <td>993</td>\n",
       "      <td>2024-06-26 18:06:00-05:00</td>\n",
       "      <td>2024-07-22 12:07:00-05:00</td>\n",
       "    </tr>\n",
       "    <tr>\n",
       "      <th>1608</th>\n",
       "      <td>1077</td>\n",
       "      <td>2023-12-25 02:28:00-06:00</td>\n",
       "      <td>2024-01-29 14:17:00-06:00</td>\n",
       "    </tr>\n",
       "  </tbody>\n",
       "</table>\n",
       "</div>"
      ],
      "text/plain": [
       "      hospitalization_id                start_dttm                 stop_dttm\n",
       "0                     33 2024-12-03 11:38:00-06:00 2024-12-11 07:53:00-06:00\n",
       "216                  773 2024-05-14 11:38:00-05:00 2024-06-04 12:44:00-05:00\n",
       "537                  933 2022-09-10 23:53:00-05:00 2022-09-20 18:24:00-05:00\n",
       "967                  993 2024-06-26 18:06:00-05:00 2024-07-22 12:07:00-05:00\n",
       "1608                1077 2023-12-25 02:28:00-06:00 2024-01-29 14:17:00-06:00"
      ]
     },
     "execution_count": 34,
     "metadata": {},
     "output_type": "execute_result"
    }
   ],
   "source": [
    "encounter_level_sofa = cohort[['hospitalization_id', 'admission_dttm',\n",
    "       'discharge_dttm']].drop_duplicates().rename(columns={'admission_dttm':'start_dttm','discharge_dttm':'stop_dttm'})\n",
    "encounter_level_sofa = pc.convert_datetime_columns_to_site_tz(encounter_level_sofa, pc.helper['your_site_timezone'])\n",
    "encounter_level_sofa.head()"
   ]
  },
  {
   "cell_type": "code",
   "execution_count": 35,
   "metadata": {},
   "outputs": [
    {
     "name": "stderr",
     "output_type": "stream",
     "text": [
      "2025-05-01 17:34:20,318 - INFO - Starting SOFA computation for 4176 rows\n"
     ]
    },
    {
     "name": "stdout",
     "output_type": "stream",
     "text": [
      "using id_col will be used for groupbyz: encounter_block\n"
     ]
    },
    {
     "data": {
      "application/vnd.jupyter.widget-view+json": {
       "model_id": "ad07ab4040544af0b4a113ce1bea5c8c",
       "version_major": 2,
       "version_minor": 0
      },
      "text/plain": [
       "FloatProgress(value=0.0, layout=Layout(width='auto'), style=ProgressStyle(bar_color='black'))"
      ]
     },
     "metadata": {},
     "output_type": "display_data"
    },
    {
     "name": "stderr",
     "output_type": "stream",
     "text": [
      "2025-05-01 17:34:25,489 - INFO - Loaded 260175 lab rows\n"
     ]
    },
    {
     "name": "stdout",
     "output_type": "stream",
     "text": [
      "Data loaded successfully from C:/Users/vchaudha/Downloads/rush_parquet/clif_labs.parquet\n",
      "WARNING: lab_order_dttm: Naive datetime, NOT converting. Assuming it's in your LOCAL ZONE. Please check ETL!\n"
     ]
    },
    {
     "data": {
      "application/vnd.jupyter.widget-view+json": {
       "model_id": "34b02fe47a574f8683ff6b1c66466019",
       "version_major": 2,
       "version_minor": 0
      },
      "text/plain": [
       "FloatProgress(value=0.0, layout=Layout(width='auto'), style=ProgressStyle(bar_color='black'))"
      ]
     },
     "metadata": {},
     "output_type": "display_data"
    },
    {
     "name": "stdout",
     "output_type": "stream",
     "text": [
      "Data loaded successfully from C:/Users/vchaudha/Downloads/rush_parquet/clif_vitals.parquet\n"
     ]
    },
    {
     "name": "stderr",
     "output_type": "stream",
     "text": [
      "2025-05-01 17:34:41,472 - INFO - Loaded 2047246 vitals rows\n"
     ]
    },
    {
     "name": "stdout",
     "output_type": "stream",
     "text": [
      "WARNING: recorded_dttm: Naive datetime, NOT converting. Assuming it's in your LOCAL ZONE. Please check ETL!\n"
     ]
    },
    {
     "name": "stderr",
     "output_type": "stream",
     "text": [
      "2025-05-01 17:34:44,798 - INFO - Created vitals summary\n",
      "2025-05-01 17:34:44,801 - INFO - Imputed pao2 from spo2\n"
     ]
    },
    {
     "data": {
      "application/vnd.jupyter.widget-view+json": {
       "model_id": "d580ee294042411986eba8e25800a74b",
       "version_major": 2,
       "version_minor": 0
      },
      "text/plain": [
       "FloatProgress(value=0.0, layout=Layout(width='auto'), style=ProgressStyle(bar_color='black'))"
      ]
     },
     "metadata": {},
     "output_type": "display_data"
    },
    {
     "name": "stdout",
     "output_type": "stream",
     "text": [
      "Data loaded successfully from C:/Users/vchaudha/Downloads/rush_parquet/clif_patient_assessments.parquet\n",
      "WARNING: recorded_dttm: Naive datetime, NOT converting. Assuming it's in your LOCAL ZONE. Please check ETL!\n"
     ]
    },
    {
     "name": "stderr",
     "output_type": "stream",
     "text": [
      "2025-05-01 17:34:47,635 - INFO - Loaded 200628 GCS rows\n"
     ]
    },
    {
     "name": "stdout",
     "output_type": "stream",
     "text": [
      "Data loaded successfully from C:/Users/vchaudha/Downloads/rush_parquet/clif_medication_admin_continuous.parquet\n"
     ]
    },
    {
     "name": "stderr",
     "output_type": "stream",
     "text": [
      "2025-05-01 17:34:49,235 - INFO - Loaded 322305 med rows\n"
     ]
    },
    {
     "name": "stdout",
     "output_type": "stream",
     "text": [
      "WARNING: admin_dttm: Naive datetime, NOT converting. Assuming it's in your LOCAL ZONE. Please check ETL!\n"
     ]
    },
    {
     "data": {
      "application/vnd.jupyter.widget-view+json": {
       "model_id": "f9aa0203100a41b48ea0b32d52f6f893",
       "version_major": 2,
       "version_minor": 0
      },
      "text/plain": [
       "FloatProgress(value=0.0, layout=Layout(width='auto'), style=ProgressStyle(bar_color='black'))"
      ]
     },
     "metadata": {},
     "output_type": "display_data"
    },
    {
     "name": "stdout",
     "output_type": "stream",
     "text": [
      "Data loaded successfully from C:/Users/vchaudha/Downloads/rush_parquet/clif_respiratory_support.parquet\n"
     ]
    },
    {
     "name": "stderr",
     "output_type": "stream",
     "text": [
      "2025-05-01 17:35:07,356 - INFO - Loaded 1435191 resp rows\n"
     ]
    },
    {
     "name": "stdout",
     "output_type": "stream",
     "text": [
      "WARNING: recorded_dttm: Naive datetime, NOT converting. Assuming it's in your LOCAL ZONE. Please check ETL!\n",
      "FIO2_SET mean= 0.4481587621262835 is within the required range\n",
      "Missing ratio of p_f (po2_arterial_min / fio2_max):  0.08273381294964029\n",
      "Missing ratio of p_f_imputed (pao2_imputed_min / fio2_max):  0.017985611510791366\n",
      "Missing ratio of s_f (spo2_min / fio2_max): 0.004796163069544364\n",
      "\n",
      "Most of the missing values in p_f_imputed are caused by pao2_imputed_min, which is set to NaN when spo2>97\n"
     ]
    },
    {
     "name": "stderr",
     "output_type": "stream",
     "text": [
      "2025-05-01 17:36:37,348 - INFO - Loaded 238778 CRRT rows\n"
     ]
    },
    {
     "name": "stdout",
     "output_type": "stream",
     "text": [
      "Data loaded successfully from C:/Users/vchaudha/Downloads/rush_parquet/clif_crrt_therapy.parquet\n",
      "WARNING: recorded_dttm: Naive datetime, NOT converting. Assuming it's in your LOCAL ZONE. Please check ETL!\n"
     ]
    },
    {
     "name": "stderr",
     "output_type": "stream",
     "text": [
      "2025-05-01 17:36:37,475 - INFO - Finished computing SOFA for 4170 ids\n"
     ]
    }
   ],
   "source": [
    "sout = sofa.compute_sofa(\n",
    "    encounter_level_sofa,\n",
    "    tables_path=None,\n",
    "    use_hospitalization_id = False,\n",
    "    id_mapping = mapping_ids,\n",
    "    group_by_id = \"encounter_block\"\n",
    ")\n",
    "encounter_level_sofa_t1 = t1code.manual_tableone(sout, continuous_cols_sofa)\n",
    "encounter_level_sofa_t1.to_csv(f'{directory_path}/encounter_level_sofa_t1.csv',index=False)"
   ]
  },
  {
   "cell_type": "code",
   "execution_count": null,
   "metadata": {},
   "outputs": [
    {
     "name": "stderr",
     "output_type": "stream",
     "text": [
      "  0%|          | 0/8 [00:00<?, ?it/s]2025-05-01 18:26:37,514 - INFO - Starting SOFA computation for 458085 rows\n"
     ]
    },
    {
     "name": "stdout",
     "output_type": "stream",
     "text": [
      "WARNING: start_dttm: Naive datetime, NOT converting. Assuming it's in your LOCAL ZONE. Please check ETL!\n",
      "start_dttm: null count = 0\n",
      "WARNING: stop_dttm: Naive datetime, NOT converting. Assuming it's in your LOCAL ZONE. Please check ETL!\n",
      "stop_dttm: null count = 0\n",
      "using id_col will be used for groupbyz: hosp_id_day_key\n"
     ]
    }
   ],
   "source": [
    "\n",
    "for x in tqdm(['on_vent_and_sedation',\"sat_delivery_pass_fail\",'SAT_EHR_delivery', 'SAT_modified_delivery' , \"SAT_rass_nonneg_30\",\n",
    "    \"SAT_med_halved_rass_pos\",\n",
    "    \"SAT_no_meds_rass_pos_45\",'SAT_rass_first_neg_30_last45_nonneg']):\n",
    "\n",
    "        day_df = df[df[x]==1][['hospitalization_id','hosp_id_day_key','event_time']].drop_duplicates()\n",
    "\n",
    "        if day_df.empty:\n",
    "                continue\n",
    "        # Create start_dttm as current_day at 00:00:00\n",
    "        day_df['start_dttm'] = pd.to_datetime(day_df['event_time']).dt.normalize()\n",
    "        # Create end_dttm as current_day at 23:59:59\n",
    "        day_df['stop_dttm'] = day_df['start_dttm'] + pd.Timedelta(hours=23, minutes=59, seconds=59)\n",
    "        day_df = pc.convert_datetime_columns_to_site_tz(day_df, pc.helper['your_site_timezone'])\n",
    "\n",
    "        day_sofa = sofa.compute_sofa(\n",
    "                                day_df,\n",
    "                                tables_path=None,\n",
    "                                use_hospitalization_id = False,\n",
    "                                id_mapping = mapping_ids,\n",
    "                                group_by_id = \"hosp_id_day_key\"\n",
    "                        )\n",
    "        \n",
    "        day_sofa_t1 = t1code.manual_tableone(day_sofa, continuous_cols_sofa)\n",
    "        day_sofa_t1.to_csv(f'{directory_path}/{x}_sofa_t1.csv',index=False)\n",
    "        \n",
    "        \n"
   ]
  },
  {
   "cell_type": "markdown",
   "metadata": {},
   "source": [
    "#### Thank You!!! upload to box :)"
   ]
  }
 ],
 "metadata": {
  "kernelspec": {
   "display_name": ".SBT",
   "language": "python",
   "name": "python3"
  },
  "language_info": {
   "codemirror_mode": {
    "name": "ipython",
    "version": 3
   },
   "file_extension": ".py",
   "mimetype": "text/x-python",
   "name": "python",
   "nbconvert_exporter": "python",
   "pygments_lexer": "ipython3",
   "version": "3.11.5"
  }
 },
 "nbformat": 4,
 "nbformat_minor": 2
}
