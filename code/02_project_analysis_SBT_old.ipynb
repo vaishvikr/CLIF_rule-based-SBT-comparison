{
 "cells": [
  {
   "cell_type": "code",
   "execution_count": 1,
   "metadata": {},
   "outputs": [
    {
     "name": "stderr",
     "output_type": "stream",
     "text": [
      "C:\\Users\\vchaudha\\AppData\\Roaming\\Python\\Python311\\site-packages\\pandas\\core\\arrays\\masked.py:60: UserWarning: Pandas requires version '1.3.6' or newer of 'bottleneck' (version '1.3.5' currently installed).\n",
      "  from pandas.core import (\n"
     ]
    },
    {
     "name": "stdout",
     "output_type": "stream",
     "text": [
      "Loaded configuration from config.json\n",
      "{'site_name': 'RUSH', 'tables_path': 'C:/Users/vchaudha/Downloads/rush_parquet/', 'file_type': 'parquet'}\n",
      "Loaded configuration from config.json\n"
     ]
    }
   ],
   "source": [
    "import pandas as pd\n",
    "import numpy as np\n",
    "import pyCLIF as pc\n",
    "from tqdm import tqdm\n",
    "from datetime import datetime\n",
    "import matplotlib.pyplot as plt\n",
    "from scipy.stats import gaussian_kde\n",
    "import warnings\n",
    "warnings.filterwarnings(\"ignore\")\n",
    "\n",
    "#from tableone import TableOne, load_dataset\n",
    "con = pc.load_config()"
   ]
  },
  {
   "cell_type": "code",
   "execution_count": 2,
   "metadata": {},
   "outputs": [],
   "source": [
    "cohort = pd.read_csv('../output/intermediate/study_cohort.csv')"
   ]
  },
  {
   "cell_type": "code",
   "execution_count": 3,
   "metadata": {},
   "outputs": [
    {
     "data": {
      "text/plain": [
       "Index(['patient_id', 'hospitalization_id', 'admission_dttm', 'discharge_dttm',\n",
       "       'age_at_admission', 'discharge_category', 'sex_category',\n",
       "       'race_category', 'ethnicity_category', 'event_time',\n",
       "       'location_category', 'hospital_id', 'device_category', 'mode_category',\n",
       "       'fio2_set', 'peep_set', 'resp_rate_set', 'pressure_support_set',\n",
       "       'mode_name', 'device_category_bkp', 'mode_category_bkp',\n",
       "       'cisatracurium', 'dobutamine', 'dopamine', 'epinephrine', 'fentanyl',\n",
       "       'hydromorphone', 'midazolam', 'milrinone', 'morphine', 'norepinephrine',\n",
       "       'phenylephrine', 'propofol', 'vasopressin', 'sat_delivery_pass_fail',\n",
       "       'sat_screen_pass_fail', 'sbt_delivery_pass_fail',\n",
       "       'sbt_screen_pass_fail', 'dbp', 'heart_rate', 'map', 'respiratory_rate',\n",
       "       'sbp', 'spo2', 'weight_kg', 'date', 'day_number', 'hosp_id_day_key'],\n",
       "      dtype='object')"
      ]
     },
     "execution_count": 3,
     "metadata": {},
     "output_type": "execute_result"
    }
   ],
   "source": [
    "cohort.columns"
   ]
  },
  {
   "cell_type": "markdown",
   "metadata": {},
   "source": [
    "# Eligibility Flag making"
   ]
  },
  {
   "cell_type": "markdown",
   "metadata": {},
   "source": [
    "#### Device Fillforward After Waterfall"
   ]
  },
  {
   "cell_type": "code",
   "execution_count": 4,
   "metadata": {},
   "outputs": [],
   "source": [
    "# List of required columns\n",
    "active_vasoactive_n_col = [\n",
    "    \"norepinephrine\", \"epinephrine\", \"phenylephrine\", \"angiotensin\",\"vasopressin\", \"dopamine\", \"dobutamine\", \"milrinone\", \"isoproterenol\"\n",
    "]\n",
    "\n",
    "# Add missing columns with NaN values\n",
    "for col in active_vasoactive_n_col:\n",
    "    if col not in cohort.columns:\n",
    "        cohort[col] = np.nan\n",
    "\n",
    "# Ensure 'event_time' is in datetime format\n",
    "cohort['event_time'] = pd.to_datetime(cohort['event_time'])\n",
    "cohort['admission_dttm'] = pc.getdttm(cohort['admission_dttm'])\n",
    "cohort['discharge_dttm'] = pc.getdttm(cohort['discharge_dttm'])\n",
    "\n",
    "# Ensure the data is sorted by 'hosp_id_day_key' and 'event_time'\n",
    "cohort = cohort.sort_values(by=['hospitalization_id', 'event_time']).reset_index(drop=True)\n",
    "\n",
    "cohort[['device_category_w', 'mode_category_w']] = cohort[['device_category', 'mode_category']]\n",
    "\n",
    "# #without water fall fill ward\n",
    "cohort['device_category'] = cohort['device_category_bkp'].str.lower()\n",
    "cohort['mode_category'] =cohort['mode_category_bkp'].str.lower()\n",
    "\n",
    "# Fill forward the meds by hospitalization columns by 'hosp_id'\n",
    "cohort[['device_category', 'mode_category', \n",
    "        'location_category']] = cohort.groupby('hospitalization_id')[\n",
    "    ['device_category', 'mode_category',\n",
    "     'location_category']\n",
    "].ffill()\n",
    "\n",
    "cohort[[\"norepinephrine\", \"epinephrine\", \"phenylephrine\", \"angiotensin\",\n",
    "    \"vasopressin\", \"dopamine\", \"dobutamine\", \"milrinone\", \"isoproterenol\"]] = cohort.groupby('hospitalization_id')[\n",
    "    [\"norepinephrine\", \"epinephrine\", \"phenylephrine\", \"angiotensin\",\n",
    "    \"vasopressin\", \"dopamine\", \"dobutamine\", \"milrinone\", \"isoproterenol\"]\n",
    "].ffill()\n",
    "\n",
    "cohort[[\"fio2_set\",\"peep_set\",\"spo2\",'pressure_support_set']] = cohort.groupby('hospitalization_id')[\n",
    "    [\"fio2_set\",\"peep_set\",\"spo2\",'pressure_support_set']\n",
    "].ffill()"
   ]
  },
  {
   "cell_type": "markdown",
   "metadata": {},
   "source": [
    "### NEE calculation"
   ]
  },
  {
   "cell_type": "code",
   "execution_count": 5,
   "metadata": {},
   "outputs": [],
   "source": [
    "cohort[['norepinephrine', 'epinephrine', 'phenylephrine', 'dopamine', 'angiotensin', 'vasopressin']] = \\\n",
    "    cohort[['norepinephrine', 'epinephrine', 'phenylephrine', 'dopamine', 'angiotensin', 'vasopressin']].fillna(0)"
   ]
  },
  {
   "cell_type": "code",
   "execution_count": 6,
   "metadata": {},
   "outputs": [
    {
     "name": "stdout",
     "output_type": "stream",
     "text": [
      "norepinephrine    0\n",
      "epinephrine       0\n",
      "phenylephrine     0\n",
      "dopamine          0\n",
      "angiotensin       0\n",
      "vasopressin       0\n",
      "dtype: int64\n"
     ]
    }
   ],
   "source": [
    "print(cohort[['norepinephrine', 'epinephrine', 'phenylephrine', 'dopamine', 'angiotensin','vasopressin']].isnull().sum())"
   ]
  },
  {
   "cell_type": "code",
   "execution_count": 7,
   "metadata": {},
   "outputs": [],
   "source": [
    "cohort['NEE'] = cohort['norepinephrine'] + cohort['epinephrine'] + (cohort['phenylephrine']/10) + (cohort['vasopressin']*2.5) + (cohort['dopamine']/100) + (cohort['angiotensin']*10)"
   ]
  },
  {
   "cell_type": "code",
   "execution_count": 8,
   "metadata": {},
   "outputs": [
    {
     "data": {
      "text/plain": [
       "count    72046.000000\n",
       "mean         0.044823\n",
       "std          0.168337\n",
       "min          0.000000\n",
       "25%          0.000000\n",
       "50%          0.000000\n",
       "75%          0.035212\n",
       "max          3.151953\n",
       "Name: NEE, dtype: float64"
      ]
     },
     "execution_count": 8,
     "metadata": {},
     "output_type": "execute_result"
    }
   ],
   "source": [
    "cohort['NEE'].describe()"
   ]
  },
  {
   "cell_type": "code",
   "execution_count": 9,
   "metadata": {},
   "outputs": [
    {
     "data": {
      "image/png": "[encoded data removed]",
      "text/plain": [
       "<Figure size 800x500 with 1 Axes>"
      ]
     },
     "metadata": {},
     "output_type": "display_data"
    }
   ],
   "source": [
    "# Extract the \"NEE\" data as a numpy array.\n",
    "nee_data = cohort[\"NEE\"].values\n",
    "\n",
    "# Compute the kernel density estimate.\n",
    "kde = gaussian_kde(nee_data)\n",
    "\n",
    "# Create a range of values where the KDE will be evaluated.\n",
    "x_min, x_max = nee_data.min() - 2, nee_data.max() + 2\n",
    "x_range = np.linspace(x_min, x_max, 100)\n",
    "\n",
    "# Evaluate the KDE over the range of x values.\n",
    "kde_values = kde(x_range)\n",
    "\n",
    "# Plot the KDE using matplotlib.\n",
    "plt.figure(figsize=(8, 5))\n",
    "plt.plot(x_range, kde_values, color='blue', lw=2)\n",
    "plt.fill_between(x_range, kde_values, alpha=0.3, color='blue')\n",
    "plt.xlabel(\"NEE\")\n",
    "plt.ylabel(\"Density\")\n",
    "plt.title(\"Kernel Density Estimate (KDE) of NEE\")\n",
    "plt.show()"
   ]
  },
  {
   "cell_type": "markdown",
   "metadata": {},
   "source": [
    "### Hemodynamic Stability Criteria"
   ]
  },
  {
   "cell_type": "code",
   "execution_count": 10,
   "metadata": {},
   "outputs": [],
   "source": [
    "# Count the number of active vasoactive drugs per patient\n",
    "cohort[\"active_vasoactive_count\"] = (cohort[active_vasoactive_n_col] > 0).sum(axis=1)\n",
    "\n",
    "# Define Hemodynamic Stability Flag JC\n",
    "cohort[\"Hemodynamic_Stability_JC\"] = (\n",
    "    ((cohort[\"active_vasoactive_count\"] <= 1))\n",
    ").astype(int)\n",
    "\n",
    "cohort[\"Hemodynamic_Stability_by_NEE\"] = (\n",
    "    ((cohort[\"NEE\"] <= 0.2))\n",
    ").astype(int)\n",
    "\n",
    "# # Define Hemodynamic Stability Flag SJ\n",
    "# cohort[\"Hemodynamic_Stability_SJ\"] = (\n",
    "#     (cohort[\"dopamine\"] >= 5) |\n",
    "#     (cohort[\"dobutamine\"] >= 5) |\n",
    "#     (cohort[\"norepinephrine\"] >= 2) |\n",
    "#     (cohort[\"vasopressin\"] > 0) |\n",
    "#     (cohort[\"milrinone\"] > 0)\n",
    "# ).astype(int)"
   ]
  },
  {
   "cell_type": "code",
   "execution_count": 11,
   "metadata": {},
   "outputs": [
    {
     "data": {
      "text/plain": [
       "Hemodynamic_Stability_JC\n",
       "1    63371\n",
       "0     8675\n",
       "Name: count, dtype: int64"
      ]
     },
     "execution_count": 11,
     "metadata": {},
     "output_type": "execute_result"
    }
   ],
   "source": [
    "cohort[\"Hemodynamic_Stability_JC\"].value_counts()"
   ]
  },
  {
   "cell_type": "code",
   "execution_count": 12,
   "metadata": {},
   "outputs": [
    {
     "data": {
      "text/plain": [
       "Hemodynamic_Stability_by_NEE\n",
       "1    68586\n",
       "0     3460\n",
       "Name: count, dtype: int64"
      ]
     },
     "execution_count": 12,
     "metadata": {},
     "output_type": "execute_result"
    }
   ],
   "source": [
    "cohort[\"Hemodynamic_Stability_by_NEE\"].value_counts()"
   ]
  },
  {
   "cell_type": "code",
   "execution_count": 13,
   "metadata": {},
   "outputs": [
    {
     "data": {
      "text/plain": [
       "active_vasoactive_count\n",
       "0    44535\n",
       "1    18836\n",
       "2     6559\n",
       "3     1677\n",
       "4      439\n",
       "Name: count, dtype: int64"
      ]
     },
     "execution_count": 13,
     "metadata": {},
     "output_type": "execute_result"
    }
   ],
   "source": [
    "cohort.active_vasoactive_count.value_counts()"
   ]
  },
  {
   "cell_type": "code",
   "execution_count": 14,
   "metadata": {},
   "outputs": [
    {
     "data": {
      "text/plain": [
       "Hemodynamic_Stability_JC\n",
       "1    63371\n",
       "0     8675\n",
       "Name: count, dtype: int64"
      ]
     },
     "execution_count": 14,
     "metadata": {},
     "output_type": "execute_result"
    }
   ],
   "source": [
    "cohort[\"Hemodynamic_Stability_JC\"].value_counts()"
   ]
  },
  {
   "cell_type": "markdown",
   "metadata": {},
   "source": [
    "### Respiratory Stability (All conditions must be true):"
   ]
  },
  {
   "cell_type": "code",
   "execution_count": 15,
   "metadata": {},
   "outputs": [],
   "source": [
    "# Define Respiratory Stability Flag\n",
    "cohort[\"Respiratory_Stability\"] = (\n",
    "    (cohort[\"fio2_set\"] <= 0.5) &\n",
    "    (cohort[\"peep_set\"] <= 8) &\n",
    "    (cohort[\"spo2\"] >= 88)\n",
    ").astype(int)"
   ]
  },
  {
   "cell_type": "code",
   "execution_count": 16,
   "metadata": {},
   "outputs": [
    {
     "data": {
      "text/plain": [
       "Respiratory_Stability\n",
       "1    54800\n",
       "0    17246\n",
       "Name: count, dtype: int64"
      ]
     },
     "execution_count": 16,
     "metadata": {},
     "output_type": "execute_result"
    }
   ],
   "source": [
    "cohort[\"Respiratory_Stability\"].value_counts()"
   ]
  },
  {
   "cell_type": "markdown",
   "metadata": {},
   "source": [
    "### IMV in a Controlled Mode for at Least 6 Hours Between 10 PM and 8 AM\n",
    "With other flags as combination"
   ]
  },
  {
   "cell_type": "code",
   "execution_count": 17,
   "metadata": {},
   "outputs": [
    {
     "data": {
      "text/plain": [
       "mode_category\n",
       "pressure support/cpap                31659\n",
       "pressure-regulated volume control    15456\n",
       "pressure control                     13409\n",
       "assist control-volume control         1002\n",
       "simv                                   435\n",
       "other                                   35\n",
       "Name: count, dtype: int64"
      ]
     },
     "execution_count": 17,
     "metadata": {},
     "output_type": "execute_result"
    }
   ],
   "source": [
    "cohort.mode_category.value_counts()"
   ]
  },
  {
   "cell_type": "code",
   "execution_count": 18,
   "metadata": {},
   "outputs": [
    {
     "name": "stdout",
     "output_type": "stream",
     "text": [
      "The dynamic Max window for SBT checking: [3, 4, 5, 6]\n"
     ]
    },
    {
     "data": {
      "image/png": "[encoded data removed]",
      "text/plain": [
       "<Figure size 1000x500 with 1 Axes>"
      ]
     },
     "metadata": {},
     "output_type": "display_data"
    }
   ],
   "source": [
    "sbt_hrs = cohort[['event_time','sbt_delivery_pass_fail']].drop_duplicates()\n",
    "sbt_hrs = sbt_hrs[sbt_hrs['sbt_delivery_pass_fail']==1]\n",
    "# Assuming 'sbt_hrs' is already defined, extracting hour from 'cevent_time'\n",
    "sbt_hrs['hour'] = pd.to_datetime(sbt_hrs['event_time']).dt.hour\n",
    "\n",
    "# Calculating statistics\n",
    "by_hour = pd.DataFrame(sbt_hrs['hour'].value_counts()).reset_index().sort_values('hour').reset_index(drop=True)\n",
    "\n",
    "by_hour['rolling_sum'] = by_hour['count'].rolling(window=4).sum()\n",
    "max_index = by_hour['rolling_sum'].idxmax()\n",
    "max_hours = by_hour.loc[max_index-3:max_index, 'hour'].tolist()\n",
    "print('The dynamic Max window for SBT checking:',max_hours)\n",
    "\n",
    "# Plotting histogram for hour distribution\n",
    "plt.figure(figsize=(10,5))\n",
    "plt.hist(sbt_hrs['hour'], bins=24, range=(0,24), edgecolor='black', alpha=0.7)\n",
    "plt.xticks(range(0,25,1))\n",
    "plt.xlabel(\"Hour of the Day\")\n",
    "plt.ylabel(\"Count of Records\")\n",
    "plt.title(\"Distribution of Records by Hour of the Day\")\n",
    "plt.grid(axis='y', linestyle='--', alpha=0.7)\n",
    "plt.show()"
   ]
  },
  {
   "cell_type": "markdown",
   "metadata": {},
   "source": [
    "### SBT Eligibility Criteria"
   ]
  },
  {
   "cell_type": "code",
   "execution_count": null,
   "metadata": {},
   "outputs": [
    {
     "name": "stderr",
     "output_type": "stream",
     "text": [
      "Processing each Hosp & Day: 100%|██████████| 2476/2476 [00:06<00:00, 360.04it/s]\n"
     ]
    }
   ],
   "source": [
    "def process_cohort_conditions(cohort,max_hours):\n",
    "    # --- Preliminary processing ---\n",
    "    # Ensure event_time is datetime and sort the dataframe\n",
    "    cohort['event_time'] = pd.to_datetime(cohort['event_time'])\n",
    "    cohort = cohort.sort_values(['hospitalization_id', 'event_time']).reset_index(drop=False)\n",
    "    # (We keep the original index in column 'index' in case it is needed later)\n",
    "    \n",
    "    # # Forward-fill location_category within each hospitalization (if needed)\n",
    "    # cohort['location_category_ffill'] = cohort.groupby('hospitalization_id')['location_category'].ffill()\n",
    "    \n",
    "    # # Precompute lowercase versions for comparisons (for condition 1)\n",
    "    # cohort['device_category_lower'] = cohort['device_category'].str.lower()\n",
    "    # cohort['location_category_lower'] = cohort['location_category_ffill'].str.lower()\n",
    "    \n",
    "    # --- Precompute Stability Flags ---\n",
    "    \n",
    "    # Combined stability flag (True if both are met)\n",
    "    cohort['Stability_Flag'] = (cohort[\"Hemodynamic_Stability_by_NEE\"] == 1)  \n",
    "                                 # & (cohort[\"Respiratory_Stability\"] == 1))\n",
    "    cohort['IMV_flag'] = (\n",
    "        (cohort['device_category'] == 'imv') &\n",
    "        ((~cohort['mode_category'].str.contains('pressure support/cpap', case=False, na=False)) | ((cohort[\"pressure_support_set\"] >= 5) & (cohort[\"peep_set\"] >= 5))) & \n",
    "        (cohort['location_category'] == 'icu')\n",
    "    )\n",
    "    \n",
    "    # --- Prepare new flag columns ---\n",
    "    # For Condition 1 and 2, record the event_time when the threshold is reached.\n",
    "    cohort['IMV_Controlled_met_time'] = pd.NaT\n",
    "    cohort['Stability_met_time'] = pd.NaT\n",
    "    # New flag for eligible day (1 if both conditions are met that day, else 0)\n",
    "    cohort['eligible_day'] = 0\n",
    "    \n",
    "    # For grouping by day, use the normalized event_time (midnight)\n",
    "    cohort['current_day'] = cohort['event_time'].dt.normalize()\n",
    "    \n",
    "    # Build a dictionary of full hospitalization data to avoid repeated filtering.\n",
    "    hosp_groups = {\n",
    "        hosp_id: df.copy().sort_values('event_time')\n",
    "        for hosp_id, df in cohort.groupby('hospitalization_id')\n",
    "    }\n",
    "    \n",
    "    # --- Define thresholds and time windows ---\n",
    "    cond1_threshold = pd.Timedelta(hours=6)  # Condition 1: 6 cumulative hours\n",
    "    cond2_threshold = pd.Timedelta(hours=1)  # Condition 2: 1 continuous hours\n",
    "    \n",
    "    # For Condition 1: window is 10 PM (previous day) to 8 AM (current day)\n",
    "    cond1_window_start_offset = pd.Timedelta(hours=22) - pd.Timedelta(days=1)  # previous day 10 PM\n",
    "    cond1_window_end_offset = pd.Timedelta(hours=8)  # current day 8 AM\n",
    "    \n",
    "    # For Condition 2: window is 6 AM to 5 PM (current day)\n",
    "    cond2_window_start_offset = pd.Timedelta(hours=min(max_hours))\n",
    "    cond2_window_end_offset = pd.Timedelta(hours=max(max_hours)+1)\n",
    "    \n",
    "    # --- Process each hospitalization and day ---\n",
    "    # Group by hospitalization and current day\n",
    "    groups = cohort.groupby(['hospitalization_id', 'current_day'])\n",
    "    \n",
    "    for (hosp_id, curr_day), day_group in tqdm(groups, desc=\"Processing each Hosp & Day\"):\n",
    "        # --- Condition 1: IMV in controlled mode ---\n",
    "        # Define window for condition 1 based on the current day\n",
    "        cond1_start = curr_day + cond1_window_start_offset\n",
    "        cond1_end = curr_day + cond1_window_end_offset\n",
    "        \n",
    "        # Use full hospitalization data so events before midnight can contribute.\n",
    "        hosp_df = hosp_groups[hosp_id]\n",
    "        cond1_df = hosp_df[(hosp_df['event_time'] >= cond1_start) & (hosp_df['event_time'] <= cond1_end)].copy()\n",
    "        if cond1_df.empty:\n",
    "            continue  # no events in this window\n",
    "        \n",
    "        if not cond1_df['IMV_flag'].any():\n",
    "            continue\n",
    "        \n",
    "        # Identify contiguous segments where IMV_flag is True.\n",
    "        cond1_df['seg'] = (cond1_df['IMV_flag'] != cond1_df['IMV_flag'].shift()).cumsum()\n",
    "        valid_segs = cond1_df[cond1_df['IMV_flag']].groupby('seg')\n",
    "        \n",
    "        cond1_met = False  # flag indicating if condition 1 was met\n",
    "        for seg_id, seg_df in valid_segs:\n",
    "            seg_df = seg_df.sort_values('event_time')\n",
    "            seg_df['duration'] = seg_df['event_time'].diff().fillna(pd.Timedelta(seconds=0))\n",
    "            seg_df['cum_duration'] = seg_df['duration'].cumsum()\n",
    "            if seg_df['cum_duration'].iloc[-1] >= cond1_threshold:\n",
    "                # Find the first row where the cumulative duration reaches the threshold.\n",
    "                flag_row = seg_df[seg_df['cum_duration'] >= cond1_threshold].iloc[0]\n",
    "                flag_idx = flag_row.name  # this is the original index in hosp_df (and cohort)\n",
    "                flag_time = flag_row['event_time']\n",
    "                cohort.loc[flag_idx, 'IMV_Controlled_met_time'] = flag_time\n",
    "                cond1_met = True\n",
    "                break  # Only the first qualifying segment for this day is flagged.\n",
    "        \n",
    "        # --- Condition 2: Hemodynamic & Respiratory Stability ---\n",
    "        cond2_met = False  # flag for condition 2\n",
    "        if cond1_met:\n",
    "            cond2_start = curr_day + cond2_window_start_offset\n",
    "            cond2_end = curr_day + cond2_window_end_offset\n",
    "            cond2_df = day_group[(day_group['event_time'] >= cond2_start) & (day_group['event_time'] <= cond2_end)].copy()\n",
    "            if not cond2_df.empty:\n",
    "                cond2_df['seg'] = (cond2_df['Stability_Flag'] != cond2_df['Stability_Flag'].shift()).cumsum()\n",
    "                valid_stability = cond2_df[cond2_df['Stability_Flag']].groupby('seg')\n",
    "                \n",
    "                for seg_id, seg_df in valid_stability:\n",
    "                    seg_df = seg_df.sort_values('event_time')\n",
    "                    seg_df['duration'] = seg_df['event_time'].diff().fillna(pd.Timedelta(seconds=0))\n",
    "                    seg_df['cum_duration'] = seg_df['duration'].cumsum()\n",
    "                    if seg_df['cum_duration'].iloc[-1] >= cond2_threshold:\n",
    "                        flag_row = seg_df[seg_df['cum_duration'] >= cond2_threshold].iloc[0]\n",
    "                        flag_idx = flag_row.name\n",
    "                        flag_time = flag_row['event_time']\n",
    "                        cohort.loc[flag_idx, 'Stability_met_time'] = flag_time\n",
    "                        cond2_met = True\n",
    "                        break  # Only flag the first qualifying segment for condition 2.\n",
    "        \n",
    "        # --- Eligible Day Flag ---\n",
    "        # If both conditions are met for the day, mark all rows of this day as eligible_day = 1.\n",
    "        if cond1_met and cond2_met:\n",
    "            cohort.loc[day_group.index, 'eligible_day'] = 1\n",
    "            \n",
    "    \n",
    "    return cohort\n",
    "\n",
    "# Example usage:\n",
    "final_df = process_cohort_conditions(cohort,max_hours)\n",
    "# print(final_df[['hospitalization_id', 'event_time', 'IMV_Controlled_met_time', 'Stability_met_time', 'eligible_day']].head())\n"
   ]
  },
  {
   "cell_type": "code",
   "execution_count": 20,
   "metadata": {},
   "outputs": [
    {
     "data": {
      "text/plain": [
       "dtype('<M8[ns]')"
      ]
     },
     "execution_count": 20,
     "metadata": {},
     "output_type": "execute_result"
    }
   ],
   "source": [
    "final_df['event_time'].dtypes"
   ]
  },
  {
   "cell_type": "code",
   "execution_count": 21,
   "metadata": {},
   "outputs": [],
   "source": [
    "def process_switch_conditions(cohort):\n",
    "\n",
    "    # Initialize columns in cohort\n",
    "    cohort['flip_check_flag'] = False  \n",
    "    cohort['first_flip_time'] = pd.NaT \n",
    "    # Initialize EHR Delivery columns with NaT\n",
    "    ehr_minutes = [2, 5, 10, 15, 20, 30]\n",
    "    for mins in ehr_minutes:\n",
    "        cohort[f\"EHR_Delivery_{mins}mins\"] = pd.NaT\n",
    "\n",
    "    # Ensure event_time is datetime\n",
    "    cohort['event_time'] = pd.to_datetime(cohort['event_time'])\n",
    "\n",
    "    # Filter rows where 'eligible_day' is 1 and group by hospitalization_id and current_day\n",
    "    eligible_groups = cohort[cohort['eligible_day'] == 1].groupby(['hospitalization_id', 'current_day'])\n",
    "\n",
    "    for (hosp_id, curr_day), group in tqdm(eligible_groups, desc=\"Processing each Hosp & Day\"):\n",
    "        group = group.copy()  # Ensure we modify a copy\n",
    "        # Get Stability_met_time\n",
    "        stability_times = group['Stability_met_time'].dropna()\n",
    "        if stability_times.empty:\n",
    "            continue\n",
    "        T_stability = pd.to_datetime(stability_times.iloc[0])  # First non-null stability time\n",
    "\n",
    "        # Define the condition for flip_check_flag\n",
    "        mask = (\n",
    "            (group['device_category'] == 'imv') &\n",
    "            (group['location_category'] == 'icu') &\n",
    "            (group['mode_category'].str.contains('pressure support/cpap', case=False, na=False)) &\n",
    "            (group[\"pressure_support_set\"] <= 8) &\n",
    "            (group[\"peep_set\"] <= 8) &\n",
    "            (group['event_time'] >= T_stability)\n",
    "        )\n",
    "        # Apply the mask to update 'flip_check_flag' for this group\n",
    "        group['flip_check_flag'] = mask\n",
    "\n",
    "        # Identify the first row where flip_check_flag is True\n",
    "        first_flip_idx = group.loc[mask].index.min()  # Get first row index where flip_check_flag is True\n",
    "\n",
    "        if pd.notna(first_flip_idx):  # If there is a valid first flip\n",
    "            first_flip_time = group.loc[first_flip_idx, 'event_time']  # Get event_time at first flip\n",
    "            group.loc[first_flip_idx, 'first_flip_time'] = first_flip_time  # Set only for that row\n",
    "\n",
    "            # Condition 1: Check if all Stability_Flag values are True between T_stability and first_flip_time\n",
    "            # stability_condition = group[\n",
    "            #     (group['event_time'] >= T_stability) &\n",
    "            #     (group['event_time'] <= first_flip_time)\n",
    "            # ]['Stability_Flag'].all()\n",
    "\n",
    "            # ✅ NEW Condition 1: Median-based conditions within window T_stability to first_flip_time\n",
    "            stability_window = group[\n",
    "                (group['event_time'] >= T_stability) &\n",
    "                (group['event_time'] <= first_flip_time)\n",
    "            ]\n",
    "\n",
    "            # Calculate medians and min NEE\n",
    "            nee_max = stability_window['NEE'].max()\n",
    "            # fio2_median = stability_window['fio2_set'].median()\n",
    "            # peep_median = stability_window['peep_set'].median()\n",
    "            # spo2_median = stability_window['spo2'].median()\n",
    "\n",
    "            stability_condition = (\n",
    "                (nee_max <= 0.2) \n",
    "                # (fio2_median <= 0.5) &\n",
    "                # (peep_median <= 8) &\n",
    "                # (spo2_median >= 88)\n",
    "            )\n",
    "\n",
    "            if True:\n",
    "                # Loop through each time window\n",
    "                for mins in ehr_minutes:\n",
    "                    time_window_end = first_flip_time + pd.Timedelta(minutes=mins)\n",
    "\n",
    "                    # Condition 2: Check if all flip_check_flag values are True in the given time window\n",
    "                    flip_check_condition = group[\n",
    "                        (group['event_time'] >= first_flip_time) &\n",
    "                        (group['event_time'] <= time_window_end)\n",
    "                    ]['flip_check_flag'].all()\n",
    "\n",
    "                    if flip_check_condition:\n",
    "                        # Find the closest row where event_time >= calculated time\n",
    "                        ehr_idx = group[group['event_time'] >= time_window_end].index.min()\n",
    "\n",
    "                        if pd.notna(ehr_idx):\n",
    "                            group.loc[ehr_idx, f\"EHR_Delivery_{mins}mins\"] = time_window_end  # Store timestamp\n",
    "\n",
    "        # Update the cohort dataframe with the modified group\n",
    "        cohort.loc[group.index, ['flip_check_flag', 'first_flip_time'] + [f\"EHR_Delivery_{mins}mins\" for mins in ehr_minutes]] = \\\n",
    "            group[['flip_check_flag', 'first_flip_time'] + [f\"EHR_Delivery_{mins}mins\" for mins in ehr_minutes]]\n",
    "\n",
    "    return cohort"
   ]
  },
  {
   "cell_type": "code",
   "execution_count": 22,
   "metadata": {},
   "outputs": [
    {
     "name": "stderr",
     "output_type": "stream",
     "text": [
      "Processing each Hosp & Day: 100%|██████████| 477/477 [00:05<00:00, 92.78it/s] \n"
     ]
    }
   ],
   "source": [
    "# Then, process the switch conditions.\n",
    "final_df = process_switch_conditions(final_df)"
   ]
  },
  {
   "cell_type": "code",
   "execution_count": null,
   "metadata": {},
   "outputs": [],
   "source": [
    "final_df.head()"
   ]
  },
  {
   "cell_type": "code",
   "execution_count": null,
   "metadata": {},
   "outputs": [],
   "source": []
  },
  {
   "cell_type": "code",
   "execution_count": 24,
   "metadata": {},
   "outputs": [
    {
     "data": {
      "text/plain": [
       "Index(['index', 'patient_id', 'hospitalization_id', 'admission_dttm',\n",
       "       'discharge_dttm', 'age_at_admission', 'discharge_category',\n",
       "       'sex_category', 'race_category', 'ethnicity_category', 'event_time',\n",
       "       'location_category', 'hospital_id', 'device_category', 'mode_category',\n",
       "       'fio2_set', 'peep_set', 'resp_rate_set', 'pressure_support_set',\n",
       "       'mode_name', 'device_category_bkp', 'mode_category_bkp',\n",
       "       'cisatracurium', 'dobutamine', 'dopamine', 'epinephrine', 'fentanyl',\n",
       "       'hydromorphone', 'midazolam', 'milrinone', 'morphine', 'norepinephrine',\n",
       "       'phenylephrine', 'propofol', 'vasopressin', 'sat_delivery_pass_fail',\n",
       "       'sat_screen_pass_fail', 'sbt_delivery_pass_fail',\n",
       "       'sbt_screen_pass_fail', 'dbp', 'heart_rate', 'map', 'respiratory_rate',\n",
       "       'sbp', 'spo2', 'weight_kg', 'date', 'day_number', 'hosp_id_day_key',\n",
       "       'angiotensin', 'isoproterenol', 'device_category_w', 'mode_category_w',\n",
       "       'NEE', 'active_vasoactive_count', 'Hemodynamic_Stability_JC',\n",
       "       'Hemodynamic_Stability_by_NEE', 'Respiratory_Stability',\n",
       "       'Stability_Flag', 'IMV_flag', 'IMV_Controlled_met_time',\n",
       "       'Stability_met_time', 'eligible_day', 'current_day', 'flip_check_flag',\n",
       "       'first_flip_time', 'EHR_Delivery_2mins', 'EHR_Delivery_5mins',\n",
       "       'EHR_Delivery_10mins', 'EHR_Delivery_15mins', 'EHR_Delivery_20mins',\n",
       "       'EHR_Delivery_30mins'],\n",
       "      dtype='object')"
      ]
     },
     "execution_count": 24,
     "metadata": {},
     "output_type": "execute_result"
    }
   ],
   "source": [
    "final_df.columns"
   ]
  },
  {
   "cell_type": "code",
   "execution_count": 26,
   "metadata": {},
   "outputs": [],
   "source": [
    "# final_df[[\n",
    "# 'patient_id', 'hospitalization_id', 'admission_dttm','age_at_admission','hosp_id_day_key','event_time',\n",
    "# 'location_category','device_category_bkp', 'mode_category_bkp','device_category','mode_category','resp_rate_set',\n",
    "# 'respiratory_rate', 'fio2_set', 'peep_set','spo2','pressure_support_set','NEE',\n",
    "# \"norepinephrine\", \"epinephrine\", \"phenylephrine\", \"vasopressin\", \"dopamine\", \"dobutamine\", \"milrinone\", \"isoproterenol\",\n",
    "# 'sat_screen_pass_fail','sat_delivery_pass_fail','sbt_screen_pass_fail', 'sbt_delivery_pass_fail', 'flip_check_flag', 'first_flip_time','EHR_Delivery_2mins', 'EHR_Delivery_5mins',\n",
    "#        'EHR_Delivery_10mins', 'EHR_Delivery_15mins', 'EHR_Delivery_20mins',\n",
    "#        'EHR_Delivery_30mins','eligible_day','IMV_Controlled_met_time',\n",
    "# 'Stability_met_time','Hemodynamic_Stability_JC' ,'Respiratory_Stability','Stability_Flag' , 'active_vasoactive_count'\n",
    "# ]].to_csv('eflag.csv',index=False)"
   ]
  },
  {
   "cell_type": "code",
   "execution_count": 27,
   "metadata": {},
   "outputs": [
    {
     "data": {
      "text/plain": [
       "eligible_day\n",
       "0    48093\n",
       "1    23953\n",
       "Name: count, dtype: int64"
      ]
     },
     "execution_count": 27,
     "metadata": {},
     "output_type": "execute_result"
    }
   ],
   "source": [
    "final_df.eligible_day.value_counts()"
   ]
  },
  {
   "cell_type": "code",
   "execution_count": 28,
   "metadata": {},
   "outputs": [
    {
     "data": {
      "text/plain": [
       "device_category\n",
       "imv              29468\n",
       "nasal cannula    29305\n",
       "high flow nc      3945\n",
       "nippv             1972\n",
       "face mask         1343\n",
       "other              730\n",
       "trach collar       706\n",
       "cpap               623\n",
       "Name: count, dtype: int64"
      ]
     },
     "execution_count": 28,
     "metadata": {},
     "output_type": "execute_result"
    }
   ],
   "source": [
    "final_df.device_category.value_counts()"
   ]
  },
  {
   "cell_type": "code",
   "execution_count": 29,
   "metadata": {},
   "outputs": [
    {
     "data": {
      "text/plain": [
       "mode_category\n",
       "pressure support/cpap                31659\n",
       "pressure-regulated volume control    15456\n",
       "pressure control                     13409\n",
       "assist control-volume control         1002\n",
       "simv                                   435\n",
       "other                                   35\n",
       "Name: count, dtype: int64"
      ]
     },
     "execution_count": 29,
     "metadata": {},
     "output_type": "execute_result"
    }
   ],
   "source": [
    "final_df.mode_category.value_counts()"
   ]
  },
  {
   "cell_type": "code",
   "execution_count": null,
   "metadata": {},
   "outputs": [],
   "source": []
  },
  {
   "cell_type": "code",
   "execution_count": null,
   "metadata": {},
   "outputs": [],
   "source": []
  },
  {
   "cell_type": "code",
   "execution_count": 30,
   "metadata": {},
   "outputs": [
    {
     "name": "stdout",
     "output_type": "stream",
     "text": [
      "Unique CSNs with eligible day => 145\n",
      "Total Unique CSNs => 191\n",
      "Percentage of CSNs with eligible day => 75.92%\n",
      "Total eligible_days => 477\n",
      "Total days => 2476\n",
      "Percentage of eligible days => 19.26%\n"
     ]
    }
   ],
   "source": [
    "unique_csns_with_eligible_day = final_df[final_df['eligible_day'] == 1]['hospitalization_id'].nunique()\n",
    "total_unique_csns = final_df['hospitalization_id'].nunique()\n",
    "total_eligible_days = final_df[final_df['eligible_day'] == 1]['hosp_id_day_key'].nunique()\n",
    "total_days = final_df['hosp_id_day_key'].nunique()\n",
    "\n",
    "percent_csns_with_eligible_day = (unique_csns_with_eligible_day / total_unique_csns) * 100 if total_unique_csns else 0\n",
    "percent_eligible_days = (total_eligible_days / total_days) * 100 if total_days else 0\n",
    "\n",
    "print('Unique CSNs with eligible day =>', unique_csns_with_eligible_day)\n",
    "print('Total Unique CSNs =>', total_unique_csns)\n",
    "print('Percentage of CSNs with eligible day => {:.2f}%'.format(percent_csns_with_eligible_day))\n",
    "print('Total eligible_days =>', total_eligible_days)\n",
    "print('Total days =>', total_days)\n",
    "print('Percentage of eligible days => {:.2f}%'.format(percent_eligible_days))\n"
   ]
  },
  {
   "cell_type": "code",
   "execution_count": 31,
   "metadata": {},
   "outputs": [
    {
     "name": "stdout",
     "output_type": "stream",
     "text": [
      "Percentage of hospital days eligible out of total ventilated days: 61.87%\n",
      "Percentage of hospital days with SBT performed out of total ventilated days: 33.07%\n"
     ]
    }
   ],
   "source": [
    "eligible_percentage = (final_df[final_df['eligible_day'] == 1]['hosp_id_day_key'].nunique() / final_df[final_df['device_category'] == 'imv'].hosp_id_day_key.nunique()) * 100\n",
    "sbt_percentage = (final_df[final_df['sbt_delivery_pass_fail'] == 1].hosp_id_day_key.nunique() / \n",
    "                  final_df[final_df['device_category'] == 'imv'].hosp_id_day_key.nunique()) * 100\n",
    "\n",
    "print(f\"Percentage of hospital days eligible out of total ventilated days: {eligible_percentage:.2f}%\")\n",
    "print(f\"Percentage of hospital days with SBT performed out of total ventilated days: {sbt_percentage:.2f}%\")\n"
   ]
  },
  {
   "cell_type": "code",
   "execution_count": 32,
   "metadata": {},
   "outputs": [
    {
     "data": {
      "text/html": [
       "<div>\n",
       "<style scoped>\n",
       "    .dataframe tbody tr th:only-of-type {\n",
       "        vertical-align: middle;\n",
       "    }\n",
       "\n",
       "    .dataframe tbody tr th {\n",
       "        vertical-align: top;\n",
       "    }\n",
       "\n",
       "    .dataframe thead th {\n",
       "        text-align: right;\n",
       "    }\n",
       "</style>\n",
       "<table border=\"1\" class=\"dataframe\">\n",
       "  <thead>\n",
       "    <tr style=\"text-align: right;\">\n",
       "      <th></th>\n",
       "      <th>year</th>\n",
       "      <th>eligible_percentage</th>\n",
       "      <th>sbt_percentage</th>\n",
       "    </tr>\n",
       "  </thead>\n",
       "  <tbody>\n",
       "    <tr>\n",
       "      <th>0</th>\n",
       "      <td>2025</td>\n",
       "      <td>61.867704</td>\n",
       "      <td>33.07393</td>\n",
       "    </tr>\n",
       "  </tbody>\n",
       "</table>\n",
       "</div>"
      ],
      "text/plain": [
       "   year  eligible_percentage  sbt_percentage\n",
       "0  2025            61.867704        33.07393"
      ]
     },
     "execution_count": 32,
     "metadata": {},
     "output_type": "execute_result"
    }
   ],
   "source": [
    "# Extract year\n",
    "final_df['year'] = final_df['event_time'].dt.year\n",
    "\n",
    "# Group by year and calculate percentages safely\n",
    "def calculate_yearly_stats(df):\n",
    "    total_imv = df[df['device_category'] == 'imv']['hosp_id_day_key'].nunique()\n",
    "    \n",
    "    if total_imv == 0:\n",
    "        return pd.Series({'eligible_percentage': 0, 'sbt_percentage': 0})  # Avoid division by zero\n",
    "    \n",
    "    eligible_days = df[df['eligible_day'] == 1]['hosp_id_day_key'].nunique()\n",
    "    sbt_days = df[df['sbt_delivery_pass_fail'] == 1]['hosp_id_day_key'].nunique()\n",
    "    \n",
    "    eligible_percentage = (eligible_days / total_imv) * 100\n",
    "    sbt_percentage = (sbt_days / total_imv) * 100\n",
    "    \n",
    "    return pd.Series({'eligible_percentage': eligible_percentage, 'sbt_percentage': sbt_percentage})\n",
    "\n",
    "# Apply function to each year\n",
    "yearly_stats = final_df.groupby('year').apply(calculate_yearly_stats).reset_index()\n",
    "yearly_stats"
   ]
  },
  {
   "cell_type": "code",
   "execution_count": 33,
   "metadata": {},
   "outputs": [
    {
     "data": {
      "text/html": [
       "<div>\n",
       "<style scoped>\n",
       "    .dataframe tbody tr th:only-of-type {\n",
       "        vertical-align: middle;\n",
       "    }\n",
       "\n",
       "    .dataframe tbody tr th {\n",
       "        vertical-align: top;\n",
       "    }\n",
       "\n",
       "    .dataframe thead th {\n",
       "        text-align: right;\n",
       "    }\n",
       "</style>\n",
       "<table border=\"1\" class=\"dataframe\">\n",
       "  <thead>\n",
       "    <tr style=\"text-align: right;\">\n",
       "      <th></th>\n",
       "      <th>year</th>\n",
       "      <th>sat_screen_pass_fail</th>\n",
       "      <th>sat_delivery_pass_fail</th>\n",
       "      <th>sbt_screen_pass_fail</th>\n",
       "      <th>sbt_delivery_pass_fail</th>\n",
       "      <th>eligible_day</th>\n",
       "      <th>EHR_Delivery_2mins</th>\n",
       "      <th>EHR_Delivery_5mins</th>\n",
       "      <th>EHR_Delivery_10mins</th>\n",
       "      <th>EHR_Delivery_15mins</th>\n",
       "      <th>EHR_Delivery_20mins</th>\n",
       "      <th>EHR_Delivery_30mins</th>\n",
       "    </tr>\n",
       "  </thead>\n",
       "  <tbody>\n",
       "    <tr>\n",
       "      <th>0</th>\n",
       "      <td>2025</td>\n",
       "      <td>22.049287</td>\n",
       "      <td>17.380026</td>\n",
       "      <td>40.466926</td>\n",
       "      <td>33.07393</td>\n",
       "      <td>321.141375</td>\n",
       "      <td>24.773022</td>\n",
       "      <td>23.476005</td>\n",
       "      <td>21.919585</td>\n",
       "      <td>21.789883</td>\n",
       "      <td>21.400778</td>\n",
       "      <td>20.233463</td>\n",
       "    </tr>\n",
       "  </tbody>\n",
       "</table>\n",
       "</div>"
      ],
      "text/plain": [
       "   year  sat_screen_pass_fail  sat_delivery_pass_fail  sbt_screen_pass_fail  \\\n",
       "0  2025             22.049287               17.380026             40.466926   \n",
       "\n",
       "   sbt_delivery_pass_fail  eligible_day  EHR_Delivery_2mins  \\\n",
       "0                33.07393    321.141375           24.773022   \n",
       "\n",
       "   EHR_Delivery_5mins  EHR_Delivery_10mins  EHR_Delivery_15mins  \\\n",
       "0           23.476005            21.919585            21.789883   \n",
       "\n",
       "   EHR_Delivery_20mins  EHR_Delivery_30mins  \n",
       "0            21.400778            20.233463  "
      ]
     },
     "execution_count": 33,
     "metadata": {},
     "output_type": "execute_result"
    }
   ],
   "source": [
    "def calculate_yearly_flag_success(df):\n",
    "    # Extract year from event_time\n",
    "    df['year'] = df['admission_dttm'].dt.year\n",
    "\n",
    "    # Columns to compute percentages\n",
    "    columns_to_check = [\n",
    "        'sat_screen_pass_fail', 'sat_delivery_pass_fail', 'sbt_screen_pass_fail', \n",
    "        'sbt_delivery_pass_fail','eligible_day', 'EHR_Delivery_2mins', 'EHR_Delivery_5mins',\n",
    "        'EHR_Delivery_10mins', 'EHR_Delivery_15mins', 'EHR_Delivery_20mins',\n",
    "        'EHR_Delivery_30mins'\n",
    "    ]\n",
    "\n",
    "    # Function to calculate yearly success percentages\n",
    "    def yearly_stats(df_year):\n",
    "        total_imv = df_year[df_year['device_category'] == 'imv']['hosp_id_day_key'].nunique()\n",
    "\n",
    "        if total_imv == 0:\n",
    "            return pd.Series({col: 0 for col in columns_to_check})  # Avoid division by zero\n",
    "\n",
    "        flag_percentages = {\n",
    "            col: (df_year[df_year[col].notna()]['hosp_id_day_key'].nunique() / total_imv) * 100\n",
    "            for col in columns_to_check\n",
    "        }\n",
    "\n",
    "        return pd.Series(flag_percentages)\n",
    "\n",
    "    # Apply function to each year\n",
    "    yearly_success_rates = df.groupby('year').apply(yearly_stats).reset_index()\n",
    "\n",
    "    return yearly_success_rates\n",
    "\n",
    "# Process user-uploaded DataFrame\n",
    "yearly_success_rates_df = calculate_yearly_flag_success(final_df)\n",
    "yearly_success_rates_df\n"
   ]
  },
  {
   "cell_type": "code",
   "execution_count": 34,
   "metadata": {},
   "outputs": [],
   "source": [
    "# Ensure the specified columns are treated as datetime before calculating percentages\n",
    "datetime_columns = [\n",
    "    'EHR_Delivery_2mins', 'EHR_Delivery_5mins', 'EHR_Delivery_10mins',\n",
    "    'EHR_Delivery_15mins', 'EHR_Delivery_20mins', 'EHR_Delivery_30mins'\n",
    "]\n",
    "\n",
    "for col in datetime_columns:\n",
    "    if col in final_df.columns:\n",
    "        final_df[col] = final_df[col].notna().astype(int)\n"
   ]
  },
  {
   "cell_type": "code",
   "execution_count": 35,
   "metadata": {},
   "outputs": [
    {
     "name": "stdout",
     "output_type": "stream",
     "text": [
      "% of hospital days with sat_screen_pass_fail out of total eligible_day: 35.64%\n",
      "% of hospital days with sat_delivery_pass_fail out of total eligible_day: 28.09%\n",
      "% of hospital days with sbt_screen_pass_fail out of total eligible_day: 65.41%\n",
      "% of hospital days with sbt_delivery_pass_fail out of total eligible_day: 53.46%\n",
      "% of hospital days with eligible_day out of total eligible_day: 100.00%\n",
      "% of hospital days with EHR_Delivery_2mins out of total eligible_day: 40.04%\n",
      "% of hospital days with EHR_Delivery_5mins out of total eligible_day: 37.95%\n",
      "% of hospital days with EHR_Delivery_10mins out of total eligible_day: 35.43%\n",
      "% of hospital days with EHR_Delivery_15mins out of total eligible_day: 35.22%\n",
      "% of hospital days with EHR_Delivery_20mins out of total eligible_day: 34.59%\n",
      "% of hospital days with EHR_Delivery_30mins out of total eligible_day: 32.70%\n"
     ]
    }
   ],
   "source": [
    "\n",
    "# List of columns to check\n",
    "columns_to_check = [ \n",
    "    'sat_screen_pass_fail', 'sat_delivery_pass_fail', 'sbt_screen_pass_fail', \n",
    "    'sbt_delivery_pass_fail', 'eligible_day', 'EHR_Delivery_2mins', 'EHR_Delivery_5mins',\n",
    "    'EHR_Delivery_10mins', 'EHR_Delivery_15mins', 'EHR_Delivery_20mins',\n",
    "    'EHR_Delivery_30mins'\n",
    "]\n",
    "\n",
    "# Calculate percentages for each column in columns_to_check\n",
    "percentages = {}\n",
    "total_ventilated_days = final_df[ (final_df['eligible_day'] == 1)].hosp_id_day_key.nunique()\n",
    "\n",
    "for col in columns_to_check:\n",
    "    if col in final_df.columns:\n",
    "        percentages[col] = (final_df[final_df[col] == 1].hosp_id_day_key.nunique() / total_ventilated_days) * 100\n",
    "\n",
    "# Display the results\n",
    "for col, percentage in percentages.items():\n",
    "    print(f\"% of hospital days with {col} out of total eligible_day: {percentage:.2f}%\")"
   ]
  },
  {
   "cell_type": "code",
   "execution_count": 36,
   "metadata": {},
   "outputs": [
    {
     "name": "stdout",
     "output_type": "stream",
     "text": [
      "% of hospital days with sat_screen_pass_fail out of total vent days: 22.05%\n",
      "% of hospital days with sat_delivery_pass_fail out of total vent days: 17.38%\n",
      "% of hospital days with sbt_screen_pass_fail out of total vent days: 40.47%\n",
      "% of hospital days with sbt_delivery_pass_fail out of total vent days: 33.07%\n",
      "% of hospital days with eligible_day out of total vent days: 61.87%\n",
      "% of hospital days with EHR_Delivery_2mins out of total vent days: 24.77%\n",
      "% of hospital days with EHR_Delivery_5mins out of total vent days: 23.48%\n",
      "% of hospital days with EHR_Delivery_10mins out of total vent days: 21.92%\n",
      "% of hospital days with EHR_Delivery_15mins out of total vent days: 21.79%\n",
      "% of hospital days with EHR_Delivery_20mins out of total vent days: 21.40%\n",
      "% of hospital days with EHR_Delivery_30mins out of total vent days: 20.23%\n"
     ]
    }
   ],
   "source": [
    "# List of columns to check\n",
    "columns_to_check = [ \n",
    "    'sat_screen_pass_fail', 'sat_delivery_pass_fail', 'sbt_screen_pass_fail', \n",
    "    'sbt_delivery_pass_fail', 'eligible_day', 'EHR_Delivery_2mins', 'EHR_Delivery_5mins',\n",
    "    'EHR_Delivery_10mins', 'EHR_Delivery_15mins', 'EHR_Delivery_20mins',\n",
    "    'EHR_Delivery_30mins'\n",
    "]\n",
    "\n",
    "# Calculate percentages for each column in columns_to_check\n",
    "percentages = {}\n",
    "total_ventilated_days = final_df[ (final_df['device_category'] == 'imv')].hosp_id_day_key.nunique()\n",
    "\n",
    "for col in columns_to_check:\n",
    "    if col in final_df.columns:\n",
    "        percentages[col] = (final_df[final_df[col] == 1].hosp_id_day_key.nunique() / total_ventilated_days) * 100\n",
    "\n",
    "# Display the results\n",
    "for col, percentage in percentages.items():\n",
    "    print(f\"% of hospital days with {col} out of total vent days: {percentage:.2f}%\")"
   ]
  },
  {
   "cell_type": "code",
   "execution_count": 37,
   "metadata": {},
   "outputs": [
    {
     "data": {
      "text/plain": [
       "{'sat_screen_pass_fail': 22.04928664072633,\n",
       " 'sat_delivery_pass_fail': 17.380025940337223,\n",
       " 'sbt_screen_pass_fail': 40.46692607003891,\n",
       " 'sbt_delivery_pass_fail': 33.07392996108949,\n",
       " 'eligible_day': 61.86770428015564,\n",
       " 'EHR_Delivery_2mins': 24.77302204928664,\n",
       " 'EHR_Delivery_5mins': 23.476005188067443,\n",
       " 'EHR_Delivery_10mins': 21.91958495460441,\n",
       " 'EHR_Delivery_15mins': 21.78988326848249,\n",
       " 'EHR_Delivery_20mins': 21.40077821011673,\n",
       " 'EHR_Delivery_30mins': 20.233463035019454}"
      ]
     },
     "execution_count": 37,
     "metadata": {},
     "output_type": "execute_result"
    }
   ],
   "source": [
    "percentages"
   ]
  },
  {
   "cell_type": "code",
   "execution_count": 38,
   "metadata": {},
   "outputs": [
    {
     "data": {
      "text/plain": [
       "477"
      ]
     },
     "execution_count": 38,
     "metadata": {},
     "output_type": "execute_result"
    }
   ],
   "source": [
    "final_df[(final_df['device_category'] == 'imv') & (final_df['eligible_day'] == 1)].hosp_id_day_key.nunique()"
   ]
  },
  {
   "cell_type": "code",
   "execution_count": 39,
   "metadata": {},
   "outputs": [
    {
     "data": {
      "text/plain": [
       "168"
      ]
     },
     "execution_count": 39,
     "metadata": {},
     "output_type": "execute_result"
    }
   ],
   "source": [
    "final_df[(final_df['EHR_Delivery_15mins'] == 1) ].hosp_id_day_key.nunique()"
   ]
  },
  {
   "cell_type": "code",
   "execution_count": 40,
   "metadata": {},
   "outputs": [
    {
     "data": {
      "text/plain": [
       "eligible_day\n",
       "0    48093\n",
       "1    23953\n",
       "Name: count, dtype: int64"
      ]
     },
     "execution_count": 40,
     "metadata": {},
     "output_type": "execute_result"
    }
   ],
   "source": [
    "final_df['eligible_day'].value_counts()"
   ]
  },
  {
   "cell_type": "code",
   "execution_count": null,
   "metadata": {},
   "outputs": [],
   "source": []
  }
 ],
 "metadata": {
  "kernelspec": {
   "display_name": "base",
   "language": "python",
   "name": "python3"
  },
  "language_info": {
   "codemirror_mode": {
    "name": "ipython",
    "version": 3
   },
   "file_extension": ".py",
   "mimetype": "text/x-python",
   "name": "python",
   "nbconvert_exporter": "python",
   "pygments_lexer": "ipython3",
   "version": "3.11.5"
  }
 },
 "nbformat": 4,
 "nbformat_minor": 2
}
